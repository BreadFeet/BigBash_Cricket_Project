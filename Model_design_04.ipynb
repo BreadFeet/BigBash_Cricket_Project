{
 "cells": [
  {
   "cell_type": "markdown",
   "id": "76adef7c",
   "metadata": {},
   "source": [
    "# Model Predicting the Winner after the First Inning with Binning"
   ]
  },
  {
   "cell_type": "code",
   "execution_count": 1,
   "id": "d93394ee",
   "metadata": {
    "ExecuteTime": {
     "end_time": "2022-08-08T01:44:21.453736Z",
     "start_time": "2022-08-08T01:44:18.196040Z"
    }
   },
   "outputs": [
    {
     "name": "stderr",
     "output_type": "stream",
     "text": [
      "C:\\Users\\SK\\anaconda3\\envs\\NN\\lib\\site-packages\\xgboost\\compat.py:36: FutureWarning: pandas.Int64Index is deprecated and will be removed from pandas in a future version. Use pandas.Index with the appropriate dtype instead.\n",
      "  from pandas import MultiIndex, Int64Index\n"
     ]
    }
   ],
   "source": [
    "import pandas as pd\n",
    "import numpy as np\n",
    "import matplotlib.pyplot as plt\n",
    "import seaborn as sns\n",
    "import dataframe_image as dfi\n",
    "from sklearn.compose import make_column_transformer\n",
    "from sklearn.preprocessing import StandardScaler\n",
    "from sklearn.model_selection import train_test_split, cross_validate, StratifiedKFold\n",
    "from sklearn.pipeline import make_pipeline\n",
    "from sklearn.inspection import permutation_importance\n",
    "from sklearn.feature_selection import SelectFromModel, SequentialFeatureSelector\n",
    "from sklearn.linear_model import LogisticRegression\n",
    "from sklearn.svm import SVC\n",
    "from sklearn.tree import DecisionTreeClassifier\n",
    "from sklearn.ensemble import AdaBoostClassifier, RandomForestClassifier\n",
    "from sklearn.naive_bayes import BernoulliNB, CategoricalNB, ComplementNB,GaussianNB\n",
    "from sklearn.neighbors import KNeighborsClassifier\n",
    "import xgboost as xgb\n",
    "from sklearn.metrics import f1_score, confusion_matrix, classification_report\n",
    "pd.set_option('display.max_columns', None)"
   ]
  },
  {
   "cell_type": "code",
   "execution_count": 2,
   "id": "aa2ef3bd",
   "metadata": {
    "ExecuteTime": {
     "end_time": "2022-08-08T01:44:21.501750Z",
     "start_time": "2022-08-08T01:44:21.456737Z"
    }
   },
   "outputs": [
    {
     "data": {
      "text/html": [
       "<div>\n",
       "<style scoped>\n",
       "    .dataframe tbody tr th:only-of-type {\n",
       "        vertical-align: middle;\n",
       "    }\n",
       "\n",
       "    .dataframe tbody tr th {\n",
       "        vertical-align: top;\n",
       "    }\n",
       "\n",
       "    .dataframe thead th {\n",
       "        text-align: right;\n",
       "    }\n",
       "</style>\n",
       "<table border=\"1\" class=\"dataframe\">\n",
       "  <thead>\n",
       "    <tr style=\"text-align: right;\">\n",
       "      <th></th>\n",
       "      <th>team</th>\n",
       "      <th>neutral_venue</th>\n",
       "      <th>home_venue</th>\n",
       "      <th>toss_winner</th>\n",
       "      <th>max_balls_first</th>\n",
       "      <th>balls</th>\n",
       "      <th>byes</th>\n",
       "      <th>leg_byes</th>\n",
       "      <th>no_balls</th>\n",
       "      <th>wides</th>\n",
       "      <th>runs</th>\n",
       "      <th>wickets</th>\n",
       "      <th>max_balls_second</th>\n",
       "      <th>target</th>\n",
       "      <th>derby</th>\n",
       "      <th>start_month</th>\n",
       "      <th>month_02</th>\n",
       "      <th>month_12</th>\n",
       "      <th>victor</th>\n",
       "    </tr>\n",
       "  </thead>\n",
       "  <tbody>\n",
       "    <tr>\n",
       "      <th>4</th>\n",
       "      <td>Perth Scorchers</td>\n",
       "      <td>0</td>\n",
       "      <td>1</td>\n",
       "      <td>1</td>\n",
       "      <td>120</td>\n",
       "      <td>120</td>\n",
       "      <td>0</td>\n",
       "      <td>2</td>\n",
       "      <td>0</td>\n",
       "      <td>3</td>\n",
       "      <td>144</td>\n",
       "      <td>7</td>\n",
       "      <td>120</td>\n",
       "      <td>145.0</td>\n",
       "      <td>0</td>\n",
       "      <td>01</td>\n",
       "      <td>0</td>\n",
       "      <td>0</td>\n",
       "      <td>1</td>\n",
       "    </tr>\n",
       "    <tr>\n",
       "      <th>8</th>\n",
       "      <td>Brisbane Heat</td>\n",
       "      <td>0</td>\n",
       "      <td>1</td>\n",
       "      <td>0</td>\n",
       "      <td>120</td>\n",
       "      <td>120</td>\n",
       "      <td>2</td>\n",
       "      <td>0</td>\n",
       "      <td>1</td>\n",
       "      <td>2</td>\n",
       "      <td>164</td>\n",
       "      <td>8</td>\n",
       "      <td>120</td>\n",
       "      <td>165.0</td>\n",
       "      <td>0</td>\n",
       "      <td>12</td>\n",
       "      <td>0</td>\n",
       "      <td>1</td>\n",
       "      <td>1</td>\n",
       "    </tr>\n",
       "    <tr>\n",
       "      <th>12</th>\n",
       "      <td>Sydney Thunder</td>\n",
       "      <td>0</td>\n",
       "      <td>1</td>\n",
       "      <td>0</td>\n",
       "      <td>120</td>\n",
       "      <td>120</td>\n",
       "      <td>2</td>\n",
       "      <td>2</td>\n",
       "      <td>0</td>\n",
       "      <td>1</td>\n",
       "      <td>106</td>\n",
       "      <td>8</td>\n",
       "      <td>120</td>\n",
       "      <td>107.0</td>\n",
       "      <td>0</td>\n",
       "      <td>01</td>\n",
       "      <td>0</td>\n",
       "      <td>0</td>\n",
       "      <td>0</td>\n",
       "    </tr>\n",
       "    <tr>\n",
       "      <th>13</th>\n",
       "      <td>Brisbane Heat</td>\n",
       "      <td>0</td>\n",
       "      <td>1</td>\n",
       "      <td>0</td>\n",
       "      <td>120</td>\n",
       "      <td>120</td>\n",
       "      <td>0</td>\n",
       "      <td>0</td>\n",
       "      <td>0</td>\n",
       "      <td>3</td>\n",
       "      <td>198</td>\n",
       "      <td>6</td>\n",
       "      <td>120</td>\n",
       "      <td>199.0</td>\n",
       "      <td>0</td>\n",
       "      <td>01</td>\n",
       "      <td>0</td>\n",
       "      <td>0</td>\n",
       "      <td>1</td>\n",
       "    </tr>\n",
       "    <tr>\n",
       "      <th>16</th>\n",
       "      <td>Sydney Thunder</td>\n",
       "      <td>0</td>\n",
       "      <td>1</td>\n",
       "      <td>0</td>\n",
       "      <td>120</td>\n",
       "      <td>102</td>\n",
       "      <td>0</td>\n",
       "      <td>0</td>\n",
       "      <td>0</td>\n",
       "      <td>3</td>\n",
       "      <td>77</td>\n",
       "      <td>7</td>\n",
       "      <td>102</td>\n",
       "      <td>82.0</td>\n",
       "      <td>0</td>\n",
       "      <td>01</td>\n",
       "      <td>0</td>\n",
       "      <td>0</td>\n",
       "      <td>0</td>\n",
       "    </tr>\n",
       "  </tbody>\n",
       "</table>\n",
       "</div>"
      ],
      "text/plain": [
       "               team  neutral_venue  home_venue  toss_winner  max_balls_first  \\\n",
       "4   Perth Scorchers              0           1            1              120   \n",
       "8     Brisbane Heat              0           1            0              120   \n",
       "12   Sydney Thunder              0           1            0              120   \n",
       "13    Brisbane Heat              0           1            0              120   \n",
       "16   Sydney Thunder              0           1            0              120   \n",
       "\n",
       "    balls  byes  leg_byes  no_balls  wides  runs  wickets  max_balls_second  \\\n",
       "4     120     0         2         0      3   144        7               120   \n",
       "8     120     2         0         1      2   164        8               120   \n",
       "12    120     2         2         0      1   106        8               120   \n",
       "13    120     0         0         0      3   198        6               120   \n",
       "16    102     0         0         0      3    77        7               102   \n",
       "\n",
       "    target  derby start_month  month_02  month_12  victor  \n",
       "4    145.0      0          01         0         0       1  \n",
       "8    165.0      0          12         0         1       1  \n",
       "12   107.0      0          01         0         0       0  \n",
       "13   199.0      0          01         0         0       1  \n",
       "16    82.0      0          01         0         0       0  "
      ]
     },
     "execution_count": 2,
     "metadata": {},
     "output_type": "execute_result"
    }
   ],
   "source": [
    "r_data = pd.read_pickle('./data/pjt03_specific_data.pkl')\n",
    "data = r_data.copy()\n",
    "data.head()"
   ]
  },
  {
   "cell_type": "code",
   "execution_count": 3,
   "id": "d0f5dec4",
   "metadata": {
    "ExecuteTime": {
     "end_time": "2022-08-08T01:44:21.563761Z",
     "start_time": "2022-08-08T01:44:21.504750Z"
    }
   },
   "outputs": [
    {
     "data": {
      "text/html": [
       "<div>\n",
       "<style scoped>\n",
       "    .dataframe tbody tr th:only-of-type {\n",
       "        vertical-align: middle;\n",
       "    }\n",
       "\n",
       "    .dataframe tbody tr th {\n",
       "        vertical-align: top;\n",
       "    }\n",
       "\n",
       "    .dataframe thead th {\n",
       "        text-align: right;\n",
       "    }\n",
       "</style>\n",
       "<table border=\"1\" class=\"dataframe\">\n",
       "  <thead>\n",
       "    <tr style=\"text-align: right;\">\n",
       "      <th></th>\n",
       "      <th>max_balls_first</th>\n",
       "      <th>balls</th>\n",
       "      <th>byes</th>\n",
       "      <th>leg_byes</th>\n",
       "      <th>no_balls</th>\n",
       "      <th>wides</th>\n",
       "      <th>runs</th>\n",
       "      <th>wickets</th>\n",
       "      <th>max_balls_second</th>\n",
       "      <th>target</th>\n",
       "    </tr>\n",
       "  </thead>\n",
       "  <tbody>\n",
       "    <tr>\n",
       "      <th>count</th>\n",
       "      <td>471.000000</td>\n",
       "      <td>471.000000</td>\n",
       "      <td>471.000000</td>\n",
       "      <td>471.000000</td>\n",
       "      <td>471.000000</td>\n",
       "      <td>471.000000</td>\n",
       "      <td>471.000000</td>\n",
       "      <td>471.000000</td>\n",
       "      <td>471.000000</td>\n",
       "      <td>471.000000</td>\n",
       "    </tr>\n",
       "    <tr>\n",
       "      <th>mean</th>\n",
       "      <td>119.261146</td>\n",
       "      <td>118.346072</td>\n",
       "      <td>0.668790</td>\n",
       "      <td>2.354565</td>\n",
       "      <td>0.430998</td>\n",
       "      <td>4.123142</td>\n",
       "      <td>160.745223</td>\n",
       "      <td>6.256900</td>\n",
       "      <td>117.859873</td>\n",
       "      <td>160.598726</td>\n",
       "    </tr>\n",
       "    <tr>\n",
       "      <th>std</th>\n",
       "      <td>5.198789</td>\n",
       "      <td>7.299168</td>\n",
       "      <td>1.192469</td>\n",
       "      <td>2.087342</td>\n",
       "      <td>0.725680</td>\n",
       "      <td>2.897856</td>\n",
       "      <td>28.018589</td>\n",
       "      <td>2.046229</td>\n",
       "      <td>10.625817</td>\n",
       "      <td>29.328265</td>\n",
       "    </tr>\n",
       "    <tr>\n",
       "      <th>min</th>\n",
       "      <td>48.000000</td>\n",
       "      <td>48.000000</td>\n",
       "      <td>0.000000</td>\n",
       "      <td>0.000000</td>\n",
       "      <td>0.000000</td>\n",
       "      <td>0.000000</td>\n",
       "      <td>69.000000</td>\n",
       "      <td>1.000000</td>\n",
       "      <td>30.000000</td>\n",
       "      <td>51.000000</td>\n",
       "    </tr>\n",
       "    <tr>\n",
       "      <th>25%</th>\n",
       "      <td>120.000000</td>\n",
       "      <td>120.000000</td>\n",
       "      <td>0.000000</td>\n",
       "      <td>1.000000</td>\n",
       "      <td>0.000000</td>\n",
       "      <td>2.000000</td>\n",
       "      <td>144.000000</td>\n",
       "      <td>5.000000</td>\n",
       "      <td>120.000000</td>\n",
       "      <td>144.000000</td>\n",
       "    </tr>\n",
       "    <tr>\n",
       "      <th>50%</th>\n",
       "      <td>120.000000</td>\n",
       "      <td>120.000000</td>\n",
       "      <td>0.000000</td>\n",
       "      <td>2.000000</td>\n",
       "      <td>0.000000</td>\n",
       "      <td>4.000000</td>\n",
       "      <td>163.000000</td>\n",
       "      <td>6.000000</td>\n",
       "      <td>120.000000</td>\n",
       "      <td>163.000000</td>\n",
       "    </tr>\n",
       "    <tr>\n",
       "      <th>75%</th>\n",
       "      <td>120.000000</td>\n",
       "      <td>120.000000</td>\n",
       "      <td>1.000000</td>\n",
       "      <td>3.000000</td>\n",
       "      <td>1.000000</td>\n",
       "      <td>5.500000</td>\n",
       "      <td>178.500000</td>\n",
       "      <td>8.000000</td>\n",
       "      <td>120.000000</td>\n",
       "      <td>179.000000</td>\n",
       "    </tr>\n",
       "    <tr>\n",
       "      <th>max</th>\n",
       "      <td>120.000000</td>\n",
       "      <td>120.000000</td>\n",
       "      <td>8.000000</td>\n",
       "      <td>15.000000</td>\n",
       "      <td>5.000000</td>\n",
       "      <td>22.000000</td>\n",
       "      <td>273.000000</td>\n",
       "      <td>10.000000</td>\n",
       "      <td>120.000000</td>\n",
       "      <td>274.000000</td>\n",
       "    </tr>\n",
       "  </tbody>\n",
       "</table>\n",
       "</div>"
      ],
      "text/plain": [
       "       max_balls_first       balls        byes    leg_byes    no_balls  \\\n",
       "count       471.000000  471.000000  471.000000  471.000000  471.000000   \n",
       "mean        119.261146  118.346072    0.668790    2.354565    0.430998   \n",
       "std           5.198789    7.299168    1.192469    2.087342    0.725680   \n",
       "min          48.000000   48.000000    0.000000    0.000000    0.000000   \n",
       "25%         120.000000  120.000000    0.000000    1.000000    0.000000   \n",
       "50%         120.000000  120.000000    0.000000    2.000000    0.000000   \n",
       "75%         120.000000  120.000000    1.000000    3.000000    1.000000   \n",
       "max         120.000000  120.000000    8.000000   15.000000    5.000000   \n",
       "\n",
       "            wides        runs     wickets  max_balls_second      target  \n",
       "count  471.000000  471.000000  471.000000        471.000000  471.000000  \n",
       "mean     4.123142  160.745223    6.256900        117.859873  160.598726  \n",
       "std      2.897856   28.018589    2.046229         10.625817   29.328265  \n",
       "min      0.000000   69.000000    1.000000         30.000000   51.000000  \n",
       "25%      2.000000  144.000000    5.000000        120.000000  144.000000  \n",
       "50%      4.000000  163.000000    6.000000        120.000000  163.000000  \n",
       "75%      5.500000  178.500000    8.000000        120.000000  179.000000  \n",
       "max     22.000000  273.000000   10.000000        120.000000  274.000000  "
      ]
     },
     "execution_count": 3,
     "metadata": {},
     "output_type": "execute_result"
    }
   ],
   "source": [
    "# Descriptive statistics\n",
    "df = data[['max_balls_first', 'balls', 'byes', 'leg_byes', 'no_balls', 'wides', 'runs', 'wickets', 'max_balls_second', 'target']].describe()\n",
    "df"
   ]
  },
  {
   "cell_type": "code",
   "execution_count": 4,
   "id": "38ef2409",
   "metadata": {
    "ExecuteTime": {
     "end_time": "2022-08-08T01:44:21.579767Z",
     "start_time": "2022-08-08T01:44:21.566763Z"
    }
   },
   "outputs": [],
   "source": [
    "# Save the stats table\n",
    "# dfi.export(df, './figure/description.png')"
   ]
  },
  {
   "cell_type": "markdown",
   "id": "6c7c02fb",
   "metadata": {
    "heading_collapsed": true
   },
   "source": [
    "# Binning"
   ]
  },
  {
   "cell_type": "code",
   "execution_count": 5,
   "id": "325dd8e2",
   "metadata": {
    "ExecuteTime": {
     "end_time": "2022-08-08T01:44:21.611772Z",
     "start_time": "2022-08-08T01:44:21.582765Z"
    },
    "hidden": true
   },
   "outputs": [
    {
     "data": {
      "text/html": [
       "<div>\n",
       "<style scoped>\n",
       "    .dataframe tbody tr th:only-of-type {\n",
       "        vertical-align: middle;\n",
       "    }\n",
       "\n",
       "    .dataframe tbody tr th {\n",
       "        vertical-align: top;\n",
       "    }\n",
       "\n",
       "    .dataframe thead th {\n",
       "        text-align: right;\n",
       "    }\n",
       "</style>\n",
       "<table border=\"1\" class=\"dataframe\">\n",
       "  <thead>\n",
       "    <tr style=\"text-align: right;\">\n",
       "      <th></th>\n",
       "      <th>team</th>\n",
       "      <th>neutral_venue</th>\n",
       "      <th>home_venue</th>\n",
       "      <th>toss_winner</th>\n",
       "      <th>max_balls_first</th>\n",
       "      <th>balls</th>\n",
       "      <th>byes</th>\n",
       "      <th>leg_byes</th>\n",
       "      <th>no_balls</th>\n",
       "      <th>wides</th>\n",
       "      <th>runs</th>\n",
       "      <th>wickets</th>\n",
       "      <th>max_balls_second</th>\n",
       "      <th>target</th>\n",
       "      <th>derby</th>\n",
       "      <th>start_month</th>\n",
       "      <th>month_02</th>\n",
       "      <th>month_12</th>\n",
       "      <th>victor</th>\n",
       "    </tr>\n",
       "  </thead>\n",
       "  <tbody>\n",
       "    <tr>\n",
       "      <th>4</th>\n",
       "      <td>Perth Scorchers</td>\n",
       "      <td>0</td>\n",
       "      <td>1</td>\n",
       "      <td>1</td>\n",
       "      <td>4</td>\n",
       "      <td>120</td>\n",
       "      <td>0</td>\n",
       "      <td>2</td>\n",
       "      <td>0</td>\n",
       "      <td>3</td>\n",
       "      <td>144</td>\n",
       "      <td>7</td>\n",
       "      <td>120</td>\n",
       "      <td>145.0</td>\n",
       "      <td>0</td>\n",
       "      <td>01</td>\n",
       "      <td>0</td>\n",
       "      <td>0</td>\n",
       "      <td>1</td>\n",
       "    </tr>\n",
       "    <tr>\n",
       "      <th>8</th>\n",
       "      <td>Brisbane Heat</td>\n",
       "      <td>0</td>\n",
       "      <td>1</td>\n",
       "      <td>0</td>\n",
       "      <td>4</td>\n",
       "      <td>120</td>\n",
       "      <td>2</td>\n",
       "      <td>0</td>\n",
       "      <td>1</td>\n",
       "      <td>2</td>\n",
       "      <td>164</td>\n",
       "      <td>8</td>\n",
       "      <td>120</td>\n",
       "      <td>165.0</td>\n",
       "      <td>0</td>\n",
       "      <td>12</td>\n",
       "      <td>0</td>\n",
       "      <td>1</td>\n",
       "      <td>1</td>\n",
       "    </tr>\n",
       "    <tr>\n",
       "      <th>12</th>\n",
       "      <td>Sydney Thunder</td>\n",
       "      <td>0</td>\n",
       "      <td>1</td>\n",
       "      <td>0</td>\n",
       "      <td>4</td>\n",
       "      <td>120</td>\n",
       "      <td>2</td>\n",
       "      <td>2</td>\n",
       "      <td>0</td>\n",
       "      <td>1</td>\n",
       "      <td>106</td>\n",
       "      <td>8</td>\n",
       "      <td>120</td>\n",
       "      <td>107.0</td>\n",
       "      <td>0</td>\n",
       "      <td>01</td>\n",
       "      <td>0</td>\n",
       "      <td>0</td>\n",
       "      <td>0</td>\n",
       "    </tr>\n",
       "    <tr>\n",
       "      <th>13</th>\n",
       "      <td>Brisbane Heat</td>\n",
       "      <td>0</td>\n",
       "      <td>1</td>\n",
       "      <td>0</td>\n",
       "      <td>4</td>\n",
       "      <td>120</td>\n",
       "      <td>0</td>\n",
       "      <td>0</td>\n",
       "      <td>0</td>\n",
       "      <td>3</td>\n",
       "      <td>198</td>\n",
       "      <td>6</td>\n",
       "      <td>120</td>\n",
       "      <td>199.0</td>\n",
       "      <td>0</td>\n",
       "      <td>01</td>\n",
       "      <td>0</td>\n",
       "      <td>0</td>\n",
       "      <td>1</td>\n",
       "    </tr>\n",
       "    <tr>\n",
       "      <th>16</th>\n",
       "      <td>Sydney Thunder</td>\n",
       "      <td>0</td>\n",
       "      <td>1</td>\n",
       "      <td>0</td>\n",
       "      <td>4</td>\n",
       "      <td>102</td>\n",
       "      <td>0</td>\n",
       "      <td>0</td>\n",
       "      <td>0</td>\n",
       "      <td>3</td>\n",
       "      <td>77</td>\n",
       "      <td>7</td>\n",
       "      <td>102</td>\n",
       "      <td>82.0</td>\n",
       "      <td>0</td>\n",
       "      <td>01</td>\n",
       "      <td>0</td>\n",
       "      <td>0</td>\n",
       "      <td>0</td>\n",
       "    </tr>\n",
       "  </tbody>\n",
       "</table>\n",
       "</div>"
      ],
      "text/plain": [
       "               team  neutral_venue  home_venue  toss_winner  max_balls_first  \\\n",
       "4   Perth Scorchers              0           1            1                4   \n",
       "8     Brisbane Heat              0           1            0                4   \n",
       "12   Sydney Thunder              0           1            0                4   \n",
       "13    Brisbane Heat              0           1            0                4   \n",
       "16   Sydney Thunder              0           1            0                4   \n",
       "\n",
       "    balls  byes  leg_byes  no_balls  wides  runs  wickets  max_balls_second  \\\n",
       "4     120     0         2         0      3   144        7               120   \n",
       "8     120     2         0         1      2   164        8               120   \n",
       "12    120     2         2         0      1   106        8               120   \n",
       "13    120     0         0         0      3   198        6               120   \n",
       "16    102     0         0         0      3    77        7               102   \n",
       "\n",
       "    target  derby start_month  month_02  month_12  victor  \n",
       "4    145.0      0          01         0         0       1  \n",
       "8    165.0      0          12         0         1       1  \n",
       "12   107.0      0          01         0         0       0  \n",
       "13   199.0      0          01         0         0       1  \n",
       "16    82.0      0          01         0         0       0  "
      ]
     },
     "execution_count": 5,
     "metadata": {},
     "output_type": "execute_result"
    }
   ],
   "source": [
    "# Max_balls\n",
    "data['max_balls_first'].value_counts()\n",
    "data['max_balls_first'] = np.where(data['max_balls_first']<100, 1, \n",
    "                    np.where((100<=data['max_balls_first'])&(data['max_balls_first']<110), 2, \n",
    "                    np.where((110<=data['max_balls_first'])&(data['max_balls_first']<120), 3,\n",
    "                    np.where(data['max_balls_first'] == 120, 4, data['max_balls_first']))))\n",
    "data.head()"
   ]
  },
  {
   "cell_type": "code",
   "execution_count": 6,
   "id": "eb0a304e",
   "metadata": {
    "ExecuteTime": {
     "end_time": "2022-08-08T01:44:21.627794Z",
     "start_time": "2022-08-08T01:44:21.613777Z"
    },
    "hidden": true
   },
   "outputs": [
    {
     "data": {
      "text/plain": [
       "4    457\n",
       "1      7\n",
       "2      5\n",
       "3      2\n",
       "Name: max_balls_first, dtype: int64"
      ]
     },
     "execution_count": 6,
     "metadata": {},
     "output_type": "execute_result"
    }
   ],
   "source": [
    "data['max_balls_first'].value_counts()"
   ]
  },
  {
   "cell_type": "markdown",
   "id": "d7eb9603",
   "metadata": {
    "hidden": true
   },
   "source": [
    "* **Balls** 0-99: 1, 100-109: 2, 110-119: 3, 120: 4"
   ]
  },
  {
   "cell_type": "code",
   "execution_count": 7,
   "id": "643f52dd",
   "metadata": {
    "ExecuteTime": {
     "end_time": "2022-08-08T01:44:21.659785Z",
     "start_time": "2022-08-08T01:44:21.629776Z"
    },
    "hidden": true
   },
   "outputs": [
    {
     "data": {
      "text/html": [
       "<div>\n",
       "<style scoped>\n",
       "    .dataframe tbody tr th:only-of-type {\n",
       "        vertical-align: middle;\n",
       "    }\n",
       "\n",
       "    .dataframe tbody tr th {\n",
       "        vertical-align: top;\n",
       "    }\n",
       "\n",
       "    .dataframe thead th {\n",
       "        text-align: right;\n",
       "    }\n",
       "</style>\n",
       "<table border=\"1\" class=\"dataframe\">\n",
       "  <thead>\n",
       "    <tr style=\"text-align: right;\">\n",
       "      <th></th>\n",
       "      <th>team</th>\n",
       "      <th>neutral_venue</th>\n",
       "      <th>home_venue</th>\n",
       "      <th>toss_winner</th>\n",
       "      <th>max_balls_first</th>\n",
       "      <th>balls</th>\n",
       "      <th>byes</th>\n",
       "      <th>leg_byes</th>\n",
       "      <th>no_balls</th>\n",
       "      <th>wides</th>\n",
       "      <th>runs</th>\n",
       "      <th>wickets</th>\n",
       "      <th>max_balls_second</th>\n",
       "      <th>target</th>\n",
       "      <th>derby</th>\n",
       "      <th>start_month</th>\n",
       "      <th>month_02</th>\n",
       "      <th>month_12</th>\n",
       "      <th>victor</th>\n",
       "    </tr>\n",
       "  </thead>\n",
       "  <tbody>\n",
       "    <tr>\n",
       "      <th>4</th>\n",
       "      <td>Perth Scorchers</td>\n",
       "      <td>0</td>\n",
       "      <td>1</td>\n",
       "      <td>1</td>\n",
       "      <td>4</td>\n",
       "      <td>4</td>\n",
       "      <td>0</td>\n",
       "      <td>2</td>\n",
       "      <td>0</td>\n",
       "      <td>3</td>\n",
       "      <td>144</td>\n",
       "      <td>7</td>\n",
       "      <td>120</td>\n",
       "      <td>145.0</td>\n",
       "      <td>0</td>\n",
       "      <td>01</td>\n",
       "      <td>0</td>\n",
       "      <td>0</td>\n",
       "      <td>1</td>\n",
       "    </tr>\n",
       "    <tr>\n",
       "      <th>8</th>\n",
       "      <td>Brisbane Heat</td>\n",
       "      <td>0</td>\n",
       "      <td>1</td>\n",
       "      <td>0</td>\n",
       "      <td>4</td>\n",
       "      <td>4</td>\n",
       "      <td>2</td>\n",
       "      <td>0</td>\n",
       "      <td>1</td>\n",
       "      <td>2</td>\n",
       "      <td>164</td>\n",
       "      <td>8</td>\n",
       "      <td>120</td>\n",
       "      <td>165.0</td>\n",
       "      <td>0</td>\n",
       "      <td>12</td>\n",
       "      <td>0</td>\n",
       "      <td>1</td>\n",
       "      <td>1</td>\n",
       "    </tr>\n",
       "    <tr>\n",
       "      <th>12</th>\n",
       "      <td>Sydney Thunder</td>\n",
       "      <td>0</td>\n",
       "      <td>1</td>\n",
       "      <td>0</td>\n",
       "      <td>4</td>\n",
       "      <td>4</td>\n",
       "      <td>2</td>\n",
       "      <td>2</td>\n",
       "      <td>0</td>\n",
       "      <td>1</td>\n",
       "      <td>106</td>\n",
       "      <td>8</td>\n",
       "      <td>120</td>\n",
       "      <td>107.0</td>\n",
       "      <td>0</td>\n",
       "      <td>01</td>\n",
       "      <td>0</td>\n",
       "      <td>0</td>\n",
       "      <td>0</td>\n",
       "    </tr>\n",
       "    <tr>\n",
       "      <th>13</th>\n",
       "      <td>Brisbane Heat</td>\n",
       "      <td>0</td>\n",
       "      <td>1</td>\n",
       "      <td>0</td>\n",
       "      <td>4</td>\n",
       "      <td>4</td>\n",
       "      <td>0</td>\n",
       "      <td>0</td>\n",
       "      <td>0</td>\n",
       "      <td>3</td>\n",
       "      <td>198</td>\n",
       "      <td>6</td>\n",
       "      <td>120</td>\n",
       "      <td>199.0</td>\n",
       "      <td>0</td>\n",
       "      <td>01</td>\n",
       "      <td>0</td>\n",
       "      <td>0</td>\n",
       "      <td>1</td>\n",
       "    </tr>\n",
       "    <tr>\n",
       "      <th>16</th>\n",
       "      <td>Sydney Thunder</td>\n",
       "      <td>0</td>\n",
       "      <td>1</td>\n",
       "      <td>0</td>\n",
       "      <td>4</td>\n",
       "      <td>2</td>\n",
       "      <td>0</td>\n",
       "      <td>0</td>\n",
       "      <td>0</td>\n",
       "      <td>3</td>\n",
       "      <td>77</td>\n",
       "      <td>7</td>\n",
       "      <td>102</td>\n",
       "      <td>82.0</td>\n",
       "      <td>0</td>\n",
       "      <td>01</td>\n",
       "      <td>0</td>\n",
       "      <td>0</td>\n",
       "      <td>0</td>\n",
       "    </tr>\n",
       "  </tbody>\n",
       "</table>\n",
       "</div>"
      ],
      "text/plain": [
       "               team  neutral_venue  home_venue  toss_winner  max_balls_first  \\\n",
       "4   Perth Scorchers              0           1            1                4   \n",
       "8     Brisbane Heat              0           1            0                4   \n",
       "12   Sydney Thunder              0           1            0                4   \n",
       "13    Brisbane Heat              0           1            0                4   \n",
       "16   Sydney Thunder              0           1            0                4   \n",
       "\n",
       "    balls  byes  leg_byes  no_balls  wides  runs  wickets  max_balls_second  \\\n",
       "4       4     0         2         0      3   144        7               120   \n",
       "8       4     2         0         1      2   164        8               120   \n",
       "12      4     2         2         0      1   106        8               120   \n",
       "13      4     0         0         0      3   198        6               120   \n",
       "16      2     0         0         0      3    77        7               102   \n",
       "\n",
       "    target  derby start_month  month_02  month_12  victor  \n",
       "4    145.0      0          01         0         0       1  \n",
       "8    165.0      0          12         0         1       1  \n",
       "12   107.0      0          01         0         0       0  \n",
       "13   199.0      0          01         0         0       1  \n",
       "16    82.0      0          01         0         0       0  "
      ]
     },
     "execution_count": 7,
     "metadata": {},
     "output_type": "execute_result"
    }
   ],
   "source": [
    "# Balls\n",
    "data['balls'].value_counts()\n",
    "data['balls'] = np.where(data['balls']<100, 1, \n",
    "                np.where((100<=data['balls'])&(data['balls']<110), 2, \n",
    "                np.where((110<=data['balls'])&(data['balls']<120), 3,\n",
    "                np.where(data['balls'] == 120, 4, data['balls']))))\n",
    "data.head()"
   ]
  },
  {
   "cell_type": "code",
   "execution_count": 8,
   "id": "dacb6fa0",
   "metadata": {
    "ExecuteTime": {
     "end_time": "2022-08-08T01:44:21.675786Z",
     "start_time": "2022-08-08T01:44:21.662783Z"
    },
    "hidden": true
   },
   "outputs": [
    {
     "data": {
      "text/plain": [
       "4    424\n",
       "3     23\n",
       "1     13\n",
       "2     11\n",
       "Name: balls, dtype: int64"
      ]
     },
     "execution_count": 8,
     "metadata": {},
     "output_type": "execute_result"
    }
   ],
   "source": [
    "data['balls'].value_counts()"
   ]
  },
  {
   "cell_type": "code",
   "execution_count": 9,
   "id": "0b6bdf49",
   "metadata": {
    "ExecuteTime": {
     "end_time": "2022-08-08T01:44:21.707794Z",
     "start_time": "2022-08-08T01:44:21.679789Z"
    },
    "hidden": true
   },
   "outputs": [
    {
     "data": {
      "text/html": [
       "<div>\n",
       "<style scoped>\n",
       "    .dataframe tbody tr th:only-of-type {\n",
       "        vertical-align: middle;\n",
       "    }\n",
       "\n",
       "    .dataframe tbody tr th {\n",
       "        vertical-align: top;\n",
       "    }\n",
       "\n",
       "    .dataframe thead th {\n",
       "        text-align: right;\n",
       "    }\n",
       "</style>\n",
       "<table border=\"1\" class=\"dataframe\">\n",
       "  <thead>\n",
       "    <tr style=\"text-align: right;\">\n",
       "      <th></th>\n",
       "      <th>team</th>\n",
       "      <th>neutral_venue</th>\n",
       "      <th>home_venue</th>\n",
       "      <th>toss_winner</th>\n",
       "      <th>max_balls_first</th>\n",
       "      <th>balls</th>\n",
       "      <th>byes</th>\n",
       "      <th>leg_byes</th>\n",
       "      <th>no_balls</th>\n",
       "      <th>wides</th>\n",
       "      <th>runs</th>\n",
       "      <th>wickets</th>\n",
       "      <th>max_balls_second</th>\n",
       "      <th>target</th>\n",
       "      <th>derby</th>\n",
       "      <th>start_month</th>\n",
       "      <th>month_02</th>\n",
       "      <th>month_12</th>\n",
       "      <th>victor</th>\n",
       "    </tr>\n",
       "  </thead>\n",
       "  <tbody>\n",
       "    <tr>\n",
       "      <th>4</th>\n",
       "      <td>Perth Scorchers</td>\n",
       "      <td>0</td>\n",
       "      <td>1</td>\n",
       "      <td>1</td>\n",
       "      <td>4</td>\n",
       "      <td>4</td>\n",
       "      <td>0</td>\n",
       "      <td>2</td>\n",
       "      <td>0</td>\n",
       "      <td>3</td>\n",
       "      <td>2</td>\n",
       "      <td>7</td>\n",
       "      <td>120</td>\n",
       "      <td>145.0</td>\n",
       "      <td>0</td>\n",
       "      <td>01</td>\n",
       "      <td>0</td>\n",
       "      <td>0</td>\n",
       "      <td>1</td>\n",
       "    </tr>\n",
       "    <tr>\n",
       "      <th>8</th>\n",
       "      <td>Brisbane Heat</td>\n",
       "      <td>0</td>\n",
       "      <td>1</td>\n",
       "      <td>0</td>\n",
       "      <td>4</td>\n",
       "      <td>4</td>\n",
       "      <td>2</td>\n",
       "      <td>0</td>\n",
       "      <td>1</td>\n",
       "      <td>2</td>\n",
       "      <td>3</td>\n",
       "      <td>8</td>\n",
       "      <td>120</td>\n",
       "      <td>165.0</td>\n",
       "      <td>0</td>\n",
       "      <td>12</td>\n",
       "      <td>0</td>\n",
       "      <td>1</td>\n",
       "      <td>1</td>\n",
       "    </tr>\n",
       "    <tr>\n",
       "      <th>12</th>\n",
       "      <td>Sydney Thunder</td>\n",
       "      <td>0</td>\n",
       "      <td>1</td>\n",
       "      <td>0</td>\n",
       "      <td>4</td>\n",
       "      <td>4</td>\n",
       "      <td>2</td>\n",
       "      <td>2</td>\n",
       "      <td>0</td>\n",
       "      <td>1</td>\n",
       "      <td>1</td>\n",
       "      <td>8</td>\n",
       "      <td>120</td>\n",
       "      <td>107.0</td>\n",
       "      <td>0</td>\n",
       "      <td>01</td>\n",
       "      <td>0</td>\n",
       "      <td>0</td>\n",
       "      <td>0</td>\n",
       "    </tr>\n",
       "    <tr>\n",
       "      <th>13</th>\n",
       "      <td>Brisbane Heat</td>\n",
       "      <td>0</td>\n",
       "      <td>1</td>\n",
       "      <td>0</td>\n",
       "      <td>4</td>\n",
       "      <td>4</td>\n",
       "      <td>0</td>\n",
       "      <td>0</td>\n",
       "      <td>0</td>\n",
       "      <td>3</td>\n",
       "      <td>3</td>\n",
       "      <td>6</td>\n",
       "      <td>120</td>\n",
       "      <td>199.0</td>\n",
       "      <td>0</td>\n",
       "      <td>01</td>\n",
       "      <td>0</td>\n",
       "      <td>0</td>\n",
       "      <td>1</td>\n",
       "    </tr>\n",
       "    <tr>\n",
       "      <th>16</th>\n",
       "      <td>Sydney Thunder</td>\n",
       "      <td>0</td>\n",
       "      <td>1</td>\n",
       "      <td>0</td>\n",
       "      <td>4</td>\n",
       "      <td>2</td>\n",
       "      <td>0</td>\n",
       "      <td>0</td>\n",
       "      <td>0</td>\n",
       "      <td>3</td>\n",
       "      <td>1</td>\n",
       "      <td>7</td>\n",
       "      <td>102</td>\n",
       "      <td>82.0</td>\n",
       "      <td>0</td>\n",
       "      <td>01</td>\n",
       "      <td>0</td>\n",
       "      <td>0</td>\n",
       "      <td>0</td>\n",
       "    </tr>\n",
       "  </tbody>\n",
       "</table>\n",
       "</div>"
      ],
      "text/plain": [
       "               team  neutral_venue  home_venue  toss_winner  max_balls_first  \\\n",
       "4   Perth Scorchers              0           1            1                4   \n",
       "8     Brisbane Heat              0           1            0                4   \n",
       "12   Sydney Thunder              0           1            0                4   \n",
       "13    Brisbane Heat              0           1            0                4   \n",
       "16   Sydney Thunder              0           1            0                4   \n",
       "\n",
       "    balls  byes  leg_byes  no_balls  wides  runs  wickets  max_balls_second  \\\n",
       "4       4     0         2         0      3     2        7               120   \n",
       "8       4     2         0         1      2     3        8               120   \n",
       "12      4     2         2         0      1     1        8               120   \n",
       "13      4     0         0         0      3     3        6               120   \n",
       "16      2     0         0         0      3     1        7               102   \n",
       "\n",
       "    target  derby start_month  month_02  month_12  victor  \n",
       "4    145.0      0          01         0         0       1  \n",
       "8    165.0      0          12         0         1       1  \n",
       "12   107.0      0          01         0         0       0  \n",
       "13   199.0      0          01         0         0       1  \n",
       "16    82.0      0          01         0         0       0  "
      ]
     },
     "execution_count": 9,
     "metadata": {},
     "output_type": "execute_result"
    }
   ],
   "source": [
    "# Runs\n",
    "data['runs'] = np.where(data['runs']<120, 1, \n",
    "               np.where((120<=data['runs'])&(data['runs']<160), 2, \n",
    "               np.where((160<=data['runs'])&(data['runs']<200), 3,\n",
    "               np.where(data['runs']>=200, 4, data['runs']))))\n",
    "data.head()"
   ]
  },
  {
   "cell_type": "code",
   "execution_count": 10,
   "id": "43c5bb16",
   "metadata": {
    "ExecuteTime": {
     "end_time": "2022-08-08T01:44:21.723813Z",
     "start_time": "2022-08-08T01:44:21.712796Z"
    },
    "hidden": true
   },
   "outputs": [
    {
     "data": {
      "text/plain": [
       "3    220\n",
       "2    179\n",
       "1     37\n",
       "4     35\n",
       "Name: runs, dtype: int64"
      ]
     },
     "execution_count": 10,
     "metadata": {},
     "output_type": "execute_result"
    }
   ],
   "source": [
    "data['runs'].value_counts()"
   ]
  },
  {
   "cell_type": "code",
   "execution_count": 11,
   "id": "8e8dc11e",
   "metadata": {
    "ExecuteTime": {
     "end_time": "2022-08-08T01:44:21.755807Z",
     "start_time": "2022-08-08T01:44:21.725797Z"
    },
    "hidden": true
   },
   "outputs": [
    {
     "data": {
      "text/html": [
       "<div>\n",
       "<style scoped>\n",
       "    .dataframe tbody tr th:only-of-type {\n",
       "        vertical-align: middle;\n",
       "    }\n",
       "\n",
       "    .dataframe tbody tr th {\n",
       "        vertical-align: top;\n",
       "    }\n",
       "\n",
       "    .dataframe thead th {\n",
       "        text-align: right;\n",
       "    }\n",
       "</style>\n",
       "<table border=\"1\" class=\"dataframe\">\n",
       "  <thead>\n",
       "    <tr style=\"text-align: right;\">\n",
       "      <th></th>\n",
       "      <th>team</th>\n",
       "      <th>neutral_venue</th>\n",
       "      <th>home_venue</th>\n",
       "      <th>toss_winner</th>\n",
       "      <th>max_balls_first</th>\n",
       "      <th>balls</th>\n",
       "      <th>byes</th>\n",
       "      <th>leg_byes</th>\n",
       "      <th>no_balls</th>\n",
       "      <th>wides</th>\n",
       "      <th>runs</th>\n",
       "      <th>wickets</th>\n",
       "      <th>max_balls_second</th>\n",
       "      <th>target</th>\n",
       "      <th>derby</th>\n",
       "      <th>start_month</th>\n",
       "      <th>month_02</th>\n",
       "      <th>month_12</th>\n",
       "      <th>victor</th>\n",
       "    </tr>\n",
       "  </thead>\n",
       "  <tbody>\n",
       "    <tr>\n",
       "      <th>4</th>\n",
       "      <td>Perth Scorchers</td>\n",
       "      <td>0</td>\n",
       "      <td>1</td>\n",
       "      <td>1</td>\n",
       "      <td>4</td>\n",
       "      <td>4</td>\n",
       "      <td>0</td>\n",
       "      <td>2</td>\n",
       "      <td>0</td>\n",
       "      <td>3</td>\n",
       "      <td>2</td>\n",
       "      <td>7</td>\n",
       "      <td>4</td>\n",
       "      <td>145.0</td>\n",
       "      <td>0</td>\n",
       "      <td>01</td>\n",
       "      <td>0</td>\n",
       "      <td>0</td>\n",
       "      <td>1</td>\n",
       "    </tr>\n",
       "    <tr>\n",
       "      <th>8</th>\n",
       "      <td>Brisbane Heat</td>\n",
       "      <td>0</td>\n",
       "      <td>1</td>\n",
       "      <td>0</td>\n",
       "      <td>4</td>\n",
       "      <td>4</td>\n",
       "      <td>2</td>\n",
       "      <td>0</td>\n",
       "      <td>1</td>\n",
       "      <td>2</td>\n",
       "      <td>3</td>\n",
       "      <td>8</td>\n",
       "      <td>4</td>\n",
       "      <td>165.0</td>\n",
       "      <td>0</td>\n",
       "      <td>12</td>\n",
       "      <td>0</td>\n",
       "      <td>1</td>\n",
       "      <td>1</td>\n",
       "    </tr>\n",
       "    <tr>\n",
       "      <th>12</th>\n",
       "      <td>Sydney Thunder</td>\n",
       "      <td>0</td>\n",
       "      <td>1</td>\n",
       "      <td>0</td>\n",
       "      <td>4</td>\n",
       "      <td>4</td>\n",
       "      <td>2</td>\n",
       "      <td>2</td>\n",
       "      <td>0</td>\n",
       "      <td>1</td>\n",
       "      <td>1</td>\n",
       "      <td>8</td>\n",
       "      <td>4</td>\n",
       "      <td>107.0</td>\n",
       "      <td>0</td>\n",
       "      <td>01</td>\n",
       "      <td>0</td>\n",
       "      <td>0</td>\n",
       "      <td>0</td>\n",
       "    </tr>\n",
       "    <tr>\n",
       "      <th>13</th>\n",
       "      <td>Brisbane Heat</td>\n",
       "      <td>0</td>\n",
       "      <td>1</td>\n",
       "      <td>0</td>\n",
       "      <td>4</td>\n",
       "      <td>4</td>\n",
       "      <td>0</td>\n",
       "      <td>0</td>\n",
       "      <td>0</td>\n",
       "      <td>3</td>\n",
       "      <td>3</td>\n",
       "      <td>6</td>\n",
       "      <td>4</td>\n",
       "      <td>199.0</td>\n",
       "      <td>0</td>\n",
       "      <td>01</td>\n",
       "      <td>0</td>\n",
       "      <td>0</td>\n",
       "      <td>1</td>\n",
       "    </tr>\n",
       "    <tr>\n",
       "      <th>16</th>\n",
       "      <td>Sydney Thunder</td>\n",
       "      <td>0</td>\n",
       "      <td>1</td>\n",
       "      <td>0</td>\n",
       "      <td>4</td>\n",
       "      <td>2</td>\n",
       "      <td>0</td>\n",
       "      <td>0</td>\n",
       "      <td>0</td>\n",
       "      <td>3</td>\n",
       "      <td>1</td>\n",
       "      <td>7</td>\n",
       "      <td>2</td>\n",
       "      <td>82.0</td>\n",
       "      <td>0</td>\n",
       "      <td>01</td>\n",
       "      <td>0</td>\n",
       "      <td>0</td>\n",
       "      <td>0</td>\n",
       "    </tr>\n",
       "  </tbody>\n",
       "</table>\n",
       "</div>"
      ],
      "text/plain": [
       "               team  neutral_venue  home_venue  toss_winner  max_balls_first  \\\n",
       "4   Perth Scorchers              0           1            1                4   \n",
       "8     Brisbane Heat              0           1            0                4   \n",
       "12   Sydney Thunder              0           1            0                4   \n",
       "13    Brisbane Heat              0           1            0                4   \n",
       "16   Sydney Thunder              0           1            0                4   \n",
       "\n",
       "    balls  byes  leg_byes  no_balls  wides  runs  wickets  max_balls_second  \\\n",
       "4       4     0         2         0      3     2        7                 4   \n",
       "8       4     2         0         1      2     3        8                 4   \n",
       "12      4     2         2         0      1     1        8                 4   \n",
       "13      4     0         0         0      3     3        6                 4   \n",
       "16      2     0         0         0      3     1        7                 2   \n",
       "\n",
       "    target  derby start_month  month_02  month_12  victor  \n",
       "4    145.0      0          01         0         0       1  \n",
       "8    165.0      0          12         0         1       1  \n",
       "12   107.0      0          01         0         0       0  \n",
       "13   199.0      0          01         0         0       1  \n",
       "16    82.0      0          01         0         0       0  "
      ]
     },
     "execution_count": 11,
     "metadata": {},
     "output_type": "execute_result"
    }
   ],
   "source": [
    "# Max_balls_second\n",
    "data['max_balls_second'].value_counts()\n",
    "data['max_balls_second'] = np.where(data['max_balls_second']<100, 1, \n",
    "                           np.where((100<=data['max_balls_second'])&(data['max_balls_second']<110), 2, \n",
    "                           np.where((110<=data['max_balls_second'])&(data['max_balls_second']<120), 3,\n",
    "                           np.where(data['max_balls_second'] == 120, 4, data['max_balls_second']))))\n",
    "data.head()"
   ]
  },
  {
   "cell_type": "code",
   "execution_count": 12,
   "id": "60feda81",
   "metadata": {
    "ExecuteTime": {
     "end_time": "2022-08-08T01:44:21.770829Z",
     "start_time": "2022-08-08T01:44:21.758806Z"
    },
    "hidden": true
   },
   "outputs": [
    {
     "data": {
      "text/plain": [
       "4    444\n",
       "1     18\n",
       "2      6\n",
       "3      3\n",
       "Name: max_balls_second, dtype: int64"
      ]
     },
     "execution_count": 12,
     "metadata": {},
     "output_type": "execute_result"
    }
   ],
   "source": [
    "data['max_balls_second'].value_counts()"
   ]
  },
  {
   "cell_type": "code",
   "execution_count": 13,
   "id": "5c7e291e",
   "metadata": {
    "ExecuteTime": {
     "end_time": "2022-08-08T01:44:21.801815Z",
     "start_time": "2022-08-08T01:44:21.773809Z"
    },
    "hidden": true
   },
   "outputs": [
    {
     "data": {
      "text/html": [
       "<div>\n",
       "<style scoped>\n",
       "    .dataframe tbody tr th:only-of-type {\n",
       "        vertical-align: middle;\n",
       "    }\n",
       "\n",
       "    .dataframe tbody tr th {\n",
       "        vertical-align: top;\n",
       "    }\n",
       "\n",
       "    .dataframe thead th {\n",
       "        text-align: right;\n",
       "    }\n",
       "</style>\n",
       "<table border=\"1\" class=\"dataframe\">\n",
       "  <thead>\n",
       "    <tr style=\"text-align: right;\">\n",
       "      <th></th>\n",
       "      <th>team</th>\n",
       "      <th>neutral_venue</th>\n",
       "      <th>home_venue</th>\n",
       "      <th>toss_winner</th>\n",
       "      <th>max_balls_first</th>\n",
       "      <th>balls</th>\n",
       "      <th>byes</th>\n",
       "      <th>leg_byes</th>\n",
       "      <th>no_balls</th>\n",
       "      <th>wides</th>\n",
       "      <th>runs</th>\n",
       "      <th>wickets</th>\n",
       "      <th>max_balls_second</th>\n",
       "      <th>target</th>\n",
       "      <th>derby</th>\n",
       "      <th>start_month</th>\n",
       "      <th>month_02</th>\n",
       "      <th>month_12</th>\n",
       "      <th>victor</th>\n",
       "    </tr>\n",
       "  </thead>\n",
       "  <tbody>\n",
       "    <tr>\n",
       "      <th>4</th>\n",
       "      <td>Perth Scorchers</td>\n",
       "      <td>0</td>\n",
       "      <td>1</td>\n",
       "      <td>1</td>\n",
       "      <td>4</td>\n",
       "      <td>4</td>\n",
       "      <td>0</td>\n",
       "      <td>2</td>\n",
       "      <td>0</td>\n",
       "      <td>3</td>\n",
       "      <td>2</td>\n",
       "      <td>7</td>\n",
       "      <td>4</td>\n",
       "      <td>2.0</td>\n",
       "      <td>0</td>\n",
       "      <td>01</td>\n",
       "      <td>0</td>\n",
       "      <td>0</td>\n",
       "      <td>1</td>\n",
       "    </tr>\n",
       "    <tr>\n",
       "      <th>8</th>\n",
       "      <td>Brisbane Heat</td>\n",
       "      <td>0</td>\n",
       "      <td>1</td>\n",
       "      <td>0</td>\n",
       "      <td>4</td>\n",
       "      <td>4</td>\n",
       "      <td>2</td>\n",
       "      <td>0</td>\n",
       "      <td>1</td>\n",
       "      <td>2</td>\n",
       "      <td>3</td>\n",
       "      <td>8</td>\n",
       "      <td>4</td>\n",
       "      <td>3.0</td>\n",
       "      <td>0</td>\n",
       "      <td>12</td>\n",
       "      <td>0</td>\n",
       "      <td>1</td>\n",
       "      <td>1</td>\n",
       "    </tr>\n",
       "    <tr>\n",
       "      <th>12</th>\n",
       "      <td>Sydney Thunder</td>\n",
       "      <td>0</td>\n",
       "      <td>1</td>\n",
       "      <td>0</td>\n",
       "      <td>4</td>\n",
       "      <td>4</td>\n",
       "      <td>2</td>\n",
       "      <td>2</td>\n",
       "      <td>0</td>\n",
       "      <td>1</td>\n",
       "      <td>1</td>\n",
       "      <td>8</td>\n",
       "      <td>4</td>\n",
       "      <td>1.0</td>\n",
       "      <td>0</td>\n",
       "      <td>01</td>\n",
       "      <td>0</td>\n",
       "      <td>0</td>\n",
       "      <td>0</td>\n",
       "    </tr>\n",
       "    <tr>\n",
       "      <th>13</th>\n",
       "      <td>Brisbane Heat</td>\n",
       "      <td>0</td>\n",
       "      <td>1</td>\n",
       "      <td>0</td>\n",
       "      <td>4</td>\n",
       "      <td>4</td>\n",
       "      <td>0</td>\n",
       "      <td>0</td>\n",
       "      <td>0</td>\n",
       "      <td>3</td>\n",
       "      <td>3</td>\n",
       "      <td>6</td>\n",
       "      <td>4</td>\n",
       "      <td>3.0</td>\n",
       "      <td>0</td>\n",
       "      <td>01</td>\n",
       "      <td>0</td>\n",
       "      <td>0</td>\n",
       "      <td>1</td>\n",
       "    </tr>\n",
       "    <tr>\n",
       "      <th>16</th>\n",
       "      <td>Sydney Thunder</td>\n",
       "      <td>0</td>\n",
       "      <td>1</td>\n",
       "      <td>0</td>\n",
       "      <td>4</td>\n",
       "      <td>2</td>\n",
       "      <td>0</td>\n",
       "      <td>0</td>\n",
       "      <td>0</td>\n",
       "      <td>3</td>\n",
       "      <td>1</td>\n",
       "      <td>7</td>\n",
       "      <td>2</td>\n",
       "      <td>1.0</td>\n",
       "      <td>0</td>\n",
       "      <td>01</td>\n",
       "      <td>0</td>\n",
       "      <td>0</td>\n",
       "      <td>0</td>\n",
       "    </tr>\n",
       "  </tbody>\n",
       "</table>\n",
       "</div>"
      ],
      "text/plain": [
       "               team  neutral_venue  home_venue  toss_winner  max_balls_first  \\\n",
       "4   Perth Scorchers              0           1            1                4   \n",
       "8     Brisbane Heat              0           1            0                4   \n",
       "12   Sydney Thunder              0           1            0                4   \n",
       "13    Brisbane Heat              0           1            0                4   \n",
       "16   Sydney Thunder              0           1            0                4   \n",
       "\n",
       "    balls  byes  leg_byes  no_balls  wides  runs  wickets  max_balls_second  \\\n",
       "4       4     0         2         0      3     2        7                 4   \n",
       "8       4     2         0         1      2     3        8                 4   \n",
       "12      4     2         2         0      1     1        8                 4   \n",
       "13      4     0         0         0      3     3        6                 4   \n",
       "16      2     0         0         0      3     1        7                 2   \n",
       "\n",
       "    target  derby start_month  month_02  month_12  victor  \n",
       "4      2.0      0          01         0         0       1  \n",
       "8      3.0      0          12         0         1       1  \n",
       "12     1.0      0          01         0         0       0  \n",
       "13     3.0      0          01         0         0       1  \n",
       "16     1.0      0          01         0         0       0  "
      ]
     },
     "execution_count": 13,
     "metadata": {},
     "output_type": "execute_result"
    }
   ],
   "source": [
    "# Target\n",
    "data['target'] = np.where(data['target']<120, 1, \n",
    "                 np.where((120<=data['target'])&(data['target']<160), 2, \n",
    "                 np.where((160<=data['target'])&(data['target']<200), 3,\n",
    "                 np.where(data['target']>=200, 4, data['target']))))\n",
    "data.head()"
   ]
  },
  {
   "cell_type": "code",
   "execution_count": 14,
   "id": "c75e4fea",
   "metadata": {
    "ExecuteTime": {
     "end_time": "2022-08-08T01:44:21.816818Z",
     "start_time": "2022-08-08T01:44:21.803815Z"
    },
    "hidden": true,
    "scrolled": true
   },
   "outputs": [
    {
     "data": {
      "text/plain": [
       "3.0    218\n",
       "2.0    177\n",
       "1.0     40\n",
       "4.0     36\n",
       "Name: target, dtype: int64"
      ]
     },
     "execution_count": 14,
     "metadata": {},
     "output_type": "execute_result"
    }
   ],
   "source": [
    "data['target'].value_counts()"
   ]
  },
  {
   "cell_type": "code",
   "execution_count": 15,
   "id": "30dce8f7",
   "metadata": {
    "ExecuteTime": {
     "end_time": "2022-08-08T01:44:21.831824Z",
     "start_time": "2022-08-08T01:44:21.818824Z"
    },
    "hidden": true
   },
   "outputs": [
    {
     "data": {
      "text/plain": [
       "team                 object\n",
       "neutral_venue         int64\n",
       "home_venue            int64\n",
       "toss_winner           int64\n",
       "max_balls_first       int64\n",
       "balls                 int64\n",
       "byes                  int64\n",
       "leg_byes              int64\n",
       "no_balls              int64\n",
       "wides                 int64\n",
       "runs                  int64\n",
       "wickets               int64\n",
       "max_balls_second      int64\n",
       "target              float64\n",
       "derby                 int64\n",
       "start_month          object\n",
       "month_02              uint8\n",
       "month_12              uint8\n",
       "victor                int64\n",
       "dtype: object"
      ]
     },
     "execution_count": 15,
     "metadata": {},
     "output_type": "execute_result"
    }
   ],
   "source": [
    "data.dtypes"
   ]
  },
  {
   "cell_type": "markdown",
   "id": "76f0779c",
   "metadata": {
    "heading_collapsed": true
   },
   "source": [
    "# Exploratory Data Analysis"
   ]
  },
  {
   "cell_type": "code",
   "execution_count": 16,
   "id": "c5a6f486",
   "metadata": {
    "ExecuteTime": {
     "end_time": "2022-08-08T01:30:24.401159Z",
     "start_time": "2022-08-08T01:30:22.549393Z"
    },
    "collapsed": true,
    "hidden": true
   },
   "outputs": [
    {
     "data": {
      "image/png": "[encoded data removed]",
      "text/plain": [
       "<Figure size 720x1440 with 10 Axes>"
      ]
     },
     "metadata": {
      "needs_background": "light"
     },
     "output_type": "display_data"
    }
   ],
   "source": [
    "# Max_balls_first\n",
    "plt.figure(figsize=(10, 20))\n",
    "plt.rc('font', size=20)\n",
    "# sns.set(font_scale=1.5)\n",
    "\n",
    "plt.subplot(5, 2, 1)\n",
    "sns.histplot(r_data['max_balls_first'])\n",
    "plt.subplot(5, 2, 2)\n",
    "sns.histplot(data['max_balls_first'])\n",
    "\n",
    "# Balls\n",
    "plt.subplot(5, 2, 3)\n",
    "sns.histplot(r_data['balls'])\n",
    "plt.subplot(5, 2, 4)\n",
    "sns.histplot(data['balls'])\n",
    "\n",
    "# Runs\n",
    "plt.subplot(5, 2, 5)\n",
    "sns.histplot(r_data['runs'])\n",
    "plt.subplot(5, 2, 6)\n",
    "sns.histplot(data['runs'])\n",
    "\n",
    "# Max_balls_second\n",
    "plt.subplot(5, 2, 7)\n",
    "sns.histplot(r_data['max_balls_second'])\n",
    "plt.subplot(5, 2, 8)\n",
    "sns.histplot(data['max_balls_second'])\n",
    "\n",
    "# Target\n",
    "plt.subplot(5, 2, 9)\n",
    "sns.histplot(r_data['target'])\n",
    "plt.subplot(5, 2, 10)\n",
    "sns.histplot(data['target'])\n",
    "\n",
    "plt.tight_layout(h_pad=2, w_pad=2)    # Adjust margin between subplots\n",
    "plt.show()"
   ]
  },
  {
   "cell_type": "markdown",
   "id": "80c96617",
   "metadata": {
    "ExecuteTime": {
     "end_time": "2022-07-12T03:22:36.093252Z",
     "start_time": "2022-07-12T03:22:36.080096Z"
    }
   },
   "source": [
    "# Classification Analysis"
   ]
  },
  {
   "cell_type": "markdown",
   "id": "8e705c9d",
   "metadata": {},
   "source": [
    "## Logistic Regression\n",
    "Numeric features"
   ]
  },
  {
   "cell_type": "markdown",
   "id": "9d715c5b",
   "metadata": {},
   "source": [
    "### Train/Test split\n",
    "- **Continuous variable**: standardized \n",
    "- **Ordinal variable**: numeric as it is\n",
    "- **Nominal variable**: onehot-encoding"
   ]
  },
  {
   "cell_type": "code",
   "execution_count": 18,
   "id": "29d0befc",
   "metadata": {
    "ExecuteTime": {
     "end_time": "2022-08-08T01:46:24.356096Z",
     "start_time": "2022-08-08T01:46:24.306252Z"
    }
   },
   "outputs": [
    {
     "data": {
      "text/plain": [
       "((376, 16), (95,))"
      ]
     },
     "execution_count": 18,
     "metadata": {},
     "output_type": "execute_result"
    }
   ],
   "source": [
    "X = data[['neutral_venue', 'home_venue', 'toss_winner', 'max_balls_first','balls', 'byes', 'leg_byes', 'no_balls', \n",
    "          'wides', 'runs', 'wickets', 'max_balls_second', 'target', 'derby', 'month_02', 'month_12']]\n",
    "y = data['victor']\n",
    "\n",
    "X_train, X_test, y_train, y_test = train_test_split(X, y, test_size=0.2, random_state=0)\n",
    "\n",
    "# Train data scaling\n",
    "scaler = StandardScaler()\n",
    "X_train_tr = scaler.fit_transform(X_train[['byes', 'leg_byes', 'no_balls', 'wides', 'wickets']])\n",
    "X_train.loc[:, ['byes', 'leg_byes', 'no_balls', 'wides', 'wickets']] = X_train_tr\n",
    "\n",
    "# Test dat scaling\n",
    "X_test_tr = scaler.transform(X_test[['byes', 'leg_byes', 'no_balls', 'wides', 'wickets']])\n",
    "X_test.loc[:, ['byes', 'leg_byes', 'no_balls', 'wides', 'wickets']] = X_test_tr\n",
    "\n",
    "# Scaling for total dataset\n",
    "ct = make_column_transformer((StandardScaler(), ['byes', 'leg_byes', 'no_balls', 'wides', 'wickets']), remainder='passthrough')\n",
    "X_sc = ct.fit_transform(X)\n",
    "\n",
    "X_train.shape, y_test.shape"
   ]
  },
  {
   "cell_type": "markdown",
   "id": "5e655781",
   "metadata": {
    "heading_collapsed": true
   },
   "source": [
    "### Permutation importance"
   ]
  },
  {
   "cell_type": "markdown",
   "id": "c97c206f",
   "metadata": {
    "hidden": true
   },
   "source": [
    "**Solver = 'liblinear'**"
   ]
  },
  {
   "cell_type": "code",
   "execution_count": 18,
   "id": "53a9dc85",
   "metadata": {
    "ExecuteTime": {
     "end_time": "2022-08-08T01:30:25.096551Z",
     "start_time": "2022-08-08T01:30:24.451169Z"
    },
    "hidden": true
   },
   "outputs": [
    {
     "name": "stdout",
     "output_type": "stream",
     "text": [
      "9 runs 0.12787402169077589\n",
      "12 target 0.050178968735194854\n",
      "11 max_balls_second 0.011551874117497174\n",
      "8 wides 0.00405005177504697\n"
     ]
    }
   ],
   "source": [
    "logr = LogisticRegression(solver='liblinear').fit(X_train, y_train)\n",
    "result = permutation_importance(logr, X_train, y_train, scoring='f1', n_repeats=10, random_state=0)\n",
    "\n",
    "for i in result.importances_mean.argsort()[::-1]:\n",
    "    if result.importances_mean[i] - 2*result.importances_std[i] > 0:\n",
    "        print(i, X_train.columns[i], result.importances_mean[i])"
   ]
  },
  {
   "cell_type": "code",
   "execution_count": 19,
   "id": "61df1b47",
   "metadata": {
    "ExecuteTime": {
     "end_time": "2022-08-08T01:30:25.255403Z",
     "start_time": "2022-08-08T01:30:25.098578Z"
    },
    "hidden": true
   },
   "outputs": [
    {
     "data": {
      "text/plain": [
       "0.7373555790572467"
      ]
     },
     "execution_count": 19,
     "metadata": {},
     "output_type": "execute_result"
    }
   ],
   "source": [
    "# Use feature 9, 10, 12, 13\n",
    "X_9101213 = X.iloc[:, [8, 9, 11, 12]]\n",
    "ct = make_column_transformer((StandardScaler(), ['wides']), remainder='passthrough')\n",
    "pl = make_pipeline(ct, LogisticRegression(solver='liblinear'))\n",
    "cross_validate(pl, X_9101213, y, cv=10, scoring='f1')['test_score'].mean()"
   ]
  },
  {
   "cell_type": "markdown",
   "id": "b7464ac2",
   "metadata": {
    "hidden": true
   },
   "source": [
    "**Solver = 'lbfgs'**"
   ]
  },
  {
   "cell_type": "code",
   "execution_count": 20,
   "id": "4ae88aca",
   "metadata": {
    "ExecuteTime": {
     "end_time": "2022-08-08T01:30:25.887104Z",
     "start_time": "2022-08-08T01:30:25.258179Z"
    },
    "hidden": true
   },
   "outputs": [
    {
     "name": "stdout",
     "output_type": "stream",
     "text": [
      "9 runs 0.11995359021918899\n",
      "12 target 0.04783013061011258\n",
      "11 max_balls_second 0.007264043219873062\n",
      "8 wides 0.0037508642901374787\n"
     ]
    }
   ],
   "source": [
    "logr = LogisticRegression().fit(X_train, y_train)\n",
    "result = permutation_importance(logr, X_train, y_train, scoring='f1', n_repeats=10, random_state=0)\n",
    "\n",
    "for i in result.importances_mean.argsort()[::-1]:\n",
    "    if result.importances_mean[i] - 2*result.importances_std[i] > 0:\n",
    "        print(i, X_train.columns[i], result.importances_mean[i])"
   ]
  },
  {
   "cell_type": "code",
   "execution_count": 21,
   "id": "cc9b46bf",
   "metadata": {
    "ExecuteTime": {
     "end_time": "2022-08-08T01:30:26.093850Z",
     "start_time": "2022-08-08T01:30:25.889105Z"
    },
    "hidden": true
   },
   "outputs": [
    {
     "data": {
      "text/plain": [
       "0.7270497610357951"
      ]
     },
     "execution_count": 21,
     "metadata": {},
     "output_type": "execute_result"
    }
   ],
   "source": [
    "# Use feature 9, 10, 12, 13\n",
    "X_9101213 = X.iloc[:, [8, 9, 11, 12]]\n",
    "ct = make_column_transformer((StandardScaler(), ['wides']), remainder='passthrough')\n",
    "pl = make_pipeline(ct, LogisticRegression())\n",
    "cross_validate(pl, X_9101213, y, cv=10, scoring='f1')['test_score'].mean()"
   ]
  },
  {
   "cell_type": "markdown",
   "id": "252a3deb",
   "metadata": {},
   "source": [
    "### Sequential feature selection"
   ]
  },
  {
   "cell_type": "markdown",
   "id": "b561336b",
   "metadata": {},
   "source": [
    "**Solver = 'liblinear'**"
   ]
  },
  {
   "cell_type": "code",
   "execution_count": 22,
   "id": "8ee1b147",
   "metadata": {
    "ExecuteTime": {
     "end_time": "2022-08-08T01:30:27.521992Z",
     "start_time": "2022-08-08T01:30:26.095851Z"
    }
   },
   "outputs": [
    {
     "data": {
      "text/plain": [
       "array(['max_balls_first', 'runs'], dtype=object)"
      ]
     },
     "execution_count": 22,
     "metadata": {},
     "output_type": "execute_result"
    }
   ],
   "source": [
    "logr = LogisticRegression(solver='liblinear')\n",
    "sfs = SequentialFeatureSelector(logr, n_features_to_select='auto', tol=0.001, scoring='f1', cv=10)\n",
    "\n",
    "# Selection is done with train data, but the selected features will be used for train and test\n",
    "sfs.fit(X_train, y_train)\n",
    "X_tr = sfs.transform(X)  \n",
    "sfs.get_feature_names_out()"
   ]
  },
  {
   "cell_type": "code",
   "execution_count": 23,
   "id": "a7b931c1",
   "metadata": {
    "ExecuteTime": {
     "end_time": "2022-08-08T01:30:27.570021Z",
     "start_time": "2022-08-08T01:30:27.524990Z"
    }
   },
   "outputs": [
    {
     "data": {
      "text/plain": [
       "0.7433115356284479"
      ]
     },
     "execution_count": 23,
     "metadata": {},
     "output_type": "execute_result"
    }
   ],
   "source": [
    "# Selected features doesn't need scaling\n",
    "cross_validate(logr, X_tr, y, cv=10, scoring='f1')['test_score'].mean()"
   ]
  },
  {
   "cell_type": "markdown",
   "id": "417d81d8",
   "metadata": {},
   "source": [
    "**Solver = lbfgs'**"
   ]
  },
  {
   "cell_type": "code",
   "execution_count": 24,
   "id": "1b45e72d",
   "metadata": {
    "ExecuteTime": {
     "end_time": "2022-08-08T01:30:29.346064Z",
     "start_time": "2022-08-08T01:30:27.573002Z"
    }
   },
   "outputs": [
    {
     "data": {
      "text/plain": [
       "array(['runs'], dtype=object)"
      ]
     },
     "execution_count": 24,
     "metadata": {},
     "output_type": "execute_result"
    }
   ],
   "source": [
    "logr = LogisticRegression()\n",
    "sfs = SequentialFeatureSelector(logr, n_features_to_select='auto', tol=0.001, scoring='f1', cv=10)\n",
    "\n",
    "# Selection is done with train data, but the selected features will be used for train and test\n",
    "sfs.fit(X_train, y_train)\n",
    "X_tr = sfs.transform(X)  \n",
    "sfs.get_feature_names_out()"
   ]
  },
  {
   "cell_type": "code",
   "execution_count": 25,
   "id": "69e31763",
   "metadata": {
    "ExecuteTime": {
     "end_time": "2022-08-08T01:30:29.455708Z",
     "start_time": "2022-08-08T01:30:29.376071Z"
    }
   },
   "outputs": [
    {
     "data": {
      "text/plain": [
       "0.736131041056457"
      ]
     },
     "execution_count": 25,
     "metadata": {},
     "output_type": "execute_result"
    }
   ],
   "source": [
    "# Selected features doesn't need scaling\n",
    "cross_validate(logr, X_tr, y, cv=10, scoring='f1')['test_score'].mean()"
   ]
  },
  {
   "cell_type": "code",
   "execution_count": 26,
   "id": "391ec342",
   "metadata": {
    "ExecuteTime": {
     "end_time": "2022-08-08T01:30:29.519720Z",
     "start_time": "2022-08-08T01:30:29.458706Z"
    }
   },
   "outputs": [
    {
     "data": {
      "text/plain": [
       "0.7250540780466604"
      ]
     },
     "execution_count": 26,
     "metadata": {},
     "output_type": "execute_result"
    }
   ],
   "source": [
    "# Use all features\n",
    "cross_validate(LogisticRegression(solver='liblinear'), X_sc, y, cv=10, scoring='f1')['test_score'].mean()   # liblinear showed a bit better result"
   ]
  },
  {
   "cell_type": "markdown",
   "id": "b4e336e0",
   "metadata": {
    "heading_collapsed": true
   },
   "source": [
    "## SVM\n",
    "Numeric features"
   ]
  },
  {
   "cell_type": "markdown",
   "id": "b1adb355",
   "metadata": {
    "hidden": true
   },
   "source": [
    "### Permutation importance\n",
    "**Kernel = 'rbf'**"
   ]
  },
  {
   "cell_type": "code",
   "execution_count": 27,
   "id": "97925f94",
   "metadata": {
    "ExecuteTime": {
     "end_time": "2022-08-08T01:30:32.675768Z",
     "start_time": "2022-08-08T01:30:29.521720Z"
    },
    "hidden": true
   },
   "outputs": [
    {
     "name": "stdout",
     "output_type": "stream",
     "text": [
      "9 runs 0.08726558532088928\n",
      "12 target 0.03826967365290681\n"
     ]
    }
   ],
   "source": [
    "svc = SVC().fit(X_train, y_train)\n",
    "result = permutation_importance(svc, X_train, y_train, scoring='f1', n_repeats=10, random_state=0)\n",
    "\n",
    "for i in result.importances_mean.argsort()[::-1]:\n",
    "    if result.importances_mean[i] - 2*result.importances_std[i] > 0:\n",
    "        print(i, X_train.columns[i], result.importances_mean[i])  "
   ]
  },
  {
   "cell_type": "code",
   "execution_count": 28,
   "id": "43a65453",
   "metadata": {
    "ExecuteTime": {
     "end_time": "2022-08-08T01:30:32.851054Z",
     "start_time": "2022-08-08T01:30:32.678769Z"
    },
    "hidden": true
   },
   "outputs": [
    {
     "data": {
      "text/plain": [
       "0.7259950512600899"
      ]
     },
     "execution_count": 28,
     "metadata": {},
     "output_type": "execute_result"
    }
   ],
   "source": [
    "# Use feature 10, 13\n",
    "X_1013 = X.iloc[:, [9, 12]]\n",
    "cross_validate(SVC(), X_1013, y, cv=10, scoring='f1')['test_score'].mean()"
   ]
  },
  {
   "cell_type": "markdown",
   "id": "937def7b",
   "metadata": {
    "hidden": true
   },
   "source": [
    "**Kernel = 'linear'**"
   ]
  },
  {
   "cell_type": "code",
   "execution_count": 29,
   "id": "c534e8d2",
   "metadata": {
    "ExecuteTime": {
     "end_time": "2022-08-08T01:30:34.297491Z",
     "start_time": "2022-08-08T01:30:32.853038Z"
    },
    "hidden": true
   },
   "outputs": [
    {
     "name": "stdout",
     "output_type": "stream",
     "text": [
      "9 runs 0.24576647679274313\n",
      "3 max_balls_first 0.007205930946819483\n",
      "11 max_balls_second 0.006759097024025007\n"
     ]
    }
   ],
   "source": [
    "svc = SVC(kernel='linear').fit(X_train, y_train)\n",
    "result = permutation_importance(svc, X_train, y_train, scoring='f1', n_repeats=10, random_state=0)\n",
    "\n",
    "for i in result.importances_mean.argsort()[::-1]:\n",
    "    if result.importances_mean[i] - 2*result.importances_std[i] > 0:\n",
    "        print(i, X_train.columns[i], result.importances_mean[i]) "
   ]
  },
  {
   "cell_type": "code",
   "execution_count": 30,
   "id": "36e825dc",
   "metadata": {
    "ExecuteTime": {
     "end_time": "2022-08-08T01:30:34.438854Z",
     "start_time": "2022-08-08T01:30:34.299511Z"
    },
    "hidden": true
   },
   "outputs": [
    {
     "data": {
      "text/plain": [
       "0.7345158479088901"
      ]
     },
     "execution_count": 30,
     "metadata": {},
     "output_type": "execute_result"
    }
   ],
   "source": [
    "# Use feature 4, 10, 12\n",
    "X_41012 = X.iloc[:, [3, 9, 11]]\n",
    "cross_validate(SVC(kernel='linear'), X_41012, y, cv=10, scoring='f1')['test_score'].mean()"
   ]
  },
  {
   "cell_type": "markdown",
   "id": "c1293532",
   "metadata": {
    "hidden": true
   },
   "source": [
    "### Sequential features selection"
   ]
  },
  {
   "cell_type": "markdown",
   "id": "2f2fcac4",
   "metadata": {
    "hidden": true
   },
   "source": [
    "**Kernel = 'rbf'** and **Kernel = 'linear'** showed the same performance "
   ]
  },
  {
   "cell_type": "code",
   "execution_count": 31,
   "id": "b7f978f8",
   "metadata": {
    "ExecuteTime": {
     "end_time": "2022-08-08T01:30:37.558234Z",
     "start_time": "2022-08-08T01:30:34.441859Z"
    },
    "hidden": true
   },
   "outputs": [
    {
     "data": {
      "text/plain": [
       "array(['runs'], dtype=object)"
      ]
     },
     "execution_count": 31,
     "metadata": {},
     "output_type": "execute_result"
    }
   ],
   "source": [
    "sfs = SequentialFeatureSelector(SVC(), n_features_to_select='auto', tol=0.001, scoring='f1', cv=10)\n",
    "sfs.fit(X_train, y_train)\n",
    "X_tr = sfs.transform(X)\n",
    "sfs.get_feature_names_out()"
   ]
  },
  {
   "cell_type": "code",
   "execution_count": 32,
   "id": "445a18f2",
   "metadata": {
    "ExecuteTime": {
     "end_time": "2022-08-08T01:30:37.685673Z",
     "start_time": "2022-08-08T01:30:37.561243Z"
    },
    "hidden": true
   },
   "outputs": [
    {
     "data": {
      "text/plain": [
       "0.736131041056457"
      ]
     },
     "execution_count": 32,
     "metadata": {},
     "output_type": "execute_result"
    }
   ],
   "source": [
    "cross_validate(SVC(), X_tr, y, cv=10, scoring='f1')['test_score'].mean()"
   ]
  },
  {
   "cell_type": "code",
   "execution_count": 33,
   "id": "11e27e08",
   "metadata": {
    "ExecuteTime": {
     "end_time": "2022-08-08T01:30:37.861396Z",
     "start_time": "2022-08-08T01:30:37.687287Z"
    },
    "hidden": true
   },
   "outputs": [
    {
     "data": {
      "text/plain": [
       "0.7310297133136198"
      ]
     },
     "execution_count": 33,
     "metadata": {},
     "output_type": "execute_result"
    }
   ],
   "source": [
    "# Use all features\n",
    "cross_validate(SVC(kernel='rbf'), X_sc, y, cv=10, scoring='f1')['test_score'].mean()   # Linear kernel showed lower performance"
   ]
  },
  {
   "cell_type": "markdown",
   "id": "66f036ba",
   "metadata": {
    "heading_collapsed": true
   },
   "source": [
    "## Decision Tree\n",
    "Categorical features"
   ]
  },
  {
   "cell_type": "markdown",
   "id": "4a1a7e74",
   "metadata": {
    "hidden": true
   },
   "source": [
    "### Train/Test split"
   ]
  },
  {
   "cell_type": "code",
   "execution_count": 34,
   "id": "726428c2",
   "metadata": {
    "ExecuteTime": {
     "end_time": "2022-08-08T01:30:37.907244Z",
     "start_time": "2022-08-08T01:30:37.863397Z"
    },
    "hidden": true
   },
   "outputs": [],
   "source": [
    "X_train = X_train.astype('category')\n",
    "X_train[['byes', 'leg_byes', 'no_balls', 'wides', 'wickets']] = X_train[['byes', 'leg_byes', 'no_balls', 'wides', 'wickets']].astype('float')\n",
    "X_test = X_test.astype('category')\n",
    "X_test[['byes', 'leg_byes', 'no_balls', 'wides', 'wickets']] = X_test[['byes', 'leg_byes', 'no_balls', 'wides', 'wickets']].astype('float')"
   ]
  },
  {
   "cell_type": "markdown",
   "id": "c6a0af5f",
   "metadata": {
    "hidden": true
   },
   "source": [
    "### Permutation importance"
   ]
  },
  {
   "cell_type": "code",
   "execution_count": 35,
   "id": "da3fa809",
   "metadata": {
    "ExecuteTime": {
     "end_time": "2022-08-08T01:30:38.793810Z",
     "start_time": "2022-08-08T01:30:37.910247Z"
    },
    "hidden": true
   },
   "outputs": [
    {
     "name": "stdout",
     "output_type": "stream",
     "text": [
      "9 runs 0.24938996127870058\n",
      "8 wides 0.06535251069956506\n",
      "12 target 0.0267572926701801\n",
      "6 leg_byes 0.018837706398870224\n"
     ]
    }
   ],
   "source": [
    "dt = DecisionTreeClassifier(criterion='entropy', max_depth=5, min_samples_leaf=5, random_state=0).fit(X_train, y_train)\n",
    "result = permutation_importance(dt, X_train, y_train, scoring='f1', n_repeats=10, random_state=0)\n",
    "\n",
    "for i in result.importances_mean.argsort()[::-1]:\n",
    "    if result.importances_mean[i] - 2*result.importances_std[i] > 0:\n",
    "        print(i, X_train.columns[i], result.importances_mean[i])  "
   ]
  },
  {
   "cell_type": "code",
   "execution_count": 36,
   "id": "29918be7",
   "metadata": {
    "ExecuteTime": {
     "end_time": "2022-08-08T01:30:38.966440Z",
     "start_time": "2022-08-08T01:30:38.795796Z"
    },
    "hidden": true
   },
   "outputs": [
    {
     "data": {
      "text/plain": [
       "0.7122797533867373"
      ]
     },
     "execution_count": 36,
     "metadata": {},
     "output_type": "execute_result"
    }
   ],
   "source": [
    "# Use feature 7, 9, 10, 13\n",
    "X_791013 = X.iloc[:, [6, 8, 9, 12]]\n",
    "ct = make_column_transformer((StandardScaler(), ['wides', 'leg_byes']), remainder='passthrough')\n",
    "dt = DecisionTreeClassifier(criterion='entropy', max_depth=5, min_samples_leaf=5, random_state=0)\n",
    "pl = make_pipeline(ct, dt)\n",
    "cross_validate(pl, X_791013, y, cv=10, scoring='f1')['test_score'].mean()"
   ]
  },
  {
   "cell_type": "markdown",
   "id": "3ea5dedf",
   "metadata": {
    "hidden": true
   },
   "source": [
    "### Sequential features selection"
   ]
  },
  {
   "cell_type": "code",
   "execution_count": 37,
   "id": "5abf16e8",
   "metadata": {
    "ExecuteTime": {
     "end_time": "2022-08-08T01:30:40.064522Z",
     "start_time": "2022-08-08T01:30:38.968438Z"
    },
    "hidden": true
   },
   "outputs": [
    {
     "data": {
      "text/plain": [
       "array(['runs'], dtype=object)"
      ]
     },
     "execution_count": 37,
     "metadata": {},
     "output_type": "execute_result"
    }
   ],
   "source": [
    "dt = DecisionTreeClassifier(criterion='entropy', max_depth=5, min_samples_leaf=5, random_state=0)\n",
    "sfs = SequentialFeatureSelector(dt, n_features_to_select='auto', tol=0.01, scoring='f1', cv=10)\n",
    "sfs.fit(X_train, y_train)\n",
    "X_tr = sfs.transform(X)\n",
    "sfs.get_feature_names_out()"
   ]
  },
  {
   "cell_type": "code",
   "execution_count": 38,
   "id": "199f9d85",
   "metadata": {
    "ExecuteTime": {
     "end_time": "2022-08-08T01:30:40.126675Z",
     "start_time": "2022-08-08T01:30:40.067527Z"
    },
    "hidden": true
   },
   "outputs": [
    {
     "data": {
      "text/plain": [
       "0.736131041056457"
      ]
     },
     "execution_count": 38,
     "metadata": {},
     "output_type": "execute_result"
    }
   ],
   "source": [
    "# No scaling is needed\n",
    "cross_validate(dt, X_tr, y, cv=10, scoring='f1')['test_score'].mean()"
   ]
  },
  {
   "cell_type": "code",
   "execution_count": 39,
   "id": "73828618",
   "metadata": {
    "ExecuteTime": {
     "end_time": "2022-08-08T01:30:40.222681Z",
     "start_time": "2022-08-08T01:30:40.129660Z"
    },
    "hidden": true
   },
   "outputs": [
    {
     "data": {
      "text/plain": [
       "0.6920612847472252"
      ]
     },
     "execution_count": 39,
     "metadata": {},
     "output_type": "execute_result"
    }
   ],
   "source": [
    "# Use all features\n",
    "cross_validate(dt, X_sc, y, cv=10, scoring='f1')['test_score'].mean()"
   ]
  },
  {
   "cell_type": "markdown",
   "id": "d7c9a0b7",
   "metadata": {
    "heading_collapsed": true
   },
   "source": [
    "## AdaBoost\n",
    "Categorical features"
   ]
  },
  {
   "cell_type": "markdown",
   "id": "3f3cb08b",
   "metadata": {
    "hidden": true
   },
   "source": [
    "### Permutation importance"
   ]
  },
  {
   "cell_type": "code",
   "execution_count": 40,
   "id": "2969b537",
   "metadata": {
    "ExecuteTime": {
     "end_time": "2022-08-08T01:30:45.853378Z",
     "start_time": "2022-08-08T01:30:40.229683Z"
    },
    "hidden": true
   },
   "outputs": [
    {
     "name": "stdout",
     "output_type": "stream",
     "text": [
      "9 runs 0.1649307191645267\n",
      "12 target 0.034321978796838105\n",
      "8 wides 0.02750230845510715\n",
      "3 max_balls_first 0.013362145005106508\n"
     ]
    }
   ],
   "source": [
    "ada = AdaBoostClassifier(n_estimators=100, random_state=0).fit(X_train, y_train)\n",
    "result = permutation_importance(ada, X_train, y_train, scoring='f1', n_repeats=10, random_state=0)\n",
    "\n",
    "for i in result.importances_mean.argsort()[::-1]:\n",
    "    if result.importances_mean[i] - 2*result.importances_std[i] > 0:\n",
    "        print(i, X_train.columns[i], result.importances_mean[i])  "
   ]
  },
  {
   "cell_type": "code",
   "execution_count": 41,
   "id": "b7d0279d",
   "metadata": {
    "ExecuteTime": {
     "end_time": "2022-08-08T01:30:48.361902Z",
     "start_time": "2022-08-08T01:30:45.856383Z"
    },
    "hidden": true
   },
   "outputs": [
    {
     "data": {
      "text/plain": [
       "0.7243694575815084"
      ]
     },
     "execution_count": 41,
     "metadata": {},
     "output_type": "execute_result"
    }
   ],
   "source": [
    "# Use feature 4, 9, 10, 13\n",
    "X_491013 = X.iloc[:, [3, 8, 9, 12]]\n",
    "ct = make_column_transformer((StandardScaler(), ['wides']), remainder='passthrough')\n",
    "ada = AdaBoostClassifier(n_estimators=100, random_state=0)\n",
    "pl = make_pipeline(ct, ada)\n",
    "cross_validate(pl, X_491013, y, cv=10, scoring='f1')['test_score'].mean()"
   ]
  },
  {
   "cell_type": "markdown",
   "id": "090940cc",
   "metadata": {
    "hidden": true
   },
   "source": [
    "### Sequential feature selection"
   ]
  },
  {
   "cell_type": "code",
   "execution_count": 42,
   "id": "95b3379c",
   "metadata": {
    "ExecuteTime": {
     "end_time": "2022-08-08T01:31:56.776060Z",
     "start_time": "2022-08-08T01:30:48.363903Z"
    },
    "hidden": true
   },
   "outputs": [
    {
     "data": {
      "text/plain": [
       "array(['runs'], dtype=object)"
      ]
     },
     "execution_count": 42,
     "metadata": {},
     "output_type": "execute_result"
    }
   ],
   "source": [
    "ada = AdaBoostClassifier(n_estimators=100, random_state=0)\n",
    "sfs = SequentialFeatureSelector(ada, n_features_to_select='auto', tol=0.01, scoring='f1', cv=10)\n",
    "sfs.fit(X_train, y_train)\n",
    "X_tr = sfs.transform(X)\n",
    "sfs.get_feature_names_out()"
   ]
  },
  {
   "cell_type": "code",
   "execution_count": 43,
   "id": "ed4eeb5b",
   "metadata": {
    "ExecuteTime": {
     "end_time": "2022-08-08T01:31:58.993316Z",
     "start_time": "2022-08-08T01:31:56.778060Z"
    },
    "hidden": true
   },
   "outputs": [
    {
     "data": {
      "text/plain": [
       "0.736131041056457"
      ]
     },
     "execution_count": 43,
     "metadata": {},
     "output_type": "execute_result"
    }
   ],
   "source": [
    "cross_validate(ada, X_tr, y, cv=10, scoring='f1')['test_score'].mean()"
   ]
  },
  {
   "cell_type": "code",
   "execution_count": 44,
   "id": "ec5a81c1",
   "metadata": {
    "ExecuteTime": {
     "end_time": "2022-08-08T01:32:02.180028Z",
     "start_time": "2022-08-08T01:31:58.996299Z"
    },
    "hidden": true
   },
   "outputs": [
    {
     "data": {
      "text/plain": [
       "0.6805467358508193"
      ]
     },
     "execution_count": 44,
     "metadata": {},
     "output_type": "execute_result"
    }
   ],
   "source": [
    "# Use all features\n",
    "cross_validate(ada, X_sc, y, cv=10, scoring='f1')['test_score'].mean()"
   ]
  },
  {
   "cell_type": "markdown",
   "id": "2fa03676",
   "metadata": {
    "heading_collapsed": true
   },
   "source": [
    "## Random Forest\n",
    "Categorical features"
   ]
  },
  {
   "cell_type": "markdown",
   "id": "35fdafb4",
   "metadata": {
    "hidden": true
   },
   "source": [
    "### Permutation importance"
   ]
  },
  {
   "cell_type": "code",
   "execution_count": 45,
   "id": "184533f4",
   "metadata": {
    "ExecuteTime": {
     "end_time": "2022-08-08T01:32:06.368144Z",
     "start_time": "2022-08-08T01:32:02.183008Z"
    },
    "hidden": true
   },
   "outputs": [
    {
     "name": "stdout",
     "output_type": "stream",
     "text": [
      "9 runs 0.08199453326209999\n",
      "10 wickets 0.004785525727258477\n",
      "11 max_balls_second 0.0032739328636552933\n"
     ]
    }
   ],
   "source": [
    "rf = RandomForestClassifier(criterion='entropy', max_depth=5, min_samples_leaf=5, random_state=0, max_samples=200).fit(X_train, y_train)\n",
    "result = permutation_importance(rf, X_train, y_train, scoring='f1', n_repeats=10, random_state=0)\n",
    "\n",
    "for i in result.importances_mean.argsort()[::-1]:\n",
    "    if result.importances_mean[i] - 2*result.importances_std[i] > 0:\n",
    "        print(i, X_train.columns[i], result.importances_mean[i])    "
   ]
  },
  {
   "cell_type": "code",
   "execution_count": 46,
   "id": "45a3769c",
   "metadata": {
    "ExecuteTime": {
     "end_time": "2022-08-08T01:32:08.478593Z",
     "start_time": "2022-08-08T01:32:06.371148Z"
    },
    "hidden": true
   },
   "outputs": [
    {
     "data": {
      "text/plain": [
       "0.7310941326760835"
      ]
     },
     "execution_count": 46,
     "metadata": {},
     "output_type": "execute_result"
    }
   ],
   "source": [
    "# Use feature 10, 11, 12\n",
    "X_101112 = X.iloc[:, [9, 10, 11]]\n",
    "ct = make_column_transformer((StandardScaler(), [ 'wickets']), remainder='passthrough')\n",
    "rf = RandomForestClassifier(criterion='entropy', max_depth=5, min_samples_leaf=5, random_state=0, max_samples=200)\n",
    "pl = make_pipeline(ct, rf)\n",
    "cross_validate(pl, X_101112, y, cv=10, scoring='f1')['test_score'].mean()"
   ]
  },
  {
   "cell_type": "markdown",
   "id": "b4e29d3a",
   "metadata": {
    "hidden": true
   },
   "source": [
    "### Sequential feature selection"
   ]
  },
  {
   "cell_type": "code",
   "execution_count": 47,
   "id": "d5ee502c",
   "metadata": {
    "ExecuteTime": {
     "end_time": "2022-08-08T01:33:09.489626Z",
     "start_time": "2022-08-08T01:32:08.480591Z"
    },
    "hidden": true
   },
   "outputs": [
    {
     "data": {
      "text/plain": [
       "array(['runs'], dtype=object)"
      ]
     },
     "execution_count": 47,
     "metadata": {},
     "output_type": "execute_result"
    }
   ],
   "source": [
    "sfs = SequentialFeatureSelector(rf, n_features_to_select='auto', tol=0.01, scoring='f1', cv=10)\n",
    "sfs.fit(X_train, y_train)\n",
    "X_tr = sfs.transform(X)\n",
    "sfs.get_feature_names_out()"
   ]
  },
  {
   "cell_type": "code",
   "execution_count": 48,
   "id": "48c4b28a",
   "metadata": {
    "ExecuteTime": {
     "end_time": "2022-08-08T01:33:11.578345Z",
     "start_time": "2022-08-08T01:33:09.492627Z"
    },
    "hidden": true
   },
   "outputs": [
    {
     "data": {
      "text/plain": [
       "0.736131041056457"
      ]
     },
     "execution_count": 48,
     "metadata": {},
     "output_type": "execute_result"
    }
   ],
   "source": [
    "cross_validate(rf, X_tr, y, cv=10, scoring='f1')['test_score'].mean()"
   ]
  },
  {
   "cell_type": "code",
   "execution_count": 49,
   "id": "0937ad85",
   "metadata": {
    "ExecuteTime": {
     "end_time": "2022-08-08T01:33:13.799967Z",
     "start_time": "2022-08-08T01:33:11.580345Z"
    },
    "hidden": true
   },
   "outputs": [
    {
     "data": {
      "text/plain": [
       "0.7324810921234891"
      ]
     },
     "execution_count": 49,
     "metadata": {},
     "output_type": "execute_result"
    }
   ],
   "source": [
    "# Use all features\n",
    "cross_validate(rf, X_sc, y, cv=10, scoring='f1')['test_score'].mean()"
   ]
  },
  {
   "cell_type": "markdown",
   "id": "434d26fa",
   "metadata": {
    "heading_collapsed": true
   },
   "source": [
    "## XGBoost\n",
    "'enable_categorical' parameter is experimental, so it cannot take categorical features. Should use numerical data types."
   ]
  },
  {
   "cell_type": "markdown",
   "id": "fd8e93fb",
   "metadata": {
    "hidden": true
   },
   "source": [
    "### Permutation importance"
   ]
  },
  {
   "cell_type": "code",
   "execution_count": 61,
   "id": "666a9e06",
   "metadata": {
    "ExecuteTime": {
     "end_time": "2022-08-08T01:38:47.068164Z",
     "start_time": "2022-08-08T01:38:45.627497Z"
    },
    "hidden": true
   },
   "outputs": [
    {
     "name": "stdout",
     "output_type": "stream",
     "text": [
      "9 runs 0.11579933848490062\n",
      "8 wides 0.07702720404571772\n",
      "10 wickets 0.06557535417592274\n",
      "6 leg_byes 0.021745429961569206\n",
      "2 toss_winner 0.020207525143114802\n"
     ]
    }
   ],
   "source": [
    "xgc = xgb.XGBClassifier(booster='gbtree', max_depth=5, min_child_weight=5, subsample=0.5, objective='binary:logistic', \n",
    "                        eval_metric='error', random_state=0)\n",
    "xgc.fit(X_train, y_train)\n",
    "result = permutation_importance(xgc, X_train, y_train, scoring='f1', n_repeats=10, random_state=0)\n",
    "\n",
    "for i in result.importances_mean.argsort()[::-1]:\n",
    "    if result.importances_mean[i] - 2*result.importances_std[i] > 0:\n",
    "        print(i, X_train.columns[i], result.importances_mean[i])   "
   ]
  },
  {
   "cell_type": "code",
   "execution_count": 62,
   "id": "deb50d85",
   "metadata": {
    "ExecuteTime": {
     "end_time": "2022-08-08T01:38:52.661504Z",
     "start_time": "2022-08-08T01:38:51.741133Z"
    },
    "hidden": true
   },
   "outputs": [
    {
     "data": {
      "text/plain": [
       "0.7076315342880692"
      ]
     },
     "execution_count": 62,
     "metadata": {},
     "output_type": "execute_result"
    }
   ],
   "source": [
    "# Use feature 3, 7, 9, 10, 11\n",
    "X_3791011 = X.iloc[:, [2, 6, 8, 9, 10]]\n",
    "ct = make_column_transformer((StandardScaler(), ['leg_byes', 'wides', 'wickets']), remainder='passthrough')\n",
    "pl = make_pipeline(ct, xgc)\n",
    "cross_validate(pl, X_3791011, y, cv=10, scoring='f1')['test_score'].mean()"
   ]
  },
  {
   "cell_type": "markdown",
   "id": "f7574c02",
   "metadata": {
    "hidden": true
   },
   "source": [
    "### Sequential features selection"
   ]
  },
  {
   "cell_type": "code",
   "execution_count": 63,
   "id": "a34174e2",
   "metadata": {
    "ExecuteTime": {
     "end_time": "2022-08-08T01:39:14.082156Z",
     "start_time": "2022-08-08T01:38:55.561190Z"
    },
    "hidden": true
   },
   "outputs": [
    {
     "data": {
      "text/plain": [
       "array(['runs'], dtype=object)"
      ]
     },
     "execution_count": 63,
     "metadata": {},
     "output_type": "execute_result"
    }
   ],
   "source": [
    "sfs = SequentialFeatureSelector(xgc, n_features_to_select='auto', tol=0.01, scoring='f1', cv=10)\n",
    "sfs.fit(X_train, y_train)\n",
    "X_tr = sfs.transform(X)\n",
    "sfs.get_feature_names_out()"
   ]
  },
  {
   "cell_type": "code",
   "execution_count": 64,
   "id": "680a5b2d",
   "metadata": {
    "ExecuteTime": {
     "end_time": "2022-08-08T01:39:14.796989Z",
     "start_time": "2022-08-08T01:39:14.085156Z"
    },
    "hidden": true
   },
   "outputs": [
    {
     "data": {
      "text/plain": [
       "0.736131041056457"
      ]
     },
     "execution_count": 64,
     "metadata": {},
     "output_type": "execute_result"
    }
   ],
   "source": [
    "cross_validate(xgc, X_tr, y, cv=10, scoring='f1')['test_score'].mean()"
   ]
  },
  {
   "cell_type": "code",
   "execution_count": 65,
   "id": "5ff903b0",
   "metadata": {
    "ExecuteTime": {
     "end_time": "2022-08-08T01:39:15.570809Z",
     "start_time": "2022-08-08T01:39:14.798989Z"
    },
    "hidden": true
   },
   "outputs": [
    {
     "data": {
      "text/plain": [
       "0.6913662392795237"
      ]
     },
     "execution_count": 65,
     "metadata": {},
     "output_type": "execute_result"
    }
   ],
   "source": [
    "# Use all features\n",
    "cross_validate(xgc, X_sc, y, cv=10, scoring='f1')['test_score'].mean()"
   ]
  },
  {
   "cell_type": "markdown",
   "id": "1b9d1f16",
   "metadata": {
    "heading_collapsed": true
   },
   "source": [
    "## KNN\n",
    "Numeric features"
   ]
  },
  {
   "cell_type": "markdown",
   "id": "bfcd5313",
   "metadata": {
    "hidden": true
   },
   "source": [
    "### Permutation importance"
   ]
  },
  {
   "cell_type": "markdown",
   "id": "173209db",
   "metadata": {
    "hidden": true
   },
   "source": [
    "**Weight = 'uniform'**"
   ]
  },
  {
   "cell_type": "code",
   "execution_count": 66,
   "id": "62f0139d",
   "metadata": {
    "ExecuteTime": {
     "end_time": "2022-08-08T01:39:46.709434Z",
     "start_time": "2022-08-08T01:39:34.407656Z"
    },
    "collapsed": true,
    "hidden": true
   },
   "outputs": [
    {
     "name": "stdout",
     "output_type": "stream",
     "text": [
      "9 runs 0.03938232959202179\n",
      "12 target 0.03541750102152038\n",
      "4 balls 0.011417516578641086\n",
      "0 neutral_venue 0.010388790132135006\n",
      "3 max_balls_first 0.007501609295816458\n"
     ]
    }
   ],
   "source": [
    "knn = KNeighborsClassifier(weights='uniform').fit(X_train, y_train)\n",
    "result = permutation_importance(knn, X_train, y_train, scoring='f1', n_repeats=10, random_state=0)\n",
    "\n",
    "for i in result.importances_mean.argsort()[::-1]:\n",
    "    if result.importances_mean[i] - 2*result.importances_std[i] > 0:\n",
    "        print(i, X_train.columns[i], result.importances_mean[i]) "
   ]
  },
  {
   "cell_type": "code",
   "execution_count": 67,
   "id": "d23132e9",
   "metadata": {
    "ExecuteTime": {
     "end_time": "2022-08-08T01:39:46.819730Z",
     "start_time": "2022-08-08T01:39:46.712434Z"
    },
    "hidden": true
   },
   "outputs": [
    {
     "data": {
      "text/plain": [
       "0.7165976880262594"
      ]
     },
     "execution_count": 67,
     "metadata": {},
     "output_type": "execute_result"
    }
   ],
   "source": [
    "# Use feature 1, 4, 5, 10, 13\n",
    "X_1451013 = X.iloc[:, [0, 3, 4, 9, 12]]\n",
    "knn = KNeighborsClassifier(weights='uniform')\n",
    "cross_validate(knn, X_1451013, y, cv=10, scoring='f1')['test_score'].mean()"
   ]
  },
  {
   "cell_type": "markdown",
   "id": "b399d4d9",
   "metadata": {
    "hidden": true
   },
   "source": [
    "**Weight = 'distance'**"
   ]
  },
  {
   "cell_type": "code",
   "execution_count": 68,
   "id": "522752b3",
   "metadata": {
    "ExecuteTime": {
     "end_time": "2022-08-08T01:39:57.028463Z",
     "start_time": "2022-08-08T01:39:46.822716Z"
    },
    "collapsed": true,
    "hidden": true
   },
   "outputs": [
    {
     "name": "stdout",
     "output_type": "stream",
     "text": [
      "8 wides 0.1850688676170147\n",
      "10 wickets 0.18260572925778404\n",
      "9 runs 0.16774999925197553\n",
      "12 target 0.16718338320028334\n",
      "6 leg_byes 0.15746323299468917\n",
      "5 byes 0.12953871292200267\n",
      "7 no_balls 0.12747560078591386\n",
      "15 month_12 0.11547972240996099\n",
      "1 home_venue 0.10712233008469388\n",
      "2 toss_winner 0.08551051090400574\n",
      "0 neutral_venue 0.054314809849448406\n",
      "4 balls 0.044042080126041674\n",
      "13 derby 0.034270038425750174\n",
      "11 max_balls_second 0.028654581100096575\n",
      "3 max_balls_first 0.0193636888682291\n",
      "14 month_02 0.015911733712765042\n"
     ]
    }
   ],
   "source": [
    "knn = KNeighborsClassifier(weights='distance').fit(X_train, y_train)\n",
    "result = permutation_importance(knn, X_train, y_train, scoring='f1', n_repeats=10, random_state=0)\n",
    "\n",
    "for i in result.importances_mean.argsort()[::-1]:\n",
    "    if result.importances_mean[i] - 2*result.importances_std[i] > 0:\n",
    "        print(i, X_train.columns[i], result.importances_mean[i]) "
   ]
  },
  {
   "cell_type": "code",
   "execution_count": 70,
   "id": "afc3ee78",
   "metadata": {
    "ExecuteTime": {
     "end_time": "2022-08-08T01:39:58.215781Z",
     "start_time": "2022-08-08T01:39:57.632107Z"
    },
    "hidden": true
   },
   "outputs": [
    {
     "data": {
      "text/plain": [
       "0.6517520415096822"
      ]
     },
     "execution_count": 70,
     "metadata": {},
     "output_type": "execute_result"
    }
   ],
   "source": [
    "# Use all features\n",
    "knn = KNeighborsClassifier(weights='distance')\n",
    "cross_validate(knn, X_sc, y, cv=10, scoring='f1')['test_score'].mean()"
   ]
  },
  {
   "cell_type": "markdown",
   "id": "7f101c2a",
   "metadata": {
    "hidden": true
   },
   "source": [
    "### Sequential features selection"
   ]
  },
  {
   "cell_type": "markdown",
   "id": "a53efcb3",
   "metadata": {
    "hidden": true
   },
   "source": [
    "**Weights = 'uniform'**"
   ]
  },
  {
   "cell_type": "code",
   "execution_count": 71,
   "id": "744da325",
   "metadata": {
    "ExecuteTime": {
     "end_time": "2022-08-08T01:40:00.666479Z",
     "start_time": "2022-08-08T01:39:58.217782Z"
    },
    "hidden": true
   },
   "outputs": [
    {
     "data": {
      "text/plain": [
       "array(['home_venue', 'balls'], dtype=object)"
      ]
     },
     "execution_count": 71,
     "metadata": {},
     "output_type": "execute_result"
    }
   ],
   "source": [
    "knn = KNeighborsClassifier(weights='uniform')\n",
    "sfs = SequentialFeatureSelector(knn, n_features_to_select='auto', tol=0.01, scoring='f1', cv=10)\n",
    "sfs.fit(X_train, y_train)\n",
    "X_tr = sfs.transform(X)\n",
    "sfs.get_feature_names_out()"
   ]
  },
  {
   "cell_type": "code",
   "execution_count": 72,
   "id": "40a2e3fd",
   "metadata": {
    "ExecuteTime": {
     "end_time": "2022-08-08T01:40:00.756491Z",
     "start_time": "2022-08-08T01:40:00.668471Z"
    },
    "hidden": true
   },
   "outputs": [
    {
     "data": {
      "text/plain": [
       "0.39849731461671756"
      ]
     },
     "execution_count": 72,
     "metadata": {},
     "output_type": "execute_result"
    }
   ],
   "source": [
    "cross_validate(knn, X_tr, y, cv=10, scoring='f1')['test_score'].mean()"
   ]
  },
  {
   "cell_type": "markdown",
   "id": "8da078e9",
   "metadata": {
    "hidden": true
   },
   "source": [
    "**Weights = 'distance'**"
   ]
  },
  {
   "cell_type": "code",
   "execution_count": 73,
   "id": "8f32ab2f",
   "metadata": {
    "ExecuteTime": {
     "end_time": "2022-08-08T01:40:02.476675Z",
     "start_time": "2022-08-08T01:40:00.759492Z"
    },
    "hidden": true
   },
   "outputs": [
    {
     "data": {
      "text/plain": [
       "array(['home_venue', 'balls'], dtype=object)"
      ]
     },
     "execution_count": 73,
     "metadata": {},
     "output_type": "execute_result"
    }
   ],
   "source": [
    "knn = KNeighborsClassifier(weights='distance')\n",
    "sfs = SequentialFeatureSelector(knn, n_features_to_select='auto', tol=0.01, scoring='f1', cv=10)\n",
    "sfs.fit(X_train, y_train)\n",
    "X_tr = sfs.transform(X)\n",
    "sfs.get_feature_names_out()"
   ]
  },
  {
   "cell_type": "code",
   "execution_count": 74,
   "id": "7f43e753",
   "metadata": {
    "ExecuteTime": {
     "end_time": "2022-08-08T01:40:02.540694Z",
     "start_time": "2022-08-08T01:40:02.479680Z"
    },
    "hidden": true
   },
   "outputs": [
    {
     "data": {
      "text/plain": [
       "0.405904722024125"
      ]
     },
     "execution_count": 74,
     "metadata": {},
     "output_type": "execute_result"
    }
   ],
   "source": [
    "cross_validate(knn, X_tr, y, cv=10, scoring='f1')['test_score'].mean()"
   ]
  },
  {
   "cell_type": "code",
   "execution_count": 75,
   "id": "c3c2c336",
   "metadata": {
    "ExecuteTime": {
     "end_time": "2022-08-08T01:40:03.163835Z",
     "start_time": "2022-08-08T01:40:02.543695Z"
    },
    "hidden": true
   },
   "outputs": [
    {
     "data": {
      "text/plain": [
       "0.6352485027172425"
      ]
     },
     "execution_count": 75,
     "metadata": {},
     "output_type": "execute_result"
    }
   ],
   "source": [
    "# Use all features with uniform setting\n",
    "knn = KNeighborsClassifier(weights='uniform')\n",
    "cross_validate(knn, X_sc, y, cv=10, scoring='f1')['test_score'].mean()"
   ]
  },
  {
   "cell_type": "code",
   "execution_count": 76,
   "id": "3c36a1cb",
   "metadata": {
    "ExecuteTime": {
     "end_time": "2022-08-08T01:40:03.242414Z",
     "start_time": "2022-08-08T01:40:03.165835Z"
    },
    "hidden": true
   },
   "outputs": [
    {
     "data": {
      "text/plain": [
       "0.736131041056457"
      ]
     },
     "execution_count": 76,
     "metadata": {},
     "output_type": "execute_result"
    }
   ],
   "source": [
    "# Cf) To see what if the featrue 'Runs' is used as other models. \n",
    "cross_validate(KNeighborsClassifier(weights='distance'), X[['runs']], y, cv=10, scoring='f1')['test_score'].mean()  # the same result"
   ]
  },
  {
   "cell_type": "markdown",
   "id": "dff37ab1",
   "metadata": {},
   "source": [
    "## Neural Network"
   ]
  },
  {
   "cell_type": "code",
   "execution_count": 68,
   "id": "caf0cd3a",
   "metadata": {
    "ExecuteTime": {
     "end_time": "2022-08-08T04:33:52.616021Z",
     "start_time": "2022-08-08T04:32:30.137388Z"
    }
   },
   "outputs": [
    {
     "name": "stdout",
     "output_type": "stream",
     "text": [
      "0.7259347470680548\n"
     ]
    }
   ],
   "source": [
    "import tensorflow as tf\n",
    "from tensorflow.keras.utils import to_categorical\n",
    "from tensorflow.keras.models import Sequential\n",
    "from tensorflow.keras.layers import Dense, BatchNormalization, Activation, Dropout\n",
    "\n",
    "# Set random seed for reproducibility\n",
    "tf.random.set_seed(79)\n",
    "\n",
    "f1 = []\n",
    "\n",
    "# Cross validation\n",
    "for train_idx, test_idx in StratifiedKFold(n_splits=10).split(X, y):\n",
    "    X_train, X_test = X.iloc[train_idx], X.iloc[test_idx]\n",
    "    y_train, y_test = y.iloc[train_idx], y.iloc[test_idx]\n",
    "    \n",
    "    # X scaling\n",
    "    ct = make_column_transformer((StandardScaler(), ['byes', 'leg_byes', 'no_balls', 'wides', 'wickets']), remainder='passthrough')\n",
    "    X_train_tr = ct.fit_transform(X_train)\n",
    "    X_test_tr = ct.transform(X_test)\n",
    "    \n",
    "    # Transform data for neural network\n",
    "    # One node predicted all instances to class 1\n",
    "    y_train_nn = to_categorical(y_train, 2)\n",
    "\n",
    "    # Define network\n",
    "    net = Sequential()\n",
    "    net.add(Dense(32, input_shape=(16,)))\n",
    "    net.add(BatchNormalization())\n",
    "    net.add(Activation('swish'))\n",
    "    net.add(Dropout(rate=0.5))\n",
    "    \n",
    "    net.add(Dense(16))\n",
    "    net.add(BatchNormalization())\n",
    "    net.add(Activation('swish'))\n",
    "    net.add(Dropout(rate=0.5))\n",
    "    \n",
    "    net.add(Dense(8))\n",
    "    net.add(BatchNormalization())\n",
    "    net.add(Activation('swish'))\n",
    "    \n",
    "    net.add(Dense(4))\n",
    "    net.add(BatchNormalization())\n",
    "    net.add(Activation('swish'))\n",
    "    \n",
    "    net.add(Dense(2, activation='softmax'))\n",
    "\n",
    "    # Compile the network\n",
    "    net.compile(loss='binary_crossentropy', optimizer='nadam', metrics=['Precision', 'Recall'])\n",
    "    \n",
    "    # Fit the network with data\n",
    "    net.fit(X_train_tr, y_train_nn, epochs=20, batch_size=32, validation_split=0.25, verbose=0)\n",
    "    outputs = net.predict(X_test_tr)\n",
    "    y_pred = np.argmax(outputs, axis=1)\n",
    "    score = f1_score(y_test, y_pred)\n",
    "    f1.append(score)\n",
    "    \n",
    "print(np.mean(f1))"
   ]
  }
 ],
 "metadata": {
  "kernelspec": {
   "display_name": "Python3.9.5[NN]",
   "language": "python",
   "name": "nn"
  },
  "language_info": {
   "codemirror_mode": {
    "name": "ipython",
    "version": 3
   },
   "file_extension": ".py",
   "mimetype": "text/x-python",
   "name": "python",
   "nbconvert_exporter": "python",
   "pygments_lexer": "ipython3",
   "version": "3.9.5"
  },
  "toc": {
   "base_numbering": 1,
   "nav_menu": {},
   "number_sections": true,
   "sideBar": true,
   "skip_h1_title": false,
   "title_cell": "Table of Contents",
   "title_sidebar": "Contents",
   "toc_cell": false,
   "toc_position": {},
   "toc_section_display": true,
   "toc_window_display": false
  }
 },
 "nbformat": 4,
 "nbformat_minor": 5
}
