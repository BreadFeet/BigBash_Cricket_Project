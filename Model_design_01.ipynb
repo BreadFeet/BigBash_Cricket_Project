{
 "cells": [
  {
   "cell_type": "markdown",
   "id": "bd3ae109",
   "metadata": {},
   "source": [
    "# Model Predicting the Winner before the Game with Team Features"
   ]
  },
  {
   "cell_type": "code",
   "execution_count": 1,
   "id": "266fd396",
   "metadata": {
    "ExecuteTime": {
     "end_time": "2022-08-07T18:49:14.601414Z",
     "start_time": "2022-08-07T18:49:12.702860Z"
    }
   },
   "outputs": [],
   "source": [
    "import pandas as pd\n",
    "import numpy as np\n",
    "import dataframe_image as dfi\n",
    "from sklearn.inspection import permutation_importance\n",
    "from sklearn.feature_selection import SelectKBest, chi2, SelectFromModel\n",
    "from sklearn.model_selection import train_test_split, cross_validate, StratifiedKFold\n",
    "from sklearn.linear_model import LogisticRegression\n",
    "from sklearn.svm import SVC\n",
    "from sklearn.tree import DecisionTreeClassifier\n",
    "from sklearn.ensemble import AdaBoostClassifier, RandomForestClassifier\n",
    "from sklearn.naive_bayes import BernoulliNB, CategoricalNB, ComplementNB\n",
    "from sklearn.neighbors import KNeighborsClassifier\n",
    "from sklearn.metrics import f1_score, confusion_matrix, classification_report\n",
    "pd.set_option('display.max_columns', None)   # Print all columns"
   ]
  },
  {
   "cell_type": "code",
   "execution_count": 2,
   "id": "29c33835",
   "metadata": {
    "ExecuteTime": {
     "end_time": "2022-08-07T18:49:14.633422Z",
     "start_time": "2022-08-07T18:49:14.602415Z"
    }
   },
   "outputs": [
    {
     "data": {
      "text/html": [
       "<div>\n",
       "<style scoped>\n",
       "    .dataframe tbody tr th:only-of-type {\n",
       "        vertical-align: middle;\n",
       "    }\n",
       "\n",
       "    .dataframe tbody tr th {\n",
       "        vertical-align: top;\n",
       "    }\n",
       "\n",
       "    .dataframe thead th {\n",
       "        text-align: right;\n",
       "    }\n",
       "</style>\n",
       "<table border=\"1\" class=\"dataframe\">\n",
       "  <thead>\n",
       "    <tr style=\"text-align: right;\">\n",
       "      <th></th>\n",
       "      <th>Unnamed: 0</th>\n",
       "      <th>id</th>\n",
       "      <th>series</th>\n",
       "      <th>start_datetime</th>\n",
       "      <th>timezone</th>\n",
       "      <th>ground</th>\n",
       "      <th>longitude</th>\n",
       "      <th>latitude</th>\n",
       "      <th>altitude</th>\n",
       "      <th>match_length_overs</th>\n",
       "      <th>match_length_balls</th>\n",
       "      <th>max_balls_team1</th>\n",
       "      <th>max_balls_team2</th>\n",
       "      <th>team1</th>\n",
       "      <th>team2</th>\n",
       "      <th>neutral_venue</th>\n",
       "      <th>first_innings</th>\n",
       "      <th>toss_winner</th>\n",
       "      <th>toss_choice</th>\n",
       "      <th>dbMktPriceTeam1</th>\n",
       "      <th>dbMktPriceTeam2</th>\n",
       "      <th>victor</th>\n",
       "      <th>balls_team1</th>\n",
       "      <th>balls_team2</th>\n",
       "      <th>byes_team1</th>\n",
       "      <th>byes_team2</th>\n",
       "      <th>leg_byes_team1</th>\n",
       "      <th>leg_byes_team2</th>\n",
       "      <th>no_balls_team1</th>\n",
       "      <th>no_balls_team2</th>\n",
       "      <th>runs_team1</th>\n",
       "      <th>runs_team2</th>\n",
       "      <th>target_team1</th>\n",
       "      <th>target_team2</th>\n",
       "      <th>wickets_team1</th>\n",
       "      <th>wickets_team2</th>\n",
       "      <th>wides_team1</th>\n",
       "      <th>wides_team2</th>\n",
       "    </tr>\n",
       "  </thead>\n",
       "  <tbody>\n",
       "    <tr>\n",
       "      <th>0</th>\n",
       "      <td>1</td>\n",
       "      <td>6690</td>\n",
       "      <td>Big Bash League 2014/15</td>\n",
       "      <td>2015-01-28 08:40:00</td>\n",
       "      <td>Australia/Sydney</td>\n",
       "      <td>Manuka Oval</td>\n",
       "      <td>149.134592</td>\n",
       "      <td>-35.318131</td>\n",
       "      <td>555</td>\n",
       "      <td>20</td>\n",
       "      <td>120</td>\n",
       "      <td>120</td>\n",
       "      <td>120</td>\n",
       "      <td>Perth Scorchers</td>\n",
       "      <td>Sydney Sixers</td>\n",
       "      <td>1</td>\n",
       "      <td>Sydney Sixers</td>\n",
       "      <td>Sydney Sixers</td>\n",
       "      <td>Bat</td>\n",
       "      <td>1.893</td>\n",
       "      <td>2.02</td>\n",
       "      <td>Perth Scorchers</td>\n",
       "      <td>120</td>\n",
       "      <td>120</td>\n",
       "      <td>0</td>\n",
       "      <td>0</td>\n",
       "      <td>2</td>\n",
       "      <td>3</td>\n",
       "      <td>2</td>\n",
       "      <td>0</td>\n",
       "      <td>148</td>\n",
       "      <td>147</td>\n",
       "      <td>148.0</td>\n",
       "      <td>NaN</td>\n",
       "      <td>6</td>\n",
       "      <td>5</td>\n",
       "      <td>1</td>\n",
       "      <td>5</td>\n",
       "    </tr>\n",
       "    <tr>\n",
       "      <th>1</th>\n",
       "      <td>2</td>\n",
       "      <td>6696</td>\n",
       "      <td>Big Bash League 2014/15</td>\n",
       "      <td>2014-12-18 08:40:00</td>\n",
       "      <td>Australia/Adelaide</td>\n",
       "      <td>Adelaide Oval</td>\n",
       "      <td>138.596111</td>\n",
       "      <td>-34.915556</td>\n",
       "      <td>19</td>\n",
       "      <td>20</td>\n",
       "      <td>120</td>\n",
       "      <td>120</td>\n",
       "      <td>120</td>\n",
       "      <td>Adelaide Strikers</td>\n",
       "      <td>Melbourne Stars</td>\n",
       "      <td>0</td>\n",
       "      <td>Melbourne Stars</td>\n",
       "      <td>Melbourne Stars</td>\n",
       "      <td>Bat</td>\n",
       "      <td>NaN</td>\n",
       "      <td>NaN</td>\n",
       "      <td>Adelaide Strikers</td>\n",
       "      <td>75</td>\n",
       "      <td>120</td>\n",
       "      <td>1</td>\n",
       "      <td>0</td>\n",
       "      <td>2</td>\n",
       "      <td>1</td>\n",
       "      <td>0</td>\n",
       "      <td>0</td>\n",
       "      <td>149</td>\n",
       "      <td>148</td>\n",
       "      <td>149.0</td>\n",
       "      <td>NaN</td>\n",
       "      <td>2</td>\n",
       "      <td>7</td>\n",
       "      <td>1</td>\n",
       "      <td>4</td>\n",
       "    </tr>\n",
       "    <tr>\n",
       "      <th>2</th>\n",
       "      <td>3</td>\n",
       "      <td>6700</td>\n",
       "      <td>Big Bash League 2014/15</td>\n",
       "      <td>2014-12-19 08:40:00</td>\n",
       "      <td>Australia/Sydney</td>\n",
       "      <td>Sydney Cricket Ground</td>\n",
       "      <td>151.224771</td>\n",
       "      <td>-33.891645</td>\n",
       "      <td>30</td>\n",
       "      <td>20</td>\n",
       "      <td>120</td>\n",
       "      <td>120</td>\n",
       "      <td>120</td>\n",
       "      <td>Sydney Sixers</td>\n",
       "      <td>Melbourne Renegades</td>\n",
       "      <td>0</td>\n",
       "      <td>Melbourne Renegades</td>\n",
       "      <td>Sydney Sixers</td>\n",
       "      <td>Bowl</td>\n",
       "      <td>NaN</td>\n",
       "      <td>NaN</td>\n",
       "      <td>Sydney Sixers</td>\n",
       "      <td>113</td>\n",
       "      <td>120</td>\n",
       "      <td>0</td>\n",
       "      <td>0</td>\n",
       "      <td>4</td>\n",
       "      <td>1</td>\n",
       "      <td>0</td>\n",
       "      <td>0</td>\n",
       "      <td>158</td>\n",
       "      <td>154</td>\n",
       "      <td>155.0</td>\n",
       "      <td>NaN</td>\n",
       "      <td>2</td>\n",
       "      <td>7</td>\n",
       "      <td>2</td>\n",
       "      <td>6</td>\n",
       "    </tr>\n",
       "    <tr>\n",
       "      <th>3</th>\n",
       "      <td>4</td>\n",
       "      <td>6702</td>\n",
       "      <td>Big Bash League 2014/15</td>\n",
       "      <td>2014-12-20 08:10:00</td>\n",
       "      <td>Australia/Melbourne</td>\n",
       "      <td>Melbourne Cricket Ground</td>\n",
       "      <td>144.983449</td>\n",
       "      <td>-37.819967</td>\n",
       "      <td>12</td>\n",
       "      <td>20</td>\n",
       "      <td>120</td>\n",
       "      <td>120</td>\n",
       "      <td>120</td>\n",
       "      <td>Melbourne Stars</td>\n",
       "      <td>Hobart Hurricanes</td>\n",
       "      <td>0</td>\n",
       "      <td>Hobart Hurricanes</td>\n",
       "      <td>Melbourne Stars</td>\n",
       "      <td>Bowl</td>\n",
       "      <td>NaN</td>\n",
       "      <td>NaN</td>\n",
       "      <td>Hobart Hurricanes</td>\n",
       "      <td>120</td>\n",
       "      <td>120</td>\n",
       "      <td>0</td>\n",
       "      <td>0</td>\n",
       "      <td>2</td>\n",
       "      <td>1</td>\n",
       "      <td>0</td>\n",
       "      <td>3</td>\n",
       "      <td>138</td>\n",
       "      <td>190</td>\n",
       "      <td>191.0</td>\n",
       "      <td>NaN</td>\n",
       "      <td>9</td>\n",
       "      <td>5</td>\n",
       "      <td>1</td>\n",
       "      <td>2</td>\n",
       "    </tr>\n",
       "    <tr>\n",
       "      <th>4</th>\n",
       "      <td>5</td>\n",
       "      <td>6705</td>\n",
       "      <td>Big Bash League 2014/15</td>\n",
       "      <td>2015-01-25 08:10:00</td>\n",
       "      <td>Australia/Perth</td>\n",
       "      <td>W.A.C.A. Ground</td>\n",
       "      <td>115.879576</td>\n",
       "      <td>-31.959793</td>\n",
       "      <td>7</td>\n",
       "      <td>20</td>\n",
       "      <td>120</td>\n",
       "      <td>120</td>\n",
       "      <td>120</td>\n",
       "      <td>Perth Scorchers</td>\n",
       "      <td>Melbourne Stars</td>\n",
       "      <td>0</td>\n",
       "      <td>Perth Scorchers</td>\n",
       "      <td>Perth Scorchers</td>\n",
       "      <td>Bat</td>\n",
       "      <td>1.775</td>\n",
       "      <td>2.17</td>\n",
       "      <td>Perth Scorchers</td>\n",
       "      <td>120</td>\n",
       "      <td>119</td>\n",
       "      <td>0</td>\n",
       "      <td>0</td>\n",
       "      <td>2</td>\n",
       "      <td>4</td>\n",
       "      <td>0</td>\n",
       "      <td>0</td>\n",
       "      <td>144</td>\n",
       "      <td>126</td>\n",
       "      <td>NaN</td>\n",
       "      <td>145.0</td>\n",
       "      <td>7</td>\n",
       "      <td>10</td>\n",
       "      <td>3</td>\n",
       "      <td>4</td>\n",
       "    </tr>\n",
       "  </tbody>\n",
       "</table>\n",
       "</div>"
      ],
      "text/plain": [
       "   Unnamed: 0    id                   series       start_datetime  \\\n",
       "0           1  6690  Big Bash League 2014/15  2015-01-28 08:40:00   \n",
       "1           2  6696  Big Bash League 2014/15  2014-12-18 08:40:00   \n",
       "2           3  6700  Big Bash League 2014/15  2014-12-19 08:40:00   \n",
       "3           4  6702  Big Bash League 2014/15  2014-12-20 08:10:00   \n",
       "4           5  6705  Big Bash League 2014/15  2015-01-25 08:10:00   \n",
       "\n",
       "              timezone                    ground   longitude   latitude  \\\n",
       "0     Australia/Sydney               Manuka Oval  149.134592 -35.318131   \n",
       "1   Australia/Adelaide             Adelaide Oval  138.596111 -34.915556   \n",
       "2     Australia/Sydney     Sydney Cricket Ground  151.224771 -33.891645   \n",
       "3  Australia/Melbourne  Melbourne Cricket Ground  144.983449 -37.819967   \n",
       "4      Australia/Perth           W.A.C.A. Ground  115.879576 -31.959793   \n",
       "\n",
       "   altitude  match_length_overs  match_length_balls  max_balls_team1  \\\n",
       "0       555                  20                 120              120   \n",
       "1        19                  20                 120              120   \n",
       "2        30                  20                 120              120   \n",
       "3        12                  20                 120              120   \n",
       "4         7                  20                 120              120   \n",
       "\n",
       "   max_balls_team2              team1                team2  neutral_venue  \\\n",
       "0              120    Perth Scorchers        Sydney Sixers              1   \n",
       "1              120  Adelaide Strikers      Melbourne Stars              0   \n",
       "2              120      Sydney Sixers  Melbourne Renegades              0   \n",
       "3              120    Melbourne Stars    Hobart Hurricanes              0   \n",
       "4              120    Perth Scorchers      Melbourne Stars              0   \n",
       "\n",
       "         first_innings      toss_winner toss_choice  dbMktPriceTeam1  \\\n",
       "0        Sydney Sixers    Sydney Sixers         Bat            1.893   \n",
       "1      Melbourne Stars  Melbourne Stars         Bat              NaN   \n",
       "2  Melbourne Renegades    Sydney Sixers        Bowl              NaN   \n",
       "3    Hobart Hurricanes  Melbourne Stars        Bowl              NaN   \n",
       "4      Perth Scorchers  Perth Scorchers         Bat            1.775   \n",
       "\n",
       "   dbMktPriceTeam2             victor  balls_team1  balls_team2  byes_team1  \\\n",
       "0             2.02    Perth Scorchers          120          120           0   \n",
       "1              NaN  Adelaide Strikers           75          120           1   \n",
       "2              NaN      Sydney Sixers          113          120           0   \n",
       "3              NaN  Hobart Hurricanes          120          120           0   \n",
       "4             2.17    Perth Scorchers          120          119           0   \n",
       "\n",
       "   byes_team2  leg_byes_team1  leg_byes_team2  no_balls_team1  no_balls_team2  \\\n",
       "0           0               2               3               2               0   \n",
       "1           0               2               1               0               0   \n",
       "2           0               4               1               0               0   \n",
       "3           0               2               1               0               3   \n",
       "4           0               2               4               0               0   \n",
       "\n",
       "   runs_team1  runs_team2  target_team1  target_team2  wickets_team1  \\\n",
       "0         148         147         148.0           NaN              6   \n",
       "1         149         148         149.0           NaN              2   \n",
       "2         158         154         155.0           NaN              2   \n",
       "3         138         190         191.0           NaN              9   \n",
       "4         144         126           NaN         145.0              7   \n",
       "\n",
       "   wickets_team2  wides_team1  wides_team2  \n",
       "0              5            1            5  \n",
       "1              7            1            4  \n",
       "2              7            2            6  \n",
       "3              5            1            2  \n",
       "4             10            3            4  "
      ]
     },
     "execution_count": 2,
     "metadata": {},
     "output_type": "execute_result"
    }
   ],
   "source": [
    "# Load raw data\n",
    "r_data = pd.read_csv('./data/data.csv')\n",
    "r_data.head()"
   ]
  },
  {
   "cell_type": "code",
   "execution_count": 3,
   "id": "59f87151",
   "metadata": {
    "ExecuteTime": {
     "end_time": "2022-08-07T18:49:14.649426Z",
     "start_time": "2022-08-07T18:49:14.634422Z"
    }
   },
   "outputs": [],
   "source": [
    "# Save as an image\n",
    "df = r_data[['start_datetime', 'ground', 'team1', 'team2', 'neutral_venue', 'first_innings', 'toss_winner', 'toss_choice', 'dbMktPriceTeam1', 'dbMktPriceTeam2', 'victor']].head()\n",
    "# dfi.export(df, 'rawdata.png', fontsize=16, max_cols=-1, max_rows=-1)"
   ]
  },
  {
   "cell_type": "markdown",
   "id": "e16ffe13",
   "metadata": {},
   "source": [
    "# Preprocessing"
   ]
  },
  {
   "cell_type": "markdown",
   "id": "2be3d304",
   "metadata": {},
   "source": [
    "## General preprocessing"
   ]
  },
  {
   "cell_type": "markdown",
   "id": "a81f5baa",
   "metadata": {},
   "source": [
    "**[Logic]**\n",
    "- There are only 2 games starting at p.m., so staring time was not considered.\n",
    "- Derby and month features were added.\n",
    "- When victor is tie or NA, the games were removed."
   ]
  },
  {
   "cell_type": "code",
   "execution_count": 4,
   "id": "6c277cca",
   "metadata": {
    "ExecuteTime": {
     "end_time": "2022-08-07T18:49:14.665430Z",
     "start_time": "2022-08-07T18:49:14.650426Z"
    }
   },
   "outputs": [
    {
     "data": {
      "text/html": [
       "<div>\n",
       "<style scoped>\n",
       "    .dataframe tbody tr th:only-of-type {\n",
       "        vertical-align: middle;\n",
       "    }\n",
       "\n",
       "    .dataframe tbody tr th {\n",
       "        vertical-align: top;\n",
       "    }\n",
       "\n",
       "    .dataframe thead th {\n",
       "        text-align: right;\n",
       "    }\n",
       "</style>\n",
       "<table border=\"1\" class=\"dataframe\">\n",
       "  <thead>\n",
       "    <tr style=\"text-align: right;\">\n",
       "      <th></th>\n",
       "      <th>start_datetime</th>\n",
       "      <th>ground</th>\n",
       "      <th>team1</th>\n",
       "      <th>team2</th>\n",
       "      <th>neutral_venue</th>\n",
       "      <th>first_innings</th>\n",
       "      <th>toss_winner</th>\n",
       "      <th>toss_choice</th>\n",
       "      <th>dbMktPriceTeam1</th>\n",
       "      <th>dbMktPriceTeam2</th>\n",
       "      <th>victor</th>\n",
       "    </tr>\n",
       "  </thead>\n",
       "  <tbody>\n",
       "    <tr>\n",
       "      <th>0</th>\n",
       "      <td>2015-01-28 08:40:00</td>\n",
       "      <td>Manuka Oval</td>\n",
       "      <td>Perth Scorchers</td>\n",
       "      <td>Sydney Sixers</td>\n",
       "      <td>1</td>\n",
       "      <td>Sydney Sixers</td>\n",
       "      <td>Sydney Sixers</td>\n",
       "      <td>Bat</td>\n",
       "      <td>1.893</td>\n",
       "      <td>2.02</td>\n",
       "      <td>Perth Scorchers</td>\n",
       "    </tr>\n",
       "    <tr>\n",
       "      <th>1</th>\n",
       "      <td>2014-12-18 08:40:00</td>\n",
       "      <td>Adelaide Oval</td>\n",
       "      <td>Adelaide Strikers</td>\n",
       "      <td>Melbourne Stars</td>\n",
       "      <td>0</td>\n",
       "      <td>Melbourne Stars</td>\n",
       "      <td>Melbourne Stars</td>\n",
       "      <td>Bat</td>\n",
       "      <td>NaN</td>\n",
       "      <td>NaN</td>\n",
       "      <td>Adelaide Strikers</td>\n",
       "    </tr>\n",
       "    <tr>\n",
       "      <th>2</th>\n",
       "      <td>2014-12-19 08:40:00</td>\n",
       "      <td>Sydney Cricket Ground</td>\n",
       "      <td>Sydney Sixers</td>\n",
       "      <td>Melbourne Renegades</td>\n",
       "      <td>0</td>\n",
       "      <td>Melbourne Renegades</td>\n",
       "      <td>Sydney Sixers</td>\n",
       "      <td>Bowl</td>\n",
       "      <td>NaN</td>\n",
       "      <td>NaN</td>\n",
       "      <td>Sydney Sixers</td>\n",
       "    </tr>\n",
       "    <tr>\n",
       "      <th>3</th>\n",
       "      <td>2014-12-20 08:10:00</td>\n",
       "      <td>Melbourne Cricket Ground</td>\n",
       "      <td>Melbourne Stars</td>\n",
       "      <td>Hobart Hurricanes</td>\n",
       "      <td>0</td>\n",
       "      <td>Hobart Hurricanes</td>\n",
       "      <td>Melbourne Stars</td>\n",
       "      <td>Bowl</td>\n",
       "      <td>NaN</td>\n",
       "      <td>NaN</td>\n",
       "      <td>Hobart Hurricanes</td>\n",
       "    </tr>\n",
       "    <tr>\n",
       "      <th>4</th>\n",
       "      <td>2015-01-25 08:10:00</td>\n",
       "      <td>W.A.C.A. Ground</td>\n",
       "      <td>Perth Scorchers</td>\n",
       "      <td>Melbourne Stars</td>\n",
       "      <td>0</td>\n",
       "      <td>Perth Scorchers</td>\n",
       "      <td>Perth Scorchers</td>\n",
       "      <td>Bat</td>\n",
       "      <td>1.775</td>\n",
       "      <td>2.17</td>\n",
       "      <td>Perth Scorchers</td>\n",
       "    </tr>\n",
       "  </tbody>\n",
       "</table>\n",
       "</div>"
      ],
      "text/plain": [
       "        start_datetime                    ground              team1  \\\n",
       "0  2015-01-28 08:40:00               Manuka Oval    Perth Scorchers   \n",
       "1  2014-12-18 08:40:00             Adelaide Oval  Adelaide Strikers   \n",
       "2  2014-12-19 08:40:00     Sydney Cricket Ground      Sydney Sixers   \n",
       "3  2014-12-20 08:10:00  Melbourne Cricket Ground    Melbourne Stars   \n",
       "4  2015-01-25 08:10:00           W.A.C.A. Ground    Perth Scorchers   \n",
       "\n",
       "                 team2  neutral_venue        first_innings      toss_winner  \\\n",
       "0        Sydney Sixers              1        Sydney Sixers    Sydney Sixers   \n",
       "1      Melbourne Stars              0      Melbourne Stars  Melbourne Stars   \n",
       "2  Melbourne Renegades              0  Melbourne Renegades    Sydney Sixers   \n",
       "3    Hobart Hurricanes              0    Hobart Hurricanes  Melbourne Stars   \n",
       "4      Melbourne Stars              0      Perth Scorchers  Perth Scorchers   \n",
       "\n",
       "  toss_choice  dbMktPriceTeam1  dbMktPriceTeam2             victor  \n",
       "0         Bat            1.893             2.02    Perth Scorchers  \n",
       "1         Bat              NaN              NaN  Adelaide Strikers  \n",
       "2        Bowl              NaN              NaN      Sydney Sixers  \n",
       "3        Bowl              NaN              NaN  Hobart Hurricanes  \n",
       "4         Bat            1.775             2.17    Perth Scorchers  "
      ]
     },
     "execution_count": 4,
     "metadata": {},
     "output_type": "execute_result"
    }
   ],
   "source": [
    "# 1. Extract necessary columns\n",
    "r_data.columns\n",
    "data = r_data[['start_datetime', 'ground', 'team1', 'team2', 'neutral_venue', 'first_innings', 'toss_winner', 'toss_choice', 'dbMktPriceTeam1', 'dbMktPriceTeam2', 'victor']]\n",
    "data.head()"
   ]
  },
  {
   "cell_type": "code",
   "execution_count": 5,
   "id": "b19307b9",
   "metadata": {
    "ExecuteTime": {
     "end_time": "2022-08-07T18:49:15.202609Z",
     "start_time": "2022-08-07T18:49:14.666430Z"
    }
   },
   "outputs": [
    {
     "name": "stderr",
     "output_type": "stream",
     "text": [
      "C:\\Users\\SK\\AppData\\Local\\Temp/ipykernel_35476/3907502057.py:3: SettingWithCopyWarning: \n",
      "A value is trying to be set on a copy of a slice from a DataFrame.\n",
      "Try using .loc[row_indexer,col_indexer] = value instead\n",
      "\n",
      "See the caveats in the documentation: https://pandas.pydata.org/pandas-docs/stable/user_guide/indexing.html#returning-a-view-versus-a-copy\n",
      "  data['derby'] = data.apply(lambda x: 1 if x['team1'].split()[0] == x['team2'].split()[0] else 0, axis=1)\n"
     ]
    },
    {
     "data": {
      "text/html": [
       "<div>\n",
       "<style scoped>\n",
       "    .dataframe tbody tr th:only-of-type {\n",
       "        vertical-align: middle;\n",
       "    }\n",
       "\n",
       "    .dataframe tbody tr th {\n",
       "        vertical-align: top;\n",
       "    }\n",
       "\n",
       "    .dataframe thead th {\n",
       "        text-align: right;\n",
       "    }\n",
       "</style>\n",
       "<table border=\"1\" class=\"dataframe\">\n",
       "  <thead>\n",
       "    <tr style=\"text-align: right;\">\n",
       "      <th></th>\n",
       "      <th>start_datetime</th>\n",
       "      <th>ground</th>\n",
       "      <th>team1</th>\n",
       "      <th>team2</th>\n",
       "      <th>neutral_venue</th>\n",
       "      <th>first_innings</th>\n",
       "      <th>toss_winner</th>\n",
       "      <th>toss_choice</th>\n",
       "      <th>dbMktPriceTeam1</th>\n",
       "      <th>dbMktPriceTeam2</th>\n",
       "      <th>victor</th>\n",
       "      <th>derby</th>\n",
       "    </tr>\n",
       "  </thead>\n",
       "  <tbody>\n",
       "    <tr>\n",
       "      <th>0</th>\n",
       "      <td>2015-01-28 08:40:00</td>\n",
       "      <td>Manuka Oval</td>\n",
       "      <td>Perth Scorchers</td>\n",
       "      <td>Sydney Sixers</td>\n",
       "      <td>1</td>\n",
       "      <td>Sydney Sixers</td>\n",
       "      <td>Sydney Sixers</td>\n",
       "      <td>Bat</td>\n",
       "      <td>1.893</td>\n",
       "      <td>2.02</td>\n",
       "      <td>Perth Scorchers</td>\n",
       "      <td>0</td>\n",
       "    </tr>\n",
       "    <tr>\n",
       "      <th>1</th>\n",
       "      <td>2014-12-18 08:40:00</td>\n",
       "      <td>Adelaide Oval</td>\n",
       "      <td>Adelaide Strikers</td>\n",
       "      <td>Melbourne Stars</td>\n",
       "      <td>0</td>\n",
       "      <td>Melbourne Stars</td>\n",
       "      <td>Melbourne Stars</td>\n",
       "      <td>Bat</td>\n",
       "      <td>NaN</td>\n",
       "      <td>NaN</td>\n",
       "      <td>Adelaide Strikers</td>\n",
       "      <td>0</td>\n",
       "    </tr>\n",
       "    <tr>\n",
       "      <th>2</th>\n",
       "      <td>2014-12-19 08:40:00</td>\n",
       "      <td>Sydney Cricket Ground</td>\n",
       "      <td>Sydney Sixers</td>\n",
       "      <td>Melbourne Renegades</td>\n",
       "      <td>0</td>\n",
       "      <td>Melbourne Renegades</td>\n",
       "      <td>Sydney Sixers</td>\n",
       "      <td>Bowl</td>\n",
       "      <td>NaN</td>\n",
       "      <td>NaN</td>\n",
       "      <td>Sydney Sixers</td>\n",
       "      <td>0</td>\n",
       "    </tr>\n",
       "    <tr>\n",
       "      <th>3</th>\n",
       "      <td>2014-12-20 08:10:00</td>\n",
       "      <td>Melbourne Cricket Ground</td>\n",
       "      <td>Melbourne Stars</td>\n",
       "      <td>Hobart Hurricanes</td>\n",
       "      <td>0</td>\n",
       "      <td>Hobart Hurricanes</td>\n",
       "      <td>Melbourne Stars</td>\n",
       "      <td>Bowl</td>\n",
       "      <td>NaN</td>\n",
       "      <td>NaN</td>\n",
       "      <td>Hobart Hurricanes</td>\n",
       "      <td>0</td>\n",
       "    </tr>\n",
       "    <tr>\n",
       "      <th>4</th>\n",
       "      <td>2015-01-25 08:10:00</td>\n",
       "      <td>W.A.C.A. Ground</td>\n",
       "      <td>Perth Scorchers</td>\n",
       "      <td>Melbourne Stars</td>\n",
       "      <td>0</td>\n",
       "      <td>Perth Scorchers</td>\n",
       "      <td>Perth Scorchers</td>\n",
       "      <td>Bat</td>\n",
       "      <td>1.775</td>\n",
       "      <td>2.17</td>\n",
       "      <td>Perth Scorchers</td>\n",
       "      <td>0</td>\n",
       "    </tr>\n",
       "  </tbody>\n",
       "</table>\n",
       "</div>"
      ],
      "text/plain": [
       "        start_datetime                    ground              team1  \\\n",
       "0  2015-01-28 08:40:00               Manuka Oval    Perth Scorchers   \n",
       "1  2014-12-18 08:40:00             Adelaide Oval  Adelaide Strikers   \n",
       "2  2014-12-19 08:40:00     Sydney Cricket Ground      Sydney Sixers   \n",
       "3  2014-12-20 08:10:00  Melbourne Cricket Ground    Melbourne Stars   \n",
       "4  2015-01-25 08:10:00           W.A.C.A. Ground    Perth Scorchers   \n",
       "\n",
       "                 team2  neutral_venue        first_innings      toss_winner  \\\n",
       "0        Sydney Sixers              1        Sydney Sixers    Sydney Sixers   \n",
       "1      Melbourne Stars              0      Melbourne Stars  Melbourne Stars   \n",
       "2  Melbourne Renegades              0  Melbourne Renegades    Sydney Sixers   \n",
       "3    Hobart Hurricanes              0    Hobart Hurricanes  Melbourne Stars   \n",
       "4      Melbourne Stars              0      Perth Scorchers  Perth Scorchers   \n",
       "\n",
       "  toss_choice  dbMktPriceTeam1  dbMktPriceTeam2             victor  derby  \n",
       "0         Bat            1.893             2.02    Perth Scorchers      0  \n",
       "1         Bat              NaN              NaN  Adelaide Strikers      0  \n",
       "2        Bowl              NaN              NaN      Sydney Sixers      0  \n",
       "3        Bowl              NaN              NaN  Hobart Hurricanes      0  \n",
       "4         Bat            1.775             2.17    Perth Scorchers      0  "
      ]
     },
     "execution_count": 5,
     "metadata": {},
     "output_type": "execute_result"
    }
   ],
   "source": [
    "# 2. Add derby column\n",
    "# The way how to choose the city from dataframe and inside apply function is different!\n",
    "data['derby'] = data.apply(lambda x: 1 if x['team1'].split()[0] == x['team2'].split()[0] else 0, axis=1)\n",
    "data.head()"
   ]
  },
  {
   "cell_type": "code",
   "execution_count": 6,
   "id": "9a8525b1",
   "metadata": {
    "ExecuteTime": {
     "end_time": "2022-08-07T18:49:15.233615Z",
     "start_time": "2022-08-07T18:49:15.203609Z"
    }
   },
   "outputs": [
    {
     "name": "stderr",
     "output_type": "stream",
     "text": [
      "C:\\Users\\SK\\AppData\\Local\\Temp/ipykernel_35476/3080954532.py:2: SettingWithCopyWarning: \n",
      "A value is trying to be set on a copy of a slice from a DataFrame.\n",
      "Try using .loc[row_indexer,col_indexer] = value instead\n",
      "\n",
      "See the caveats in the documentation: https://pandas.pydata.org/pandas-docs/stable/user_guide/indexing.html#returning-a-view-versus-a-copy\n",
      "  data['start_month'] = data['start_datetime'].str.split('-').str[1]\n"
     ]
    },
    {
     "data": {
      "text/html": [
       "<div>\n",
       "<style scoped>\n",
       "    .dataframe tbody tr th:only-of-type {\n",
       "        vertical-align: middle;\n",
       "    }\n",
       "\n",
       "    .dataframe tbody tr th {\n",
       "        vertical-align: top;\n",
       "    }\n",
       "\n",
       "    .dataframe thead th {\n",
       "        text-align: right;\n",
       "    }\n",
       "</style>\n",
       "<table border=\"1\" class=\"dataframe\">\n",
       "  <thead>\n",
       "    <tr style=\"text-align: right;\">\n",
       "      <th></th>\n",
       "      <th>ground</th>\n",
       "      <th>team1</th>\n",
       "      <th>team2</th>\n",
       "      <th>neutral_venue</th>\n",
       "      <th>first_innings</th>\n",
       "      <th>toss_winner</th>\n",
       "      <th>toss_choice</th>\n",
       "      <th>dbMktPriceTeam1</th>\n",
       "      <th>dbMktPriceTeam2</th>\n",
       "      <th>victor</th>\n",
       "      <th>derby</th>\n",
       "      <th>start_month</th>\n",
       "    </tr>\n",
       "  </thead>\n",
       "  <tbody>\n",
       "    <tr>\n",
       "      <th>0</th>\n",
       "      <td>Manuka Oval</td>\n",
       "      <td>Perth Scorchers</td>\n",
       "      <td>Sydney Sixers</td>\n",
       "      <td>1</td>\n",
       "      <td>Sydney Sixers</td>\n",
       "      <td>Sydney Sixers</td>\n",
       "      <td>Bat</td>\n",
       "      <td>1.893</td>\n",
       "      <td>2.02</td>\n",
       "      <td>Perth Scorchers</td>\n",
       "      <td>0</td>\n",
       "      <td>01</td>\n",
       "    </tr>\n",
       "    <tr>\n",
       "      <th>1</th>\n",
       "      <td>Adelaide Oval</td>\n",
       "      <td>Adelaide Strikers</td>\n",
       "      <td>Melbourne Stars</td>\n",
       "      <td>0</td>\n",
       "      <td>Melbourne Stars</td>\n",
       "      <td>Melbourne Stars</td>\n",
       "      <td>Bat</td>\n",
       "      <td>NaN</td>\n",
       "      <td>NaN</td>\n",
       "      <td>Adelaide Strikers</td>\n",
       "      <td>0</td>\n",
       "      <td>12</td>\n",
       "    </tr>\n",
       "    <tr>\n",
       "      <th>2</th>\n",
       "      <td>Sydney Cricket Ground</td>\n",
       "      <td>Sydney Sixers</td>\n",
       "      <td>Melbourne Renegades</td>\n",
       "      <td>0</td>\n",
       "      <td>Melbourne Renegades</td>\n",
       "      <td>Sydney Sixers</td>\n",
       "      <td>Bowl</td>\n",
       "      <td>NaN</td>\n",
       "      <td>NaN</td>\n",
       "      <td>Sydney Sixers</td>\n",
       "      <td>0</td>\n",
       "      <td>12</td>\n",
       "    </tr>\n",
       "    <tr>\n",
       "      <th>3</th>\n",
       "      <td>Melbourne Cricket Ground</td>\n",
       "      <td>Melbourne Stars</td>\n",
       "      <td>Hobart Hurricanes</td>\n",
       "      <td>0</td>\n",
       "      <td>Hobart Hurricanes</td>\n",
       "      <td>Melbourne Stars</td>\n",
       "      <td>Bowl</td>\n",
       "      <td>NaN</td>\n",
       "      <td>NaN</td>\n",
       "      <td>Hobart Hurricanes</td>\n",
       "      <td>0</td>\n",
       "      <td>12</td>\n",
       "    </tr>\n",
       "    <tr>\n",
       "      <th>4</th>\n",
       "      <td>W.A.C.A. Ground</td>\n",
       "      <td>Perth Scorchers</td>\n",
       "      <td>Melbourne Stars</td>\n",
       "      <td>0</td>\n",
       "      <td>Perth Scorchers</td>\n",
       "      <td>Perth Scorchers</td>\n",
       "      <td>Bat</td>\n",
       "      <td>1.775</td>\n",
       "      <td>2.17</td>\n",
       "      <td>Perth Scorchers</td>\n",
       "      <td>0</td>\n",
       "      <td>01</td>\n",
       "    </tr>\n",
       "  </tbody>\n",
       "</table>\n",
       "</div>"
      ],
      "text/plain": [
       "                     ground              team1                team2  \\\n",
       "0               Manuka Oval    Perth Scorchers        Sydney Sixers   \n",
       "1             Adelaide Oval  Adelaide Strikers      Melbourne Stars   \n",
       "2     Sydney Cricket Ground      Sydney Sixers  Melbourne Renegades   \n",
       "3  Melbourne Cricket Ground    Melbourne Stars    Hobart Hurricanes   \n",
       "4           W.A.C.A. Ground    Perth Scorchers      Melbourne Stars   \n",
       "\n",
       "   neutral_venue        first_innings      toss_winner toss_choice  \\\n",
       "0              1        Sydney Sixers    Sydney Sixers         Bat   \n",
       "1              0      Melbourne Stars  Melbourne Stars         Bat   \n",
       "2              0  Melbourne Renegades    Sydney Sixers        Bowl   \n",
       "3              0    Hobart Hurricanes  Melbourne Stars        Bowl   \n",
       "4              0      Perth Scorchers  Perth Scorchers         Bat   \n",
       "\n",
       "   dbMktPriceTeam1  dbMktPriceTeam2             victor  derby start_month  \n",
       "0            1.893             2.02    Perth Scorchers      0          01  \n",
       "1              NaN              NaN  Adelaide Strikers      0          12  \n",
       "2              NaN              NaN      Sydney Sixers      0          12  \n",
       "3              NaN              NaN  Hobart Hurricanes      0          12  \n",
       "4            1.775             2.17    Perth Scorchers      0          01  "
      ]
     },
     "execution_count": 6,
     "metadata": {},
     "output_type": "execute_result"
    }
   ],
   "source": [
    "# 3. Extract month of start_datetime\n",
    "data['start_month'] = data['start_datetime'].str.split('-').str[1]\n",
    "data = data.drop('start_datetime', axis=1)\n",
    "data.head()"
   ]
  },
  {
   "cell_type": "code",
   "execution_count": 7,
   "id": "aac3b2bc",
   "metadata": {
    "ExecuteTime": {
     "end_time": "2022-08-07T18:49:15.249619Z",
     "start_time": "2022-08-07T18:49:15.234616Z"
    }
   },
   "outputs": [
    {
     "data": {
      "text/html": [
       "<div>\n",
       "<style scoped>\n",
       "    .dataframe tbody tr th:only-of-type {\n",
       "        vertical-align: middle;\n",
       "    }\n",
       "\n",
       "    .dataframe tbody tr th {\n",
       "        vertical-align: top;\n",
       "    }\n",
       "\n",
       "    .dataframe thead th {\n",
       "        text-align: right;\n",
       "    }\n",
       "</style>\n",
       "<table border=\"1\" class=\"dataframe\">\n",
       "  <thead>\n",
       "    <tr style=\"text-align: right;\">\n",
       "      <th></th>\n",
       "      <th>ground</th>\n",
       "      <th>team1</th>\n",
       "      <th>team2</th>\n",
       "      <th>neutral_venue</th>\n",
       "      <th>home_venue</th>\n",
       "      <th>first_innings</th>\n",
       "      <th>toss_winner</th>\n",
       "      <th>toss_choice</th>\n",
       "      <th>dbMktPriceTeam1</th>\n",
       "      <th>dbMktPriceTeam2</th>\n",
       "      <th>victor</th>\n",
       "      <th>derby</th>\n",
       "      <th>start_month</th>\n",
       "    </tr>\n",
       "  </thead>\n",
       "  <tbody>\n",
       "    <tr>\n",
       "      <th>0</th>\n",
       "      <td>Manuka Oval</td>\n",
       "      <td>Perth Scorchers</td>\n",
       "      <td>Sydney Sixers</td>\n",
       "      <td>1</td>\n",
       "      <td>0</td>\n",
       "      <td>Sydney Sixers</td>\n",
       "      <td>Sydney Sixers</td>\n",
       "      <td>Bat</td>\n",
       "      <td>1.893</td>\n",
       "      <td>2.020</td>\n",
       "      <td>Perth Scorchers</td>\n",
       "      <td>0</td>\n",
       "      <td>01</td>\n",
       "    </tr>\n",
       "    <tr>\n",
       "      <th>1</th>\n",
       "      <td>Adelaide Oval</td>\n",
       "      <td>Adelaide Strikers</td>\n",
       "      <td>Melbourne Stars</td>\n",
       "      <td>0</td>\n",
       "      <td>1</td>\n",
       "      <td>Melbourne Stars</td>\n",
       "      <td>Melbourne Stars</td>\n",
       "      <td>Bat</td>\n",
       "      <td>NaN</td>\n",
       "      <td>NaN</td>\n",
       "      <td>Adelaide Strikers</td>\n",
       "      <td>0</td>\n",
       "      <td>12</td>\n",
       "    </tr>\n",
       "    <tr>\n",
       "      <th>2</th>\n",
       "      <td>Sydney Cricket Ground</td>\n",
       "      <td>Sydney Sixers</td>\n",
       "      <td>Melbourne Renegades</td>\n",
       "      <td>0</td>\n",
       "      <td>1</td>\n",
       "      <td>Melbourne Renegades</td>\n",
       "      <td>Sydney Sixers</td>\n",
       "      <td>Bowl</td>\n",
       "      <td>NaN</td>\n",
       "      <td>NaN</td>\n",
       "      <td>Sydney Sixers</td>\n",
       "      <td>0</td>\n",
       "      <td>12</td>\n",
       "    </tr>\n",
       "    <tr>\n",
       "      <th>3</th>\n",
       "      <td>Melbourne Cricket Ground</td>\n",
       "      <td>Melbourne Stars</td>\n",
       "      <td>Hobart Hurricanes</td>\n",
       "      <td>0</td>\n",
       "      <td>1</td>\n",
       "      <td>Hobart Hurricanes</td>\n",
       "      <td>Melbourne Stars</td>\n",
       "      <td>Bowl</td>\n",
       "      <td>NaN</td>\n",
       "      <td>NaN</td>\n",
       "      <td>Hobart Hurricanes</td>\n",
       "      <td>0</td>\n",
       "      <td>12</td>\n",
       "    </tr>\n",
       "    <tr>\n",
       "      <th>4</th>\n",
       "      <td>W.A.C.A. Ground</td>\n",
       "      <td>Perth Scorchers</td>\n",
       "      <td>Melbourne Stars</td>\n",
       "      <td>0</td>\n",
       "      <td>1</td>\n",
       "      <td>Perth Scorchers</td>\n",
       "      <td>Perth Scorchers</td>\n",
       "      <td>Bat</td>\n",
       "      <td>1.775</td>\n",
       "      <td>2.170</td>\n",
       "      <td>Perth Scorchers</td>\n",
       "      <td>0</td>\n",
       "      <td>01</td>\n",
       "    </tr>\n",
       "    <tr>\n",
       "      <th>...</th>\n",
       "      <td>...</td>\n",
       "      <td>...</td>\n",
       "      <td>...</td>\n",
       "      <td>...</td>\n",
       "      <td>...</td>\n",
       "      <td>...</td>\n",
       "      <td>...</td>\n",
       "      <td>...</td>\n",
       "      <td>...</td>\n",
       "      <td>...</td>\n",
       "      <td>...</td>\n",
       "      <td>...</td>\n",
       "      <td>...</td>\n",
       "    </tr>\n",
       "    <tr>\n",
       "      <th>485</th>\n",
       "      <td>Docklands Stadium</td>\n",
       "      <td>Perth Scorchers</td>\n",
       "      <td>Sydney Sixers</td>\n",
       "      <td>1</td>\n",
       "      <td>0</td>\n",
       "      <td>Perth Scorchers</td>\n",
       "      <td>Perth Scorchers</td>\n",
       "      <td>Bat</td>\n",
       "      <td>1.654</td>\n",
       "      <td>2.360</td>\n",
       "      <td>Perth Scorchers</td>\n",
       "      <td>0</td>\n",
       "      <td>01</td>\n",
       "    </tr>\n",
       "    <tr>\n",
       "      <th>486</th>\n",
       "      <td>Melbourne Cricket Ground</td>\n",
       "      <td>Adelaide Strikers</td>\n",
       "      <td>Hobart Hurricanes</td>\n",
       "      <td>1</td>\n",
       "      <td>0</td>\n",
       "      <td>Adelaide Strikers</td>\n",
       "      <td>Adelaide Strikers</td>\n",
       "      <td>Bat</td>\n",
       "      <td>1.769</td>\n",
       "      <td>2.150</td>\n",
       "      <td>Adelaide Strikers</td>\n",
       "      <td>0</td>\n",
       "      <td>01</td>\n",
       "    </tr>\n",
       "    <tr>\n",
       "      <th>487</th>\n",
       "      <td>Melbourne Cricket Ground</td>\n",
       "      <td>Adelaide Strikers</td>\n",
       "      <td>Sydney Thunder</td>\n",
       "      <td>1</td>\n",
       "      <td>0</td>\n",
       "      <td>Adelaide Strikers</td>\n",
       "      <td>Adelaide Strikers</td>\n",
       "      <td>Bat</td>\n",
       "      <td>2.190</td>\n",
       "      <td>1.746</td>\n",
       "      <td>Adelaide Strikers</td>\n",
       "      <td>0</td>\n",
       "      <td>01</td>\n",
       "    </tr>\n",
       "    <tr>\n",
       "      <th>488</th>\n",
       "      <td>Sydney Cricket Ground</td>\n",
       "      <td>Sydney Sixers</td>\n",
       "      <td>Adelaide Strikers</td>\n",
       "      <td>0</td>\n",
       "      <td>1</td>\n",
       "      <td>Adelaide Strikers</td>\n",
       "      <td>Sydney Sixers</td>\n",
       "      <td>Bowl</td>\n",
       "      <td>2.230</td>\n",
       "      <td>1.719</td>\n",
       "      <td>Sydney Sixers</td>\n",
       "      <td>0</td>\n",
       "      <td>01</td>\n",
       "    </tr>\n",
       "    <tr>\n",
       "      <th>489</th>\n",
       "      <td>Docklands Stadium</td>\n",
       "      <td>Perth Scorchers</td>\n",
       "      <td>Sydney Sixers</td>\n",
       "      <td>1</td>\n",
       "      <td>0</td>\n",
       "      <td>Perth Scorchers</td>\n",
       "      <td>Sydney Sixers</td>\n",
       "      <td>Bowl</td>\n",
       "      <td>1.455</td>\n",
       "      <td>2.920</td>\n",
       "      <td>Perth Scorchers</td>\n",
       "      <td>0</td>\n",
       "      <td>01</td>\n",
       "    </tr>\n",
       "  </tbody>\n",
       "</table>\n",
       "<p>490 rows × 13 columns</p>\n",
       "</div>"
      ],
      "text/plain": [
       "                       ground              team1                team2  \\\n",
       "0                 Manuka Oval    Perth Scorchers        Sydney Sixers   \n",
       "1               Adelaide Oval  Adelaide Strikers      Melbourne Stars   \n",
       "2       Sydney Cricket Ground      Sydney Sixers  Melbourne Renegades   \n",
       "3    Melbourne Cricket Ground    Melbourne Stars    Hobart Hurricanes   \n",
       "4             W.A.C.A. Ground    Perth Scorchers      Melbourne Stars   \n",
       "..                        ...                ...                  ...   \n",
       "485         Docklands Stadium    Perth Scorchers        Sydney Sixers   \n",
       "486  Melbourne Cricket Ground  Adelaide Strikers    Hobart Hurricanes   \n",
       "487  Melbourne Cricket Ground  Adelaide Strikers       Sydney Thunder   \n",
       "488     Sydney Cricket Ground      Sydney Sixers    Adelaide Strikers   \n",
       "489         Docklands Stadium    Perth Scorchers        Sydney Sixers   \n",
       "\n",
       "     neutral_venue  home_venue        first_innings        toss_winner  \\\n",
       "0                1           0        Sydney Sixers      Sydney Sixers   \n",
       "1                0           1      Melbourne Stars    Melbourne Stars   \n",
       "2                0           1  Melbourne Renegades      Sydney Sixers   \n",
       "3                0           1    Hobart Hurricanes    Melbourne Stars   \n",
       "4                0           1      Perth Scorchers    Perth Scorchers   \n",
       "..             ...         ...                  ...                ...   \n",
       "485              1           0      Perth Scorchers    Perth Scorchers   \n",
       "486              1           0    Adelaide Strikers  Adelaide Strikers   \n",
       "487              1           0    Adelaide Strikers  Adelaide Strikers   \n",
       "488              0           1    Adelaide Strikers      Sydney Sixers   \n",
       "489              1           0      Perth Scorchers      Sydney Sixers   \n",
       "\n",
       "    toss_choice  dbMktPriceTeam1  dbMktPriceTeam2             victor  derby  \\\n",
       "0           Bat            1.893            2.020    Perth Scorchers      0   \n",
       "1           Bat              NaN              NaN  Adelaide Strikers      0   \n",
       "2          Bowl              NaN              NaN      Sydney Sixers      0   \n",
       "3          Bowl              NaN              NaN  Hobart Hurricanes      0   \n",
       "4           Bat            1.775            2.170    Perth Scorchers      0   \n",
       "..          ...              ...              ...                ...    ...   \n",
       "485         Bat            1.654            2.360    Perth Scorchers      0   \n",
       "486         Bat            1.769            2.150  Adelaide Strikers      0   \n",
       "487         Bat            2.190            1.746  Adelaide Strikers      0   \n",
       "488        Bowl            2.230            1.719      Sydney Sixers      0   \n",
       "489        Bowl            1.455            2.920    Perth Scorchers      0   \n",
       "\n",
       "    start_month  \n",
       "0            01  \n",
       "1            12  \n",
       "2            12  \n",
       "3            12  \n",
       "4            01  \n",
       "..          ...  \n",
       "485          01  \n",
       "486          01  \n",
       "487          01  \n",
       "488          01  \n",
       "489          01  \n",
       "\n",
       "[490 rows x 13 columns]"
      ]
     },
     "execution_count": 7,
     "metadata": {},
     "output_type": "execute_result"
    }
   ],
   "source": [
    "# 4. Add home_venue\n",
    "home_venue = data['neutral_venue'].map({1:0, 0:1})\n",
    "data.insert(4, 'home_venue', home_venue)\n",
    "data"
   ]
  },
  {
   "cell_type": "code",
   "execution_count": 8,
   "id": "cd4b86a8",
   "metadata": {
    "ExecuteTime": {
     "end_time": "2022-08-07T18:49:15.265623Z",
     "start_time": "2022-08-07T18:49:15.250622Z"
    }
   },
   "outputs": [
    {
     "data": {
      "text/html": [
       "<div>\n",
       "<style scoped>\n",
       "    .dataframe tbody tr th:only-of-type {\n",
       "        vertical-align: middle;\n",
       "    }\n",
       "\n",
       "    .dataframe tbody tr th {\n",
       "        vertical-align: top;\n",
       "    }\n",
       "\n",
       "    .dataframe thead th {\n",
       "        text-align: right;\n",
       "    }\n",
       "</style>\n",
       "<table border=\"1\" class=\"dataframe\">\n",
       "  <thead>\n",
       "    <tr style=\"text-align: right;\">\n",
       "      <th></th>\n",
       "      <th>ground</th>\n",
       "      <th>team1</th>\n",
       "      <th>team2</th>\n",
       "      <th>neutral_venue</th>\n",
       "      <th>home_venue</th>\n",
       "      <th>first_innings</th>\n",
       "      <th>toss_winner</th>\n",
       "      <th>toss_choice</th>\n",
       "      <th>dbMktPriceTeam1</th>\n",
       "      <th>dbMktPriceTeam2</th>\n",
       "      <th>victor</th>\n",
       "      <th>derby</th>\n",
       "      <th>start_month</th>\n",
       "    </tr>\n",
       "  </thead>\n",
       "  <tbody>\n",
       "    <tr>\n",
       "      <th>0</th>\n",
       "      <td>Manuka Oval</td>\n",
       "      <td>Perth Scorchers</td>\n",
       "      <td>Sydney Sixers</td>\n",
       "      <td>1</td>\n",
       "      <td>0</td>\n",
       "      <td>Sydney Sixers</td>\n",
       "      <td>Sydney Sixers</td>\n",
       "      <td>Bat</td>\n",
       "      <td>1.893</td>\n",
       "      <td>2.020</td>\n",
       "      <td>Perth Scorchers</td>\n",
       "      <td>0</td>\n",
       "      <td>01</td>\n",
       "    </tr>\n",
       "    <tr>\n",
       "      <th>1</th>\n",
       "      <td>Adelaide Oval</td>\n",
       "      <td>Adelaide Strikers</td>\n",
       "      <td>Melbourne Stars</td>\n",
       "      <td>0</td>\n",
       "      <td>1</td>\n",
       "      <td>Melbourne Stars</td>\n",
       "      <td>Melbourne Stars</td>\n",
       "      <td>Bat</td>\n",
       "      <td>NaN</td>\n",
       "      <td>NaN</td>\n",
       "      <td>Adelaide Strikers</td>\n",
       "      <td>0</td>\n",
       "      <td>12</td>\n",
       "    </tr>\n",
       "    <tr>\n",
       "      <th>2</th>\n",
       "      <td>Sydney Cricket Ground</td>\n",
       "      <td>Sydney Sixers</td>\n",
       "      <td>Melbourne Renegades</td>\n",
       "      <td>0</td>\n",
       "      <td>1</td>\n",
       "      <td>Melbourne Renegades</td>\n",
       "      <td>Sydney Sixers</td>\n",
       "      <td>Bowl</td>\n",
       "      <td>NaN</td>\n",
       "      <td>NaN</td>\n",
       "      <td>Sydney Sixers</td>\n",
       "      <td>0</td>\n",
       "      <td>12</td>\n",
       "    </tr>\n",
       "    <tr>\n",
       "      <th>3</th>\n",
       "      <td>Melbourne Cricket Ground</td>\n",
       "      <td>Melbourne Stars</td>\n",
       "      <td>Hobart Hurricanes</td>\n",
       "      <td>0</td>\n",
       "      <td>1</td>\n",
       "      <td>Hobart Hurricanes</td>\n",
       "      <td>Melbourne Stars</td>\n",
       "      <td>Bowl</td>\n",
       "      <td>NaN</td>\n",
       "      <td>NaN</td>\n",
       "      <td>Hobart Hurricanes</td>\n",
       "      <td>0</td>\n",
       "      <td>12</td>\n",
       "    </tr>\n",
       "    <tr>\n",
       "      <th>4</th>\n",
       "      <td>W.A.C.A. Ground</td>\n",
       "      <td>Perth Scorchers</td>\n",
       "      <td>Melbourne Stars</td>\n",
       "      <td>0</td>\n",
       "      <td>1</td>\n",
       "      <td>Perth Scorchers</td>\n",
       "      <td>Perth Scorchers</td>\n",
       "      <td>Bat</td>\n",
       "      <td>1.775</td>\n",
       "      <td>2.170</td>\n",
       "      <td>Perth Scorchers</td>\n",
       "      <td>0</td>\n",
       "      <td>01</td>\n",
       "    </tr>\n",
       "    <tr>\n",
       "      <th>...</th>\n",
       "      <td>...</td>\n",
       "      <td>...</td>\n",
       "      <td>...</td>\n",
       "      <td>...</td>\n",
       "      <td>...</td>\n",
       "      <td>...</td>\n",
       "      <td>...</td>\n",
       "      <td>...</td>\n",
       "      <td>...</td>\n",
       "      <td>...</td>\n",
       "      <td>...</td>\n",
       "      <td>...</td>\n",
       "      <td>...</td>\n",
       "    </tr>\n",
       "    <tr>\n",
       "      <th>485</th>\n",
       "      <td>Docklands Stadium</td>\n",
       "      <td>Perth Scorchers</td>\n",
       "      <td>Sydney Sixers</td>\n",
       "      <td>1</td>\n",
       "      <td>0</td>\n",
       "      <td>Perth Scorchers</td>\n",
       "      <td>Perth Scorchers</td>\n",
       "      <td>Bat</td>\n",
       "      <td>1.654</td>\n",
       "      <td>2.360</td>\n",
       "      <td>Perth Scorchers</td>\n",
       "      <td>0</td>\n",
       "      <td>01</td>\n",
       "    </tr>\n",
       "    <tr>\n",
       "      <th>486</th>\n",
       "      <td>Melbourne Cricket Ground</td>\n",
       "      <td>Adelaide Strikers</td>\n",
       "      <td>Hobart Hurricanes</td>\n",
       "      <td>1</td>\n",
       "      <td>0</td>\n",
       "      <td>Adelaide Strikers</td>\n",
       "      <td>Adelaide Strikers</td>\n",
       "      <td>Bat</td>\n",
       "      <td>1.769</td>\n",
       "      <td>2.150</td>\n",
       "      <td>Adelaide Strikers</td>\n",
       "      <td>0</td>\n",
       "      <td>01</td>\n",
       "    </tr>\n",
       "    <tr>\n",
       "      <th>487</th>\n",
       "      <td>Melbourne Cricket Ground</td>\n",
       "      <td>Adelaide Strikers</td>\n",
       "      <td>Sydney Thunder</td>\n",
       "      <td>1</td>\n",
       "      <td>0</td>\n",
       "      <td>Adelaide Strikers</td>\n",
       "      <td>Adelaide Strikers</td>\n",
       "      <td>Bat</td>\n",
       "      <td>2.190</td>\n",
       "      <td>1.746</td>\n",
       "      <td>Adelaide Strikers</td>\n",
       "      <td>0</td>\n",
       "      <td>01</td>\n",
       "    </tr>\n",
       "    <tr>\n",
       "      <th>488</th>\n",
       "      <td>Sydney Cricket Ground</td>\n",
       "      <td>Sydney Sixers</td>\n",
       "      <td>Adelaide Strikers</td>\n",
       "      <td>0</td>\n",
       "      <td>1</td>\n",
       "      <td>Adelaide Strikers</td>\n",
       "      <td>Sydney Sixers</td>\n",
       "      <td>Bowl</td>\n",
       "      <td>2.230</td>\n",
       "      <td>1.719</td>\n",
       "      <td>Sydney Sixers</td>\n",
       "      <td>0</td>\n",
       "      <td>01</td>\n",
       "    </tr>\n",
       "    <tr>\n",
       "      <th>489</th>\n",
       "      <td>Docklands Stadium</td>\n",
       "      <td>Perth Scorchers</td>\n",
       "      <td>Sydney Sixers</td>\n",
       "      <td>1</td>\n",
       "      <td>0</td>\n",
       "      <td>Perth Scorchers</td>\n",
       "      <td>Sydney Sixers</td>\n",
       "      <td>Bowl</td>\n",
       "      <td>1.455</td>\n",
       "      <td>2.920</td>\n",
       "      <td>Perth Scorchers</td>\n",
       "      <td>0</td>\n",
       "      <td>01</td>\n",
       "    </tr>\n",
       "  </tbody>\n",
       "</table>\n",
       "<p>484 rows × 13 columns</p>\n",
       "</div>"
      ],
      "text/plain": [
       "                       ground              team1                team2  \\\n",
       "0                 Manuka Oval    Perth Scorchers        Sydney Sixers   \n",
       "1               Adelaide Oval  Adelaide Strikers      Melbourne Stars   \n",
       "2       Sydney Cricket Ground      Sydney Sixers  Melbourne Renegades   \n",
       "3    Melbourne Cricket Ground    Melbourne Stars    Hobart Hurricanes   \n",
       "4             W.A.C.A. Ground    Perth Scorchers      Melbourne Stars   \n",
       "..                        ...                ...                  ...   \n",
       "485         Docklands Stadium    Perth Scorchers        Sydney Sixers   \n",
       "486  Melbourne Cricket Ground  Adelaide Strikers    Hobart Hurricanes   \n",
       "487  Melbourne Cricket Ground  Adelaide Strikers       Sydney Thunder   \n",
       "488     Sydney Cricket Ground      Sydney Sixers    Adelaide Strikers   \n",
       "489         Docklands Stadium    Perth Scorchers        Sydney Sixers   \n",
       "\n",
       "     neutral_venue  home_venue        first_innings        toss_winner  \\\n",
       "0                1           0        Sydney Sixers      Sydney Sixers   \n",
       "1                0           1      Melbourne Stars    Melbourne Stars   \n",
       "2                0           1  Melbourne Renegades      Sydney Sixers   \n",
       "3                0           1    Hobart Hurricanes    Melbourne Stars   \n",
       "4                0           1      Perth Scorchers    Perth Scorchers   \n",
       "..             ...         ...                  ...                ...   \n",
       "485              1           0      Perth Scorchers    Perth Scorchers   \n",
       "486              1           0    Adelaide Strikers  Adelaide Strikers   \n",
       "487              1           0    Adelaide Strikers  Adelaide Strikers   \n",
       "488              0           1    Adelaide Strikers      Sydney Sixers   \n",
       "489              1           0      Perth Scorchers      Sydney Sixers   \n",
       "\n",
       "    toss_choice  dbMktPriceTeam1  dbMktPriceTeam2             victor  derby  \\\n",
       "0           Bat            1.893            2.020    Perth Scorchers      0   \n",
       "1           Bat              NaN              NaN  Adelaide Strikers      0   \n",
       "2          Bowl              NaN              NaN      Sydney Sixers      0   \n",
       "3          Bowl              NaN              NaN  Hobart Hurricanes      0   \n",
       "4           Bat            1.775            2.170    Perth Scorchers      0   \n",
       "..          ...              ...              ...                ...    ...   \n",
       "485         Bat            1.654            2.360    Perth Scorchers      0   \n",
       "486         Bat            1.769            2.150  Adelaide Strikers      0   \n",
       "487         Bat            2.190            1.746  Adelaide Strikers      0   \n",
       "488        Bowl            2.230            1.719      Sydney Sixers      0   \n",
       "489        Bowl            1.455            2.920    Perth Scorchers      0   \n",
       "\n",
       "    start_month  \n",
       "0            01  \n",
       "1            12  \n",
       "2            12  \n",
       "3            12  \n",
       "4            01  \n",
       "..          ...  \n",
       "485          01  \n",
       "486          01  \n",
       "487          01  \n",
       "488          01  \n",
       "489          01  \n",
       "\n",
       "[484 rows x 13 columns]"
      ]
     },
     "execution_count": 8,
     "metadata": {},
     "output_type": "execute_result"
    }
   ],
   "source": [
    "# 5. Drop rows if victor is NA\n",
    "data['victor'].isnull().sum()      # 6 instances\n",
    "data = data.dropna(subset=['victor'], axis=0)\n",
    "data"
   ]
  },
  {
   "cell_type": "code",
   "execution_count": 9,
   "id": "3de4ff2d",
   "metadata": {
    "ExecuteTime": {
     "end_time": "2022-08-07T18:49:15.281627Z",
     "start_time": "2022-08-07T18:49:15.266624Z"
    }
   },
   "outputs": [
    {
     "data": {
      "text/html": [
       "<div>\n",
       "<style scoped>\n",
       "    .dataframe tbody tr th:only-of-type {\n",
       "        vertical-align: middle;\n",
       "    }\n",
       "\n",
       "    .dataframe tbody tr th {\n",
       "        vertical-align: top;\n",
       "    }\n",
       "\n",
       "    .dataframe thead th {\n",
       "        text-align: right;\n",
       "    }\n",
       "</style>\n",
       "<table border=\"1\" class=\"dataframe\">\n",
       "  <thead>\n",
       "    <tr style=\"text-align: right;\">\n",
       "      <th></th>\n",
       "      <th>ground</th>\n",
       "      <th>team1</th>\n",
       "      <th>team2</th>\n",
       "      <th>neutral_venue</th>\n",
       "      <th>home_venue</th>\n",
       "      <th>first_innings</th>\n",
       "      <th>toss_winner</th>\n",
       "      <th>toss_choice</th>\n",
       "      <th>dbMktPriceTeam1</th>\n",
       "      <th>dbMktPriceTeam2</th>\n",
       "      <th>victor</th>\n",
       "      <th>derby</th>\n",
       "      <th>start_month</th>\n",
       "    </tr>\n",
       "  </thead>\n",
       "  <tbody>\n",
       "    <tr>\n",
       "      <th>0</th>\n",
       "      <td>Manuka Oval</td>\n",
       "      <td>Perth Scorchers</td>\n",
       "      <td>Sydney Sixers</td>\n",
       "      <td>1</td>\n",
       "      <td>0</td>\n",
       "      <td>Sydney Sixers</td>\n",
       "      <td>Sydney Sixers</td>\n",
       "      <td>Bat</td>\n",
       "      <td>1.893</td>\n",
       "      <td>2.020</td>\n",
       "      <td>Perth Scorchers</td>\n",
       "      <td>0</td>\n",
       "      <td>01</td>\n",
       "    </tr>\n",
       "    <tr>\n",
       "      <th>1</th>\n",
       "      <td>Adelaide Oval</td>\n",
       "      <td>Adelaide Strikers</td>\n",
       "      <td>Melbourne Stars</td>\n",
       "      <td>0</td>\n",
       "      <td>1</td>\n",
       "      <td>Melbourne Stars</td>\n",
       "      <td>Melbourne Stars</td>\n",
       "      <td>Bat</td>\n",
       "      <td>NaN</td>\n",
       "      <td>NaN</td>\n",
       "      <td>Adelaide Strikers</td>\n",
       "      <td>0</td>\n",
       "      <td>12</td>\n",
       "    </tr>\n",
       "    <tr>\n",
       "      <th>2</th>\n",
       "      <td>Sydney Cricket Ground</td>\n",
       "      <td>Sydney Sixers</td>\n",
       "      <td>Melbourne Renegades</td>\n",
       "      <td>0</td>\n",
       "      <td>1</td>\n",
       "      <td>Melbourne Renegades</td>\n",
       "      <td>Sydney Sixers</td>\n",
       "      <td>Bowl</td>\n",
       "      <td>NaN</td>\n",
       "      <td>NaN</td>\n",
       "      <td>Sydney Sixers</td>\n",
       "      <td>0</td>\n",
       "      <td>12</td>\n",
       "    </tr>\n",
       "    <tr>\n",
       "      <th>3</th>\n",
       "      <td>Melbourne Cricket Ground</td>\n",
       "      <td>Melbourne Stars</td>\n",
       "      <td>Hobart Hurricanes</td>\n",
       "      <td>0</td>\n",
       "      <td>1</td>\n",
       "      <td>Hobart Hurricanes</td>\n",
       "      <td>Melbourne Stars</td>\n",
       "      <td>Bowl</td>\n",
       "      <td>NaN</td>\n",
       "      <td>NaN</td>\n",
       "      <td>Hobart Hurricanes</td>\n",
       "      <td>0</td>\n",
       "      <td>12</td>\n",
       "    </tr>\n",
       "    <tr>\n",
       "      <th>4</th>\n",
       "      <td>W.A.C.A. Ground</td>\n",
       "      <td>Perth Scorchers</td>\n",
       "      <td>Melbourne Stars</td>\n",
       "      <td>0</td>\n",
       "      <td>1</td>\n",
       "      <td>Perth Scorchers</td>\n",
       "      <td>Perth Scorchers</td>\n",
       "      <td>Bat</td>\n",
       "      <td>1.775</td>\n",
       "      <td>2.170</td>\n",
       "      <td>Perth Scorchers</td>\n",
       "      <td>0</td>\n",
       "      <td>01</td>\n",
       "    </tr>\n",
       "    <tr>\n",
       "      <th>...</th>\n",
       "      <td>...</td>\n",
       "      <td>...</td>\n",
       "      <td>...</td>\n",
       "      <td>...</td>\n",
       "      <td>...</td>\n",
       "      <td>...</td>\n",
       "      <td>...</td>\n",
       "      <td>...</td>\n",
       "      <td>...</td>\n",
       "      <td>...</td>\n",
       "      <td>...</td>\n",
       "      <td>...</td>\n",
       "      <td>...</td>\n",
       "    </tr>\n",
       "    <tr>\n",
       "      <th>485</th>\n",
       "      <td>Docklands Stadium</td>\n",
       "      <td>Perth Scorchers</td>\n",
       "      <td>Sydney Sixers</td>\n",
       "      <td>1</td>\n",
       "      <td>0</td>\n",
       "      <td>Perth Scorchers</td>\n",
       "      <td>Perth Scorchers</td>\n",
       "      <td>Bat</td>\n",
       "      <td>1.654</td>\n",
       "      <td>2.360</td>\n",
       "      <td>Perth Scorchers</td>\n",
       "      <td>0</td>\n",
       "      <td>01</td>\n",
       "    </tr>\n",
       "    <tr>\n",
       "      <th>486</th>\n",
       "      <td>Melbourne Cricket Ground</td>\n",
       "      <td>Adelaide Strikers</td>\n",
       "      <td>Hobart Hurricanes</td>\n",
       "      <td>1</td>\n",
       "      <td>0</td>\n",
       "      <td>Adelaide Strikers</td>\n",
       "      <td>Adelaide Strikers</td>\n",
       "      <td>Bat</td>\n",
       "      <td>1.769</td>\n",
       "      <td>2.150</td>\n",
       "      <td>Adelaide Strikers</td>\n",
       "      <td>0</td>\n",
       "      <td>01</td>\n",
       "    </tr>\n",
       "    <tr>\n",
       "      <th>487</th>\n",
       "      <td>Melbourne Cricket Ground</td>\n",
       "      <td>Adelaide Strikers</td>\n",
       "      <td>Sydney Thunder</td>\n",
       "      <td>1</td>\n",
       "      <td>0</td>\n",
       "      <td>Adelaide Strikers</td>\n",
       "      <td>Adelaide Strikers</td>\n",
       "      <td>Bat</td>\n",
       "      <td>2.190</td>\n",
       "      <td>1.746</td>\n",
       "      <td>Adelaide Strikers</td>\n",
       "      <td>0</td>\n",
       "      <td>01</td>\n",
       "    </tr>\n",
       "    <tr>\n",
       "      <th>488</th>\n",
       "      <td>Sydney Cricket Ground</td>\n",
       "      <td>Sydney Sixers</td>\n",
       "      <td>Adelaide Strikers</td>\n",
       "      <td>0</td>\n",
       "      <td>1</td>\n",
       "      <td>Adelaide Strikers</td>\n",
       "      <td>Sydney Sixers</td>\n",
       "      <td>Bowl</td>\n",
       "      <td>2.230</td>\n",
       "      <td>1.719</td>\n",
       "      <td>Sydney Sixers</td>\n",
       "      <td>0</td>\n",
       "      <td>01</td>\n",
       "    </tr>\n",
       "    <tr>\n",
       "      <th>489</th>\n",
       "      <td>Docklands Stadium</td>\n",
       "      <td>Perth Scorchers</td>\n",
       "      <td>Sydney Sixers</td>\n",
       "      <td>1</td>\n",
       "      <td>0</td>\n",
       "      <td>Perth Scorchers</td>\n",
       "      <td>Sydney Sixers</td>\n",
       "      <td>Bowl</td>\n",
       "      <td>1.455</td>\n",
       "      <td>2.920</td>\n",
       "      <td>Perth Scorchers</td>\n",
       "      <td>0</td>\n",
       "      <td>01</td>\n",
       "    </tr>\n",
       "  </tbody>\n",
       "</table>\n",
       "<p>480 rows × 13 columns</p>\n",
       "</div>"
      ],
      "text/plain": [
       "                       ground              team1                team2  \\\n",
       "0                 Manuka Oval    Perth Scorchers        Sydney Sixers   \n",
       "1               Adelaide Oval  Adelaide Strikers      Melbourne Stars   \n",
       "2       Sydney Cricket Ground      Sydney Sixers  Melbourne Renegades   \n",
       "3    Melbourne Cricket Ground    Melbourne Stars    Hobart Hurricanes   \n",
       "4             W.A.C.A. Ground    Perth Scorchers      Melbourne Stars   \n",
       "..                        ...                ...                  ...   \n",
       "485         Docklands Stadium    Perth Scorchers        Sydney Sixers   \n",
       "486  Melbourne Cricket Ground  Adelaide Strikers    Hobart Hurricanes   \n",
       "487  Melbourne Cricket Ground  Adelaide Strikers       Sydney Thunder   \n",
       "488     Sydney Cricket Ground      Sydney Sixers    Adelaide Strikers   \n",
       "489         Docklands Stadium    Perth Scorchers        Sydney Sixers   \n",
       "\n",
       "     neutral_venue  home_venue        first_innings        toss_winner  \\\n",
       "0                1           0        Sydney Sixers      Sydney Sixers   \n",
       "1                0           1      Melbourne Stars    Melbourne Stars   \n",
       "2                0           1  Melbourne Renegades      Sydney Sixers   \n",
       "3                0           1    Hobart Hurricanes    Melbourne Stars   \n",
       "4                0           1      Perth Scorchers    Perth Scorchers   \n",
       "..             ...         ...                  ...                ...   \n",
       "485              1           0      Perth Scorchers    Perth Scorchers   \n",
       "486              1           0    Adelaide Strikers  Adelaide Strikers   \n",
       "487              1           0    Adelaide Strikers  Adelaide Strikers   \n",
       "488              0           1    Adelaide Strikers      Sydney Sixers   \n",
       "489              1           0      Perth Scorchers      Sydney Sixers   \n",
       "\n",
       "    toss_choice  dbMktPriceTeam1  dbMktPriceTeam2             victor  derby  \\\n",
       "0           Bat            1.893            2.020    Perth Scorchers      0   \n",
       "1           Bat              NaN              NaN  Adelaide Strikers      0   \n",
       "2          Bowl              NaN              NaN      Sydney Sixers      0   \n",
       "3          Bowl              NaN              NaN  Hobart Hurricanes      0   \n",
       "4           Bat            1.775            2.170    Perth Scorchers      0   \n",
       "..          ...              ...              ...                ...    ...   \n",
       "485         Bat            1.654            2.360    Perth Scorchers      0   \n",
       "486         Bat            1.769            2.150  Adelaide Strikers      0   \n",
       "487         Bat            2.190            1.746  Adelaide Strikers      0   \n",
       "488        Bowl            2.230            1.719      Sydney Sixers      0   \n",
       "489        Bowl            1.455            2.920    Perth Scorchers      0   \n",
       "\n",
       "    start_month  \n",
       "0            01  \n",
       "1            12  \n",
       "2            12  \n",
       "3            12  \n",
       "4            01  \n",
       "..          ...  \n",
       "485          01  \n",
       "486          01  \n",
       "487          01  \n",
       "488          01  \n",
       "489          01  \n",
       "\n",
       "[480 rows x 13 columns]"
      ]
     },
     "execution_count": 9,
     "metadata": {},
     "output_type": "execute_result"
    }
   ],
   "source": [
    "# 6. Drop rows if victor is Tie\n",
    "(data['victor'] == 'Tie').sum()      # 4 instances\n",
    "data = data.drop(data[data['victor'] == 'Tie'].index, axis=0)\n",
    "data"
   ]
  },
  {
   "cell_type": "code",
   "execution_count": 10,
   "id": "ed413b6d",
   "metadata": {
    "ExecuteTime": {
     "end_time": "2022-08-07T18:49:15.312634Z",
     "start_time": "2022-08-07T18:49:15.283628Z"
    }
   },
   "outputs": [
    {
     "data": {
      "text/html": [
       "<div>\n",
       "<style scoped>\n",
       "    .dataframe tbody tr th:only-of-type {\n",
       "        vertical-align: middle;\n",
       "    }\n",
       "\n",
       "    .dataframe tbody tr th {\n",
       "        vertical-align: top;\n",
       "    }\n",
       "\n",
       "    .dataframe thead th {\n",
       "        text-align: right;\n",
       "    }\n",
       "</style>\n",
       "<table border=\"1\" class=\"dataframe\">\n",
       "  <thead>\n",
       "    <tr style=\"text-align: right;\">\n",
       "      <th></th>\n",
       "      <th>ground</th>\n",
       "      <th>team1</th>\n",
       "      <th>team2</th>\n",
       "      <th>neutral_venue</th>\n",
       "      <th>home_venue</th>\n",
       "      <th>first_innings</th>\n",
       "      <th>toss_winner</th>\n",
       "      <th>toss_choice</th>\n",
       "      <th>dbMktPriceTeam1</th>\n",
       "      <th>dbMktPriceTeam2</th>\n",
       "      <th>victor</th>\n",
       "      <th>derby</th>\n",
       "      <th>start_month</th>\n",
       "      <th>month_02</th>\n",
       "      <th>month_12</th>\n",
       "    </tr>\n",
       "  </thead>\n",
       "  <tbody>\n",
       "    <tr>\n",
       "      <th>0</th>\n",
       "      <td>Manuka Oval</td>\n",
       "      <td>Perth Scorchers</td>\n",
       "      <td>Sydney Sixers</td>\n",
       "      <td>1</td>\n",
       "      <td>0</td>\n",
       "      <td>Sydney Sixers</td>\n",
       "      <td>Sydney Sixers</td>\n",
       "      <td>Bat</td>\n",
       "      <td>1.893</td>\n",
       "      <td>2.02</td>\n",
       "      <td>Perth Scorchers</td>\n",
       "      <td>0</td>\n",
       "      <td>01</td>\n",
       "      <td>0</td>\n",
       "      <td>0</td>\n",
       "    </tr>\n",
       "    <tr>\n",
       "      <th>1</th>\n",
       "      <td>Adelaide Oval</td>\n",
       "      <td>Adelaide Strikers</td>\n",
       "      <td>Melbourne Stars</td>\n",
       "      <td>0</td>\n",
       "      <td>1</td>\n",
       "      <td>Melbourne Stars</td>\n",
       "      <td>Melbourne Stars</td>\n",
       "      <td>Bat</td>\n",
       "      <td>NaN</td>\n",
       "      <td>NaN</td>\n",
       "      <td>Adelaide Strikers</td>\n",
       "      <td>0</td>\n",
       "      <td>12</td>\n",
       "      <td>0</td>\n",
       "      <td>1</td>\n",
       "    </tr>\n",
       "    <tr>\n",
       "      <th>2</th>\n",
       "      <td>Sydney Cricket Ground</td>\n",
       "      <td>Sydney Sixers</td>\n",
       "      <td>Melbourne Renegades</td>\n",
       "      <td>0</td>\n",
       "      <td>1</td>\n",
       "      <td>Melbourne Renegades</td>\n",
       "      <td>Sydney Sixers</td>\n",
       "      <td>Bowl</td>\n",
       "      <td>NaN</td>\n",
       "      <td>NaN</td>\n",
       "      <td>Sydney Sixers</td>\n",
       "      <td>0</td>\n",
       "      <td>12</td>\n",
       "      <td>0</td>\n",
       "      <td>1</td>\n",
       "    </tr>\n",
       "    <tr>\n",
       "      <th>3</th>\n",
       "      <td>Melbourne Cricket Ground</td>\n",
       "      <td>Melbourne Stars</td>\n",
       "      <td>Hobart Hurricanes</td>\n",
       "      <td>0</td>\n",
       "      <td>1</td>\n",
       "      <td>Hobart Hurricanes</td>\n",
       "      <td>Melbourne Stars</td>\n",
       "      <td>Bowl</td>\n",
       "      <td>NaN</td>\n",
       "      <td>NaN</td>\n",
       "      <td>Hobart Hurricanes</td>\n",
       "      <td>0</td>\n",
       "      <td>12</td>\n",
       "      <td>0</td>\n",
       "      <td>1</td>\n",
       "    </tr>\n",
       "    <tr>\n",
       "      <th>4</th>\n",
       "      <td>W.A.C.A. Ground</td>\n",
       "      <td>Perth Scorchers</td>\n",
       "      <td>Melbourne Stars</td>\n",
       "      <td>0</td>\n",
       "      <td>1</td>\n",
       "      <td>Perth Scorchers</td>\n",
       "      <td>Perth Scorchers</td>\n",
       "      <td>Bat</td>\n",
       "      <td>1.775</td>\n",
       "      <td>2.17</td>\n",
       "      <td>Perth Scorchers</td>\n",
       "      <td>0</td>\n",
       "      <td>01</td>\n",
       "      <td>0</td>\n",
       "      <td>0</td>\n",
       "    </tr>\n",
       "  </tbody>\n",
       "</table>\n",
       "</div>"
      ],
      "text/plain": [
       "                     ground              team1                team2  \\\n",
       "0               Manuka Oval    Perth Scorchers        Sydney Sixers   \n",
       "1             Adelaide Oval  Adelaide Strikers      Melbourne Stars   \n",
       "2     Sydney Cricket Ground      Sydney Sixers  Melbourne Renegades   \n",
       "3  Melbourne Cricket Ground    Melbourne Stars    Hobart Hurricanes   \n",
       "4           W.A.C.A. Ground    Perth Scorchers      Melbourne Stars   \n",
       "\n",
       "   neutral_venue  home_venue        first_innings      toss_winner  \\\n",
       "0              1           0        Sydney Sixers    Sydney Sixers   \n",
       "1              0           1      Melbourne Stars  Melbourne Stars   \n",
       "2              0           1  Melbourne Renegades    Sydney Sixers   \n",
       "3              0           1    Hobart Hurricanes  Melbourne Stars   \n",
       "4              0           1      Perth Scorchers  Perth Scorchers   \n",
       "\n",
       "  toss_choice  dbMktPriceTeam1  dbMktPriceTeam2             victor  derby  \\\n",
       "0         Bat            1.893             2.02    Perth Scorchers      0   \n",
       "1         Bat              NaN              NaN  Adelaide Strikers      0   \n",
       "2        Bowl              NaN              NaN      Sydney Sixers      0   \n",
       "3        Bowl              NaN              NaN  Hobart Hurricanes      0   \n",
       "4         Bat            1.775             2.17    Perth Scorchers      0   \n",
       "\n",
       "  start_month  month_02  month_12  \n",
       "0          01         0         0  \n",
       "1          12         0         1  \n",
       "2          12         0         1  \n",
       "3          12         0         1  \n",
       "4          01         0         0  "
      ]
     },
     "execution_count": 10,
     "metadata": {},
     "output_type": "execute_result"
    }
   ],
   "source": [
    "# 7. Dummy variables for start_month\n",
    "month = pd.get_dummies(data['start_month'], prefix='month', drop_first=True)   # k categories -> k-1 dummies\n",
    "data = pd.concat([data, month], axis=1)\n",
    "data.head()"
   ]
  },
  {
   "cell_type": "code",
   "execution_count": 11,
   "id": "6f2bbdde",
   "metadata": {
    "ExecuteTime": {
     "end_time": "2022-08-07T18:49:15.328638Z",
     "start_time": "2022-08-07T18:49:15.313634Z"
    }
   },
   "outputs": [
    {
     "data": {
      "text/html": [
       "<div>\n",
       "<style scoped>\n",
       "    .dataframe tbody tr th:only-of-type {\n",
       "        vertical-align: middle;\n",
       "    }\n",
       "\n",
       "    .dataframe tbody tr th {\n",
       "        vertical-align: top;\n",
       "    }\n",
       "\n",
       "    .dataframe thead th {\n",
       "        text-align: right;\n",
       "    }\n",
       "</style>\n",
       "<table border=\"1\" class=\"dataframe\">\n",
       "  <thead>\n",
       "    <tr style=\"text-align: right;\">\n",
       "      <th></th>\n",
       "      <th>ground</th>\n",
       "      <th>team1</th>\n",
       "      <th>team2</th>\n",
       "      <th>neutral_venue</th>\n",
       "      <th>home_venue</th>\n",
       "      <th>first_innings</th>\n",
       "      <th>toss_winner</th>\n",
       "      <th>toss_choice</th>\n",
       "      <th>dbMktPriceTeam1</th>\n",
       "      <th>dbMktPriceTeam2</th>\n",
       "      <th>victor</th>\n",
       "      <th>derby</th>\n",
       "      <th>start_month</th>\n",
       "      <th>month_02</th>\n",
       "      <th>month_12</th>\n",
       "    </tr>\n",
       "  </thead>\n",
       "  <tbody>\n",
       "    <tr>\n",
       "      <th>0</th>\n",
       "      <td>Manuka Oval</td>\n",
       "      <td>Perth Scorchers</td>\n",
       "      <td>Sydney Sixers</td>\n",
       "      <td>1</td>\n",
       "      <td>0</td>\n",
       "      <td>Sydney Sixers</td>\n",
       "      <td>Sydney Sixers</td>\n",
       "      <td>Bat</td>\n",
       "      <td>1.893</td>\n",
       "      <td>2.020</td>\n",
       "      <td>Perth Scorchers</td>\n",
       "      <td>0</td>\n",
       "      <td>01</td>\n",
       "      <td>0</td>\n",
       "      <td>0</td>\n",
       "    </tr>\n",
       "    <tr>\n",
       "      <th>4</th>\n",
       "      <td>W.A.C.A. Ground</td>\n",
       "      <td>Perth Scorchers</td>\n",
       "      <td>Melbourne Stars</td>\n",
       "      <td>0</td>\n",
       "      <td>1</td>\n",
       "      <td>Perth Scorchers</td>\n",
       "      <td>Perth Scorchers</td>\n",
       "      <td>Bat</td>\n",
       "      <td>1.775</td>\n",
       "      <td>2.170</td>\n",
       "      <td>Perth Scorchers</td>\n",
       "      <td>0</td>\n",
       "      <td>01</td>\n",
       "      <td>0</td>\n",
       "      <td>0</td>\n",
       "    </tr>\n",
       "    <tr>\n",
       "      <th>5</th>\n",
       "      <td>Adelaide Oval</td>\n",
       "      <td>Adelaide Strikers</td>\n",
       "      <td>Hobart Hurricanes</td>\n",
       "      <td>0</td>\n",
       "      <td>1</td>\n",
       "      <td>Hobart Hurricanes</td>\n",
       "      <td>Hobart Hurricanes</td>\n",
       "      <td>Bat</td>\n",
       "      <td>2.220</td>\n",
       "      <td>1.741</td>\n",
       "      <td>Adelaide Strikers</td>\n",
       "      <td>0</td>\n",
       "      <td>12</td>\n",
       "      <td>0</td>\n",
       "      <td>1</td>\n",
       "    </tr>\n",
       "    <tr>\n",
       "      <th>6</th>\n",
       "      <td>Docklands Stadium</td>\n",
       "      <td>Melbourne Renegades</td>\n",
       "      <td>Sydney Thunder</td>\n",
       "      <td>0</td>\n",
       "      <td>1</td>\n",
       "      <td>Sydney Thunder</td>\n",
       "      <td>Melbourne Renegades</td>\n",
       "      <td>Bowl</td>\n",
       "      <td>1.690</td>\n",
       "      <td>2.310</td>\n",
       "      <td>Melbourne Renegades</td>\n",
       "      <td>0</td>\n",
       "      <td>12</td>\n",
       "      <td>0</td>\n",
       "      <td>1</td>\n",
       "    </tr>\n",
       "    <tr>\n",
       "      <th>7</th>\n",
       "      <td>Sydney Cricket Ground</td>\n",
       "      <td>Sydney Sixers</td>\n",
       "      <td>Perth Scorchers</td>\n",
       "      <td>0</td>\n",
       "      <td>1</td>\n",
       "      <td>Perth Scorchers</td>\n",
       "      <td>Perth Scorchers</td>\n",
       "      <td>Bat</td>\n",
       "      <td>1.633</td>\n",
       "      <td>2.430</td>\n",
       "      <td>Perth Scorchers</td>\n",
       "      <td>0</td>\n",
       "      <td>12</td>\n",
       "      <td>0</td>\n",
       "      <td>1</td>\n",
       "    </tr>\n",
       "  </tbody>\n",
       "</table>\n",
       "</div>"
      ],
      "text/plain": [
       "                  ground                team1              team2  \\\n",
       "0            Manuka Oval      Perth Scorchers      Sydney Sixers   \n",
       "4        W.A.C.A. Ground      Perth Scorchers    Melbourne Stars   \n",
       "5          Adelaide Oval    Adelaide Strikers  Hobart Hurricanes   \n",
       "6      Docklands Stadium  Melbourne Renegades     Sydney Thunder   \n",
       "7  Sydney Cricket Ground        Sydney Sixers    Perth Scorchers   \n",
       "\n",
       "   neutral_venue  home_venue      first_innings          toss_winner  \\\n",
       "0              1           0      Sydney Sixers        Sydney Sixers   \n",
       "4              0           1    Perth Scorchers      Perth Scorchers   \n",
       "5              0           1  Hobart Hurricanes    Hobart Hurricanes   \n",
       "6              0           1     Sydney Thunder  Melbourne Renegades   \n",
       "7              0           1    Perth Scorchers      Perth Scorchers   \n",
       "\n",
       "  toss_choice  dbMktPriceTeam1  dbMktPriceTeam2               victor  derby  \\\n",
       "0         Bat            1.893            2.020      Perth Scorchers      0   \n",
       "4         Bat            1.775            2.170      Perth Scorchers      0   \n",
       "5         Bat            2.220            1.741    Adelaide Strikers      0   \n",
       "6        Bowl            1.690            2.310  Melbourne Renegades      0   \n",
       "7         Bat            1.633            2.430      Perth Scorchers      0   \n",
       "\n",
       "  start_month  month_02  month_12  \n",
       "0          01         0         0  \n",
       "4          01         0         0  \n",
       "5          12         0         1  \n",
       "6          12         0         1  \n",
       "7          12         0         1  "
      ]
     },
     "execution_count": 11,
     "metadata": {},
     "output_type": "execute_result"
    }
   ],
   "source": [
    "# 8. Drop rows if dbMktPrice is NaN to compare with Benchmark\n",
    "data = data.dropna(subset=['dbMktPriceTeam1', 'dbMktPriceTeam2'])     # 9 instances dropped\n",
    "data.head()"
   ]
  },
  {
   "cell_type": "code",
   "execution_count": 12,
   "id": "20adcb41",
   "metadata": {
    "ExecuteTime": {
     "end_time": "2022-08-07T18:49:15.343640Z",
     "start_time": "2022-08-07T18:49:15.329637Z"
    }
   },
   "outputs": [],
   "source": [
    "# Save the dataframe as an image\n",
    "df = data.drop(columns=['ground', 'start_month']).head()\n",
    "# dfi.export(df, 'generalprocessed.png', fontsize=16, max_cols=-1, max_rows=-1)"
   ]
  },
  {
   "cell_type": "code",
   "execution_count": 13,
   "id": "2c18e8d7",
   "metadata": {
    "ExecuteTime": {
     "end_time": "2022-08-07T18:49:15.359645Z",
     "start_time": "2022-08-07T18:49:15.344641Z"
    }
   },
   "outputs": [],
   "source": [
    "# Export the preprocessed file\n",
    "data.to_csv('./data/pjt02_data_processed.csv')"
   ]
  },
  {
   "cell_type": "markdown",
   "id": "df54a865",
   "metadata": {},
   "source": [
    "## Analysis-specfic preprocessing\n",
    "A game data is converted in the view of each team and the size gets doubled."
   ]
  },
  {
   "cell_type": "markdown",
   "id": "ec08aa21",
   "metadata": {},
   "source": [
    "**For team 1**"
   ]
  },
  {
   "cell_type": "code",
   "execution_count": 14,
   "id": "35a3a25a",
   "metadata": {
    "ExecuteTime": {
     "end_time": "2022-08-07T18:49:15.375648Z",
     "start_time": "2022-08-07T18:49:15.361645Z"
    }
   },
   "outputs": [
    {
     "data": {
      "text/html": [
       "<div>\n",
       "<style scoped>\n",
       "    .dataframe tbody tr th:only-of-type {\n",
       "        vertical-align: middle;\n",
       "    }\n",
       "\n",
       "    .dataframe tbody tr th {\n",
       "        vertical-align: top;\n",
       "    }\n",
       "\n",
       "    .dataframe thead th {\n",
       "        text-align: right;\n",
       "    }\n",
       "</style>\n",
       "<table border=\"1\" class=\"dataframe\">\n",
       "  <thead>\n",
       "    <tr style=\"text-align: right;\">\n",
       "      <th></th>\n",
       "      <th>ground</th>\n",
       "      <th>team1</th>\n",
       "      <th>team2</th>\n",
       "      <th>neutral_venue</th>\n",
       "      <th>home_venue</th>\n",
       "      <th>first_innings</th>\n",
       "      <th>toss_winner</th>\n",
       "      <th>toss_choice</th>\n",
       "      <th>dbMktPriceTeam1</th>\n",
       "      <th>dbMktPriceTeam2</th>\n",
       "      <th>victor</th>\n",
       "      <th>derby</th>\n",
       "      <th>start_month</th>\n",
       "      <th>month_02</th>\n",
       "      <th>month_12</th>\n",
       "    </tr>\n",
       "  </thead>\n",
       "  <tbody>\n",
       "    <tr>\n",
       "      <th>0</th>\n",
       "      <td>Manuka Oval</td>\n",
       "      <td>Perth Scorchers</td>\n",
       "      <td>Sydney Sixers</td>\n",
       "      <td>1</td>\n",
       "      <td>0</td>\n",
       "      <td>0</td>\n",
       "      <td>Sydney Sixers</td>\n",
       "      <td>Bat</td>\n",
       "      <td>1.893</td>\n",
       "      <td>2.020</td>\n",
       "      <td>Perth Scorchers</td>\n",
       "      <td>0</td>\n",
       "      <td>01</td>\n",
       "      <td>0</td>\n",
       "      <td>0</td>\n",
       "    </tr>\n",
       "    <tr>\n",
       "      <th>4</th>\n",
       "      <td>W.A.C.A. Ground</td>\n",
       "      <td>Perth Scorchers</td>\n",
       "      <td>Melbourne Stars</td>\n",
       "      <td>0</td>\n",
       "      <td>1</td>\n",
       "      <td>1</td>\n",
       "      <td>Perth Scorchers</td>\n",
       "      <td>Bat</td>\n",
       "      <td>1.775</td>\n",
       "      <td>2.170</td>\n",
       "      <td>Perth Scorchers</td>\n",
       "      <td>0</td>\n",
       "      <td>01</td>\n",
       "      <td>0</td>\n",
       "      <td>0</td>\n",
       "    </tr>\n",
       "    <tr>\n",
       "      <th>5</th>\n",
       "      <td>Adelaide Oval</td>\n",
       "      <td>Adelaide Strikers</td>\n",
       "      <td>Hobart Hurricanes</td>\n",
       "      <td>0</td>\n",
       "      <td>1</td>\n",
       "      <td>0</td>\n",
       "      <td>Hobart Hurricanes</td>\n",
       "      <td>Bat</td>\n",
       "      <td>2.220</td>\n",
       "      <td>1.741</td>\n",
       "      <td>Adelaide Strikers</td>\n",
       "      <td>0</td>\n",
       "      <td>12</td>\n",
       "      <td>0</td>\n",
       "      <td>1</td>\n",
       "    </tr>\n",
       "    <tr>\n",
       "      <th>6</th>\n",
       "      <td>Docklands Stadium</td>\n",
       "      <td>Melbourne Renegades</td>\n",
       "      <td>Sydney Thunder</td>\n",
       "      <td>0</td>\n",
       "      <td>1</td>\n",
       "      <td>0</td>\n",
       "      <td>Melbourne Renegades</td>\n",
       "      <td>Bowl</td>\n",
       "      <td>1.690</td>\n",
       "      <td>2.310</td>\n",
       "      <td>Melbourne Renegades</td>\n",
       "      <td>0</td>\n",
       "      <td>12</td>\n",
       "      <td>0</td>\n",
       "      <td>1</td>\n",
       "    </tr>\n",
       "    <tr>\n",
       "      <th>7</th>\n",
       "      <td>Sydney Cricket Ground</td>\n",
       "      <td>Sydney Sixers</td>\n",
       "      <td>Perth Scorchers</td>\n",
       "      <td>0</td>\n",
       "      <td>1</td>\n",
       "      <td>0</td>\n",
       "      <td>Perth Scorchers</td>\n",
       "      <td>Bat</td>\n",
       "      <td>1.633</td>\n",
       "      <td>2.430</td>\n",
       "      <td>Perth Scorchers</td>\n",
       "      <td>0</td>\n",
       "      <td>12</td>\n",
       "      <td>0</td>\n",
       "      <td>1</td>\n",
       "    </tr>\n",
       "  </tbody>\n",
       "</table>\n",
       "</div>"
      ],
      "text/plain": [
       "                  ground                team1              team2  \\\n",
       "0            Manuka Oval      Perth Scorchers      Sydney Sixers   \n",
       "4        W.A.C.A. Ground      Perth Scorchers    Melbourne Stars   \n",
       "5          Adelaide Oval    Adelaide Strikers  Hobart Hurricanes   \n",
       "6      Docklands Stadium  Melbourne Renegades     Sydney Thunder   \n",
       "7  Sydney Cricket Ground        Sydney Sixers    Perth Scorchers   \n",
       "\n",
       "   neutral_venue  home_venue  first_innings          toss_winner toss_choice  \\\n",
       "0              1           0              0        Sydney Sixers         Bat   \n",
       "4              0           1              1      Perth Scorchers         Bat   \n",
       "5              0           1              0    Hobart Hurricanes         Bat   \n",
       "6              0           1              0  Melbourne Renegades        Bowl   \n",
       "7              0           1              0      Perth Scorchers         Bat   \n",
       "\n",
       "   dbMktPriceTeam1  dbMktPriceTeam2               victor  derby start_month  \\\n",
       "0            1.893            2.020      Perth Scorchers      0          01   \n",
       "4            1.775            2.170      Perth Scorchers      0          01   \n",
       "5            2.220            1.741    Adelaide Strikers      0          12   \n",
       "6            1.690            2.310  Melbourne Renegades      0          12   \n",
       "7            1.633            2.430      Perth Scorchers      0          12   \n",
       "\n",
       "   month_02  month_12  \n",
       "0         0         0  \n",
       "4         0         0  \n",
       "5         0         1  \n",
       "6         0         1  \n",
       "7         0         1  "
      ]
     },
     "execution_count": 14,
     "metadata": {},
     "output_type": "execute_result"
    }
   ],
   "source": [
    "# Convert first_innings into binary if team1 did the first inning\n",
    "t1 = data.copy()\n",
    "t1['first_innings'] = t1.apply(lambda x: 1 if x['team1'] == x['first_innings'] else 0, axis=1)\n",
    "t1.head()"
   ]
  },
  {
   "cell_type": "code",
   "execution_count": 15,
   "id": "1572badf",
   "metadata": {
    "ExecuteTime": {
     "end_time": "2022-08-07T18:49:15.405663Z",
     "start_time": "2022-08-07T18:49:15.376649Z"
    }
   },
   "outputs": [
    {
     "data": {
      "text/html": [
       "<div>\n",
       "<style scoped>\n",
       "    .dataframe tbody tr th:only-of-type {\n",
       "        vertical-align: middle;\n",
       "    }\n",
       "\n",
       "    .dataframe tbody tr th {\n",
       "        vertical-align: top;\n",
       "    }\n",
       "\n",
       "    .dataframe thead th {\n",
       "        text-align: right;\n",
       "    }\n",
       "</style>\n",
       "<table border=\"1\" class=\"dataframe\">\n",
       "  <thead>\n",
       "    <tr style=\"text-align: right;\">\n",
       "      <th></th>\n",
       "      <th>ground</th>\n",
       "      <th>team1</th>\n",
       "      <th>team2</th>\n",
       "      <th>neutral_venue</th>\n",
       "      <th>home_venue</th>\n",
       "      <th>first_innings</th>\n",
       "      <th>toss_winner</th>\n",
       "      <th>toss_choice</th>\n",
       "      <th>dbMktPriceTeam1</th>\n",
       "      <th>dbMktPriceTeam2</th>\n",
       "      <th>victor</th>\n",
       "      <th>derby</th>\n",
       "      <th>start_month</th>\n",
       "      <th>month_02</th>\n",
       "      <th>month_12</th>\n",
       "    </tr>\n",
       "  </thead>\n",
       "  <tbody>\n",
       "    <tr>\n",
       "      <th>0</th>\n",
       "      <td>Manuka Oval</td>\n",
       "      <td>Perth Scorchers</td>\n",
       "      <td>Sydney Sixers</td>\n",
       "      <td>1</td>\n",
       "      <td>0</td>\n",
       "      <td>0</td>\n",
       "      <td>0</td>\n",
       "      <td>Bat</td>\n",
       "      <td>1.893</td>\n",
       "      <td>2.020</td>\n",
       "      <td>Perth Scorchers</td>\n",
       "      <td>0</td>\n",
       "      <td>01</td>\n",
       "      <td>0</td>\n",
       "      <td>0</td>\n",
       "    </tr>\n",
       "    <tr>\n",
       "      <th>4</th>\n",
       "      <td>W.A.C.A. Ground</td>\n",
       "      <td>Perth Scorchers</td>\n",
       "      <td>Melbourne Stars</td>\n",
       "      <td>0</td>\n",
       "      <td>1</td>\n",
       "      <td>1</td>\n",
       "      <td>1</td>\n",
       "      <td>Bat</td>\n",
       "      <td>1.775</td>\n",
       "      <td>2.170</td>\n",
       "      <td>Perth Scorchers</td>\n",
       "      <td>0</td>\n",
       "      <td>01</td>\n",
       "      <td>0</td>\n",
       "      <td>0</td>\n",
       "    </tr>\n",
       "    <tr>\n",
       "      <th>5</th>\n",
       "      <td>Adelaide Oval</td>\n",
       "      <td>Adelaide Strikers</td>\n",
       "      <td>Hobart Hurricanes</td>\n",
       "      <td>0</td>\n",
       "      <td>1</td>\n",
       "      <td>0</td>\n",
       "      <td>0</td>\n",
       "      <td>Bat</td>\n",
       "      <td>2.220</td>\n",
       "      <td>1.741</td>\n",
       "      <td>Adelaide Strikers</td>\n",
       "      <td>0</td>\n",
       "      <td>12</td>\n",
       "      <td>0</td>\n",
       "      <td>1</td>\n",
       "    </tr>\n",
       "    <tr>\n",
       "      <th>6</th>\n",
       "      <td>Docklands Stadium</td>\n",
       "      <td>Melbourne Renegades</td>\n",
       "      <td>Sydney Thunder</td>\n",
       "      <td>0</td>\n",
       "      <td>1</td>\n",
       "      <td>0</td>\n",
       "      <td>1</td>\n",
       "      <td>Bowl</td>\n",
       "      <td>1.690</td>\n",
       "      <td>2.310</td>\n",
       "      <td>Melbourne Renegades</td>\n",
       "      <td>0</td>\n",
       "      <td>12</td>\n",
       "      <td>0</td>\n",
       "      <td>1</td>\n",
       "    </tr>\n",
       "    <tr>\n",
       "      <th>7</th>\n",
       "      <td>Sydney Cricket Ground</td>\n",
       "      <td>Sydney Sixers</td>\n",
       "      <td>Perth Scorchers</td>\n",
       "      <td>0</td>\n",
       "      <td>1</td>\n",
       "      <td>0</td>\n",
       "      <td>0</td>\n",
       "      <td>Bat</td>\n",
       "      <td>1.633</td>\n",
       "      <td>2.430</td>\n",
       "      <td>Perth Scorchers</td>\n",
       "      <td>0</td>\n",
       "      <td>12</td>\n",
       "      <td>0</td>\n",
       "      <td>1</td>\n",
       "    </tr>\n",
       "  </tbody>\n",
       "</table>\n",
       "</div>"
      ],
      "text/plain": [
       "                  ground                team1              team2  \\\n",
       "0            Manuka Oval      Perth Scorchers      Sydney Sixers   \n",
       "4        W.A.C.A. Ground      Perth Scorchers    Melbourne Stars   \n",
       "5          Adelaide Oval    Adelaide Strikers  Hobart Hurricanes   \n",
       "6      Docklands Stadium  Melbourne Renegades     Sydney Thunder   \n",
       "7  Sydney Cricket Ground        Sydney Sixers    Perth Scorchers   \n",
       "\n",
       "   neutral_venue  home_venue  first_innings  toss_winner toss_choice  \\\n",
       "0              1           0              0            0         Bat   \n",
       "4              0           1              1            1         Bat   \n",
       "5              0           1              0            0         Bat   \n",
       "6              0           1              0            1        Bowl   \n",
       "7              0           1              0            0         Bat   \n",
       "\n",
       "   dbMktPriceTeam1  dbMktPriceTeam2               victor  derby start_month  \\\n",
       "0            1.893            2.020      Perth Scorchers      0          01   \n",
       "4            1.775            2.170      Perth Scorchers      0          01   \n",
       "5            2.220            1.741    Adelaide Strikers      0          12   \n",
       "6            1.690            2.310  Melbourne Renegades      0          12   \n",
       "7            1.633            2.430      Perth Scorchers      0          12   \n",
       "\n",
       "   month_02  month_12  \n",
       "0         0         0  \n",
       "4         0         0  \n",
       "5         0         1  \n",
       "6         0         1  \n",
       "7         0         1  "
      ]
     },
     "execution_count": 15,
     "metadata": {},
     "output_type": "execute_result"
    }
   ],
   "source": [
    "# Convert toss_winner into binary if team1 won the toss\n",
    "t1['toss_winner'] = t1.apply(lambda x: 1 if x['team1'] == x['toss_winner'] else 0, axis=1)\n",
    "t1.head()"
   ]
  },
  {
   "cell_type": "code",
   "execution_count": 16,
   "id": "2a482469",
   "metadata": {
    "ExecuteTime": {
     "end_time": "2022-08-07T18:49:15.437670Z",
     "start_time": "2022-08-07T18:49:15.407663Z"
    }
   },
   "outputs": [
    {
     "data": {
      "text/html": [
       "<div>\n",
       "<style scoped>\n",
       "    .dataframe tbody tr th:only-of-type {\n",
       "        vertical-align: middle;\n",
       "    }\n",
       "\n",
       "    .dataframe tbody tr th {\n",
       "        vertical-align: top;\n",
       "    }\n",
       "\n",
       "    .dataframe thead th {\n",
       "        text-align: right;\n",
       "    }\n",
       "</style>\n",
       "<table border=\"1\" class=\"dataframe\">\n",
       "  <thead>\n",
       "    <tr style=\"text-align: right;\">\n",
       "      <th></th>\n",
       "      <th>ground</th>\n",
       "      <th>team1</th>\n",
       "      <th>team2</th>\n",
       "      <th>neutral_venue</th>\n",
       "      <th>home_venue</th>\n",
       "      <th>first_innings</th>\n",
       "      <th>toss_winner</th>\n",
       "      <th>toss_choice</th>\n",
       "      <th>dbMktPriceTeam1</th>\n",
       "      <th>dbMktPriceTeam2</th>\n",
       "      <th>victor</th>\n",
       "      <th>derby</th>\n",
       "      <th>start_month</th>\n",
       "      <th>month_02</th>\n",
       "      <th>month_12</th>\n",
       "    </tr>\n",
       "  </thead>\n",
       "  <tbody>\n",
       "    <tr>\n",
       "      <th>0</th>\n",
       "      <td>Manuka Oval</td>\n",
       "      <td>Perth Scorchers</td>\n",
       "      <td>Sydney Sixers</td>\n",
       "      <td>1</td>\n",
       "      <td>0</td>\n",
       "      <td>0</td>\n",
       "      <td>0</td>\n",
       "      <td>Bat</td>\n",
       "      <td>1.893</td>\n",
       "      <td>2.020</td>\n",
       "      <td>1</td>\n",
       "      <td>0</td>\n",
       "      <td>01</td>\n",
       "      <td>0</td>\n",
       "      <td>0</td>\n",
       "    </tr>\n",
       "    <tr>\n",
       "      <th>4</th>\n",
       "      <td>W.A.C.A. Ground</td>\n",
       "      <td>Perth Scorchers</td>\n",
       "      <td>Melbourne Stars</td>\n",
       "      <td>0</td>\n",
       "      <td>1</td>\n",
       "      <td>1</td>\n",
       "      <td>1</td>\n",
       "      <td>Bat</td>\n",
       "      <td>1.775</td>\n",
       "      <td>2.170</td>\n",
       "      <td>1</td>\n",
       "      <td>0</td>\n",
       "      <td>01</td>\n",
       "      <td>0</td>\n",
       "      <td>0</td>\n",
       "    </tr>\n",
       "    <tr>\n",
       "      <th>5</th>\n",
       "      <td>Adelaide Oval</td>\n",
       "      <td>Adelaide Strikers</td>\n",
       "      <td>Hobart Hurricanes</td>\n",
       "      <td>0</td>\n",
       "      <td>1</td>\n",
       "      <td>0</td>\n",
       "      <td>0</td>\n",
       "      <td>Bat</td>\n",
       "      <td>2.220</td>\n",
       "      <td>1.741</td>\n",
       "      <td>1</td>\n",
       "      <td>0</td>\n",
       "      <td>12</td>\n",
       "      <td>0</td>\n",
       "      <td>1</td>\n",
       "    </tr>\n",
       "    <tr>\n",
       "      <th>6</th>\n",
       "      <td>Docklands Stadium</td>\n",
       "      <td>Melbourne Renegades</td>\n",
       "      <td>Sydney Thunder</td>\n",
       "      <td>0</td>\n",
       "      <td>1</td>\n",
       "      <td>0</td>\n",
       "      <td>1</td>\n",
       "      <td>Bowl</td>\n",
       "      <td>1.690</td>\n",
       "      <td>2.310</td>\n",
       "      <td>1</td>\n",
       "      <td>0</td>\n",
       "      <td>12</td>\n",
       "      <td>0</td>\n",
       "      <td>1</td>\n",
       "    </tr>\n",
       "    <tr>\n",
       "      <th>7</th>\n",
       "      <td>Sydney Cricket Ground</td>\n",
       "      <td>Sydney Sixers</td>\n",
       "      <td>Perth Scorchers</td>\n",
       "      <td>0</td>\n",
       "      <td>1</td>\n",
       "      <td>0</td>\n",
       "      <td>0</td>\n",
       "      <td>Bat</td>\n",
       "      <td>1.633</td>\n",
       "      <td>2.430</td>\n",
       "      <td>0</td>\n",
       "      <td>0</td>\n",
       "      <td>12</td>\n",
       "      <td>0</td>\n",
       "      <td>1</td>\n",
       "    </tr>\n",
       "  </tbody>\n",
       "</table>\n",
       "</div>"
      ],
      "text/plain": [
       "                  ground                team1              team2  \\\n",
       "0            Manuka Oval      Perth Scorchers      Sydney Sixers   \n",
       "4        W.A.C.A. Ground      Perth Scorchers    Melbourne Stars   \n",
       "5          Adelaide Oval    Adelaide Strikers  Hobart Hurricanes   \n",
       "6      Docklands Stadium  Melbourne Renegades     Sydney Thunder   \n",
       "7  Sydney Cricket Ground        Sydney Sixers    Perth Scorchers   \n",
       "\n",
       "   neutral_venue  home_venue  first_innings  toss_winner toss_choice  \\\n",
       "0              1           0              0            0         Bat   \n",
       "4              0           1              1            1         Bat   \n",
       "5              0           1              0            0         Bat   \n",
       "6              0           1              0            1        Bowl   \n",
       "7              0           1              0            0         Bat   \n",
       "\n",
       "   dbMktPriceTeam1  dbMktPriceTeam2  victor  derby start_month  month_02  \\\n",
       "0            1.893            2.020       1      0          01         0   \n",
       "4            1.775            2.170       1      0          01         0   \n",
       "5            2.220            1.741       1      0          12         0   \n",
       "6            1.690            2.310       1      0          12         0   \n",
       "7            1.633            2.430       0      0          12         0   \n",
       "\n",
       "   month_12  \n",
       "0         0  \n",
       "4         0  \n",
       "5         1  \n",
       "6         1  \n",
       "7         1  "
      ]
     },
     "execution_count": 16,
     "metadata": {},
     "output_type": "execute_result"
    }
   ],
   "source": [
    "# Convert victory into binary if team1 won the game\n",
    "t1['victor'] = t1.apply(lambda x: 1 if x['team1'] == x['victor'] else 0, axis=1)\n",
    "t1.head()"
   ]
  },
  {
   "cell_type": "code",
   "execution_count": 17,
   "id": "a103c5ad",
   "metadata": {
    "ExecuteTime": {
     "end_time": "2022-08-07T18:49:15.453674Z",
     "start_time": "2022-08-07T18:49:15.438670Z"
    }
   },
   "outputs": [
    {
     "data": {
      "text/html": [
       "<div>\n",
       "<style scoped>\n",
       "    .dataframe tbody tr th:only-of-type {\n",
       "        vertical-align: middle;\n",
       "    }\n",
       "\n",
       "    .dataframe tbody tr th {\n",
       "        vertical-align: top;\n",
       "    }\n",
       "\n",
       "    .dataframe thead th {\n",
       "        text-align: right;\n",
       "    }\n",
       "</style>\n",
       "<table border=\"1\" class=\"dataframe\">\n",
       "  <thead>\n",
       "    <tr style=\"text-align: right;\">\n",
       "      <th></th>\n",
       "      <th>ground</th>\n",
       "      <th>neutral_venue</th>\n",
       "      <th>home_venue</th>\n",
       "      <th>first_innings</th>\n",
       "      <th>toss_winner</th>\n",
       "      <th>toss_choice</th>\n",
       "      <th>dbMktPriceTeam1</th>\n",
       "      <th>dbMktPriceTeam2</th>\n",
       "      <th>victor</th>\n",
       "      <th>derby</th>\n",
       "      <th>start_month</th>\n",
       "      <th>month_02</th>\n",
       "      <th>month_12</th>\n",
       "      <th>Adelaide Strikers</th>\n",
       "      <th>Brisbane Heat</th>\n",
       "      <th>Hobart Hurricanes</th>\n",
       "      <th>Melbourne Renegades</th>\n",
       "      <th>Melbourne Stars</th>\n",
       "      <th>Perth Scorchers</th>\n",
       "      <th>Sydney Sixers</th>\n",
       "      <th>Sydney Thunder</th>\n",
       "      <th>op_Adelaide Strikers</th>\n",
       "      <th>op_Brisbane Heat</th>\n",
       "      <th>op_Hobart Hurricanes</th>\n",
       "      <th>op_Melbourne Renegades</th>\n",
       "      <th>op_Melbourne Stars</th>\n",
       "      <th>op_Perth Scorchers</th>\n",
       "      <th>op_Sydney Sixers</th>\n",
       "      <th>op_Sydney Thunder</th>\n",
       "    </tr>\n",
       "  </thead>\n",
       "  <tbody>\n",
       "    <tr>\n",
       "      <th>0</th>\n",
       "      <td>Manuka Oval</td>\n",
       "      <td>1</td>\n",
       "      <td>0</td>\n",
       "      <td>0</td>\n",
       "      <td>0</td>\n",
       "      <td>Bat</td>\n",
       "      <td>1.893</td>\n",
       "      <td>2.020</td>\n",
       "      <td>1</td>\n",
       "      <td>0</td>\n",
       "      <td>01</td>\n",
       "      <td>0</td>\n",
       "      <td>0</td>\n",
       "      <td>0</td>\n",
       "      <td>0</td>\n",
       "      <td>0</td>\n",
       "      <td>0</td>\n",
       "      <td>0</td>\n",
       "      <td>1</td>\n",
       "      <td>0</td>\n",
       "      <td>0</td>\n",
       "      <td>0</td>\n",
       "      <td>0</td>\n",
       "      <td>0</td>\n",
       "      <td>0</td>\n",
       "      <td>0</td>\n",
       "      <td>0</td>\n",
       "      <td>1</td>\n",
       "      <td>0</td>\n",
       "    </tr>\n",
       "    <tr>\n",
       "      <th>4</th>\n",
       "      <td>W.A.C.A. Ground</td>\n",
       "      <td>0</td>\n",
       "      <td>1</td>\n",
       "      <td>1</td>\n",
       "      <td>1</td>\n",
       "      <td>Bat</td>\n",
       "      <td>1.775</td>\n",
       "      <td>2.170</td>\n",
       "      <td>1</td>\n",
       "      <td>0</td>\n",
       "      <td>01</td>\n",
       "      <td>0</td>\n",
       "      <td>0</td>\n",
       "      <td>0</td>\n",
       "      <td>0</td>\n",
       "      <td>0</td>\n",
       "      <td>0</td>\n",
       "      <td>0</td>\n",
       "      <td>1</td>\n",
       "      <td>0</td>\n",
       "      <td>0</td>\n",
       "      <td>0</td>\n",
       "      <td>0</td>\n",
       "      <td>0</td>\n",
       "      <td>0</td>\n",
       "      <td>1</td>\n",
       "      <td>0</td>\n",
       "      <td>0</td>\n",
       "      <td>0</td>\n",
       "    </tr>\n",
       "    <tr>\n",
       "      <th>5</th>\n",
       "      <td>Adelaide Oval</td>\n",
       "      <td>0</td>\n",
       "      <td>1</td>\n",
       "      <td>0</td>\n",
       "      <td>0</td>\n",
       "      <td>Bat</td>\n",
       "      <td>2.220</td>\n",
       "      <td>1.741</td>\n",
       "      <td>1</td>\n",
       "      <td>0</td>\n",
       "      <td>12</td>\n",
       "      <td>0</td>\n",
       "      <td>1</td>\n",
       "      <td>1</td>\n",
       "      <td>0</td>\n",
       "      <td>0</td>\n",
       "      <td>0</td>\n",
       "      <td>0</td>\n",
       "      <td>0</td>\n",
       "      <td>0</td>\n",
       "      <td>0</td>\n",
       "      <td>0</td>\n",
       "      <td>0</td>\n",
       "      <td>1</td>\n",
       "      <td>0</td>\n",
       "      <td>0</td>\n",
       "      <td>0</td>\n",
       "      <td>0</td>\n",
       "      <td>0</td>\n",
       "    </tr>\n",
       "    <tr>\n",
       "      <th>6</th>\n",
       "      <td>Docklands Stadium</td>\n",
       "      <td>0</td>\n",
       "      <td>1</td>\n",
       "      <td>0</td>\n",
       "      <td>1</td>\n",
       "      <td>Bowl</td>\n",
       "      <td>1.690</td>\n",
       "      <td>2.310</td>\n",
       "      <td>1</td>\n",
       "      <td>0</td>\n",
       "      <td>12</td>\n",
       "      <td>0</td>\n",
       "      <td>1</td>\n",
       "      <td>0</td>\n",
       "      <td>0</td>\n",
       "      <td>0</td>\n",
       "      <td>1</td>\n",
       "      <td>0</td>\n",
       "      <td>0</td>\n",
       "      <td>0</td>\n",
       "      <td>0</td>\n",
       "      <td>0</td>\n",
       "      <td>0</td>\n",
       "      <td>0</td>\n",
       "      <td>0</td>\n",
       "      <td>0</td>\n",
       "      <td>0</td>\n",
       "      <td>0</td>\n",
       "      <td>1</td>\n",
       "    </tr>\n",
       "    <tr>\n",
       "      <th>7</th>\n",
       "      <td>Sydney Cricket Ground</td>\n",
       "      <td>0</td>\n",
       "      <td>1</td>\n",
       "      <td>0</td>\n",
       "      <td>0</td>\n",
       "      <td>Bat</td>\n",
       "      <td>1.633</td>\n",
       "      <td>2.430</td>\n",
       "      <td>0</td>\n",
       "      <td>0</td>\n",
       "      <td>12</td>\n",
       "      <td>0</td>\n",
       "      <td>1</td>\n",
       "      <td>0</td>\n",
       "      <td>0</td>\n",
       "      <td>0</td>\n",
       "      <td>0</td>\n",
       "      <td>0</td>\n",
       "      <td>0</td>\n",
       "      <td>1</td>\n",
       "      <td>0</td>\n",
       "      <td>0</td>\n",
       "      <td>0</td>\n",
       "      <td>0</td>\n",
       "      <td>0</td>\n",
       "      <td>0</td>\n",
       "      <td>1</td>\n",
       "      <td>0</td>\n",
       "      <td>0</td>\n",
       "    </tr>\n",
       "  </tbody>\n",
       "</table>\n",
       "</div>"
      ],
      "text/plain": [
       "                  ground  neutral_venue  home_venue  first_innings  \\\n",
       "0            Manuka Oval              1           0              0   \n",
       "4        W.A.C.A. Ground              0           1              1   \n",
       "5          Adelaide Oval              0           1              0   \n",
       "6      Docklands Stadium              0           1              0   \n",
       "7  Sydney Cricket Ground              0           1              0   \n",
       "\n",
       "   toss_winner toss_choice  dbMktPriceTeam1  dbMktPriceTeam2  victor  derby  \\\n",
       "0            0         Bat            1.893            2.020       1      0   \n",
       "4            1         Bat            1.775            2.170       1      0   \n",
       "5            0         Bat            2.220            1.741       1      0   \n",
       "6            1        Bowl            1.690            2.310       1      0   \n",
       "7            0         Bat            1.633            2.430       0      0   \n",
       "\n",
       "  start_month  month_02  month_12  Adelaide Strikers  Brisbane Heat  \\\n",
       "0          01         0         0                  0              0   \n",
       "4          01         0         0                  0              0   \n",
       "5          12         0         1                  1              0   \n",
       "6          12         0         1                  0              0   \n",
       "7          12         0         1                  0              0   \n",
       "\n",
       "   Hobart Hurricanes  Melbourne Renegades  Melbourne Stars  Perth Scorchers  \\\n",
       "0                  0                    0                0                1   \n",
       "4                  0                    0                0                1   \n",
       "5                  0                    0                0                0   \n",
       "6                  0                    1                0                0   \n",
       "7                  0                    0                0                0   \n",
       "\n",
       "   Sydney Sixers  Sydney Thunder  op_Adelaide Strikers  op_Brisbane Heat  \\\n",
       "0              0               0                     0                 0   \n",
       "4              0               0                     0                 0   \n",
       "5              0               0                     0                 0   \n",
       "6              0               0                     0                 0   \n",
       "7              1               0                     0                 0   \n",
       "\n",
       "   op_Hobart Hurricanes  op_Melbourne Renegades  op_Melbourne Stars  \\\n",
       "0                     0                       0                   0   \n",
       "4                     0                       0                   1   \n",
       "5                     1                       0                   0   \n",
       "6                     0                       0                   0   \n",
       "7                     0                       0                   0   \n",
       "\n",
       "   op_Perth Scorchers  op_Sydney Sixers  op_Sydney Thunder  \n",
       "0                   0                 1                  0  \n",
       "4                   0                 0                  0  \n",
       "5                   0                 0                  0  \n",
       "6                   0                 0                  1  \n",
       "7                   1                 0                  0  "
      ]
     },
     "execution_count": 17,
     "metadata": {},
     "output_type": "execute_result"
    }
   ],
   "source": [
    "# Dummy variable for teams\n",
    "t1 = pd.get_dummies(t1, columns=['team1', 'team2'], prefix=['', 'op'], prefix_sep=['', '_'])\n",
    "t1.head()"
   ]
  },
  {
   "cell_type": "code",
   "execution_count": 18,
   "id": "9fe0d1d4",
   "metadata": {
    "ExecuteTime": {
     "end_time": "2022-08-07T18:49:15.468676Z",
     "start_time": "2022-08-07T18:49:15.454674Z"
    }
   },
   "outputs": [
    {
     "data": {
      "text/html": [
       "<div>\n",
       "<style scoped>\n",
       "    .dataframe tbody tr th:only-of-type {\n",
       "        vertical-align: middle;\n",
       "    }\n",
       "\n",
       "    .dataframe tbody tr th {\n",
       "        vertical-align: top;\n",
       "    }\n",
       "\n",
       "    .dataframe thead th {\n",
       "        text-align: right;\n",
       "    }\n",
       "</style>\n",
       "<table border=\"1\" class=\"dataframe\">\n",
       "  <thead>\n",
       "    <tr style=\"text-align: right;\">\n",
       "      <th></th>\n",
       "      <th>neutral_venue</th>\n",
       "      <th>home_venue</th>\n",
       "      <th>first_innings</th>\n",
       "      <th>toss_winner</th>\n",
       "      <th>victor</th>\n",
       "      <th>derby</th>\n",
       "      <th>month_02</th>\n",
       "      <th>month_12</th>\n",
       "      <th>Adelaide Strikers</th>\n",
       "      <th>Brisbane Heat</th>\n",
       "      <th>Hobart Hurricanes</th>\n",
       "      <th>Melbourne Renegades</th>\n",
       "      <th>Melbourne Stars</th>\n",
       "      <th>Perth Scorchers</th>\n",
       "      <th>Sydney Sixers</th>\n",
       "      <th>Sydney Thunder</th>\n",
       "      <th>op_Adelaide Strikers</th>\n",
       "      <th>op_Brisbane Heat</th>\n",
       "      <th>op_Hobart Hurricanes</th>\n",
       "      <th>op_Melbourne Renegades</th>\n",
       "      <th>op_Melbourne Stars</th>\n",
       "      <th>op_Perth Scorchers</th>\n",
       "      <th>op_Sydney Sixers</th>\n",
       "      <th>op_Sydney Thunder</th>\n",
       "    </tr>\n",
       "  </thead>\n",
       "  <tbody>\n",
       "    <tr>\n",
       "      <th>0</th>\n",
       "      <td>1</td>\n",
       "      <td>0</td>\n",
       "      <td>0</td>\n",
       "      <td>0</td>\n",
       "      <td>1</td>\n",
       "      <td>0</td>\n",
       "      <td>0</td>\n",
       "      <td>0</td>\n",
       "      <td>0</td>\n",
       "      <td>0</td>\n",
       "      <td>0</td>\n",
       "      <td>0</td>\n",
       "      <td>0</td>\n",
       "      <td>1</td>\n",
       "      <td>0</td>\n",
       "      <td>0</td>\n",
       "      <td>0</td>\n",
       "      <td>0</td>\n",
       "      <td>0</td>\n",
       "      <td>0</td>\n",
       "      <td>0</td>\n",
       "      <td>0</td>\n",
       "      <td>1</td>\n",
       "      <td>0</td>\n",
       "    </tr>\n",
       "    <tr>\n",
       "      <th>4</th>\n",
       "      <td>0</td>\n",
       "      <td>1</td>\n",
       "      <td>1</td>\n",
       "      <td>1</td>\n",
       "      <td>1</td>\n",
       "      <td>0</td>\n",
       "      <td>0</td>\n",
       "      <td>0</td>\n",
       "      <td>0</td>\n",
       "      <td>0</td>\n",
       "      <td>0</td>\n",
       "      <td>0</td>\n",
       "      <td>0</td>\n",
       "      <td>1</td>\n",
       "      <td>0</td>\n",
       "      <td>0</td>\n",
       "      <td>0</td>\n",
       "      <td>0</td>\n",
       "      <td>0</td>\n",
       "      <td>0</td>\n",
       "      <td>1</td>\n",
       "      <td>0</td>\n",
       "      <td>0</td>\n",
       "      <td>0</td>\n",
       "    </tr>\n",
       "    <tr>\n",
       "      <th>5</th>\n",
       "      <td>0</td>\n",
       "      <td>1</td>\n",
       "      <td>0</td>\n",
       "      <td>0</td>\n",
       "      <td>1</td>\n",
       "      <td>0</td>\n",
       "      <td>0</td>\n",
       "      <td>1</td>\n",
       "      <td>1</td>\n",
       "      <td>0</td>\n",
       "      <td>0</td>\n",
       "      <td>0</td>\n",
       "      <td>0</td>\n",
       "      <td>0</td>\n",
       "      <td>0</td>\n",
       "      <td>0</td>\n",
       "      <td>0</td>\n",
       "      <td>0</td>\n",
       "      <td>1</td>\n",
       "      <td>0</td>\n",
       "      <td>0</td>\n",
       "      <td>0</td>\n",
       "      <td>0</td>\n",
       "      <td>0</td>\n",
       "    </tr>\n",
       "    <tr>\n",
       "      <th>6</th>\n",
       "      <td>0</td>\n",
       "      <td>1</td>\n",
       "      <td>0</td>\n",
       "      <td>1</td>\n",
       "      <td>1</td>\n",
       "      <td>0</td>\n",
       "      <td>0</td>\n",
       "      <td>1</td>\n",
       "      <td>0</td>\n",
       "      <td>0</td>\n",
       "      <td>0</td>\n",
       "      <td>1</td>\n",
       "      <td>0</td>\n",
       "      <td>0</td>\n",
       "      <td>0</td>\n",
       "      <td>0</td>\n",
       "      <td>0</td>\n",
       "      <td>0</td>\n",
       "      <td>0</td>\n",
       "      <td>0</td>\n",
       "      <td>0</td>\n",
       "      <td>0</td>\n",
       "      <td>0</td>\n",
       "      <td>1</td>\n",
       "    </tr>\n",
       "    <tr>\n",
       "      <th>7</th>\n",
       "      <td>0</td>\n",
       "      <td>1</td>\n",
       "      <td>0</td>\n",
       "      <td>0</td>\n",
       "      <td>0</td>\n",
       "      <td>0</td>\n",
       "      <td>0</td>\n",
       "      <td>1</td>\n",
       "      <td>0</td>\n",
       "      <td>0</td>\n",
       "      <td>0</td>\n",
       "      <td>0</td>\n",
       "      <td>0</td>\n",
       "      <td>0</td>\n",
       "      <td>1</td>\n",
       "      <td>0</td>\n",
       "      <td>0</td>\n",
       "      <td>0</td>\n",
       "      <td>0</td>\n",
       "      <td>0</td>\n",
       "      <td>0</td>\n",
       "      <td>1</td>\n",
       "      <td>0</td>\n",
       "      <td>0</td>\n",
       "    </tr>\n",
       "  </tbody>\n",
       "</table>\n",
       "</div>"
      ],
      "text/plain": [
       "   neutral_venue  home_venue  first_innings  toss_winner  victor  derby  \\\n",
       "0              1           0              0            0       1      0   \n",
       "4              0           1              1            1       1      0   \n",
       "5              0           1              0            0       1      0   \n",
       "6              0           1              0            1       1      0   \n",
       "7              0           1              0            0       0      0   \n",
       "\n",
       "   month_02  month_12  Adelaide Strikers  Brisbane Heat  Hobart Hurricanes  \\\n",
       "0         0         0                  0              0                  0   \n",
       "4         0         0                  0              0                  0   \n",
       "5         0         1                  1              0                  0   \n",
       "6         0         1                  0              0                  0   \n",
       "7         0         1                  0              0                  0   \n",
       "\n",
       "   Melbourne Renegades  Melbourne Stars  Perth Scorchers  Sydney Sixers  \\\n",
       "0                    0                0                1              0   \n",
       "4                    0                0                1              0   \n",
       "5                    0                0                0              0   \n",
       "6                    1                0                0              0   \n",
       "7                    0                0                0              1   \n",
       "\n",
       "   Sydney Thunder  op_Adelaide Strikers  op_Brisbane Heat  \\\n",
       "0               0                     0                 0   \n",
       "4               0                     0                 0   \n",
       "5               0                     0                 0   \n",
       "6               0                     0                 0   \n",
       "7               0                     0                 0   \n",
       "\n",
       "   op_Hobart Hurricanes  op_Melbourne Renegades  op_Melbourne Stars  \\\n",
       "0                     0                       0                   0   \n",
       "4                     0                       0                   1   \n",
       "5                     1                       0                   0   \n",
       "6                     0                       0                   0   \n",
       "7                     0                       0                   0   \n",
       "\n",
       "   op_Perth Scorchers  op_Sydney Sixers  op_Sydney Thunder  \n",
       "0                   0                 1                  0  \n",
       "4                   0                 0                  0  \n",
       "5                   0                 0                  0  \n",
       "6                   0                 0                  1  \n",
       "7                   1                 0                  0  "
      ]
     },
     "execution_count": 18,
     "metadata": {},
     "output_type": "execute_result"
    }
   ],
   "source": [
    "# Extract only necessary columns by drop unnecessary columns\n",
    "t1 = t1.drop(['ground', 'toss_choice', 'dbMktPriceTeam1', 'dbMktPriceTeam2', 'start_month'], axis=1)\n",
    "t1.head()"
   ]
  },
  {
   "cell_type": "code",
   "execution_count": 19,
   "id": "dce17ee4",
   "metadata": {
    "ExecuteTime": {
     "end_time": "2022-08-07T18:49:15.499685Z",
     "start_time": "2022-08-07T18:49:15.469678Z"
    }
   },
   "outputs": [
    {
     "data": {
      "text/html": [
       "<div>\n",
       "<style scoped>\n",
       "    .dataframe tbody tr th:only-of-type {\n",
       "        vertical-align: middle;\n",
       "    }\n",
       "\n",
       "    .dataframe tbody tr th {\n",
       "        vertical-align: top;\n",
       "    }\n",
       "\n",
       "    .dataframe thead th {\n",
       "        text-align: right;\n",
       "    }\n",
       "</style>\n",
       "<table border=\"1\" class=\"dataframe\">\n",
       "  <thead>\n",
       "    <tr style=\"text-align: right;\">\n",
       "      <th></th>\n",
       "      <th>neutral_venue</th>\n",
       "      <th>home_venue</th>\n",
       "      <th>first_innings</th>\n",
       "      <th>toss_winner</th>\n",
       "      <th>victor</th>\n",
       "      <th>derby</th>\n",
       "      <th>month_02</th>\n",
       "      <th>month_12</th>\n",
       "      <th>Adelaide Strikers</th>\n",
       "      <th>Brisbane Heat</th>\n",
       "      <th>Hobart Hurricanes</th>\n",
       "      <th>Melbourne Renegades</th>\n",
       "      <th>Melbourne Stars</th>\n",
       "      <th>Perth Scorchers</th>\n",
       "      <th>Sydney Sixers</th>\n",
       "      <th>Sydney Thunder</th>\n",
       "      <th>op_Adelaide Strikers</th>\n",
       "      <th>op_Brisbane Heat</th>\n",
       "      <th>op_Hobart Hurricanes</th>\n",
       "      <th>op_Melbourne Renegades</th>\n",
       "      <th>op_Melbourne Stars</th>\n",
       "      <th>op_Perth Scorchers</th>\n",
       "      <th>op_Sydney Sixers</th>\n",
       "      <th>op_Sydney Thunder</th>\n",
       "    </tr>\n",
       "  </thead>\n",
       "  <tbody>\n",
       "    <tr>\n",
       "      <th>0</th>\n",
       "      <td>1</td>\n",
       "      <td>0</td>\n",
       "      <td>1</td>\n",
       "      <td>1</td>\n",
       "      <td>0</td>\n",
       "      <td>0</td>\n",
       "      <td>0</td>\n",
       "      <td>0</td>\n",
       "      <td>0</td>\n",
       "      <td>0</td>\n",
       "      <td>0</td>\n",
       "      <td>0</td>\n",
       "      <td>0</td>\n",
       "      <td>0</td>\n",
       "      <td>1</td>\n",
       "      <td>0</td>\n",
       "      <td>0</td>\n",
       "      <td>0</td>\n",
       "      <td>0</td>\n",
       "      <td>0</td>\n",
       "      <td>0</td>\n",
       "      <td>1</td>\n",
       "      <td>0</td>\n",
       "      <td>0</td>\n",
       "    </tr>\n",
       "    <tr>\n",
       "      <th>4</th>\n",
       "      <td>0</td>\n",
       "      <td>0</td>\n",
       "      <td>0</td>\n",
       "      <td>0</td>\n",
       "      <td>0</td>\n",
       "      <td>0</td>\n",
       "      <td>0</td>\n",
       "      <td>0</td>\n",
       "      <td>0</td>\n",
       "      <td>0</td>\n",
       "      <td>0</td>\n",
       "      <td>0</td>\n",
       "      <td>1</td>\n",
       "      <td>0</td>\n",
       "      <td>0</td>\n",
       "      <td>0</td>\n",
       "      <td>0</td>\n",
       "      <td>0</td>\n",
       "      <td>0</td>\n",
       "      <td>0</td>\n",
       "      <td>0</td>\n",
       "      <td>1</td>\n",
       "      <td>0</td>\n",
       "      <td>0</td>\n",
       "    </tr>\n",
       "    <tr>\n",
       "      <th>5</th>\n",
       "      <td>0</td>\n",
       "      <td>0</td>\n",
       "      <td>1</td>\n",
       "      <td>1</td>\n",
       "      <td>0</td>\n",
       "      <td>0</td>\n",
       "      <td>0</td>\n",
       "      <td>1</td>\n",
       "      <td>0</td>\n",
       "      <td>0</td>\n",
       "      <td>1</td>\n",
       "      <td>0</td>\n",
       "      <td>0</td>\n",
       "      <td>0</td>\n",
       "      <td>0</td>\n",
       "      <td>0</td>\n",
       "      <td>1</td>\n",
       "      <td>0</td>\n",
       "      <td>0</td>\n",
       "      <td>0</td>\n",
       "      <td>0</td>\n",
       "      <td>0</td>\n",
       "      <td>0</td>\n",
       "      <td>0</td>\n",
       "    </tr>\n",
       "    <tr>\n",
       "      <th>6</th>\n",
       "      <td>0</td>\n",
       "      <td>0</td>\n",
       "      <td>1</td>\n",
       "      <td>0</td>\n",
       "      <td>0</td>\n",
       "      <td>0</td>\n",
       "      <td>0</td>\n",
       "      <td>1</td>\n",
       "      <td>0</td>\n",
       "      <td>0</td>\n",
       "      <td>0</td>\n",
       "      <td>0</td>\n",
       "      <td>0</td>\n",
       "      <td>0</td>\n",
       "      <td>0</td>\n",
       "      <td>1</td>\n",
       "      <td>0</td>\n",
       "      <td>0</td>\n",
       "      <td>0</td>\n",
       "      <td>1</td>\n",
       "      <td>0</td>\n",
       "      <td>0</td>\n",
       "      <td>0</td>\n",
       "      <td>0</td>\n",
       "    </tr>\n",
       "    <tr>\n",
       "      <th>7</th>\n",
       "      <td>0</td>\n",
       "      <td>0</td>\n",
       "      <td>1</td>\n",
       "      <td>1</td>\n",
       "      <td>1</td>\n",
       "      <td>0</td>\n",
       "      <td>0</td>\n",
       "      <td>1</td>\n",
       "      <td>0</td>\n",
       "      <td>0</td>\n",
       "      <td>0</td>\n",
       "      <td>0</td>\n",
       "      <td>0</td>\n",
       "      <td>1</td>\n",
       "      <td>0</td>\n",
       "      <td>0</td>\n",
       "      <td>0</td>\n",
       "      <td>0</td>\n",
       "      <td>0</td>\n",
       "      <td>0</td>\n",
       "      <td>0</td>\n",
       "      <td>0</td>\n",
       "      <td>1</td>\n",
       "      <td>0</td>\n",
       "    </tr>\n",
       "  </tbody>\n",
       "</table>\n",
       "</div>"
      ],
      "text/plain": [
       "   neutral_venue  home_venue  first_innings  toss_winner  victor  derby  \\\n",
       "0              1           0              1            1       0      0   \n",
       "4              0           0              0            0       0      0   \n",
       "5              0           0              1            1       0      0   \n",
       "6              0           0              1            0       0      0   \n",
       "7              0           0              1            1       1      0   \n",
       "\n",
       "   month_02  month_12  Adelaide Strikers  Brisbane Heat  Hobart Hurricanes  \\\n",
       "0         0         0                  0              0                  0   \n",
       "4         0         0                  0              0                  0   \n",
       "5         0         1                  0              0                  1   \n",
       "6         0         1                  0              0                  0   \n",
       "7         0         1                  0              0                  0   \n",
       "\n",
       "   Melbourne Renegades  Melbourne Stars  Perth Scorchers  Sydney Sixers  \\\n",
       "0                    0                0                0              1   \n",
       "4                    0                1                0              0   \n",
       "5                    0                0                0              0   \n",
       "6                    0                0                0              0   \n",
       "7                    0                0                1              0   \n",
       "\n",
       "   Sydney Thunder  op_Adelaide Strikers  op_Brisbane Heat  \\\n",
       "0               0                     0                 0   \n",
       "4               0                     0                 0   \n",
       "5               0                     1                 0   \n",
       "6               1                     0                 0   \n",
       "7               0                     0                 0   \n",
       "\n",
       "   op_Hobart Hurricanes  op_Melbourne Renegades  op_Melbourne Stars  \\\n",
       "0                     0                       0                   0   \n",
       "4                     0                       0                   0   \n",
       "5                     0                       0                   0   \n",
       "6                     0                       1                   0   \n",
       "7                     0                       0                   0   \n",
       "\n",
       "   op_Perth Scorchers  op_Sydney Sixers  op_Sydney Thunder  \n",
       "0                   1                 0                  0  \n",
       "4                   1                 0                  0  \n",
       "5                   0                 0                  0  \n",
       "6                   0                 0                  0  \n",
       "7                   0                 1                  0  "
      ]
     },
     "execution_count": 19,
     "metadata": {},
     "output_type": "execute_result"
    }
   ],
   "source": [
    "# Do the same for team2\n",
    "# Column conversion for team2\n",
    "t2 = data.copy()\n",
    "t2['first_innings'] = t2.apply(lambda x: 1 if x['team2'] == x['first_innings'] else 0, axis=1)\n",
    "t2['toss_winner'] = t2.apply(lambda x: 1 if x['team2'] == x['toss_winner'] else 0, axis=1)\n",
    "t2['victor'] = t2.apply(lambda x: 1 if x['team2'] == x['victor'] else 0, axis=1)\n",
    "\n",
    "# Additional process for team2: 0 for home_venue\n",
    "t2['home_venue'] = 0\n",
    "\n",
    "# Dummy variable for teams\n",
    "t2 = pd.get_dummies(t2, columns=['team2', 'team1'], prefix=['', 'op'], prefix_sep=['', '_'])\n",
    "\n",
    "# Extract only necessary columns\n",
    "t2 = t2.drop(['ground', 'toss_choice', 'dbMktPriceTeam1', 'dbMktPriceTeam2', 'start_month'], axis=1)\n",
    "t2.head()"
   ]
  },
  {
   "cell_type": "code",
   "execution_count": 20,
   "id": "bbc16881",
   "metadata": {
    "ExecuteTime": {
     "end_time": "2022-08-07T18:49:15.515686Z",
     "start_time": "2022-08-07T18:49:15.500683Z"
    }
   },
   "outputs": [
    {
     "data": {
      "text/html": [
       "<div>\n",
       "<style scoped>\n",
       "    .dataframe tbody tr th:only-of-type {\n",
       "        vertical-align: middle;\n",
       "    }\n",
       "\n",
       "    .dataframe tbody tr th {\n",
       "        vertical-align: top;\n",
       "    }\n",
       "\n",
       "    .dataframe thead th {\n",
       "        text-align: right;\n",
       "    }\n",
       "</style>\n",
       "<table border=\"1\" class=\"dataframe\">\n",
       "  <thead>\n",
       "    <tr style=\"text-align: right;\">\n",
       "      <th></th>\n",
       "      <th>neutral_venue</th>\n",
       "      <th>home_venue</th>\n",
       "      <th>first_innings</th>\n",
       "      <th>toss_winner</th>\n",
       "      <th>victor</th>\n",
       "      <th>derby</th>\n",
       "      <th>month_02</th>\n",
       "      <th>month_12</th>\n",
       "      <th>Adelaide Strikers</th>\n",
       "      <th>Brisbane Heat</th>\n",
       "      <th>Hobart Hurricanes</th>\n",
       "      <th>Melbourne Renegades</th>\n",
       "      <th>Melbourne Stars</th>\n",
       "      <th>Perth Scorchers</th>\n",
       "      <th>Sydney Sixers</th>\n",
       "      <th>Sydney Thunder</th>\n",
       "      <th>op_Adelaide Strikers</th>\n",
       "      <th>op_Brisbane Heat</th>\n",
       "      <th>op_Hobart Hurricanes</th>\n",
       "      <th>op_Melbourne Renegades</th>\n",
       "      <th>op_Melbourne Stars</th>\n",
       "      <th>op_Perth Scorchers</th>\n",
       "      <th>op_Sydney Sixers</th>\n",
       "      <th>op_Sydney Thunder</th>\n",
       "    </tr>\n",
       "  </thead>\n",
       "  <tbody>\n",
       "    <tr>\n",
       "      <th>0</th>\n",
       "      <td>1</td>\n",
       "      <td>0</td>\n",
       "      <td>0</td>\n",
       "      <td>0</td>\n",
       "      <td>1</td>\n",
       "      <td>0</td>\n",
       "      <td>0</td>\n",
       "      <td>0</td>\n",
       "      <td>0</td>\n",
       "      <td>0</td>\n",
       "      <td>0</td>\n",
       "      <td>0</td>\n",
       "      <td>0</td>\n",
       "      <td>1</td>\n",
       "      <td>0</td>\n",
       "      <td>0</td>\n",
       "      <td>0</td>\n",
       "      <td>0</td>\n",
       "      <td>0</td>\n",
       "      <td>0</td>\n",
       "      <td>0</td>\n",
       "      <td>0</td>\n",
       "      <td>1</td>\n",
       "      <td>0</td>\n",
       "    </tr>\n",
       "    <tr>\n",
       "      <th>1</th>\n",
       "      <td>0</td>\n",
       "      <td>1</td>\n",
       "      <td>1</td>\n",
       "      <td>1</td>\n",
       "      <td>1</td>\n",
       "      <td>0</td>\n",
       "      <td>0</td>\n",
       "      <td>0</td>\n",
       "      <td>0</td>\n",
       "      <td>0</td>\n",
       "      <td>0</td>\n",
       "      <td>0</td>\n",
       "      <td>0</td>\n",
       "      <td>1</td>\n",
       "      <td>0</td>\n",
       "      <td>0</td>\n",
       "      <td>0</td>\n",
       "      <td>0</td>\n",
       "      <td>0</td>\n",
       "      <td>0</td>\n",
       "      <td>1</td>\n",
       "      <td>0</td>\n",
       "      <td>0</td>\n",
       "      <td>0</td>\n",
       "    </tr>\n",
       "    <tr>\n",
       "      <th>2</th>\n",
       "      <td>0</td>\n",
       "      <td>1</td>\n",
       "      <td>0</td>\n",
       "      <td>0</td>\n",
       "      <td>1</td>\n",
       "      <td>0</td>\n",
       "      <td>0</td>\n",
       "      <td>1</td>\n",
       "      <td>1</td>\n",
       "      <td>0</td>\n",
       "      <td>0</td>\n",
       "      <td>0</td>\n",
       "      <td>0</td>\n",
       "      <td>0</td>\n",
       "      <td>0</td>\n",
       "      <td>0</td>\n",
       "      <td>0</td>\n",
       "      <td>0</td>\n",
       "      <td>1</td>\n",
       "      <td>0</td>\n",
       "      <td>0</td>\n",
       "      <td>0</td>\n",
       "      <td>0</td>\n",
       "      <td>0</td>\n",
       "    </tr>\n",
       "    <tr>\n",
       "      <th>3</th>\n",
       "      <td>0</td>\n",
       "      <td>1</td>\n",
       "      <td>0</td>\n",
       "      <td>1</td>\n",
       "      <td>1</td>\n",
       "      <td>0</td>\n",
       "      <td>0</td>\n",
       "      <td>1</td>\n",
       "      <td>0</td>\n",
       "      <td>0</td>\n",
       "      <td>0</td>\n",
       "      <td>1</td>\n",
       "      <td>0</td>\n",
       "      <td>0</td>\n",
       "      <td>0</td>\n",
       "      <td>0</td>\n",
       "      <td>0</td>\n",
       "      <td>0</td>\n",
       "      <td>0</td>\n",
       "      <td>0</td>\n",
       "      <td>0</td>\n",
       "      <td>0</td>\n",
       "      <td>0</td>\n",
       "      <td>1</td>\n",
       "    </tr>\n",
       "    <tr>\n",
       "      <th>4</th>\n",
       "      <td>0</td>\n",
       "      <td>1</td>\n",
       "      <td>0</td>\n",
       "      <td>0</td>\n",
       "      <td>0</td>\n",
       "      <td>0</td>\n",
       "      <td>0</td>\n",
       "      <td>1</td>\n",
       "      <td>0</td>\n",
       "      <td>0</td>\n",
       "      <td>0</td>\n",
       "      <td>0</td>\n",
       "      <td>0</td>\n",
       "      <td>0</td>\n",
       "      <td>1</td>\n",
       "      <td>0</td>\n",
       "      <td>0</td>\n",
       "      <td>0</td>\n",
       "      <td>0</td>\n",
       "      <td>0</td>\n",
       "      <td>0</td>\n",
       "      <td>1</td>\n",
       "      <td>0</td>\n",
       "      <td>0</td>\n",
       "    </tr>\n",
       "  </tbody>\n",
       "</table>\n",
       "</div>"
      ],
      "text/plain": [
       "   neutral_venue  home_venue  first_innings  toss_winner  victor  derby  \\\n",
       "0              1           0              0            0       1      0   \n",
       "1              0           1              1            1       1      0   \n",
       "2              0           1              0            0       1      0   \n",
       "3              0           1              0            1       1      0   \n",
       "4              0           1              0            0       0      0   \n",
       "\n",
       "   month_02  month_12  Adelaide Strikers  Brisbane Heat  Hobart Hurricanes  \\\n",
       "0         0         0                  0              0                  0   \n",
       "1         0         0                  0              0                  0   \n",
       "2         0         1                  1              0                  0   \n",
       "3         0         1                  0              0                  0   \n",
       "4         0         1                  0              0                  0   \n",
       "\n",
       "   Melbourne Renegades  Melbourne Stars  Perth Scorchers  Sydney Sixers  \\\n",
       "0                    0                0                1              0   \n",
       "1                    0                0                1              0   \n",
       "2                    0                0                0              0   \n",
       "3                    1                0                0              0   \n",
       "4                    0                0                0              1   \n",
       "\n",
       "   Sydney Thunder  op_Adelaide Strikers  op_Brisbane Heat  \\\n",
       "0               0                     0                 0   \n",
       "1               0                     0                 0   \n",
       "2               0                     0                 0   \n",
       "3               0                     0                 0   \n",
       "4               0                     0                 0   \n",
       "\n",
       "   op_Hobart Hurricanes  op_Melbourne Renegades  op_Melbourne Stars  \\\n",
       "0                     0                       0                   0   \n",
       "1                     0                       0                   1   \n",
       "2                     1                       0                   0   \n",
       "3                     0                       0                   0   \n",
       "4                     0                       0                   0   \n",
       "\n",
       "   op_Perth Scorchers  op_Sydney Sixers  op_Sydney Thunder  \n",
       "0                   0                 1                  0  \n",
       "1                   0                 0                  0  \n",
       "2                   0                 0                  0  \n",
       "3                   0                 0                  1  \n",
       "4                   1                 0                  0  "
      ]
     },
     "execution_count": 20,
     "metadata": {},
     "output_type": "execute_result"
    }
   ],
   "source": [
    "# Combine team1 and team2\n",
    "data2 = pd.concat([t1, t2], axis=0, ignore_index=True)\n",
    "data2.head()"
   ]
  },
  {
   "cell_type": "code",
   "execution_count": 21,
   "id": "6a1a60d9",
   "metadata": {
    "ExecuteTime": {
     "end_time": "2022-08-07T18:49:15.531690Z",
     "start_time": "2022-08-07T18:49:15.516688Z"
    }
   },
   "outputs": [],
   "source": [
    "# Save the dataframe as an image\n",
    "# dfi.export(data2.iloc[:5, :16], './figure/02specificpreprocessing1.png', max_cols=-1, max_rows=-1)\n",
    "# dfi.export(data2.iloc[:5, 16:], './figure/02specificpreprocessing2.png', max_cols=-1, max_rows=-1)"
   ]
  },
  {
   "cell_type": "code",
   "execution_count": 22,
   "id": "9ecae1b6",
   "metadata": {
    "ExecuteTime": {
     "end_time": "2022-08-07T18:49:15.547694Z",
     "start_time": "2022-08-07T18:49:15.532691Z"
    }
   },
   "outputs": [
    {
     "data": {
      "text/plain": [
       "((753, 23), (189,))"
      ]
     },
     "execution_count": 22,
     "metadata": {},
     "output_type": "execute_result"
    }
   ],
   "source": [
    "# Train-test split\n",
    "X = data2.drop('victor', axis=1)\n",
    "y = data2['victor']\n",
    "X_train, X_test, y_train, y_test = train_test_split(X, y, test_size=0.2, random_state=0)\n",
    "X_train.shape, y_test.shape"
   ]
  },
  {
   "cell_type": "markdown",
   "id": "83b5bcb6",
   "metadata": {
    "heading_collapsed": true
   },
   "source": [
    "# Benchmark"
   ]
  },
  {
   "cell_type": "markdown",
   "id": "0a8dac0d",
   "metadata": {
    "hidden": true
   },
   "source": [
    "##  Null F1 score"
   ]
  },
  {
   "cell_type": "code",
   "execution_count": 40,
   "id": "70b3b590",
   "metadata": {
    "ExecuteTime": {
     "end_time": "2022-07-31T21:20:40.422645Z",
     "start_time": "2022-07-31T21:20:40.365584Z"
    },
    "hidden": true
   },
   "outputs": [
    {
     "data": {
      "text/plain": [
       "0.6666666666666666"
      ]
     },
     "execution_count": 40,
     "metadata": {},
     "output_type": "execute_result"
    }
   ],
   "source": [
    "# Victor 0 and 1 are 471 instances for each - both are equally frequent \n",
    "y.value_counts()\n",
    "f1_score(y, pd.Series([0]*942), pos_label=0)"
   ]
  },
  {
   "cell_type": "markdown",
   "id": "eb16d4d2",
   "metadata": {
    "hidden": true
   },
   "source": [
    "## Marketprice benchmark\n",
    "Calculated before the data augmentation with 471 instances"
   ]
  },
  {
   "cell_type": "code",
   "execution_count": 46,
   "id": "219d3fb0",
   "metadata": {
    "ExecuteTime": {
     "end_time": "2022-08-01T15:11:00.173023Z",
     "start_time": "2022-08-01T15:11:00.097119Z"
    },
    "collapsed": true,
    "hidden": true
   },
   "outputs": [
    {
     "data": {
      "text/html": [
       "<div>\n",
       "<style scoped>\n",
       "    .dataframe tbody tr th:only-of-type {\n",
       "        vertical-align: middle;\n",
       "    }\n",
       "\n",
       "    .dataframe tbody tr th {\n",
       "        vertical-align: top;\n",
       "    }\n",
       "\n",
       "    .dataframe thead th {\n",
       "        text-align: right;\n",
       "    }\n",
       "</style>\n",
       "<table border=\"1\" class=\"dataframe\">\n",
       "  <thead>\n",
       "    <tr style=\"text-align: right;\">\n",
       "      <th></th>\n",
       "      <th>ground</th>\n",
       "      <th>team1</th>\n",
       "      <th>team2</th>\n",
       "      <th>neutral_venue</th>\n",
       "      <th>home_venue</th>\n",
       "      <th>first_innings</th>\n",
       "      <th>toss_winner</th>\n",
       "      <th>toss_choice</th>\n",
       "      <th>dbMktPriceTeam1</th>\n",
       "      <th>dbMktPriceTeam2</th>\n",
       "      <th>victor</th>\n",
       "      <th>derby</th>\n",
       "      <th>start_month</th>\n",
       "      <th>month_02</th>\n",
       "      <th>month_12</th>\n",
       "      <th>probaTeam1</th>\n",
       "      <th>probaTeam2</th>\n",
       "      <th>benchmark</th>\n",
       "    </tr>\n",
       "  </thead>\n",
       "  <tbody>\n",
       "    <tr>\n",
       "      <th>0</th>\n",
       "      <td>Manuka Oval</td>\n",
       "      <td>Perth Scorchers</td>\n",
       "      <td>Sydney Sixers</td>\n",
       "      <td>1</td>\n",
       "      <td>0</td>\n",
       "      <td>Sydney Sixers</td>\n",
       "      <td>Sydney Sixers</td>\n",
       "      <td>Bat</td>\n",
       "      <td>1.893</td>\n",
       "      <td>2.020</td>\n",
       "      <td>Perth Scorchers</td>\n",
       "      <td>0</td>\n",
       "      <td>01</td>\n",
       "      <td>0</td>\n",
       "      <td>0</td>\n",
       "      <td>0.516228</td>\n",
       "      <td>0.483772</td>\n",
       "      <td>Perth Scorchers</td>\n",
       "    </tr>\n",
       "    <tr>\n",
       "      <th>4</th>\n",
       "      <td>W.A.C.A. Ground</td>\n",
       "      <td>Perth Scorchers</td>\n",
       "      <td>Melbourne Stars</td>\n",
       "      <td>0</td>\n",
       "      <td>1</td>\n",
       "      <td>Perth Scorchers</td>\n",
       "      <td>Perth Scorchers</td>\n",
       "      <td>Bat</td>\n",
       "      <td>1.775</td>\n",
       "      <td>2.170</td>\n",
       "      <td>Perth Scorchers</td>\n",
       "      <td>0</td>\n",
       "      <td>01</td>\n",
       "      <td>0</td>\n",
       "      <td>0</td>\n",
       "      <td>0.550063</td>\n",
       "      <td>0.449937</td>\n",
       "      <td>Perth Scorchers</td>\n",
       "    </tr>\n",
       "    <tr>\n",
       "      <th>5</th>\n",
       "      <td>Adelaide Oval</td>\n",
       "      <td>Adelaide Strikers</td>\n",
       "      <td>Hobart Hurricanes</td>\n",
       "      <td>0</td>\n",
       "      <td>1</td>\n",
       "      <td>Hobart Hurricanes</td>\n",
       "      <td>Hobart Hurricanes</td>\n",
       "      <td>Bat</td>\n",
       "      <td>2.220</td>\n",
       "      <td>1.741</td>\n",
       "      <td>Adelaide Strikers</td>\n",
       "      <td>0</td>\n",
       "      <td>12</td>\n",
       "      <td>0</td>\n",
       "      <td>1</td>\n",
       "      <td>0.439535</td>\n",
       "      <td>0.560465</td>\n",
       "      <td>Hobart Hurricanes</td>\n",
       "    </tr>\n",
       "    <tr>\n",
       "      <th>6</th>\n",
       "      <td>Docklands Stadium</td>\n",
       "      <td>Melbourne Renegades</td>\n",
       "      <td>Sydney Thunder</td>\n",
       "      <td>0</td>\n",
       "      <td>1</td>\n",
       "      <td>Sydney Thunder</td>\n",
       "      <td>Melbourne Renegades</td>\n",
       "      <td>Bowl</td>\n",
       "      <td>1.690</td>\n",
       "      <td>2.310</td>\n",
       "      <td>Melbourne Renegades</td>\n",
       "      <td>0</td>\n",
       "      <td>12</td>\n",
       "      <td>0</td>\n",
       "      <td>1</td>\n",
       "      <td>0.577500</td>\n",
       "      <td>0.422500</td>\n",
       "      <td>Melbourne Renegades</td>\n",
       "    </tr>\n",
       "    <tr>\n",
       "      <th>7</th>\n",
       "      <td>Sydney Cricket Ground</td>\n",
       "      <td>Sydney Sixers</td>\n",
       "      <td>Perth Scorchers</td>\n",
       "      <td>0</td>\n",
       "      <td>1</td>\n",
       "      <td>Perth Scorchers</td>\n",
       "      <td>Perth Scorchers</td>\n",
       "      <td>Bat</td>\n",
       "      <td>1.633</td>\n",
       "      <td>2.430</td>\n",
       "      <td>Perth Scorchers</td>\n",
       "      <td>0</td>\n",
       "      <td>12</td>\n",
       "      <td>0</td>\n",
       "      <td>1</td>\n",
       "      <td>0.598080</td>\n",
       "      <td>0.401920</td>\n",
       "      <td>Sydney Sixers</td>\n",
       "    </tr>\n",
       "  </tbody>\n",
       "</table>\n",
       "</div>"
      ],
      "text/plain": [
       "                  ground                team1              team2  \\\n",
       "0            Manuka Oval      Perth Scorchers      Sydney Sixers   \n",
       "4        W.A.C.A. Ground      Perth Scorchers    Melbourne Stars   \n",
       "5          Adelaide Oval    Adelaide Strikers  Hobart Hurricanes   \n",
       "6      Docklands Stadium  Melbourne Renegades     Sydney Thunder   \n",
       "7  Sydney Cricket Ground        Sydney Sixers    Perth Scorchers   \n",
       "\n",
       "   neutral_venue  home_venue      first_innings          toss_winner  \\\n",
       "0              1           0      Sydney Sixers        Sydney Sixers   \n",
       "4              0           1    Perth Scorchers      Perth Scorchers   \n",
       "5              0           1  Hobart Hurricanes    Hobart Hurricanes   \n",
       "6              0           1     Sydney Thunder  Melbourne Renegades   \n",
       "7              0           1    Perth Scorchers      Perth Scorchers   \n",
       "\n",
       "  toss_choice  dbMktPriceTeam1  dbMktPriceTeam2               victor  derby  \\\n",
       "0         Bat            1.893            2.020      Perth Scorchers      0   \n",
       "4         Bat            1.775            2.170      Perth Scorchers      0   \n",
       "5         Bat            2.220            1.741    Adelaide Strikers      0   \n",
       "6        Bowl            1.690            2.310  Melbourne Renegades      0   \n",
       "7         Bat            1.633            2.430      Perth Scorchers      0   \n",
       "\n",
       "  start_month  month_02  month_12  probaTeam1  probaTeam2            benchmark  \n",
       "0          01         0         0    0.516228    0.483772      Perth Scorchers  \n",
       "4          01         0         0    0.550063    0.449937      Perth Scorchers  \n",
       "5          12         0         1    0.439535    0.560465    Hobart Hurricanes  \n",
       "6          12         0         1    0.577500    0.422500  Melbourne Renegades  \n",
       "7          12         0         1    0.598080    0.401920        Sydney Sixers  "
      ]
     },
     "execution_count": 46,
     "metadata": {},
     "output_type": "execute_result"
    }
   ],
   "source": [
    "# Benchmark prediction of winning team\n",
    "# 1) Winning probability: get the reciprocal of dbMktPriceTeamX and normalize\n",
    "data['probaTeam1'] = data.apply(lambda x: (1/x['dbMktPriceTeam1']) / (1/x['dbMktPriceTeam1'] + 1/x['dbMktPriceTeam2']), axis=1)\n",
    "data['probaTeam2'] = data.apply(lambda x: (1/x['dbMktPriceTeam2']) / (1/x['dbMktPriceTeam1'] + 1/x['dbMktPriceTeam2']), axis=1)\n",
    "\n",
    "# 2) Prediction of victor\n",
    "data['benchmark'] = np.where(data['probaTeam1'] > data['probaTeam2'], data['team1'], data['team2'])\n",
    "data['benchmark'] = np.where(data['probaTeam1'].isnull(), np.nan, data['benchmark'])     # where the probability is NaN: 9 instances\n",
    "data.head()"
   ]
  },
  {
   "cell_type": "code",
   "execution_count": 47,
   "id": "dc169e7f",
   "metadata": {
    "ExecuteTime": {
     "end_time": "2022-08-01T15:11:04.536355Z",
     "start_time": "2022-08-01T15:11:04.489165Z"
    },
    "collapsed": true,
    "hidden": true
   },
   "outputs": [
    {
     "name": "stdout",
     "output_type": "stream",
     "text": [
      "[[29  5  5  5  3  6  4  3]\n",
      " [ 5 16  6  3  7  5  3  5]\n",
      " [ 6  4 29  4  2  3  5  4]\n",
      " [ 5  5  5 20  5  3  1  4]\n",
      " [ 1  0  4  2 54  2  0  1]\n",
      " [ 3  3  1  7  4 51  6  0]\n",
      " [ 8  8  3  4  8  7 26  5]\n",
      " [ 5  2  4  3  4  7  3 20]]\n",
      "\n",
      "                     precision    recall  f1-score   support\n",
      "\n",
      "  Adelaide Strikers       0.47      0.48      0.48        60\n",
      "      Brisbane Heat       0.37      0.32      0.34        50\n",
      "  Hobart Hurricanes       0.51      0.51      0.51        57\n",
      "Melbourne Renegades       0.42      0.42      0.42        48\n",
      "    Melbourne Stars       0.62      0.84      0.72        64\n",
      "    Perth Scorchers       0.61      0.68      0.64        75\n",
      "      Sydney Sixers       0.54      0.38      0.44        69\n",
      "     Sydney Thunder       0.48      0.42      0.44        48\n",
      "\n",
      "           accuracy                           0.52       471\n",
      "          macro avg       0.50      0.51      0.50       471\n",
      "       weighted avg       0.51      0.52      0.51       471\n",
      "\n"
     ]
    },
    {
     "data": {
      "text/plain": [
       "0.5201698513800425"
      ]
     },
     "execution_count": 47,
     "metadata": {},
     "output_type": "execute_result"
    }
   ],
   "source": [
    "# Evaluation of benchmark\n",
    "# F1-score of benchmark prediction ->> around 0.51\n",
    "print(confusion_matrix(data['victor'], data['benchmark']))\n",
    "print()\n",
    "print(classification_report(data['victor'], data['benchmark']))    \n",
    "f1_score(data['victor'], data['benchmark'], average='micro')"
   ]
  },
  {
   "cell_type": "markdown",
   "id": "73c2b260",
   "metadata": {},
   "source": [
    "# Feature Selection"
   ]
  },
  {
   "cell_type": "markdown",
   "id": "ba29d158",
   "metadata": {
    "heading_collapsed": true
   },
   "source": [
    "## Select K best by chi-squared \n",
    "Choose only from 1st ~ 7th features and include team dummy features all the time\n",
    "\n",
    "-> P-values are too big, so would not use chi-squared measure"
   ]
  },
  {
   "cell_type": "code",
   "execution_count": 51,
   "id": "3ee9d3fd",
   "metadata": {
    "ExecuteTime": {
     "end_time": "2022-08-01T15:12:54.821857Z",
     "start_time": "2022-08-01T15:12:54.805854Z"
    },
    "hidden": true
   },
   "outputs": [
    {
     "data": {
      "text/plain": [
       "array([6.22926201e-04, 5.34960324e-01, 3.23348210e-02, 4.82075299e-01,\n",
       "       2.99832094e-03, 1.23655795e-01, 4.23544328e-04])"
      ]
     },
     "execution_count": 51,
     "metadata": {},
     "output_type": "execute_result"
    }
   ],
   "source": [
    "# Chi-square score for all features\n",
    "SelectKBest(chi2, k='all').fit(X_train, y_train).scores_[:7]   "
   ]
  },
  {
   "cell_type": "code",
   "execution_count": 49,
   "id": "22eea5f6",
   "metadata": {
    "ExecuteTime": {
     "end_time": "2022-08-01T15:11:32.768802Z",
     "start_time": "2022-08-01T15:11:32.747290Z"
    },
    "hidden": true
   },
   "outputs": [
    {
     "data": {
      "text/plain": [
       "array([0.98008807, 0.46452887, 0.85729478, 0.48748379, 0.95633212,\n",
       "       0.72510282, 0.98358054])"
      ]
     },
     "execution_count": 49,
     "metadata": {},
     "output_type": "execute_result"
    }
   ],
   "source": [
    "# P-values of all features\n",
    "SelectKBest(chi2, k='all').fit(X_train, y_train).pvalues_[:7]   # Values are too big to choose features"
   ]
  },
  {
   "cell_type": "markdown",
   "id": "e1095cc3",
   "metadata": {},
   "source": [
    "# Classification Analysis"
   ]
  },
  {
   "cell_type": "markdown",
   "id": "c71373a4",
   "metadata": {
    "heading_collapsed": true
   },
   "source": [
    "## Logistic Regression"
   ]
  },
  {
   "cell_type": "markdown",
   "id": "f9c32ac3",
   "metadata": {
    "hidden": true
   },
   "source": [
    "### Permutation importance\n",
    "with Permutation importance: importances_mean shoul be at least twice bigger than importances_std\n",
    "- the result changes depending on random_state, so it is always set to 0 for consistency."
   ]
  },
  {
   "cell_type": "code",
   "execution_count": 100,
   "id": "3b0bb096",
   "metadata": {
    "ExecuteTime": {
     "end_time": "2022-08-01T17:15:11.859715Z",
     "start_time": "2022-08-01T17:15:11.479630Z"
    },
    "hidden": true
   },
   "outputs": [
    {
     "name": "stdout",
     "output_type": "stream",
     "text": [
      "1 home_venue 0.013920514563959385\n"
     ]
    }
   ],
   "source": [
    "# Feature selection\n",
    "logr = LogisticRegression().fit(X_train, y_train)\n",
    "result = permutation_importance(logr, X_train, y_train, scoring='f1', n_repeats=10, random_state=0)  \n",
    "\n",
    "for i in result.importances_mean.argsort()[::-1]:\n",
    "    if result.importances_mean[i] - 2*result.importances_std[i] > 0:\n",
    "        print(i, X_train.columns[i], result.importances_mean[i]) "
   ]
  },
  {
   "cell_type": "code",
   "execution_count": 53,
   "id": "84c9f81d",
   "metadata": {
    "ExecuteTime": {
     "end_time": "2022-08-01T15:13:38.735528Z",
     "start_time": "2022-08-01T15:13:38.580604Z"
    },
    "hidden": true
   },
   "outputs": [
    {
     "data": {
      "text/plain": [
       "0.5577610446710428"
      ]
     },
     "execution_count": 53,
     "metadata": {},
     "output_type": "execute_result"
    }
   ],
   "source": [
    "# Cross validation\n",
    "X_team = X.iloc[:, 7:23]\n",
    "X_2 = X.iloc[:, [1]]\n",
    "X_2_team = pd.concat([X_2, X_team], axis=1)\n",
    "cross_validate(logr, X_2_team, y, cv=10, scoring='f1')['test_score'].mean()"
   ]
  },
  {
   "cell_type": "markdown",
   "id": "f185fc64",
   "metadata": {
    "hidden": true
   },
   "source": [
    "### Select from model\n",
    "Select the feature set based on the coef_ or feature_importances of the estimator."
   ]
  },
  {
   "cell_type": "code",
   "execution_count": 54,
   "id": "19e4a294",
   "metadata": {
    "ExecuteTime": {
     "end_time": "2022-08-01T15:13:38.767154Z",
     "start_time": "2022-08-01T15:13:38.738147Z"
    },
    "hidden": true
   },
   "outputs": [
    {
     "data": {
      "text/plain": [
       "array([False, False, False, False, False, False, False])"
      ]
     },
     "execution_count": 54,
     "metadata": {},
     "output_type": "execute_result"
    }
   ],
   "source": [
    "logr = LogisticRegression()\n",
    "selector = SelectFromModel(logr).fit(X_train, y_train)\n",
    "selector.get_support()[:7]       # No feature to choose among feature 1~7"
   ]
  },
  {
   "cell_type": "markdown",
   "id": "a8239495",
   "metadata": {
    "hidden": true
   },
   "source": [
    "### Use all features\n",
    "For comparison purpose to see if feature selection is effective."
   ]
  },
  {
   "cell_type": "code",
   "execution_count": 55,
   "id": "e0f020d7",
   "metadata": {
    "ExecuteTime": {
     "end_time": "2022-08-01T15:13:38.928579Z",
     "start_time": "2022-08-01T15:13:38.771154Z"
    },
    "hidden": true
   },
   "outputs": [
    {
     "data": {
      "text/plain": [
       "0.5429637576040822"
      ]
     },
     "execution_count": 55,
     "metadata": {},
     "output_type": "execute_result"
    }
   ],
   "source": [
    "cross_validate(logr, X, y, cv=10, scoring='f1')['test_score'].mean()"
   ]
  },
  {
   "cell_type": "markdown",
   "id": "ec1bf295",
   "metadata": {
    "heading_collapsed": true
   },
   "source": [
    "## SVM"
   ]
  },
  {
   "cell_type": "markdown",
   "id": "e3627d22",
   "metadata": {
    "hidden": true
   },
   "source": [
    "### Permutation importance"
   ]
  },
  {
   "cell_type": "markdown",
   "id": "64d7c536",
   "metadata": {
    "hidden": true
   },
   "source": [
    "**Kernel = 'rbf' (default)**"
   ]
  },
  {
   "cell_type": "code",
   "execution_count": 56,
   "id": "e70e478d",
   "metadata": {
    "ExecuteTime": {
     "end_time": "2022-08-01T15:14:00.481428Z",
     "start_time": "2022-08-01T15:13:38.930578Z"
    },
    "collapsed": true,
    "hidden": true
   },
   "outputs": [
    {
     "name": "stdout",
     "output_type": "stream",
     "text": [
      "1 home_venue 0.03173052277534759\n",
      "6 month_12 0.031070446116466054\n",
      "0 neutral_venue 0.024013266282125245\n",
      "2 first_innings 0.021976148737199053\n",
      "12 Perth Scorchers 0.019888579091699443\n",
      "22 op_Sydney Thunder 0.01783140231306244\n",
      "3 toss_winner 0.017751790793698298\n",
      "13 Sydney Sixers 0.017324741341006977\n",
      "17 op_Hobart Hurricanes 0.01607905350419696\n",
      "14 Sydney Thunder 0.0151562128395465\n",
      "7 Adelaide Strikers 0.013120372950251157\n",
      "9 Hobart Hurricanes 0.012053051182365725\n",
      "8 Brisbane Heat 0.011058641220032717\n",
      "21 op_Sydney Sixers 0.009542029224268967\n",
      "19 op_Melbourne Stars 0.008980402927432551\n",
      "5 month_02 0.005995006414935023\n"
     ]
    }
   ],
   "source": [
    "svc = SVC().fit(X_train, y_train)\n",
    "result = permutation_importance(svc, X_train, y_train, scoring='f1', n_repeats=10, random_state=0)\n",
    "\n",
    "for i in result.importances_mean.argsort()[::-1]:\n",
    "    if result.importances_mean[i] - 2*result.importances_std[i] > 0:\n",
    "        print(i, X_train.columns[i], result.importances_mean[i])"
   ]
  },
  {
   "cell_type": "code",
   "execution_count": 57,
   "id": "713b5043",
   "metadata": {
    "ExecuteTime": {
     "end_time": "2022-08-01T15:14:01.680046Z",
     "start_time": "2022-08-01T15:14:00.484429Z"
    },
    "hidden": true,
    "scrolled": true
   },
   "outputs": [
    {
     "data": {
      "text/plain": [
       "0.5380151358130404"
      ]
     },
     "execution_count": 57,
     "metadata": {},
     "output_type": "execute_result"
    }
   ],
   "source": [
    "# Use all features except feature 5\n",
    "X_ex_5 = X.drop(X.columns[4], axis=1)\n",
    "cross_validate(svc, X_ex_5, y, cv=10, scoring='f1')['test_score'].mean()"
   ]
  },
  {
   "cell_type": "markdown",
   "id": "f14c6b1c",
   "metadata": {
    "hidden": true
   },
   "source": [
    "**Kernel = 'linear'**"
   ]
  },
  {
   "cell_type": "code",
   "execution_count": 58,
   "id": "f8c9b94b",
   "metadata": {
    "ExecuteTime": {
     "end_time": "2022-08-01T15:14:08.786591Z",
     "start_time": "2022-08-01T15:14:01.682057Z"
    },
    "hidden": true,
    "scrolled": true
   },
   "outputs": [
    {
     "name": "stdout",
     "output_type": "stream",
     "text": [
      "12 Perth Scorchers 0.024022455305721658\n",
      "20 op_Perth Scorchers 0.01681029910399816\n",
      "21 op_Sydney Sixers 0.01642503144617623\n",
      "19 op_Melbourne Stars 0.015675697664465027\n",
      "15 op_Adelaide Strikers 0.014838174092169764\n",
      "13 Sydney Sixers 0.012683632977028347\n",
      "7 Adelaide Strikers 0.0073727119605238815\n"
     ]
    }
   ],
   "source": [
    "svc = SVC(kernel='linear').fit(X_train, y_train)\n",
    "result = permutation_importance(svc, X_train, y_train, scoring='f1', n_repeats=10, random_state=0)\n",
    "\n",
    "for i in result.importances_mean.argsort()[::-1]:\n",
    "    if result.importances_mean[i] - 2*result.importances_std[i] > 0:\n",
    "        print(i, X_train.columns[i], result.importances_mean[i])    # No features from 1st ~ 7th were selected"
   ]
  },
  {
   "cell_type": "markdown",
   "id": "aa024614",
   "metadata": {
    "hidden": true
   },
   "source": [
    "### Select from model"
   ]
  },
  {
   "cell_type": "code",
   "execution_count": 59,
   "id": "42a841e5",
   "metadata": {
    "ExecuteTime": {
     "end_time": "2022-08-01T15:14:08.849481Z",
     "start_time": "2022-08-01T15:14:08.789594Z"
    },
    "hidden": true
   },
   "outputs": [
    {
     "data": {
      "text/plain": [
       "array([False, False, False, False, False, False, False])"
      ]
     },
     "execution_count": 59,
     "metadata": {},
     "output_type": "execute_result"
    }
   ],
   "source": [
    "svc = SVC(kernel='linear')      # To use coef_ attribute \n",
    "selector = SelectFromModel(svc).fit(X_train, y_train)\n",
    "selector.get_support()[:7]     "
   ]
  },
  {
   "cell_type": "markdown",
   "id": "62078df0",
   "metadata": {
    "hidden": true
   },
   "source": [
    "### Use all features"
   ]
  },
  {
   "cell_type": "code",
   "execution_count": 60,
   "id": "03ee4046",
   "metadata": {
    "ExecuteTime": {
     "end_time": "2022-08-01T15:14:09.418291Z",
     "start_time": "2022-08-01T15:14:08.852501Z"
    },
    "hidden": true
   },
   "outputs": [
    {
     "data": {
      "text/plain": [
       "0.5014646782394104"
      ]
     },
     "execution_count": 60,
     "metadata": {},
     "output_type": "execute_result"
    }
   ],
   "source": [
    "cross_validate(svc, X, y, cv=10, scoring='f1')['test_score'].mean()"
   ]
  },
  {
   "cell_type": "markdown",
   "id": "5836cb9a",
   "metadata": {
    "heading_collapsed": true
   },
   "source": [
    "## Decision Tree"
   ]
  },
  {
   "cell_type": "markdown",
   "id": "5eceaed6",
   "metadata": {
    "hidden": true
   },
   "source": [
    "### Permutation importance"
   ]
  },
  {
   "cell_type": "code",
   "execution_count": 61,
   "id": "dc8c5829",
   "metadata": {
    "ExecuteTime": {
     "end_time": "2022-08-01T15:14:10.396743Z",
     "start_time": "2022-08-01T15:14:09.423271Z"
    },
    "collapsed": true,
    "hidden": true
   },
   "outputs": [
    {
     "name": "stdout",
     "output_type": "stream",
     "text": [
      "12 Perth Scorchers 0.06258980891536393\n",
      "1 home_venue 0.045087849810286865\n",
      "13 Sydney Sixers 0.044681956935265596\n",
      "7 Adelaide Strikers 0.0332641918913755\n",
      "22 op_Sydney Thunder 0.030373572903728198\n",
      "0 neutral_venue 0.022696267013639852\n",
      "17 op_Hobart Hurricanes 0.0159941340223712\n",
      "2 first_innings 0.006956659273155768\n"
     ]
    }
   ],
   "source": [
    "dt = DecisionTreeClassifier(criterion='entropy', max_depth=5, min_samples_leaf=5, random_state=0).fit(X_train, y_train)\n",
    "result = permutation_importance(dt, X_train, y_train, scoring='f1', n_repeats=10, random_state=3)\n",
    "\n",
    "for i in result.importances_mean.argsort()[::-1]:\n",
    "    if result.importances_mean[i] - 2*result.importances_std[i] > 0:\n",
    "        print(i, X_train.columns[i], result.importances_mean[i])"
   ]
  },
  {
   "cell_type": "code",
   "execution_count": 62,
   "id": "bb5e3d64",
   "metadata": {
    "ExecuteTime": {
     "end_time": "2022-08-01T15:14:10.681807Z",
     "start_time": "2022-08-01T15:14:10.400744Z"
    },
    "hidden": true
   },
   "outputs": [
    {
     "data": {
      "text/plain": [
       "0.5090520428646678"
      ]
     },
     "execution_count": 62,
     "metadata": {},
     "output_type": "execute_result"
    }
   ],
   "source": [
    "# Use feature 1, 2, 3\n",
    "X_123 = X.iloc[:, [0, 1, 2]]\n",
    "X_123_team = pd.concat([X_123, X_team], axis=1)\n",
    "\n",
    "dt = DecisionTreeClassifier(criterion='entropy', max_depth=5, min_samples_leaf=5, random_state=0)\n",
    "cross_validate(dt, X_123_team, y, cv=10, scoring='f1')['test_score'].mean()"
   ]
  },
  {
   "cell_type": "markdown",
   "id": "ca5c5ca6",
   "metadata": {
    "hidden": true
   },
   "source": [
    "### Select from model"
   ]
  },
  {
   "cell_type": "code",
   "execution_count": 63,
   "id": "7e8b1a2b",
   "metadata": {
    "ExecuteTime": {
     "end_time": "2022-08-01T15:14:10.729834Z",
     "start_time": "2022-08-01T15:14:10.683807Z"
    },
    "hidden": true
   },
   "outputs": [
    {
     "data": {
      "text/plain": [
       "array([ True,  True,  True, False, False, False, False])"
      ]
     },
     "execution_count": 63,
     "metadata": {},
     "output_type": "execute_result"
    }
   ],
   "source": [
    "dt = DecisionTreeClassifier(criterion='entropy', max_depth=5, min_samples_leaf=5, random_state=0)\n",
    "selector = SelectFromModel(dt).fit(X_train, y_train)\n",
    "selector.get_support()[:7]    # Feature 1, 2, 3 -> same as above"
   ]
  },
  {
   "cell_type": "markdown",
   "id": "839b3fdc",
   "metadata": {
    "hidden": true
   },
   "source": [
    "### Use all features"
   ]
  },
  {
   "cell_type": "code",
   "execution_count": 64,
   "id": "06909313",
   "metadata": {
    "ExecuteTime": {
     "end_time": "2022-08-01T15:14:11.032301Z",
     "start_time": "2022-08-01T15:14:10.731819Z"
    },
    "hidden": true
   },
   "outputs": [
    {
     "data": {
      "text/plain": [
       "0.5026268781161372"
      ]
     },
     "execution_count": 64,
     "metadata": {},
     "output_type": "execute_result"
    }
   ],
   "source": [
    "cross_validate(dt, X, y, cv=10, scoring='f1')['test_score'].mean()"
   ]
  },
  {
   "cell_type": "markdown",
   "id": "c5e73099",
   "metadata": {
    "heading_collapsed": true
   },
   "source": [
    "## AdaBoost"
   ]
  },
  {
   "cell_type": "markdown",
   "id": "f27ad0ad",
   "metadata": {
    "hidden": true
   },
   "source": [
    "### Permutation importance"
   ]
  },
  {
   "cell_type": "code",
   "execution_count": 65,
   "id": "1fdeedbd",
   "metadata": {
    "ExecuteTime": {
     "end_time": "2022-08-01T15:14:20.884531Z",
     "start_time": "2022-08-01T15:14:11.035099Z"
    },
    "hidden": true
   },
   "outputs": [
    {
     "name": "stdout",
     "output_type": "stream",
     "text": [
      "12 Perth Scorchers 0.028256109935722095\n",
      "1 home_venue 0.014094472346429809\n",
      "21 op_Sydney Sixers 0.010222003560736525\n"
     ]
    }
   ],
   "source": [
    "ada = AdaBoostClassifier(n_estimators=100, random_state=0).fit(X_train, y_train)\n",
    "result = permutation_importance(ada, X_train, y_train, scoring='f1', n_repeats=10, random_state=0)\n",
    "\n",
    "for i in result.importances_mean.argsort()[::-1]:\n",
    "    if result.importances_mean[i] - 2*result.importances_std[i] > 0:\n",
    "        print(i, X_train.columns[i], result.importances_mean[i])"
   ]
  },
  {
   "cell_type": "code",
   "execution_count": 66,
   "id": "a4d9d1cf",
   "metadata": {
    "ExecuteTime": {
     "end_time": "2022-08-01T15:14:28.787611Z",
     "start_time": "2022-08-01T15:14:20.886510Z"
    },
    "hidden": true
   },
   "outputs": [
    {
     "data": {
      "text/plain": [
       "0.5577610446710428"
      ]
     },
     "execution_count": 66,
     "metadata": {},
     "output_type": "execute_result"
    }
   ],
   "source": [
    "# Use feature 2\n",
    "cross_validate(ada, X_2_team, y, cv=10, scoring='f1')['test_score'].mean()"
   ]
  },
  {
   "cell_type": "markdown",
   "id": "071433d4",
   "metadata": {
    "hidden": true
   },
   "source": [
    "### Select from model"
   ]
  },
  {
   "cell_type": "code",
   "execution_count": 67,
   "id": "c187cd90",
   "metadata": {
    "ExecuteTime": {
     "end_time": "2022-08-01T15:14:29.578864Z",
     "start_time": "2022-08-01T15:14:28.789608Z"
    },
    "hidden": true
   },
   "outputs": [
    {
     "data": {
      "text/plain": [
       "array([ True,  True, False, False,  True, False, False])"
      ]
     },
     "execution_count": 67,
     "metadata": {},
     "output_type": "execute_result"
    }
   ],
   "source": [
    "ada = AdaBoostClassifier(n_estimators=100, random_state=0)\n",
    "selector = SelectFromModel(ada).fit(X_train, y_train)\n",
    "selector.get_support()[:7]      "
   ]
  },
  {
   "cell_type": "code",
   "execution_count": 68,
   "id": "d978f89e",
   "metadata": {
    "ExecuteTime": {
     "end_time": "2022-08-01T15:14:38.483620Z",
     "start_time": "2022-08-01T15:14:29.580849Z"
    },
    "hidden": true
   },
   "outputs": [
    {
     "data": {
      "text/plain": [
       "0.5582824152158896"
      ]
     },
     "execution_count": 68,
     "metadata": {},
     "output_type": "execute_result"
    }
   ],
   "source": [
    "# Use feature 1, 2, 5\n",
    "X_125 = X.iloc[:, [0, 1, 4]]\n",
    "X_125_team = pd.concat([X_125, X_team], axis=1)\n",
    "\n",
    "cross_validate(ada, X_125_team, y, cv=10, scoring='f1')['test_score'].mean()"
   ]
  },
  {
   "cell_type": "markdown",
   "id": "bae16675",
   "metadata": {
    "hidden": true
   },
   "source": [
    "### Use all features"
   ]
  },
  {
   "cell_type": "code",
   "execution_count": 69,
   "id": "4550c2a7",
   "metadata": {
    "ExecuteTime": {
     "end_time": "2022-08-01T15:14:48.041038Z",
     "start_time": "2022-08-01T15:14:38.486603Z"
    },
    "hidden": true
   },
   "outputs": [
    {
     "data": {
      "text/plain": [
       "0.5419025331142864"
      ]
     },
     "execution_count": 69,
     "metadata": {},
     "output_type": "execute_result"
    }
   ],
   "source": [
    "cross_validate(ada, X, y, cv=10, scoring='f1')['test_score'].mean()"
   ]
  },
  {
   "cell_type": "markdown",
   "id": "8a3f8c86",
   "metadata": {
    "heading_collapsed": true
   },
   "source": [
    "## Random Forest"
   ]
  },
  {
   "cell_type": "markdown",
   "id": "2a58e196",
   "metadata": {
    "hidden": true
   },
   "source": [
    "### Permutation importance"
   ]
  },
  {
   "cell_type": "code",
   "execution_count": 70,
   "id": "aec1fb07",
   "metadata": {
    "ExecuteTime": {
     "end_time": "2022-08-01T15:14:54.368190Z",
     "start_time": "2022-08-01T15:14:48.044043Z"
    },
    "hidden": true
   },
   "outputs": [
    {
     "name": "stdout",
     "output_type": "stream",
     "text": [
      "12 Perth Scorchers 0.02585934029651794\n",
      "1 home_venue 0.015993783178969177\n",
      "6 month_12 0.014680543932718781\n",
      "16 op_Brisbane Heat 0.013434836686423845\n",
      "14 Sydney Thunder 0.011988040994439387\n",
      "22 op_Sydney Thunder 0.008081572745959198\n",
      "0 neutral_venue 0.0063456551770244675\n"
     ]
    }
   ],
   "source": [
    "rf = RandomForestClassifier(criterion='entropy', max_depth=5, min_samples_leaf=5, random_state=0, max_samples=200).fit(X_train, y_train)\n",
    "result = permutation_importance(rf, X_train, y_train, scoring='f1', n_repeats=10, random_state=0)\n",
    "\n",
    "for i in result.importances_mean.argsort()[::-1]:\n",
    "    if result.importances_mean[i] - 2*result.importances_std[i] > 0:\n",
    "        print(i, X_train.columns[i], result.importances_mean[i])"
   ]
  },
  {
   "cell_type": "code",
   "execution_count": 104,
   "id": "9495e4aa",
   "metadata": {
    "ExecuteTime": {
     "end_time": "2022-08-01T19:53:22.903982Z",
     "start_time": "2022-08-01T19:53:21.943644Z"
    },
    "hidden": true
   },
   "outputs": [
    {
     "data": {
      "text/plain": [
       "0.5645933873797064"
      ]
     },
     "execution_count": 104,
     "metadata": {},
     "output_type": "execute_result"
    }
   ],
   "source": [
    "# Use feature 1, 2\n",
    "X_12 = X.iloc[:, [0, 1]]\n",
    "X_12_team = pd.concat([X_12, X_team], axis=1)\n",
    "\n",
    "rf = RandomForestClassifier(criterion='entropy', max_depth=5, min_samples_leaf=5, random_state=0, max_samples=200)\n",
    "cross_validate(rf, X_12_team, y, cv=10, scoring='f1')['test_score'].mean()"
   ]
  },
  {
   "cell_type": "code",
   "execution_count": 103,
   "id": "104c4e70",
   "metadata": {
    "ExecuteTime": {
     "end_time": "2022-08-01T19:53:16.179271Z",
     "start_time": "2022-08-01T19:53:15.221033Z"
    },
    "hidden": true
   },
   "outputs": [
    {
     "data": {
      "text/plain": [
       "0.5525961822057388"
      ]
     },
     "execution_count": 103,
     "metadata": {},
     "output_type": "execute_result"
    }
   ],
   "source": [
    "# Use feature 1, 2, 6, 7\n",
    "X_1267 = X.iloc[:, [0, 1, 5, 6]]\n",
    "X_1267_team = pd.concat([X_1267, X_team], axis=1)\n",
    "\n",
    "rf = RandomForestClassifier(criterion='entropy', max_depth=5, min_samples_leaf=5, random_state=0, max_samples=200)\n",
    "cross_validate(rf, X_1267_team, y, cv=10, scoring='f1')['test_score'].mean()"
   ]
  },
  {
   "cell_type": "markdown",
   "id": "6fdbb1e2",
   "metadata": {
    "hidden": true
   },
   "source": [
    "### Select from model"
   ]
  },
  {
   "cell_type": "code",
   "execution_count": 72,
   "id": "39fe17b1",
   "metadata": {
    "ExecuteTime": {
     "end_time": "2022-08-01T15:14:56.963345Z",
     "start_time": "2022-08-01T15:14:56.711917Z"
    },
    "hidden": true
   },
   "outputs": [
    {
     "data": {
      "text/plain": [
       "array([False,  True,  True,  True, False, False,  True])"
      ]
     },
     "execution_count": 72,
     "metadata": {},
     "output_type": "execute_result"
    }
   ],
   "source": [
    "rf = RandomForestClassifier(criterion='entropy', max_depth=5, min_samples_leaf=5, random_state=0, max_samples=200)\n",
    "selector = SelectFromModel(rf).fit(X_train, y_train)\n",
    "selector.get_support()[:7]"
   ]
  },
  {
   "cell_type": "code",
   "execution_count": 105,
   "id": "fbd80c2a",
   "metadata": {
    "ExecuteTime": {
     "end_time": "2022-08-01T20:10:43.303222Z",
     "start_time": "2022-08-01T20:10:42.344985Z"
    },
    "hidden": true
   },
   "outputs": [
    {
     "data": {
      "text/plain": [
       "0.5552300306498891"
      ]
     },
     "execution_count": 105,
     "metadata": {},
     "output_type": "execute_result"
    }
   ],
   "source": [
    "# Use feature 2, 3, 4\n",
    "X_234 = X.iloc[:, [1, 2, 3]]\n",
    "X_234_team = pd.concat([X_234, X_team], axis=1)\n",
    "cross_validate(rf, X_234_team, y, cv=10, scoring='f1')['test_score'].mean()"
   ]
  },
  {
   "cell_type": "code",
   "execution_count": 106,
   "id": "85fec05b",
   "metadata": {
    "ExecuteTime": {
     "end_time": "2022-08-01T20:11:26.381252Z",
     "start_time": "2022-08-01T20:11:25.421036Z"
    },
    "hidden": true
   },
   "outputs": [
    {
     "data": {
      "text/plain": [
       "0.5404200859139129"
      ]
     },
     "execution_count": 106,
     "metadata": {},
     "output_type": "execute_result"
    }
   ],
   "source": [
    "# Use feature 2, 3, 4, 6, 7\n",
    "X_23467 = X.iloc[:, [1, 2, 3, 5, 6]]\n",
    "X_23467_team = pd.concat([X_23467, X_team], axis=1)\n",
    "cross_validate(rf, X_23467_team, y, cv=10, scoring='f1')['test_score'].mean()"
   ]
  },
  {
   "cell_type": "markdown",
   "id": "7f5434e3",
   "metadata": {
    "hidden": true
   },
   "source": [
    "### Use all features"
   ]
  },
  {
   "cell_type": "code",
   "execution_count": 74,
   "id": "e25cb43b",
   "metadata": {
    "ExecuteTime": {
     "end_time": "2022-08-01T15:15:01.588913Z",
     "start_time": "2022-08-01T15:14:59.233562Z"
    },
    "hidden": true
   },
   "outputs": [
    {
     "data": {
      "text/plain": [
       "0.5501298432583838"
      ]
     },
     "execution_count": 74,
     "metadata": {},
     "output_type": "execute_result"
    }
   ],
   "source": [
    "cross_validate(rf, X, y, cv=10, scoring='f1')['test_score'].mean()"
   ]
  },
  {
   "cell_type": "markdown",
   "id": "cba09c2e",
   "metadata": {
    "ExecuteTime": {
     "end_time": "2022-06-24T04:17:45.148332Z",
     "start_time": "2022-06-24T04:17:45.132311Z"
    },
    "heading_collapsed": true
   },
   "source": [
    "## Bernoulli NB\n",
    "for Multivariate Bernoulli models wigh binary features"
   ]
  },
  {
   "cell_type": "markdown",
   "id": "5db27f1f",
   "metadata": {
    "hidden": true
   },
   "source": [
    "### Permutation importance"
   ]
  },
  {
   "cell_type": "code",
   "execution_count": 109,
   "id": "20e92307",
   "metadata": {
    "ExecuteTime": {
     "end_time": "2022-08-01T20:40:17.060622Z",
     "start_time": "2022-08-01T20:40:16.636528Z"
    },
    "hidden": true
   },
   "outputs": [],
   "source": [
    "bnb = BernoulliNB(binarize=None).fit(X_train, y_train)\n",
    "result = permutation_importance(bnb, X_train, y_train, scoring='f1', n_repeats=10, random_state=0)\n",
    "\n",
    "for i in result.importances_mean.argsort()[::-1]:\n",
    "    if result.importances_mean[i] - 2*result.importances_std[i] > 0:\n",
    "        print(i, X_train.columns[i], result.importances_mean[i])    # No results returned"
   ]
  },
  {
   "cell_type": "markdown",
   "id": "33bf3931",
   "metadata": {
    "hidden": true
   },
   "source": [
    "### Select from model\n",
    "BernoulliNB class doesn't have coef_, feature_importances_ attribute. Thus, cannot use SelectFromModel class."
   ]
  },
  {
   "cell_type": "markdown",
   "id": "7f35fc31",
   "metadata": {
    "hidden": true
   },
   "source": [
    "### Use all features"
   ]
  },
  {
   "cell_type": "code",
   "execution_count": 76,
   "id": "d530f83c",
   "metadata": {
    "ExecuteTime": {
     "end_time": "2022-08-01T15:15:02.724172Z",
     "start_time": "2022-08-01T15:15:02.616695Z"
    },
    "hidden": true
   },
   "outputs": [
    {
     "data": {
      "text/plain": [
       "0.5520115662230448"
      ]
     },
     "execution_count": 76,
     "metadata": {},
     "output_type": "execute_result"
    }
   ],
   "source": [
    "cross_validate(BernoulliNB(binarize=None), X, y, cv=10, scoring='f1')['test_score'].mean()"
   ]
  },
  {
   "cell_type": "markdown",
   "id": "d008a4db",
   "metadata": {
    "heading_collapsed": true
   },
   "source": [
    "## Categorical NB\n",
    "The results are same as BernoulliNB if the features are binary."
   ]
  },
  {
   "cell_type": "markdown",
   "id": "878b5135",
   "metadata": {
    "hidden": true
   },
   "source": [
    "### Permutation importance"
   ]
  },
  {
   "cell_type": "code",
   "execution_count": 112,
   "id": "875c374b",
   "metadata": {
    "ExecuteTime": {
     "end_time": "2022-08-01T20:49:02.825408Z",
     "start_time": "2022-08-01T20:49:02.371307Z"
    },
    "hidden": true
   },
   "outputs": [],
   "source": [
    "ca_nb = CategoricalNB().fit(X_train, y_train)\n",
    "result = permutation_importance(ca_nb, X_train, y_train, scoring='f1', n_repeats=10, random_state=0)\n",
    "\n",
    "for i in result.importances_mean.argsort()[::-1]:\n",
    "    if result.importances_mean[i] - 2*result.importances_std[i] > 0:\n",
    "        print(i, X_train.columns[i], result.importances_mean[i])   # No feature returned"
   ]
  },
  {
   "cell_type": "markdown",
   "id": "fdb15f2a",
   "metadata": {
    "hidden": true
   },
   "source": [
    "### Select from model\n",
    "Cannot use due to the same reason with BernoulliNB class"
   ]
  },
  {
   "cell_type": "markdown",
   "id": "dabfc2b4",
   "metadata": {
    "hidden": true
   },
   "source": [
    "### Use all features"
   ]
  },
  {
   "cell_type": "code",
   "execution_count": 113,
   "id": "7c8bf558",
   "metadata": {
    "ExecuteTime": {
     "end_time": "2022-08-01T20:50:47.696481Z",
     "start_time": "2022-08-01T20:50:47.627464Z"
    },
    "hidden": true
   },
   "outputs": [
    {
     "data": {
      "text/plain": [
       "0.5520115662230448"
      ]
     },
     "execution_count": 113,
     "metadata": {},
     "output_type": "execute_result"
    }
   ],
   "source": [
    "cross_validate(CategoricalNB(), X, y, cv=10, scoring='f1')['test_score'].mean()"
   ]
  },
  {
   "cell_type": "markdown",
   "id": "7c1005f0",
   "metadata": {
    "heading_collapsed": true
   },
   "source": [
    "## Complement NB"
   ]
  },
  {
   "cell_type": "markdown",
   "id": "48b5465c",
   "metadata": {
    "hidden": true
   },
   "source": [
    "### Permutation importance"
   ]
  },
  {
   "cell_type": "code",
   "execution_count": 79,
   "id": "1ec31af9",
   "metadata": {
    "ExecuteTime": {
     "end_time": "2022-08-01T15:15:05.002981Z",
     "start_time": "2022-08-01T15:15:03.937748Z"
    },
    "hidden": true
   },
   "outputs": [
    {
     "name": "stdout",
     "output_type": "stream",
     "text": [
      "22 op_Sydney Thunder 0.01336416766913261\n",
      "1 home_venue 0.008643197862946206\n",
      "15 op_Adelaide Strikers 0.006093200370973395\n"
     ]
    }
   ],
   "source": [
    "co_nb = ComplementNB().fit(X_train, y_train)\n",
    "result = permutation_importance(co_nb, X_train, y_train, scoring='f1', n_repeats=10, random_state=0)\n",
    "\n",
    "for i in result.importances_mean.argsort()[::-1]:\n",
    "    if result.importances_mean[i] - 2*result.importances_std[i] > 0:\n",
    "        print(i, X_train.columns[i], result.importances_mean[i])"
   ]
  },
  {
   "cell_type": "code",
   "execution_count": 80,
   "id": "878bc6f0",
   "metadata": {
    "ExecuteTime": {
     "end_time": "2022-08-01T15:15:05.097717Z",
     "start_time": "2022-08-01T15:15:05.004982Z"
    },
    "hidden": true
   },
   "outputs": [
    {
     "data": {
      "text/plain": [
       "0.5610334240680519"
      ]
     },
     "execution_count": 80,
     "metadata": {},
     "output_type": "execute_result"
    }
   ],
   "source": [
    "# Use feature 2\n",
    "cross_validate(ComplementNB(), X_2_team, y, cv=10, scoring='f1')['test_score'].mean()"
   ]
  },
  {
   "cell_type": "markdown",
   "id": "95cf3921",
   "metadata": {
    "hidden": true
   },
   "source": [
    "### Select from model\n",
    "Cannot use due to the same reason with BernoulliNB class"
   ]
  },
  {
   "cell_type": "markdown",
   "id": "014f958a",
   "metadata": {
    "hidden": true
   },
   "source": [
    "### Use all features"
   ]
  },
  {
   "cell_type": "code",
   "execution_count": 81,
   "id": "9dfc0967",
   "metadata": {
    "ExecuteTime": {
     "end_time": "2022-08-01T15:15:05.207291Z",
     "start_time": "2022-08-01T15:15:05.100244Z"
    },
    "hidden": true
   },
   "outputs": [
    {
     "data": {
      "text/plain": [
       "0.5458471847764346"
      ]
     },
     "execution_count": 81,
     "metadata": {},
     "output_type": "execute_result"
    }
   ],
   "source": [
    "cross_validate(ComplementNB(), X, y, cv=10, scoring='f1')['test_score'].mean()"
   ]
  },
  {
   "cell_type": "markdown",
   "id": "1577e71e",
   "metadata": {
    "heading_collapsed": true
   },
   "source": [
    "## KNN"
   ]
  },
  {
   "cell_type": "markdown",
   "id": "4aff1bb5",
   "metadata": {
    "hidden": true
   },
   "source": [
    "### Permutation importance"
   ]
  },
  {
   "cell_type": "code",
   "execution_count": 115,
   "id": "d2686f10",
   "metadata": {
    "ExecuteTime": {
     "end_time": "2022-08-01T21:20:33.234805Z",
     "start_time": "2022-08-01T21:20:30.371162Z"
    },
    "collapsed": true,
    "hidden": true
   },
   "outputs": [
    {
     "name": "stdout",
     "output_type": "stream",
     "text": [
      "2 first_innings 0.1490465565295132\n",
      "3 toss_winner 0.13766084694748185\n",
      "6 month_12 0.13292483892392631\n",
      "1 home_venue 0.13092053813670662\n",
      "0 neutral_venue 0.07140776058402565\n",
      "7 Adelaide Strikers 0.05781053707303456\n",
      "18 op_Melbourne Renegades 0.052129965461028584\n",
      "13 Sydney Sixers 0.05150220598826525\n",
      "21 op_Sydney Sixers 0.049575263574420325\n",
      "11 Melbourne Stars 0.04808301353604348\n",
      "20 op_Perth Scorchers 0.048055792398180495\n",
      "17 op_Hobart Hurricanes 0.046694007142804014\n",
      "16 op_Brisbane Heat 0.04635219625998577\n",
      "14 Sydney Thunder 0.04615097353696895\n",
      "15 op_Adelaide Strikers 0.04462696750284857\n",
      "8 Brisbane Heat 0.043148516439675086\n",
      "12 Perth Scorchers 0.040368296772680244\n",
      "9 Hobart Hurricanes 0.04030884815489545\n",
      "5 month_02 0.03874284807926\n",
      "19 op_Melbourne Stars 0.03867966750770764\n",
      "22 op_Sydney Thunder 0.037971280750654555\n",
      "10 Melbourne Renegades 0.03790038837439043\n",
      "4 derby 0.031063653650060585\n"
     ]
    }
   ],
   "source": [
    "knn = KNeighborsClassifier(weights='distance').fit(X_train, y_train)\n",
    "result = permutation_importance(knn, X_train, y_train, scoring='f1', n_repeats=10, random_state=0)\n",
    "\n",
    "for i in result.importances_mean.argsort()[::-1]:\n",
    "    if result.importances_mean[i] - 2*result.importances_std[i] > 0:\n",
    "        print(i, X_train.columns[i], result.importances_mean[i]) "
   ]
  },
  {
   "cell_type": "code",
   "execution_count": 83,
   "id": "67c966a9",
   "metadata": {
    "ExecuteTime": {
     "end_time": "2022-08-01T15:15:10.918591Z",
     "start_time": "2022-08-01T15:15:10.794034Z"
    },
    "hidden": true
   },
   "outputs": [
    {
     "data": {
      "text/plain": [
       "0.5134777407854035"
      ]
     },
     "execution_count": 83,
     "metadata": {},
     "output_type": "execute_result"
    }
   ],
   "source": [
    "# Use all features\n",
    "knn = KNeighborsClassifier(weights='distance')\n",
    "cross_validate(knn, X, y, cv=10, scoring='f1')['test_score'].mean()"
   ]
  },
  {
   "cell_type": "markdown",
   "id": "3b871476",
   "metadata": {
    "hidden": true
   },
   "source": [
    "### Select from model\n",
    "Cannot use due to the same reason with BernoulliNB class"
   ]
  },
  {
   "cell_type": "markdown",
   "id": "d6bd8199",
   "metadata": {},
   "source": [
    "## Neural Network"
   ]
  },
  {
   "cell_type": "code",
   "execution_count": 145,
   "id": "3f92d9c9",
   "metadata": {
    "ExecuteTime": {
     "end_time": "2022-08-07T22:45:00.210264Z",
     "start_time": "2022-08-07T22:44:12.278473Z"
    }
   },
   "outputs": [
    {
     "name": "stdout",
     "output_type": "stream",
     "text": [
      "0.5876983326667393\n"
     ]
    }
   ],
   "source": [
    "import tensorflow as tf\n",
    "from tensorflow.keras.utils import to_categorical\n",
    "from tensorflow.keras.models import Sequential\n",
    "from tensorflow.keras.layers import Dense, BatchNormalization, Activation, Dropout\n",
    "\n",
    "# Set random seed for reproducibility\n",
    "tf.random.set_seed(81)\n",
    "\n",
    "f1 = []\n",
    "\n",
    "# Cross validation\n",
    "for train_idx, test_idx in StratifiedKFold(n_splits=10).split(X, y):\n",
    "    X_train, X_test = X.iloc[train_idx], X.iloc[test_idx]\n",
    "    y_train, y_test = y.iloc[train_idx], y.iloc[test_idx]\n",
    "    \n",
    "    # Transform data for neural network\n",
    "    # One node predicted all instances to class 1\n",
    "    y_train_nn = to_categorical(y_train, 2)\n",
    "\n",
    "    # Define network\n",
    "    net = Sequential()\n",
    "    net.add(Dense(32, input_shape=(23,)))\n",
    "    net.add(Activation('swish'))\n",
    "    net.add(Dropout(rate=0.2))\n",
    "    \n",
    "    net.add(Dense(16))\n",
    "    net.add(Activation('swish'))\n",
    "    net.add(Dropout(rate=0.2))\n",
    "    \n",
    "    net.add(Dense(8))\n",
    "    net.add(Activation('swish'))\n",
    "    \n",
    "    net.add(Dense(4))\n",
    "    net.add(Activation('swish'))\n",
    "    \n",
    "    net.add(Dense(2, activation='softmax'))\n",
    "\n",
    "    # Compile the network\n",
    "    net.compile(loss='binary_crossentropy', optimizer='adam', metrics=['Precision', 'Recall'])\n",
    "    \n",
    "    # Fit the network with data\n",
    "    net.fit(X_train, y_train_nn, epochs=20, batch_size=32, shuffle=False, validation_split=0.25, verbose=0)\n",
    "    outputs = net.predict(X_test)\n",
    "    y_pred = np.argmax(outputs, axis=1)\n",
    "    score = f1_score(y_test, y_pred)\n",
    "    f1.append(score)\n",
    "    \n",
    "print(np.mean(f1))   "
   ]
  }
 ],
 "metadata": {
  "kernelspec": {
   "display_name": "Python3.9.5[NN]",
   "language": "python",
   "name": "nn"
  },
  "language_info": {
   "codemirror_mode": {
    "name": "ipython",
    "version": 3
   },
   "file_extension": ".py",
   "mimetype": "text/x-python",
   "name": "python",
   "nbconvert_exporter": "python",
   "pygments_lexer": "ipython3",
   "version": "3.9.5"
  },
  "toc": {
   "base_numbering": 1,
   "nav_menu": {},
   "number_sections": true,
   "sideBar": true,
   "skip_h1_title": false,
   "title_cell": "Table of Contents",
   "title_sidebar": "Contents",
   "toc_cell": false,
   "toc_position": {},
   "toc_section_display": true,
   "toc_window_display": false
  }
 },
 "nbformat": 4,
 "nbformat_minor": 5
}
