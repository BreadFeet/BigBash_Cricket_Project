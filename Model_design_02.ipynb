{
 "cells": [
  {
   "cell_type": "markdown",
   "id": "bd3ae109",
   "metadata": {},
   "source": [
    "# Model Predicting the Winner before the Game without Team Features"
   ]
  },
  {
   "cell_type": "code",
   "execution_count": 2,
   "id": "266fd396",
   "metadata": {
    "ExecuteTime": {
     "end_time": "2022-08-07T21:18:52.045787Z",
     "start_time": "2022-08-07T21:18:47.974440Z"
    }
   },
   "outputs": [],
   "source": [
    "import pandas as pd\n",
    "import numpy as np\n",
    "from sklearn.inspection import permutation_importance\n",
    "from sklearn.feature_selection import SelectKBest, chi2, SelectFromModel\n",
    "from sklearn.model_selection import train_test_split, cross_validate, StratifiedKFold\n",
    "from sklearn.linear_model import LogisticRegression\n",
    "from sklearn.svm import SVC\n",
    "from sklearn.tree import DecisionTreeClassifier\n",
    "from sklearn.ensemble import AdaBoostClassifier, RandomForestClassifier\n",
    "from sklearn.naive_bayes import BernoulliNB, CategoricalNB, ComplementNB\n",
    "from sklearn.neighbors import KNeighborsClassifier\n",
    "from sklearn.metrics import f1_score, confusion_matrix, classification_report\n",
    "pd.set_option('display.max_columns', None)   # Print all columns"
   ]
  },
  {
   "cell_type": "markdown",
   "id": "e16ffe13",
   "metadata": {},
   "source": [
    "# Preprocessing"
   ]
  },
  {
   "cell_type": "code",
   "execution_count": 3,
   "id": "29c33835",
   "metadata": {
    "ExecuteTime": {
     "end_time": "2022-08-07T21:18:52.093784Z",
     "start_time": "2022-08-07T21:18:52.048769Z"
    }
   },
   "outputs": [
    {
     "data": {
      "text/html": [
       "<div>\n",
       "<style scoped>\n",
       "    .dataframe tbody tr th:only-of-type {\n",
       "        vertical-align: middle;\n",
       "    }\n",
       "\n",
       "    .dataframe tbody tr th {\n",
       "        vertical-align: top;\n",
       "    }\n",
       "\n",
       "    .dataframe thead th {\n",
       "        text-align: right;\n",
       "    }\n",
       "</style>\n",
       "<table border=\"1\" class=\"dataframe\">\n",
       "  <thead>\n",
       "    <tr style=\"text-align: right;\">\n",
       "      <th></th>\n",
       "      <th>Unnamed: 0</th>\n",
       "      <th>ground</th>\n",
       "      <th>team1</th>\n",
       "      <th>team2</th>\n",
       "      <th>neutral_venue</th>\n",
       "      <th>home_venue</th>\n",
       "      <th>first_innings</th>\n",
       "      <th>toss_winner</th>\n",
       "      <th>toss_choice</th>\n",
       "      <th>dbMktPriceTeam1</th>\n",
       "      <th>dbMktPriceTeam2</th>\n",
       "      <th>victor</th>\n",
       "      <th>derby</th>\n",
       "      <th>start_month</th>\n",
       "      <th>month_02</th>\n",
       "      <th>month_12</th>\n",
       "    </tr>\n",
       "  </thead>\n",
       "  <tbody>\n",
       "    <tr>\n",
       "      <th>0</th>\n",
       "      <td>0</td>\n",
       "      <td>Manuka Oval</td>\n",
       "      <td>Perth Scorchers</td>\n",
       "      <td>Sydney Sixers</td>\n",
       "      <td>1</td>\n",
       "      <td>0</td>\n",
       "      <td>Sydney Sixers</td>\n",
       "      <td>Sydney Sixers</td>\n",
       "      <td>Bat</td>\n",
       "      <td>1.893</td>\n",
       "      <td>2.020</td>\n",
       "      <td>Perth Scorchers</td>\n",
       "      <td>0</td>\n",
       "      <td>1</td>\n",
       "      <td>0</td>\n",
       "      <td>0</td>\n",
       "    </tr>\n",
       "    <tr>\n",
       "      <th>1</th>\n",
       "      <td>4</td>\n",
       "      <td>W.A.C.A. Ground</td>\n",
       "      <td>Perth Scorchers</td>\n",
       "      <td>Melbourne Stars</td>\n",
       "      <td>0</td>\n",
       "      <td>1</td>\n",
       "      <td>Perth Scorchers</td>\n",
       "      <td>Perth Scorchers</td>\n",
       "      <td>Bat</td>\n",
       "      <td>1.775</td>\n",
       "      <td>2.170</td>\n",
       "      <td>Perth Scorchers</td>\n",
       "      <td>0</td>\n",
       "      <td>1</td>\n",
       "      <td>0</td>\n",
       "      <td>0</td>\n",
       "    </tr>\n",
       "    <tr>\n",
       "      <th>2</th>\n",
       "      <td>5</td>\n",
       "      <td>Adelaide Oval</td>\n",
       "      <td>Adelaide Strikers</td>\n",
       "      <td>Hobart Hurricanes</td>\n",
       "      <td>0</td>\n",
       "      <td>1</td>\n",
       "      <td>Hobart Hurricanes</td>\n",
       "      <td>Hobart Hurricanes</td>\n",
       "      <td>Bat</td>\n",
       "      <td>2.220</td>\n",
       "      <td>1.741</td>\n",
       "      <td>Adelaide Strikers</td>\n",
       "      <td>0</td>\n",
       "      <td>12</td>\n",
       "      <td>0</td>\n",
       "      <td>1</td>\n",
       "    </tr>\n",
       "    <tr>\n",
       "      <th>3</th>\n",
       "      <td>6</td>\n",
       "      <td>Docklands Stadium</td>\n",
       "      <td>Melbourne Renegades</td>\n",
       "      <td>Sydney Thunder</td>\n",
       "      <td>0</td>\n",
       "      <td>1</td>\n",
       "      <td>Sydney Thunder</td>\n",
       "      <td>Melbourne Renegades</td>\n",
       "      <td>Bowl</td>\n",
       "      <td>1.690</td>\n",
       "      <td>2.310</td>\n",
       "      <td>Melbourne Renegades</td>\n",
       "      <td>0</td>\n",
       "      <td>12</td>\n",
       "      <td>0</td>\n",
       "      <td>1</td>\n",
       "    </tr>\n",
       "    <tr>\n",
       "      <th>4</th>\n",
       "      <td>7</td>\n",
       "      <td>Sydney Cricket Ground</td>\n",
       "      <td>Sydney Sixers</td>\n",
       "      <td>Perth Scorchers</td>\n",
       "      <td>0</td>\n",
       "      <td>1</td>\n",
       "      <td>Perth Scorchers</td>\n",
       "      <td>Perth Scorchers</td>\n",
       "      <td>Bat</td>\n",
       "      <td>1.633</td>\n",
       "      <td>2.430</td>\n",
       "      <td>Perth Scorchers</td>\n",
       "      <td>0</td>\n",
       "      <td>12</td>\n",
       "      <td>0</td>\n",
       "      <td>1</td>\n",
       "    </tr>\n",
       "  </tbody>\n",
       "</table>\n",
       "</div>"
      ],
      "text/plain": [
       "   Unnamed: 0                 ground                team1              team2  \\\n",
       "0           0            Manuka Oval      Perth Scorchers      Sydney Sixers   \n",
       "1           4        W.A.C.A. Ground      Perth Scorchers    Melbourne Stars   \n",
       "2           5          Adelaide Oval    Adelaide Strikers  Hobart Hurricanes   \n",
       "3           6      Docklands Stadium  Melbourne Renegades     Sydney Thunder   \n",
       "4           7  Sydney Cricket Ground        Sydney Sixers    Perth Scorchers   \n",
       "\n",
       "   neutral_venue  home_venue      first_innings          toss_winner  \\\n",
       "0              1           0      Sydney Sixers        Sydney Sixers   \n",
       "1              0           1    Perth Scorchers      Perth Scorchers   \n",
       "2              0           1  Hobart Hurricanes    Hobart Hurricanes   \n",
       "3              0           1     Sydney Thunder  Melbourne Renegades   \n",
       "4              0           1    Perth Scorchers      Perth Scorchers   \n",
       "\n",
       "  toss_choice  dbMktPriceTeam1  dbMktPriceTeam2               victor  derby  \\\n",
       "0         Bat            1.893            2.020      Perth Scorchers      0   \n",
       "1         Bat            1.775            2.170      Perth Scorchers      0   \n",
       "2         Bat            2.220            1.741    Adelaide Strikers      0   \n",
       "3        Bowl            1.690            2.310  Melbourne Renegades      0   \n",
       "4         Bat            1.633            2.430      Perth Scorchers      0   \n",
       "\n",
       "   start_month  month_02  month_12  \n",
       "0            1         0         0  \n",
       "1            1         0         0  \n",
       "2           12         0         1  \n",
       "3           12         0         1  \n",
       "4           12         0         1  "
      ]
     },
     "execution_count": 3,
     "metadata": {},
     "output_type": "execute_result"
    }
   ],
   "source": [
    "# Load the data after general preprocessing\n",
    "data = pd.read_csv('./data/pjt02_data_processed.csv')\n",
    "data.head()"
   ]
  },
  {
   "cell_type": "code",
   "execution_count": 4,
   "id": "5be6f03e",
   "metadata": {
    "ExecuteTime": {
     "end_time": "2022-08-07T21:18:52.124787Z",
     "start_time": "2022-08-07T21:18:52.095780Z"
    }
   },
   "outputs": [
    {
     "data": {
      "text/html": [
       "<div>\n",
       "<style scoped>\n",
       "    .dataframe tbody tr th:only-of-type {\n",
       "        vertical-align: middle;\n",
       "    }\n",
       "\n",
       "    .dataframe tbody tr th {\n",
       "        vertical-align: top;\n",
       "    }\n",
       "\n",
       "    .dataframe thead th {\n",
       "        text-align: right;\n",
       "    }\n",
       "</style>\n",
       "<table border=\"1\" class=\"dataframe\">\n",
       "  <thead>\n",
       "    <tr style=\"text-align: right;\">\n",
       "      <th></th>\n",
       "      <th>Unnamed: 0</th>\n",
       "      <th>ground</th>\n",
       "      <th>team1</th>\n",
       "      <th>neutral_venue</th>\n",
       "      <th>home_venue</th>\n",
       "      <th>first_innings</th>\n",
       "      <th>toss_winner</th>\n",
       "      <th>toss_choice</th>\n",
       "      <th>dbMktPriceTeam1</th>\n",
       "      <th>dbMktPriceTeam2</th>\n",
       "      <th>victor</th>\n",
       "      <th>derby</th>\n",
       "      <th>start_month</th>\n",
       "      <th>month_02</th>\n",
       "      <th>month_12</th>\n",
       "    </tr>\n",
       "  </thead>\n",
       "  <tbody>\n",
       "    <tr>\n",
       "      <th>0</th>\n",
       "      <td>0</td>\n",
       "      <td>Manuka Oval</td>\n",
       "      <td>Perth Scorchers</td>\n",
       "      <td>1</td>\n",
       "      <td>0</td>\n",
       "      <td>Sydney Sixers</td>\n",
       "      <td>Sydney Sixers</td>\n",
       "      <td>Bat</td>\n",
       "      <td>1.893</td>\n",
       "      <td>2.020</td>\n",
       "      <td>Perth Scorchers</td>\n",
       "      <td>0</td>\n",
       "      <td>1</td>\n",
       "      <td>0</td>\n",
       "      <td>0</td>\n",
       "    </tr>\n",
       "    <tr>\n",
       "      <th>1</th>\n",
       "      <td>4</td>\n",
       "      <td>W.A.C.A. Ground</td>\n",
       "      <td>Perth Scorchers</td>\n",
       "      <td>0</td>\n",
       "      <td>1</td>\n",
       "      <td>Perth Scorchers</td>\n",
       "      <td>Perth Scorchers</td>\n",
       "      <td>Bat</td>\n",
       "      <td>1.775</td>\n",
       "      <td>2.170</td>\n",
       "      <td>Perth Scorchers</td>\n",
       "      <td>0</td>\n",
       "      <td>1</td>\n",
       "      <td>0</td>\n",
       "      <td>0</td>\n",
       "    </tr>\n",
       "    <tr>\n",
       "      <th>2</th>\n",
       "      <td>5</td>\n",
       "      <td>Adelaide Oval</td>\n",
       "      <td>Adelaide Strikers</td>\n",
       "      <td>0</td>\n",
       "      <td>1</td>\n",
       "      <td>Hobart Hurricanes</td>\n",
       "      <td>Hobart Hurricanes</td>\n",
       "      <td>Bat</td>\n",
       "      <td>2.220</td>\n",
       "      <td>1.741</td>\n",
       "      <td>Adelaide Strikers</td>\n",
       "      <td>0</td>\n",
       "      <td>12</td>\n",
       "      <td>0</td>\n",
       "      <td>1</td>\n",
       "    </tr>\n",
       "    <tr>\n",
       "      <th>3</th>\n",
       "      <td>6</td>\n",
       "      <td>Docklands Stadium</td>\n",
       "      <td>Melbourne Renegades</td>\n",
       "      <td>0</td>\n",
       "      <td>1</td>\n",
       "      <td>Sydney Thunder</td>\n",
       "      <td>Melbourne Renegades</td>\n",
       "      <td>Bowl</td>\n",
       "      <td>1.690</td>\n",
       "      <td>2.310</td>\n",
       "      <td>Melbourne Renegades</td>\n",
       "      <td>0</td>\n",
       "      <td>12</td>\n",
       "      <td>0</td>\n",
       "      <td>1</td>\n",
       "    </tr>\n",
       "    <tr>\n",
       "      <th>4</th>\n",
       "      <td>7</td>\n",
       "      <td>Sydney Cricket Ground</td>\n",
       "      <td>Sydney Sixers</td>\n",
       "      <td>0</td>\n",
       "      <td>1</td>\n",
       "      <td>Perth Scorchers</td>\n",
       "      <td>Perth Scorchers</td>\n",
       "      <td>Bat</td>\n",
       "      <td>1.633</td>\n",
       "      <td>2.430</td>\n",
       "      <td>Perth Scorchers</td>\n",
       "      <td>0</td>\n",
       "      <td>12</td>\n",
       "      <td>0</td>\n",
       "      <td>1</td>\n",
       "    </tr>\n",
       "  </tbody>\n",
       "</table>\n",
       "</div>"
      ],
      "text/plain": [
       "   Unnamed: 0                 ground                team1  neutral_venue  \\\n",
       "0           0            Manuka Oval      Perth Scorchers              1   \n",
       "1           4        W.A.C.A. Ground      Perth Scorchers              0   \n",
       "2           5          Adelaide Oval    Adelaide Strikers              0   \n",
       "3           6      Docklands Stadium  Melbourne Renegades              0   \n",
       "4           7  Sydney Cricket Ground        Sydney Sixers              0   \n",
       "\n",
       "   home_venue      first_innings          toss_winner toss_choice  \\\n",
       "0           0      Sydney Sixers        Sydney Sixers         Bat   \n",
       "1           1    Perth Scorchers      Perth Scorchers         Bat   \n",
       "2           1  Hobart Hurricanes    Hobart Hurricanes         Bat   \n",
       "3           1     Sydney Thunder  Melbourne Renegades        Bowl   \n",
       "4           1    Perth Scorchers      Perth Scorchers         Bat   \n",
       "\n",
       "   dbMktPriceTeam1  dbMktPriceTeam2               victor  derby  start_month  \\\n",
       "0            1.893            2.020      Perth Scorchers      0            1   \n",
       "1            1.775            2.170      Perth Scorchers      0            1   \n",
       "2            2.220            1.741    Adelaide Strikers      0           12   \n",
       "3            1.690            2.310  Melbourne Renegades      0           12   \n",
       "4            1.633            2.430      Perth Scorchers      0           12   \n",
       "\n",
       "   month_02  month_12  \n",
       "0         0         0  \n",
       "1         0         0  \n",
       "2         0         1  \n",
       "3         0         1  \n",
       "4         0         1  "
      ]
     },
     "execution_count": 4,
     "metadata": {},
     "output_type": "execute_result"
    }
   ],
   "source": [
    "# Dataframe of team1\n",
    "t1 = data.drop('team2', axis=1)\n",
    "t1.head()"
   ]
  },
  {
   "cell_type": "code",
   "execution_count": 5,
   "id": "35a3a25a",
   "metadata": {
    "ExecuteTime": {
     "end_time": "2022-08-07T21:18:52.171797Z",
     "start_time": "2022-08-07T21:18:52.127788Z"
    }
   },
   "outputs": [
    {
     "data": {
      "text/html": [
       "<div>\n",
       "<style scoped>\n",
       "    .dataframe tbody tr th:only-of-type {\n",
       "        vertical-align: middle;\n",
       "    }\n",
       "\n",
       "    .dataframe tbody tr th {\n",
       "        vertical-align: top;\n",
       "    }\n",
       "\n",
       "    .dataframe thead th {\n",
       "        text-align: right;\n",
       "    }\n",
       "</style>\n",
       "<table border=\"1\" class=\"dataframe\">\n",
       "  <thead>\n",
       "    <tr style=\"text-align: right;\">\n",
       "      <th></th>\n",
       "      <th>Unnamed: 0</th>\n",
       "      <th>ground</th>\n",
       "      <th>team1</th>\n",
       "      <th>neutral_venue</th>\n",
       "      <th>home_venue</th>\n",
       "      <th>first_innings</th>\n",
       "      <th>toss_winner</th>\n",
       "      <th>toss_choice</th>\n",
       "      <th>dbMktPriceTeam1</th>\n",
       "      <th>dbMktPriceTeam2</th>\n",
       "      <th>victor</th>\n",
       "      <th>derby</th>\n",
       "      <th>start_month</th>\n",
       "      <th>month_02</th>\n",
       "      <th>month_12</th>\n",
       "    </tr>\n",
       "  </thead>\n",
       "  <tbody>\n",
       "    <tr>\n",
       "      <th>0</th>\n",
       "      <td>0</td>\n",
       "      <td>Manuka Oval</td>\n",
       "      <td>Perth Scorchers</td>\n",
       "      <td>1</td>\n",
       "      <td>0</td>\n",
       "      <td>0</td>\n",
       "      <td>Sydney Sixers</td>\n",
       "      <td>Bat</td>\n",
       "      <td>1.893</td>\n",
       "      <td>2.020</td>\n",
       "      <td>Perth Scorchers</td>\n",
       "      <td>0</td>\n",
       "      <td>1</td>\n",
       "      <td>0</td>\n",
       "      <td>0</td>\n",
       "    </tr>\n",
       "    <tr>\n",
       "      <th>1</th>\n",
       "      <td>4</td>\n",
       "      <td>W.A.C.A. Ground</td>\n",
       "      <td>Perth Scorchers</td>\n",
       "      <td>0</td>\n",
       "      <td>1</td>\n",
       "      <td>1</td>\n",
       "      <td>Perth Scorchers</td>\n",
       "      <td>Bat</td>\n",
       "      <td>1.775</td>\n",
       "      <td>2.170</td>\n",
       "      <td>Perth Scorchers</td>\n",
       "      <td>0</td>\n",
       "      <td>1</td>\n",
       "      <td>0</td>\n",
       "      <td>0</td>\n",
       "    </tr>\n",
       "    <tr>\n",
       "      <th>2</th>\n",
       "      <td>5</td>\n",
       "      <td>Adelaide Oval</td>\n",
       "      <td>Adelaide Strikers</td>\n",
       "      <td>0</td>\n",
       "      <td>1</td>\n",
       "      <td>0</td>\n",
       "      <td>Hobart Hurricanes</td>\n",
       "      <td>Bat</td>\n",
       "      <td>2.220</td>\n",
       "      <td>1.741</td>\n",
       "      <td>Adelaide Strikers</td>\n",
       "      <td>0</td>\n",
       "      <td>12</td>\n",
       "      <td>0</td>\n",
       "      <td>1</td>\n",
       "    </tr>\n",
       "    <tr>\n",
       "      <th>3</th>\n",
       "      <td>6</td>\n",
       "      <td>Docklands Stadium</td>\n",
       "      <td>Melbourne Renegades</td>\n",
       "      <td>0</td>\n",
       "      <td>1</td>\n",
       "      <td>0</td>\n",
       "      <td>Melbourne Renegades</td>\n",
       "      <td>Bowl</td>\n",
       "      <td>1.690</td>\n",
       "      <td>2.310</td>\n",
       "      <td>Melbourne Renegades</td>\n",
       "      <td>0</td>\n",
       "      <td>12</td>\n",
       "      <td>0</td>\n",
       "      <td>1</td>\n",
       "    </tr>\n",
       "    <tr>\n",
       "      <th>4</th>\n",
       "      <td>7</td>\n",
       "      <td>Sydney Cricket Ground</td>\n",
       "      <td>Sydney Sixers</td>\n",
       "      <td>0</td>\n",
       "      <td>1</td>\n",
       "      <td>0</td>\n",
       "      <td>Perth Scorchers</td>\n",
       "      <td>Bat</td>\n",
       "      <td>1.633</td>\n",
       "      <td>2.430</td>\n",
       "      <td>Perth Scorchers</td>\n",
       "      <td>0</td>\n",
       "      <td>12</td>\n",
       "      <td>0</td>\n",
       "      <td>1</td>\n",
       "    </tr>\n",
       "  </tbody>\n",
       "</table>\n",
       "</div>"
      ],
      "text/plain": [
       "   Unnamed: 0                 ground                team1  neutral_venue  \\\n",
       "0           0            Manuka Oval      Perth Scorchers              1   \n",
       "1           4        W.A.C.A. Ground      Perth Scorchers              0   \n",
       "2           5          Adelaide Oval    Adelaide Strikers              0   \n",
       "3           6      Docklands Stadium  Melbourne Renegades              0   \n",
       "4           7  Sydney Cricket Ground        Sydney Sixers              0   \n",
       "\n",
       "   home_venue  first_innings          toss_winner toss_choice  \\\n",
       "0           0              0        Sydney Sixers         Bat   \n",
       "1           1              1      Perth Scorchers         Bat   \n",
       "2           1              0    Hobart Hurricanes         Bat   \n",
       "3           1              0  Melbourne Renegades        Bowl   \n",
       "4           1              0      Perth Scorchers         Bat   \n",
       "\n",
       "   dbMktPriceTeam1  dbMktPriceTeam2               victor  derby  start_month  \\\n",
       "0            1.893            2.020      Perth Scorchers      0            1   \n",
       "1            1.775            2.170      Perth Scorchers      0            1   \n",
       "2            2.220            1.741    Adelaide Strikers      0           12   \n",
       "3            1.690            2.310  Melbourne Renegades      0           12   \n",
       "4            1.633            2.430      Perth Scorchers      0           12   \n",
       "\n",
       "   month_02  month_12  \n",
       "0         0         0  \n",
       "1         0         0  \n",
       "2         0         1  \n",
       "3         0         1  \n",
       "4         0         1  "
      ]
     },
     "execution_count": 5,
     "metadata": {},
     "output_type": "execute_result"
    }
   ],
   "source": [
    "# Convert first_innings as binary\n",
    "t1['first_innings'] = t1.apply(lambda x: 1 if x['team1'] == x['first_innings'] else 0, axis=1)\n",
    "t1.head()"
   ]
  },
  {
   "cell_type": "code",
   "execution_count": 6,
   "id": "1572badf",
   "metadata": {
    "ExecuteTime": {
     "end_time": "2022-08-07T21:18:52.218808Z",
     "start_time": "2022-08-07T21:18:52.174797Z"
    }
   },
   "outputs": [
    {
     "data": {
      "text/html": [
       "<div>\n",
       "<style scoped>\n",
       "    .dataframe tbody tr th:only-of-type {\n",
       "        vertical-align: middle;\n",
       "    }\n",
       "\n",
       "    .dataframe tbody tr th {\n",
       "        vertical-align: top;\n",
       "    }\n",
       "\n",
       "    .dataframe thead th {\n",
       "        text-align: right;\n",
       "    }\n",
       "</style>\n",
       "<table border=\"1\" class=\"dataframe\">\n",
       "  <thead>\n",
       "    <tr style=\"text-align: right;\">\n",
       "      <th></th>\n",
       "      <th>Unnamed: 0</th>\n",
       "      <th>ground</th>\n",
       "      <th>team1</th>\n",
       "      <th>neutral_venue</th>\n",
       "      <th>home_venue</th>\n",
       "      <th>first_innings</th>\n",
       "      <th>toss_winner</th>\n",
       "      <th>toss_choice</th>\n",
       "      <th>dbMktPriceTeam1</th>\n",
       "      <th>dbMktPriceTeam2</th>\n",
       "      <th>victor</th>\n",
       "      <th>derby</th>\n",
       "      <th>start_month</th>\n",
       "      <th>month_02</th>\n",
       "      <th>month_12</th>\n",
       "    </tr>\n",
       "  </thead>\n",
       "  <tbody>\n",
       "    <tr>\n",
       "      <th>0</th>\n",
       "      <td>0</td>\n",
       "      <td>Manuka Oval</td>\n",
       "      <td>Perth Scorchers</td>\n",
       "      <td>1</td>\n",
       "      <td>0</td>\n",
       "      <td>0</td>\n",
       "      <td>0</td>\n",
       "      <td>Bat</td>\n",
       "      <td>1.893</td>\n",
       "      <td>2.020</td>\n",
       "      <td>Perth Scorchers</td>\n",
       "      <td>0</td>\n",
       "      <td>1</td>\n",
       "      <td>0</td>\n",
       "      <td>0</td>\n",
       "    </tr>\n",
       "    <tr>\n",
       "      <th>1</th>\n",
       "      <td>4</td>\n",
       "      <td>W.A.C.A. Ground</td>\n",
       "      <td>Perth Scorchers</td>\n",
       "      <td>0</td>\n",
       "      <td>1</td>\n",
       "      <td>1</td>\n",
       "      <td>1</td>\n",
       "      <td>Bat</td>\n",
       "      <td>1.775</td>\n",
       "      <td>2.170</td>\n",
       "      <td>Perth Scorchers</td>\n",
       "      <td>0</td>\n",
       "      <td>1</td>\n",
       "      <td>0</td>\n",
       "      <td>0</td>\n",
       "    </tr>\n",
       "    <tr>\n",
       "      <th>2</th>\n",
       "      <td>5</td>\n",
       "      <td>Adelaide Oval</td>\n",
       "      <td>Adelaide Strikers</td>\n",
       "      <td>0</td>\n",
       "      <td>1</td>\n",
       "      <td>0</td>\n",
       "      <td>0</td>\n",
       "      <td>Bat</td>\n",
       "      <td>2.220</td>\n",
       "      <td>1.741</td>\n",
       "      <td>Adelaide Strikers</td>\n",
       "      <td>0</td>\n",
       "      <td>12</td>\n",
       "      <td>0</td>\n",
       "      <td>1</td>\n",
       "    </tr>\n",
       "    <tr>\n",
       "      <th>3</th>\n",
       "      <td>6</td>\n",
       "      <td>Docklands Stadium</td>\n",
       "      <td>Melbourne Renegades</td>\n",
       "      <td>0</td>\n",
       "      <td>1</td>\n",
       "      <td>0</td>\n",
       "      <td>1</td>\n",
       "      <td>Bowl</td>\n",
       "      <td>1.690</td>\n",
       "      <td>2.310</td>\n",
       "      <td>Melbourne Renegades</td>\n",
       "      <td>0</td>\n",
       "      <td>12</td>\n",
       "      <td>0</td>\n",
       "      <td>1</td>\n",
       "    </tr>\n",
       "    <tr>\n",
       "      <th>4</th>\n",
       "      <td>7</td>\n",
       "      <td>Sydney Cricket Ground</td>\n",
       "      <td>Sydney Sixers</td>\n",
       "      <td>0</td>\n",
       "      <td>1</td>\n",
       "      <td>0</td>\n",
       "      <td>0</td>\n",
       "      <td>Bat</td>\n",
       "      <td>1.633</td>\n",
       "      <td>2.430</td>\n",
       "      <td>Perth Scorchers</td>\n",
       "      <td>0</td>\n",
       "      <td>12</td>\n",
       "      <td>0</td>\n",
       "      <td>1</td>\n",
       "    </tr>\n",
       "  </tbody>\n",
       "</table>\n",
       "</div>"
      ],
      "text/plain": [
       "   Unnamed: 0                 ground                team1  neutral_venue  \\\n",
       "0           0            Manuka Oval      Perth Scorchers              1   \n",
       "1           4        W.A.C.A. Ground      Perth Scorchers              0   \n",
       "2           5          Adelaide Oval    Adelaide Strikers              0   \n",
       "3           6      Docklands Stadium  Melbourne Renegades              0   \n",
       "4           7  Sydney Cricket Ground        Sydney Sixers              0   \n",
       "\n",
       "   home_venue  first_innings  toss_winner toss_choice  dbMktPriceTeam1  \\\n",
       "0           0              0            0         Bat            1.893   \n",
       "1           1              1            1         Bat            1.775   \n",
       "2           1              0            0         Bat            2.220   \n",
       "3           1              0            1        Bowl            1.690   \n",
       "4           1              0            0         Bat            1.633   \n",
       "\n",
       "   dbMktPriceTeam2               victor  derby  start_month  month_02  \\\n",
       "0            2.020      Perth Scorchers      0            1         0   \n",
       "1            2.170      Perth Scorchers      0            1         0   \n",
       "2            1.741    Adelaide Strikers      0           12         0   \n",
       "3            2.310  Melbourne Renegades      0           12         0   \n",
       "4            2.430      Perth Scorchers      0           12         0   \n",
       "\n",
       "   month_12  \n",
       "0         0  \n",
       "1         0  \n",
       "2         1  \n",
       "3         1  \n",
       "4         1  "
      ]
     },
     "execution_count": 6,
     "metadata": {},
     "output_type": "execute_result"
    }
   ],
   "source": [
    "# Convert toss_winner as binary\n",
    "t1['toss_winner'] = t1.apply(lambda x: 1 if x['team1'] == x['toss_winner'] else 0, axis=1)\n",
    "t1.head()"
   ]
  },
  {
   "cell_type": "code",
   "execution_count": 7,
   "id": "2a482469",
   "metadata": {
    "ExecuteTime": {
     "end_time": "2022-08-07T21:18:52.250814Z",
     "start_time": "2022-08-07T21:18:52.221809Z"
    }
   },
   "outputs": [
    {
     "data": {
      "text/html": [
       "<div>\n",
       "<style scoped>\n",
       "    .dataframe tbody tr th:only-of-type {\n",
       "        vertical-align: middle;\n",
       "    }\n",
       "\n",
       "    .dataframe tbody tr th {\n",
       "        vertical-align: top;\n",
       "    }\n",
       "\n",
       "    .dataframe thead th {\n",
       "        text-align: right;\n",
       "    }\n",
       "</style>\n",
       "<table border=\"1\" class=\"dataframe\">\n",
       "  <thead>\n",
       "    <tr style=\"text-align: right;\">\n",
       "      <th></th>\n",
       "      <th>Unnamed: 0</th>\n",
       "      <th>ground</th>\n",
       "      <th>team1</th>\n",
       "      <th>neutral_venue</th>\n",
       "      <th>home_venue</th>\n",
       "      <th>first_innings</th>\n",
       "      <th>toss_winner</th>\n",
       "      <th>toss_choice</th>\n",
       "      <th>dbMktPriceTeam1</th>\n",
       "      <th>dbMktPriceTeam2</th>\n",
       "      <th>victor</th>\n",
       "      <th>derby</th>\n",
       "      <th>start_month</th>\n",
       "      <th>month_02</th>\n",
       "      <th>month_12</th>\n",
       "    </tr>\n",
       "  </thead>\n",
       "  <tbody>\n",
       "    <tr>\n",
       "      <th>0</th>\n",
       "      <td>0</td>\n",
       "      <td>Manuka Oval</td>\n",
       "      <td>Perth Scorchers</td>\n",
       "      <td>1</td>\n",
       "      <td>0</td>\n",
       "      <td>0</td>\n",
       "      <td>0</td>\n",
       "      <td>Bat</td>\n",
       "      <td>1.893</td>\n",
       "      <td>2.020</td>\n",
       "      <td>1</td>\n",
       "      <td>0</td>\n",
       "      <td>1</td>\n",
       "      <td>0</td>\n",
       "      <td>0</td>\n",
       "    </tr>\n",
       "    <tr>\n",
       "      <th>1</th>\n",
       "      <td>4</td>\n",
       "      <td>W.A.C.A. Ground</td>\n",
       "      <td>Perth Scorchers</td>\n",
       "      <td>0</td>\n",
       "      <td>1</td>\n",
       "      <td>1</td>\n",
       "      <td>1</td>\n",
       "      <td>Bat</td>\n",
       "      <td>1.775</td>\n",
       "      <td>2.170</td>\n",
       "      <td>1</td>\n",
       "      <td>0</td>\n",
       "      <td>1</td>\n",
       "      <td>0</td>\n",
       "      <td>0</td>\n",
       "    </tr>\n",
       "    <tr>\n",
       "      <th>2</th>\n",
       "      <td>5</td>\n",
       "      <td>Adelaide Oval</td>\n",
       "      <td>Adelaide Strikers</td>\n",
       "      <td>0</td>\n",
       "      <td>1</td>\n",
       "      <td>0</td>\n",
       "      <td>0</td>\n",
       "      <td>Bat</td>\n",
       "      <td>2.220</td>\n",
       "      <td>1.741</td>\n",
       "      <td>1</td>\n",
       "      <td>0</td>\n",
       "      <td>12</td>\n",
       "      <td>0</td>\n",
       "      <td>1</td>\n",
       "    </tr>\n",
       "    <tr>\n",
       "      <th>3</th>\n",
       "      <td>6</td>\n",
       "      <td>Docklands Stadium</td>\n",
       "      <td>Melbourne Renegades</td>\n",
       "      <td>0</td>\n",
       "      <td>1</td>\n",
       "      <td>0</td>\n",
       "      <td>1</td>\n",
       "      <td>Bowl</td>\n",
       "      <td>1.690</td>\n",
       "      <td>2.310</td>\n",
       "      <td>1</td>\n",
       "      <td>0</td>\n",
       "      <td>12</td>\n",
       "      <td>0</td>\n",
       "      <td>1</td>\n",
       "    </tr>\n",
       "    <tr>\n",
       "      <th>4</th>\n",
       "      <td>7</td>\n",
       "      <td>Sydney Cricket Ground</td>\n",
       "      <td>Sydney Sixers</td>\n",
       "      <td>0</td>\n",
       "      <td>1</td>\n",
       "      <td>0</td>\n",
       "      <td>0</td>\n",
       "      <td>Bat</td>\n",
       "      <td>1.633</td>\n",
       "      <td>2.430</td>\n",
       "      <td>0</td>\n",
       "      <td>0</td>\n",
       "      <td>12</td>\n",
       "      <td>0</td>\n",
       "      <td>1</td>\n",
       "    </tr>\n",
       "  </tbody>\n",
       "</table>\n",
       "</div>"
      ],
      "text/plain": [
       "   Unnamed: 0                 ground                team1  neutral_venue  \\\n",
       "0           0            Manuka Oval      Perth Scorchers              1   \n",
       "1           4        W.A.C.A. Ground      Perth Scorchers              0   \n",
       "2           5          Adelaide Oval    Adelaide Strikers              0   \n",
       "3           6      Docklands Stadium  Melbourne Renegades              0   \n",
       "4           7  Sydney Cricket Ground        Sydney Sixers              0   \n",
       "\n",
       "   home_venue  first_innings  toss_winner toss_choice  dbMktPriceTeam1  \\\n",
       "0           0              0            0         Bat            1.893   \n",
       "1           1              1            1         Bat            1.775   \n",
       "2           1              0            0         Bat            2.220   \n",
       "3           1              0            1        Bowl            1.690   \n",
       "4           1              0            0         Bat            1.633   \n",
       "\n",
       "   dbMktPriceTeam2  victor  derby  start_month  month_02  month_12  \n",
       "0            2.020       1      0            1         0         0  \n",
       "1            2.170       1      0            1         0         0  \n",
       "2            1.741       1      0           12         0         1  \n",
       "3            2.310       1      0           12         0         1  \n",
       "4            2.430       0      0           12         0         1  "
      ]
     },
     "execution_count": 7,
     "metadata": {},
     "output_type": "execute_result"
    }
   ],
   "source": [
    "# Convert victor as binary\n",
    "t1['victor'] = t1.apply(lambda x: 1 if x['team1'] == x['victor'] else 0, axis=1)\n",
    "t1.head()"
   ]
  },
  {
   "cell_type": "code",
   "execution_count": 8,
   "id": "9fe0d1d4",
   "metadata": {
    "ExecuteTime": {
     "end_time": "2022-08-07T21:18:52.282822Z",
     "start_time": "2022-08-07T21:18:52.252817Z"
    }
   },
   "outputs": [
    {
     "data": {
      "text/html": [
       "<div>\n",
       "<style scoped>\n",
       "    .dataframe tbody tr th:only-of-type {\n",
       "        vertical-align: middle;\n",
       "    }\n",
       "\n",
       "    .dataframe tbody tr th {\n",
       "        vertical-align: top;\n",
       "    }\n",
       "\n",
       "    .dataframe thead th {\n",
       "        text-align: right;\n",
       "    }\n",
       "</style>\n",
       "<table border=\"1\" class=\"dataframe\">\n",
       "  <thead>\n",
       "    <tr style=\"text-align: right;\">\n",
       "      <th></th>\n",
       "      <th>neutral_venue</th>\n",
       "      <th>home_venue</th>\n",
       "      <th>first_innings</th>\n",
       "      <th>toss_winner</th>\n",
       "      <th>derby</th>\n",
       "      <th>month_02</th>\n",
       "      <th>month_12</th>\n",
       "      <th>victor</th>\n",
       "    </tr>\n",
       "  </thead>\n",
       "  <tbody>\n",
       "    <tr>\n",
       "      <th>0</th>\n",
       "      <td>1</td>\n",
       "      <td>0</td>\n",
       "      <td>0</td>\n",
       "      <td>0</td>\n",
       "      <td>0</td>\n",
       "      <td>0</td>\n",
       "      <td>0</td>\n",
       "      <td>1</td>\n",
       "    </tr>\n",
       "    <tr>\n",
       "      <th>1</th>\n",
       "      <td>0</td>\n",
       "      <td>1</td>\n",
       "      <td>1</td>\n",
       "      <td>1</td>\n",
       "      <td>0</td>\n",
       "      <td>0</td>\n",
       "      <td>0</td>\n",
       "      <td>1</td>\n",
       "    </tr>\n",
       "    <tr>\n",
       "      <th>2</th>\n",
       "      <td>0</td>\n",
       "      <td>1</td>\n",
       "      <td>0</td>\n",
       "      <td>0</td>\n",
       "      <td>0</td>\n",
       "      <td>0</td>\n",
       "      <td>1</td>\n",
       "      <td>1</td>\n",
       "    </tr>\n",
       "    <tr>\n",
       "      <th>3</th>\n",
       "      <td>0</td>\n",
       "      <td>1</td>\n",
       "      <td>0</td>\n",
       "      <td>1</td>\n",
       "      <td>0</td>\n",
       "      <td>0</td>\n",
       "      <td>1</td>\n",
       "      <td>1</td>\n",
       "    </tr>\n",
       "    <tr>\n",
       "      <th>4</th>\n",
       "      <td>0</td>\n",
       "      <td>1</td>\n",
       "      <td>0</td>\n",
       "      <td>0</td>\n",
       "      <td>0</td>\n",
       "      <td>0</td>\n",
       "      <td>1</td>\n",
       "      <td>0</td>\n",
       "    </tr>\n",
       "  </tbody>\n",
       "</table>\n",
       "</div>"
      ],
      "text/plain": [
       "   neutral_venue  home_venue  first_innings  toss_winner  derby  month_02  \\\n",
       "0              1           0              0            0      0         0   \n",
       "1              0           1              1            1      0         0   \n",
       "2              0           1              0            0      0         0   \n",
       "3              0           1              0            1      0         0   \n",
       "4              0           1              0            0      0         0   \n",
       "\n",
       "   month_12  victor  \n",
       "0         0       1  \n",
       "1         0       1  \n",
       "2         1       1  \n",
       "3         1       1  \n",
       "4         1       0  "
      ]
     },
     "execution_count": 8,
     "metadata": {},
     "output_type": "execute_result"
    }
   ],
   "source": [
    "# Extract only necessary columns\n",
    "t1 = t1[['neutral_venue', 'home_venue', 'first_innings', 'toss_winner', 'derby', 'month_02', 'month_12', 'victor']]\n",
    "t1.head()"
   ]
  },
  {
   "cell_type": "code",
   "execution_count": 9,
   "id": "dce17ee4",
   "metadata": {
    "ExecuteTime": {
     "end_time": "2022-08-07T21:18:52.361840Z",
     "start_time": "2022-08-07T21:18:52.284822Z"
    }
   },
   "outputs": [
    {
     "data": {
      "text/html": [
       "<div>\n",
       "<style scoped>\n",
       "    .dataframe tbody tr th:only-of-type {\n",
       "        vertical-align: middle;\n",
       "    }\n",
       "\n",
       "    .dataframe tbody tr th {\n",
       "        vertical-align: top;\n",
       "    }\n",
       "\n",
       "    .dataframe thead th {\n",
       "        text-align: right;\n",
       "    }\n",
       "</style>\n",
       "<table border=\"1\" class=\"dataframe\">\n",
       "  <thead>\n",
       "    <tr style=\"text-align: right;\">\n",
       "      <th></th>\n",
       "      <th>neutral_venue</th>\n",
       "      <th>home_venue</th>\n",
       "      <th>first_innings</th>\n",
       "      <th>toss_winner</th>\n",
       "      <th>derby</th>\n",
       "      <th>month_02</th>\n",
       "      <th>month_12</th>\n",
       "      <th>victor</th>\n",
       "    </tr>\n",
       "  </thead>\n",
       "  <tbody>\n",
       "    <tr>\n",
       "      <th>0</th>\n",
       "      <td>1</td>\n",
       "      <td>0</td>\n",
       "      <td>1</td>\n",
       "      <td>1</td>\n",
       "      <td>0</td>\n",
       "      <td>0</td>\n",
       "      <td>0</td>\n",
       "      <td>0</td>\n",
       "    </tr>\n",
       "    <tr>\n",
       "      <th>1</th>\n",
       "      <td>0</td>\n",
       "      <td>0</td>\n",
       "      <td>0</td>\n",
       "      <td>0</td>\n",
       "      <td>0</td>\n",
       "      <td>0</td>\n",
       "      <td>0</td>\n",
       "      <td>0</td>\n",
       "    </tr>\n",
       "    <tr>\n",
       "      <th>2</th>\n",
       "      <td>0</td>\n",
       "      <td>0</td>\n",
       "      <td>1</td>\n",
       "      <td>1</td>\n",
       "      <td>0</td>\n",
       "      <td>0</td>\n",
       "      <td>1</td>\n",
       "      <td>0</td>\n",
       "    </tr>\n",
       "    <tr>\n",
       "      <th>3</th>\n",
       "      <td>0</td>\n",
       "      <td>0</td>\n",
       "      <td>1</td>\n",
       "      <td>0</td>\n",
       "      <td>0</td>\n",
       "      <td>0</td>\n",
       "      <td>1</td>\n",
       "      <td>0</td>\n",
       "    </tr>\n",
       "    <tr>\n",
       "      <th>4</th>\n",
       "      <td>0</td>\n",
       "      <td>0</td>\n",
       "      <td>1</td>\n",
       "      <td>1</td>\n",
       "      <td>0</td>\n",
       "      <td>0</td>\n",
       "      <td>1</td>\n",
       "      <td>1</td>\n",
       "    </tr>\n",
       "  </tbody>\n",
       "</table>\n",
       "</div>"
      ],
      "text/plain": [
       "   neutral_venue  home_venue  first_innings  toss_winner  derby  month_02  \\\n",
       "0              1           0              1            1      0         0   \n",
       "1              0           0              0            0      0         0   \n",
       "2              0           0              1            1      0         0   \n",
       "3              0           0              1            0      0         0   \n",
       "4              0           0              1            1      0         0   \n",
       "\n",
       "   month_12  victor  \n",
       "0         0       0  \n",
       "1         0       0  \n",
       "2         1       0  \n",
       "3         1       0  \n",
       "4         1       1  "
      ]
     },
     "execution_count": 9,
     "metadata": {},
     "output_type": "execute_result"
    }
   ],
   "source": [
    "# Do the same for team2\n",
    "# Dataframe of team2\n",
    "t2 = data.drop('team1', axis=1)\n",
    "t2['first_innings'] = t2.apply(lambda x: 1 if x['team2'] == x['first_innings'] else 0, axis=1)\n",
    "t2['toss_winner'] = t2.apply(lambda x: 1 if x['team2'] == x['toss_winner'] else 0, axis=1)\n",
    "t2['victor'] = t2.apply(lambda x: 1 if x['team2'] == x['victor'] else 0, axis=1)\n",
    "\n",
    "# Additional process for team2 - 0 for home_venue\n",
    "t2['home_venue'] = 0\n",
    "\n",
    "# Extract only necessary columns\n",
    "t2 = t2[['neutral_venue', 'home_venue', 'first_innings', 'toss_winner', 'derby', 'month_02', 'month_12', 'victor']]\n",
    "t2.head()"
   ]
  },
  {
   "cell_type": "code",
   "execution_count": 10,
   "id": "bbc16881",
   "metadata": {
    "ExecuteTime": {
     "end_time": "2022-08-07T21:18:52.377844Z",
     "start_time": "2022-08-07T21:18:52.363842Z"
    },
    "scrolled": true
   },
   "outputs": [
    {
     "data": {
      "text/html": [
       "<div>\n",
       "<style scoped>\n",
       "    .dataframe tbody tr th:only-of-type {\n",
       "        vertical-align: middle;\n",
       "    }\n",
       "\n",
       "    .dataframe tbody tr th {\n",
       "        vertical-align: top;\n",
       "    }\n",
       "\n",
       "    .dataframe thead th {\n",
       "        text-align: right;\n",
       "    }\n",
       "</style>\n",
       "<table border=\"1\" class=\"dataframe\">\n",
       "  <thead>\n",
       "    <tr style=\"text-align: right;\">\n",
       "      <th></th>\n",
       "      <th>neutral_venue</th>\n",
       "      <th>home_venue</th>\n",
       "      <th>first_innings</th>\n",
       "      <th>toss_winner</th>\n",
       "      <th>derby</th>\n",
       "      <th>month_02</th>\n",
       "      <th>month_12</th>\n",
       "      <th>victor</th>\n",
       "    </tr>\n",
       "  </thead>\n",
       "  <tbody>\n",
       "    <tr>\n",
       "      <th>937</th>\n",
       "      <td>1</td>\n",
       "      <td>0</td>\n",
       "      <td>0</td>\n",
       "      <td>0</td>\n",
       "      <td>0</td>\n",
       "      <td>0</td>\n",
       "      <td>0</td>\n",
       "      <td>0</td>\n",
       "    </tr>\n",
       "    <tr>\n",
       "      <th>938</th>\n",
       "      <td>1</td>\n",
       "      <td>0</td>\n",
       "      <td>0</td>\n",
       "      <td>0</td>\n",
       "      <td>0</td>\n",
       "      <td>0</td>\n",
       "      <td>0</td>\n",
       "      <td>0</td>\n",
       "    </tr>\n",
       "    <tr>\n",
       "      <th>939</th>\n",
       "      <td>1</td>\n",
       "      <td>0</td>\n",
       "      <td>0</td>\n",
       "      <td>0</td>\n",
       "      <td>0</td>\n",
       "      <td>0</td>\n",
       "      <td>0</td>\n",
       "      <td>0</td>\n",
       "    </tr>\n",
       "    <tr>\n",
       "      <th>940</th>\n",
       "      <td>0</td>\n",
       "      <td>0</td>\n",
       "      <td>1</td>\n",
       "      <td>0</td>\n",
       "      <td>0</td>\n",
       "      <td>0</td>\n",
       "      <td>0</td>\n",
       "      <td>0</td>\n",
       "    </tr>\n",
       "    <tr>\n",
       "      <th>941</th>\n",
       "      <td>1</td>\n",
       "      <td>0</td>\n",
       "      <td>0</td>\n",
       "      <td>1</td>\n",
       "      <td>0</td>\n",
       "      <td>0</td>\n",
       "      <td>0</td>\n",
       "      <td>0</td>\n",
       "    </tr>\n",
       "  </tbody>\n",
       "</table>\n",
       "</div>"
      ],
      "text/plain": [
       "     neutral_venue  home_venue  first_innings  toss_winner  derby  month_02  \\\n",
       "937              1           0              0            0      0         0   \n",
       "938              1           0              0            0      0         0   \n",
       "939              1           0              0            0      0         0   \n",
       "940              0           0              1            0      0         0   \n",
       "941              1           0              0            1      0         0   \n",
       "\n",
       "     month_12  victor  \n",
       "937         0       0  \n",
       "938         0       0  \n",
       "939         0       0  \n",
       "940         0       0  \n",
       "941         0       0  "
      ]
     },
     "execution_count": 10,
     "metadata": {},
     "output_type": "execute_result"
    }
   ],
   "source": [
    "# Combine team1 and team2\n",
    "data2 = pd.concat([t1, t2], axis=0, ignore_index=True)\n",
    "data2.tail()"
   ]
  },
  {
   "cell_type": "code",
   "execution_count": 11,
   "id": "9ecae1b6",
   "metadata": {
    "ExecuteTime": {
     "end_time": "2022-08-07T21:18:52.408852Z",
     "start_time": "2022-08-07T21:18:52.381845Z"
    }
   },
   "outputs": [
    {
     "data": {
      "text/plain": [
       "((753, 7), (189,))"
      ]
     },
     "execution_count": 11,
     "metadata": {},
     "output_type": "execute_result"
    }
   ],
   "source": [
    "# Train-test split\n",
    "X = data2[['neutral_venue', 'home_venue', 'first_innings', 'toss_winner', 'derby', 'month_02', 'month_12']]\n",
    "y = data2['victor']\n",
    "X_train, X_test, y_train, y_test = train_test_split(X, y, test_size=0.2, random_state=10)\n",
    "X_train.shape, y_test.shape"
   ]
  },
  {
   "cell_type": "markdown",
   "id": "73c2b260",
   "metadata": {},
   "source": [
    "# Feature Selection"
   ]
  },
  {
   "cell_type": "markdown",
   "id": "ba29d158",
   "metadata": {
    "heading_collapsed": true
   },
   "source": [
    "## Select K best by chi-squared\n",
    "Due to the high p-values, no features can be selected.\n"
   ]
  },
  {
   "cell_type": "code",
   "execution_count": 12,
   "id": "3ee9d3fd",
   "metadata": {
    "ExecuteTime": {
     "end_time": "2022-08-07T21:18:52.455862Z",
     "start_time": "2022-08-07T21:18:52.411852Z"
    },
    "hidden": true
   },
   "outputs": [
    {
     "data": {
      "text/plain": [
       "array([0.        , 0.12158809, 0.10403397, 1.12314225, 0.        ,\n",
       "       0.        , 0.        ])"
      ]
     },
     "execution_count": 12,
     "metadata": {},
     "output_type": "execute_result"
    }
   ],
   "source": [
    "SelectKBest(chi2, k=7).fit(X, y).scores_    # rank: toss_winner, home_venue, first_innings"
   ]
  },
  {
   "cell_type": "code",
   "execution_count": 13,
   "id": "5d23e9d2",
   "metadata": {
    "ExecuteTime": {
     "end_time": "2022-08-07T21:18:52.471864Z",
     "start_time": "2022-08-07T21:18:52.458861Z"
    },
    "hidden": true
   },
   "outputs": [
    {
     "data": {
      "text/plain": [
       "array(['home_venue', 'first_innings', 'toss_winner'], dtype=object)"
      ]
     },
     "execution_count": 13,
     "metadata": {},
     "output_type": "execute_result"
    }
   ],
   "source": [
    "SelectKBest(chi2, k=3).fit(X, y).get_feature_names_out()   # name of the features of 3 high scores"
   ]
  },
  {
   "cell_type": "code",
   "execution_count": 14,
   "id": "22eea5f6",
   "metadata": {
    "ExecuteTime": {
     "end_time": "2022-08-07T21:18:52.487868Z",
     "start_time": "2022-08-07T21:18:52.473865Z"
    },
    "hidden": true
   },
   "outputs": [
    {
     "data": {
      "text/plain": [
       "array([1.        , 0.72731842, 0.74704139, 0.28924285, 1.        ,\n",
       "       1.        , 1.        ])"
      ]
     },
     "execution_count": 14,
     "metadata": {},
     "output_type": "execute_result"
    }
   ],
   "source": [
    "SelectKBest(chi2, k=7).fit(X, y).pvalues_    # to big to be valid"
   ]
  },
  {
   "cell_type": "markdown",
   "id": "e1095cc3",
   "metadata": {},
   "source": [
    "# Classification Analysis"
   ]
  },
  {
   "cell_type": "markdown",
   "id": "c71373a4",
   "metadata": {
    "heading_collapsed": true
   },
   "source": [
    "## Logistic Regression"
   ]
  },
  {
   "cell_type": "markdown",
   "id": "f9c32ac3",
   "metadata": {
    "hidden": true
   },
   "source": [
    "### Permutation importance"
   ]
  },
  {
   "cell_type": "code",
   "execution_count": 15,
   "id": "3b0bb096",
   "metadata": {
    "ExecuteTime": {
     "end_time": "2022-08-07T21:18:52.834961Z",
     "start_time": "2022-08-07T21:18:52.490869Z"
    },
    "hidden": true
   },
   "outputs": [
    {
     "name": "stdout",
     "output_type": "stream",
     "text": [
      "4 derby 0.013682335496290342\n"
     ]
    }
   ],
   "source": [
    "# Feature selection\n",
    "logr = LogisticRegression().fit(X_train, y_train)\n",
    "result = permutation_importance(logr, X_train, y_train, scoring='f1', n_repeats=10, random_state=0)\n",
    "\n",
    "for i in result.importances_mean.argsort()[::-1]:\n",
    "    if result.importances_mean[i] - 2*result.importances_std[i] > 0:\n",
    "        print(i, X_train.columns[i], result.importances_mean[i]) "
   ]
  },
  {
   "cell_type": "code",
   "execution_count": 16,
   "id": "84c9f81d",
   "metadata": {
    "ExecuteTime": {
     "end_time": "2022-08-07T21:18:52.927986Z",
     "start_time": "2022-08-07T21:18:52.837947Z"
    },
    "hidden": true
   },
   "outputs": [
    {
     "data": {
      "text/plain": [
       "0.14396375259403163"
      ]
     },
     "execution_count": 16,
     "metadata": {},
     "output_type": "execute_result"
    }
   ],
   "source": [
    "# Cross validation\n",
    "X_5 = X.iloc[:, [4]]\n",
    "cross_validate(LogisticRegression(), X_5, y, cv=10, scoring='f1')['test_score'].mean()"
   ]
  },
  {
   "cell_type": "code",
   "execution_count": 17,
   "id": "7eb12a3b",
   "metadata": {
    "ExecuteTime": {
     "end_time": "2022-08-07T21:18:53.038994Z",
     "start_time": "2022-08-07T21:18:52.930984Z"
    },
    "hidden": true
   },
   "outputs": [
    {
     "data": {
      "text/plain": [
       "0.4330280083148443"
      ]
     },
     "execution_count": 17,
     "metadata": {},
     "output_type": "execute_result"
    }
   ],
   "source": [
    "# Use all features\n",
    "cross_validate(LogisticRegression(), X, y, cv=10, scoring='f1')['test_score'].mean()"
   ]
  },
  {
   "cell_type": "markdown",
   "id": "f185fc64",
   "metadata": {
    "hidden": true
   },
   "source": [
    "### Select from model"
   ]
  },
  {
   "cell_type": "code",
   "execution_count": 18,
   "id": "19e4a294",
   "metadata": {
    "ExecuteTime": {
     "end_time": "2022-08-07T21:18:53.054509Z",
     "start_time": "2022-08-07T21:18:53.040993Z"
    },
    "hidden": true
   },
   "outputs": [
    {
     "data": {
      "text/plain": [
       "array([False, False, False,  True,  True,  True, False])"
      ]
     },
     "execution_count": 18,
     "metadata": {},
     "output_type": "execute_result"
    }
   ],
   "source": [
    "logr = LogisticRegression()\n",
    "selector = SelectFromModel(logr).fit(X_train, y_train)\n",
    "selector.get_support()    # Feature 4, 5, 6 -> 4, 5 or 4, 5, 6, 7"
   ]
  },
  {
   "cell_type": "code",
   "execution_count": 19,
   "id": "8450408b",
   "metadata": {
    "ExecuteTime": {
     "end_time": "2022-08-07T21:18:53.149530Z",
     "start_time": "2022-08-07T21:18:53.057510Z"
    },
    "hidden": true
   },
   "outputs": [
    {
     "data": {
      "text/plain": [
       "0.5213386472090447"
      ]
     },
     "execution_count": 19,
     "metadata": {},
     "output_type": "execute_result"
    }
   ],
   "source": [
    "# Evaluation with feature 4, 5\n",
    "X_45 = X.iloc[:, [3, 4]]\n",
    "cross_validate(logr, X_45, y, cv=10, scoring='f1')['test_score'].mean()"
   ]
  },
  {
   "cell_type": "code",
   "execution_count": 20,
   "id": "58c944a3",
   "metadata": {
    "ExecuteTime": {
     "end_time": "2022-08-07T21:18:53.261573Z",
     "start_time": "2022-08-07T21:18:53.151530Z"
    },
    "hidden": true
   },
   "outputs": [
    {
     "data": {
      "text/plain": [
       "0.5131043864364285"
      ]
     },
     "execution_count": 20,
     "metadata": {},
     "output_type": "execute_result"
    }
   ],
   "source": [
    "# Use feature 4, 5, 6, 7\n",
    "X_4567 = X.iloc[:, [3, 4, 5, 6]]\n",
    "cross_validate(logr, X_4567, y, cv=10, scoring='f1')['test_score'].mean()"
   ]
  },
  {
   "cell_type": "markdown",
   "id": "ec1bf295",
   "metadata": {
    "heading_collapsed": true
   },
   "source": [
    "## SVM"
   ]
  },
  {
   "cell_type": "markdown",
   "id": "e3627d22",
   "metadata": {
    "hidden": true
   },
   "source": [
    "### Permutation importance"
   ]
  },
  {
   "cell_type": "code",
   "execution_count": 21,
   "id": "e70e478d",
   "metadata": {
    "ExecuteTime": {
     "end_time": "2022-08-07T21:19:00.579634Z",
     "start_time": "2022-08-07T21:18:53.264572Z"
    },
    "hidden": true
   },
   "outputs": [
    {
     "name": "stdout",
     "output_type": "stream",
     "text": [
      "3 toss_winner 0.035597563162168985\n",
      "4 derby 0.03169169006249824\n",
      "1 home_venue 0.029680483312681756\n",
      "6 month_12 0.02866407496913296\n",
      "5 month_02 0.010493926985335817\n"
     ]
    }
   ],
   "source": [
    "svc = SVC().fit(X_train, y_train)\n",
    "result = permutation_importance(svc, X_train, y_train, scoring='f1', n_repeats=10, random_state=0)\n",
    "\n",
    "for i in result.importances_mean.argsort()[::-1]:\n",
    "    if result.importances_mean[i] - 2*result.importances_std[i] > 0:\n",
    "        print(i, X_train.columns[i], result.importances_mean[i])"
   ]
  },
  {
   "cell_type": "code",
   "execution_count": 22,
   "id": "713b5043",
   "metadata": {
    "ExecuteTime": {
     "end_time": "2022-08-07T21:19:01.307929Z",
     "start_time": "2022-08-07T21:19:00.581635Z"
    },
    "hidden": true
   },
   "outputs": [
    {
     "data": {
      "text/plain": [
       "0.4722165445794618"
      ]
     },
     "execution_count": 22,
     "metadata": {},
     "output_type": "execute_result"
    }
   ],
   "source": [
    "# Use feature 2, 4, 5, 6, 7\n",
    "X_24567 = X.iloc[:, [1, 3, 4, 5, 6]]\n",
    "cross_validate(SVC(), X_24567, y, cv=10, scoring='f1')['test_score'].mean()"
   ]
  },
  {
   "cell_type": "markdown",
   "id": "aa024614",
   "metadata": {
    "hidden": true
   },
   "source": [
    "### Select from model"
   ]
  },
  {
   "cell_type": "code",
   "execution_count": 23,
   "id": "42a841e5",
   "metadata": {
    "ExecuteTime": {
     "end_time": "2022-08-07T21:19:01.802028Z",
     "start_time": "2022-08-07T21:19:01.309913Z"
    },
    "hidden": true
   },
   "outputs": [
    {
     "data": {
      "text/plain": [
       "0.5213386472090447"
      ]
     },
     "execution_count": 23,
     "metadata": {},
     "output_type": "execute_result"
    }
   ],
   "source": [
    "svc = SVC(kernel='linear')      # To use coef_ attribute \n",
    "selector = SelectFromModel(svc).fit(X_train, y_train)\n",
    "selector.get_support()          # Feature 4, 5\n",
    "cross_validate(svc, selector.transform(X), y, cv=10, scoring='f1')['test_score'].mean()"
   ]
  },
  {
   "cell_type": "code",
   "execution_count": 24,
   "id": "291be795",
   "metadata": {
    "ExecuteTime": {
     "end_time": "2022-08-07T21:19:02.401346Z",
     "start_time": "2022-08-07T21:19:01.805024Z"
    },
    "hidden": true
   },
   "outputs": [
    {
     "data": {
      "text/plain": [
       "0.48648963259231587"
      ]
     },
     "execution_count": 24,
     "metadata": {},
     "output_type": "execute_result"
    }
   ],
   "source": [
    "# Use all features\n",
    "cross_validate(SVC(kernel='linear'), X, y, cv=10, scoring='f1')['test_score'].mean()"
   ]
  },
  {
   "cell_type": "markdown",
   "id": "5836cb9a",
   "metadata": {
    "heading_collapsed": true
   },
   "source": [
    "## Decision Tree"
   ]
  },
  {
   "cell_type": "markdown",
   "id": "5eceaed6",
   "metadata": {
    "hidden": true
   },
   "source": [
    "### Permutation importance"
   ]
  },
  {
   "cell_type": "code",
   "execution_count": 25,
   "id": "dc8c5829",
   "metadata": {
    "ExecuteTime": {
     "end_time": "2022-08-07T21:19:02.716104Z",
     "start_time": "2022-08-07T21:19:02.403346Z"
    },
    "hidden": true
   },
   "outputs": [
    {
     "name": "stdout",
     "output_type": "stream",
     "text": [
      "2 first_innings 0.05195846446397721\n",
      "3 toss_winner 0.03031218735927641\n",
      "4 derby 0.024830070808176286\n",
      "1 home_venue 0.023902889729842537\n",
      "0 neutral_venue 0.01955687293514511\n"
     ]
    }
   ],
   "source": [
    "dt = DecisionTreeClassifier(criterion='entropy', max_depth=5, min_samples_leaf=5, random_state=0).fit(X_train, y_train)\n",
    "result = permutation_importance(dt, X_train, y_train, scoring='f1', n_repeats=10, random_state=0)\n",
    "\n",
    "for i in result.importances_mean.argsort()[::-1]:\n",
    "    if result.importances_mean[i] - 2*result.importances_std[i] > 0:\n",
    "        print(i, X_train.columns[i], result.importances_mean[i])    "
   ]
  },
  {
   "cell_type": "code",
   "execution_count": 26,
   "id": "bb5e3d64",
   "metadata": {
    "ExecuteTime": {
     "end_time": "2022-08-07T21:19:02.795778Z",
     "start_time": "2022-08-07T21:19:02.718694Z"
    },
    "hidden": true
   },
   "outputs": [
    {
     "data": {
      "text/plain": [
       "0.47579582425724454"
      ]
     },
     "execution_count": 26,
     "metadata": {},
     "output_type": "execute_result"
    }
   ],
   "source": [
    "# Use feature 1, 2, 3, 4, 5\n",
    "dt = DecisionTreeClassifier(criterion='entropy', max_depth=5, min_samples_leaf=5, random_state=0)\n",
    "X_12345 = X.iloc[:, [1, 2, 3, 4, 5]]\n",
    "cross_validate(dt, X_12345, y, cv=10, scoring='f1')['test_score'].mean()"
   ]
  },
  {
   "cell_type": "markdown",
   "id": "ca5c5ca6",
   "metadata": {
    "hidden": true
   },
   "source": [
    "### Select from model"
   ]
  },
  {
   "cell_type": "code",
   "execution_count": 27,
   "id": "7e8b1a2b",
   "metadata": {
    "ExecuteTime": {
     "end_time": "2022-08-07T21:19:02.859790Z",
     "start_time": "2022-08-07T21:19:02.797780Z"
    },
    "hidden": true
   },
   "outputs": [
    {
     "data": {
      "text/plain": [
       "0.46556051609891175"
      ]
     },
     "execution_count": 27,
     "metadata": {},
     "output_type": "execute_result"
    }
   ],
   "source": [
    "selector = SelectFromModel(dt).fit(X_train, y_train)\n",
    "selector.get_support()        # Feature 2, 3, 5 \n",
    "cross_validate(dt, selector.transform(X), y, cv=10, scoring='f1')['test_score'].mean()"
   ]
  },
  {
   "cell_type": "code",
   "execution_count": 28,
   "id": "810978ac",
   "metadata": {
    "ExecuteTime": {
     "end_time": "2022-08-07T21:19:02.954812Z",
     "start_time": "2022-08-07T21:19:02.861792Z"
    },
    "hidden": true
   },
   "outputs": [
    {
     "data": {
      "text/plain": [
       "0.4532040773235783"
      ]
     },
     "execution_count": 28,
     "metadata": {},
     "output_type": "execute_result"
    }
   ],
   "source": [
    "# Use all features\n",
    "cross_validate(dt, X, y, cv=10, scoring='f1')['test_score'].mean()"
   ]
  },
  {
   "cell_type": "markdown",
   "id": "c5e73099",
   "metadata": {
    "heading_collapsed": true
   },
   "source": [
    "## AdaBoost"
   ]
  },
  {
   "cell_type": "markdown",
   "id": "f27ad0ad",
   "metadata": {
    "hidden": true
   },
   "source": [
    "### Permutation importance"
   ]
  },
  {
   "cell_type": "code",
   "execution_count": 29,
   "id": "1fdeedbd",
   "metadata": {
    "ExecuteTime": {
     "end_time": "2022-08-07T21:19:05.982832Z",
     "start_time": "2022-08-07T21:19:02.960830Z"
    },
    "hidden": true
   },
   "outputs": [
    {
     "name": "stdout",
     "output_type": "stream",
     "text": [
      "4 derby 0.012636125866387137\n"
     ]
    }
   ],
   "source": [
    "ada = AdaBoostClassifier(n_estimators=100, random_state=0).fit(X_train, y_train)\n",
    "result = permutation_importance(ada, X_train, y_train, scoring='f1', n_repeats=10, random_state=0)\n",
    "\n",
    "for i in result.importances_mean.argsort()[::-1]:\n",
    "    if result.importances_mean[i] - 2*result.importances_std[i] > 0:\n",
    "        print(i, X_train.columns[i], result.importances_mean[i])   # No features returned"
   ]
  },
  {
   "cell_type": "code",
   "execution_count": 30,
   "id": "f38aed99",
   "metadata": {
    "ExecuteTime": {
     "end_time": "2022-08-07T21:19:08.394318Z",
     "start_time": "2022-08-07T21:19:05.984831Z"
    },
    "hidden": true
   },
   "outputs": [
    {
     "data": {
      "text/plain": [
       "0.14396375259403163"
      ]
     },
     "execution_count": 30,
     "metadata": {},
     "output_type": "execute_result"
    }
   ],
   "source": [
    "# Use feature 5\n",
    "ada = AdaBoostClassifier(n_estimators=100, random_state=0)\n",
    "cross_validate(ada, X_5, y, cv=10, scoring='f1')['test_score'].mean()"
   ]
  },
  {
   "cell_type": "markdown",
   "id": "071433d4",
   "metadata": {
    "hidden": true
   },
   "source": [
    "### Select from model"
   ]
  },
  {
   "cell_type": "code",
   "execution_count": 31,
   "id": "c187cd90",
   "metadata": {
    "ExecuteTime": {
     "end_time": "2022-08-07T21:19:11.119048Z",
     "start_time": "2022-08-07T21:19:08.396319Z"
    },
    "hidden": true
   },
   "outputs": [
    {
     "data": {
      "text/plain": [
       "0.37863411683567066"
      ]
     },
     "execution_count": 31,
     "metadata": {},
     "output_type": "execute_result"
    }
   ],
   "source": [
    "selector = SelectFromModel(ada).fit(X_train, y_train)\n",
    "selector.get_support()       # Feature 1, 2, 3, 5\n",
    "cross_validate(ada, selector.transform(X), y, cv=10, scoring='f1')['test_score'].mean()"
   ]
  },
  {
   "cell_type": "code",
   "execution_count": 32,
   "id": "83385eba",
   "metadata": {
    "ExecuteTime": {
     "end_time": "2022-08-07T21:19:13.687279Z",
     "start_time": "2022-08-07T21:19:11.122049Z"
    },
    "hidden": true
   },
   "outputs": [
    {
     "data": {
      "text/plain": [
       "0.4318825329425648"
      ]
     },
     "execution_count": 32,
     "metadata": {},
     "output_type": "execute_result"
    }
   ],
   "source": [
    "# Use all features\n",
    "cross_validate(ada, X, y, cv=10, scoring='f1')['test_score'].mean()"
   ]
  },
  {
   "cell_type": "markdown",
   "id": "8a3f8c86",
   "metadata": {
    "heading_collapsed": true
   },
   "source": [
    "## Random Forest"
   ]
  },
  {
   "cell_type": "markdown",
   "id": "2a58e196",
   "metadata": {
    "hidden": true
   },
   "source": [
    "### Permutation importance"
   ]
  },
  {
   "cell_type": "code",
   "execution_count": 33,
   "id": "aec1fb07",
   "metadata": {
    "ExecuteTime": {
     "end_time": "2022-08-07T21:19:16.085891Z",
     "start_time": "2022-08-07T21:19:13.690280Z"
    },
    "hidden": true
   },
   "outputs": [
    {
     "name": "stdout",
     "output_type": "stream",
     "text": [
      "1 home_venue 0.03190725538521132\n",
      "4 derby 0.023808230149773745\n"
     ]
    }
   ],
   "source": [
    "rf = RandomForestClassifier(criterion='entropy', max_depth=5, min_samples_leaf=5, random_state=0, max_samples=200).fit(X_train, y_train)\n",
    "result = permutation_importance(rf, X_train, y_train, scoring='f1', n_repeats=10, random_state=0)\n",
    "\n",
    "for i in result.importances_mean.argsort()[::-1]:\n",
    "    if result.importances_mean[i] - 2*result.importances_std[i] > 0:\n",
    "        print(i, X_train.columns[i], result.importances_mean[i])    "
   ]
  },
  {
   "cell_type": "code",
   "execution_count": 34,
   "id": "9495e4aa",
   "metadata": {
    "ExecuteTime": {
     "end_time": "2022-08-07T21:19:18.245319Z",
     "start_time": "2022-08-07T21:19:16.089891Z"
    },
    "hidden": true
   },
   "outputs": [
    {
     "data": {
      "text/plain": [
       "0.42456844191553367"
      ]
     },
     "execution_count": 34,
     "metadata": {},
     "output_type": "execute_result"
    }
   ],
   "source": [
    "# Use feature 1, 2, 3\n",
    "rf = RandomForestClassifier(criterion='entropy', max_depth=5, min_samples_leaf=5, random_state=0, max_samples=200)\n",
    "X_123 = X.iloc[:, [0, 1, 2]]\n",
    "cross_validate(rf, X_123, y, cv=10, scoring='f1')['test_score'].mean()"
   ]
  },
  {
   "cell_type": "markdown",
   "id": "6fdbb1e2",
   "metadata": {
    "hidden": true
   },
   "source": [
    "### Select from model"
   ]
  },
  {
   "cell_type": "code",
   "execution_count": 35,
   "id": "39fe17b1",
   "metadata": {
    "ExecuteTime": {
     "end_time": "2022-08-07T21:19:18.497375Z",
     "start_time": "2022-08-07T21:19:18.247319Z"
    },
    "hidden": true
   },
   "outputs": [
    {
     "data": {
      "text/plain": [
       "array([False, False,  True,  True, False, False,  True])"
      ]
     },
     "execution_count": 35,
     "metadata": {},
     "output_type": "execute_result"
    }
   ],
   "source": [
    "selector = SelectFromModel(rf).fit(X_train, y_train)\n",
    "selector.get_support()      # Feature 3, 4, 7 -> Feature 3, 4 OR 3, 4, 6, 7"
   ]
  },
  {
   "cell_type": "code",
   "execution_count": 36,
   "id": "fbd80c2a",
   "metadata": {
    "ExecuteTime": {
     "end_time": "2022-08-07T21:19:20.782079Z",
     "start_time": "2022-08-07T21:19:18.500376Z"
    },
    "hidden": true
   },
   "outputs": [
    {
     "data": {
      "text/plain": [
       "0.4709272963217751"
      ]
     },
     "execution_count": 36,
     "metadata": {},
     "output_type": "execute_result"
    }
   ],
   "source": [
    "# Use feature 3, 4\n",
    "X_34 = X.iloc[:, [2, 3]]\n",
    "cross_validate(rf, X_34, y, cv=10, scoring='f1')['test_score'].mean()"
   ]
  },
  {
   "cell_type": "code",
   "execution_count": 37,
   "id": "7cde31e2",
   "metadata": {
    "ExecuteTime": {
     "end_time": "2022-08-07T21:19:23.044185Z",
     "start_time": "2022-08-07T21:19:20.784063Z"
    },
    "hidden": true
   },
   "outputs": [
    {
     "data": {
      "text/plain": [
       "0.48367196149262204"
      ]
     },
     "execution_count": 37,
     "metadata": {},
     "output_type": "execute_result"
    }
   ],
   "source": [
    "# Use feature 3, 4, 6, 7\n",
    "X_3467 = X.iloc[:, [2, 3, 5, 6]]\n",
    "cross_validate(rf, X_3467, y, cv=10, scoring='f1')['test_score'].mean()"
   ]
  },
  {
   "cell_type": "code",
   "execution_count": 38,
   "id": "ea45c845",
   "metadata": {
    "ExecuteTime": {
     "end_time": "2022-08-07T21:19:25.334237Z",
     "start_time": "2022-08-07T21:19:23.046166Z"
    },
    "hidden": true
   },
   "outputs": [
    {
     "data": {
      "text/plain": [
       "0.4840358510770481"
      ]
     },
     "execution_count": 38,
     "metadata": {},
     "output_type": "execute_result"
    }
   ],
   "source": [
    "# Use all features\n",
    "cross_validate(rf, X, y, cv=10, scoring='f1')['test_score'].mean()"
   ]
  },
  {
   "cell_type": "markdown",
   "id": "cba09c2e",
   "metadata": {
    "ExecuteTime": {
     "end_time": "2022-06-24T04:17:45.148332Z",
     "start_time": "2022-06-24T04:17:45.132311Z"
    },
    "heading_collapsed": true
   },
   "source": [
    "## Bernoulli NB\n",
    "for Multivatiate Bernoulli models: binary features"
   ]
  },
  {
   "cell_type": "markdown",
   "id": "5db27f1f",
   "metadata": {
    "hidden": true
   },
   "source": [
    "### Permutation importance"
   ]
  },
  {
   "cell_type": "code",
   "execution_count": 39,
   "id": "20e92307",
   "metadata": {
    "ExecuteTime": {
     "end_time": "2022-08-07T21:19:25.717878Z",
     "start_time": "2022-08-07T21:19:25.336238Z"
    },
    "hidden": true
   },
   "outputs": [
    {
     "name": "stdout",
     "output_type": "stream",
     "text": [
      "4 derby 0.014203293532846573\n"
     ]
    }
   ],
   "source": [
    "bnb = BernoulliNB(binarize=None).fit(X_train, y_train)\n",
    "result = permutation_importance(bnb, X_train, y_train, scoring='f1', n_repeats=10, random_state=0)\n",
    "\n",
    "for i in result.importances_mean.argsort()[::-1]:\n",
    "    if result.importances_mean[i] - 2*result.importances_std[i] > 0:\n",
    "        print(i, X_train.columns[i], result.importances_mean[i])"
   ]
  },
  {
   "cell_type": "code",
   "execution_count": 40,
   "id": "9bcaf089",
   "metadata": {
    "ExecuteTime": {
     "end_time": "2022-08-07T21:19:25.796954Z",
     "start_time": "2022-08-07T21:19:25.719878Z"
    },
    "hidden": true
   },
   "outputs": [
    {
     "data": {
      "text/plain": [
       "0.14396375259403163"
      ]
     },
     "execution_count": 40,
     "metadata": {},
     "output_type": "execute_result"
    }
   ],
   "source": [
    "# Use feature 5\n",
    "bnb = BernoulliNB(binarize=None)\n",
    "cross_validate(bnb, X_5, y, cv=10, scoring='f1')['test_score'].mean()"
   ]
  },
  {
   "cell_type": "code",
   "execution_count": 41,
   "id": "a9500d28",
   "metadata": {
    "ExecuteTime": {
     "end_time": "2022-08-07T21:19:25.891974Z",
     "start_time": "2022-08-07T21:19:25.798953Z"
    },
    "hidden": true
   },
   "outputs": [
    {
     "data": {
      "text/plain": [
       "0.43330192338635687"
      ]
     },
     "execution_count": 41,
     "metadata": {},
     "output_type": "execute_result"
    }
   ],
   "source": [
    "# Use all features\n",
    "cross_validate(bnb, X, y, cv=10, scoring='f1')['test_score'].mean()"
   ]
  },
  {
   "cell_type": "markdown",
   "id": "d008a4db",
   "metadata": {
    "heading_collapsed": true
   },
   "source": [
    "## Categorical NB\n",
    "For binary variables, the same results as BernoulliNB"
   ]
  },
  {
   "cell_type": "markdown",
   "id": "878b5135",
   "metadata": {
    "hidden": true
   },
   "source": [
    "### Permutation importance"
   ]
  },
  {
   "cell_type": "code",
   "execution_count": 42,
   "id": "875c374b",
   "metadata": {
    "ExecuteTime": {
     "end_time": "2022-08-07T21:19:26.225989Z",
     "start_time": "2022-08-07T21:19:25.893974Z"
    },
    "hidden": true
   },
   "outputs": [
    {
     "name": "stdout",
     "output_type": "stream",
     "text": [
      "4 derby 0.014203293532846573\n"
     ]
    }
   ],
   "source": [
    "ca_nb = CategoricalNB().fit(X_train, y_train)\n",
    "result = permutation_importance(ca_nb, X_train, y_train, scoring='f1', n_repeats=10, random_state=0)\n",
    "\n",
    "for i in result.importances_mean.argsort()[::-1]:\n",
    "    if result.importances_mean[i] - 2*result.importances_std[i] > 0:\n",
    "        print(i, X_train.columns[i], result.importances_mean[i]) "
   ]
  },
  {
   "cell_type": "code",
   "execution_count": 43,
   "id": "8fa840e3",
   "metadata": {
    "ExecuteTime": {
     "end_time": "2022-08-07T21:19:26.303745Z",
     "start_time": "2022-08-07T21:19:26.227974Z"
    },
    "hidden": true
   },
   "outputs": [
    {
     "data": {
      "text/plain": [
       "0.14396375259403163"
      ]
     },
     "execution_count": 43,
     "metadata": {},
     "output_type": "execute_result"
    }
   ],
   "source": [
    "# Use feature 5\n",
    "cross_validate(CategoricalNB(), X_5, y, cv=10, scoring='f1')['test_score'].mean()"
   ]
  },
  {
   "cell_type": "code",
   "execution_count": 44,
   "id": "e483cfe6",
   "metadata": {
    "ExecuteTime": {
     "end_time": "2022-08-07T21:19:26.415772Z",
     "start_time": "2022-08-07T21:19:26.306748Z"
    },
    "hidden": true
   },
   "outputs": [
    {
     "data": {
      "text/plain": [
       "0.43330192338635687"
      ]
     },
     "execution_count": 44,
     "metadata": {},
     "output_type": "execute_result"
    }
   ],
   "source": [
    "# Use all features\n",
    "cross_validate(CategoricalNB(), X, y, cv=10, scoring='f1')['test_score'].mean()"
   ]
  },
  {
   "cell_type": "markdown",
   "id": "7c1005f0",
   "metadata": {
    "heading_collapsed": true
   },
   "source": [
    "## Complement NB"
   ]
  },
  {
   "cell_type": "markdown",
   "id": "48b5465c",
   "metadata": {
    "hidden": true
   },
   "source": [
    "### Permutation importance"
   ]
  },
  {
   "cell_type": "code",
   "execution_count": 47,
   "id": "1ec31af9",
   "metadata": {
    "ExecuteTime": {
     "end_time": "2022-08-07T21:25:55.905451Z",
     "start_time": "2022-08-07T21:25:55.538855Z"
    },
    "hidden": true
   },
   "outputs": [],
   "source": [
    "co_nb = ComplementNB().fit(X_train, y_train)\n",
    "result = permutation_importance(co_nb, X_train, y_train, scoring='f1', n_repeats=10, random_state=0)\n",
    "\n",
    "for i in result.importances_mean.argsort()[::-1]:\n",
    "    if result.importances_mean[i] - 2*result.importances_std[i] > 0:\n",
    "        print(i, X_train.columns[i], result.importances_mean[i])  # No features returned"
   ]
  },
  {
   "cell_type": "code",
   "execution_count": 48,
   "id": "7ba587e8",
   "metadata": {
    "ExecuteTime": {
     "end_time": "2022-08-07T21:26:00.534572Z",
     "start_time": "2022-08-07T21:26:00.437989Z"
    },
    "hidden": true
   },
   "outputs": [
    {
     "data": {
      "text/plain": [
       "0.47832213896018433"
      ]
     },
     "execution_count": 48,
     "metadata": {},
     "output_type": "execute_result"
    }
   ],
   "source": [
    "# Use all features\n",
    "cross_validate(co_nb, X, y, cv=10, scoring='f1')['test_score'].mean()"
   ]
  },
  {
   "cell_type": "markdown",
   "id": "1577e71e",
   "metadata": {
    "heading_collapsed": true
   },
   "source": [
    "## KNN"
   ]
  },
  {
   "cell_type": "markdown",
   "id": "4aff1bb5",
   "metadata": {
    "hidden": true
   },
   "source": [
    "### Permutation importance"
   ]
  },
  {
   "cell_type": "code",
   "execution_count": 127,
   "id": "d2686f10",
   "metadata": {
    "ExecuteTime": {
     "end_time": "2022-08-03T00:10:24.521338Z",
     "start_time": "2022-08-03T00:10:23.503853Z"
    },
    "hidden": true
   },
   "outputs": [
    {
     "name": "stdout",
     "output_type": "stream",
     "text": [
      "4 derby 0.018864490053721546\n",
      "5 month_02 0.010967198182377952\n"
     ]
    }
   ],
   "source": [
    "knn = KNeighborsClassifier(weights='distance').fit(X_train, y_train)\n",
    "result = permutation_importance(knn, X_train, y_train, scoring='f1', n_repeats=10, random_state=0)\n",
    "\n",
    "for i in result.importances_mean.argsort()[::-1]:\n",
    "    if result.importances_mean[i] - 2*result.importances_std[i] > 0:\n",
    "        print(i, X_train.columns[i], result.importances_mean[i]) "
   ]
  },
  {
   "cell_type": "code",
   "execution_count": 130,
   "id": "67c966a9",
   "metadata": {
    "ExecuteTime": {
     "end_time": "2022-08-03T00:12:32.855854Z",
     "start_time": "2022-08-03T00:12:32.759317Z"
    },
    "hidden": true
   },
   "outputs": [
    {
     "data": {
      "text/plain": [
       "0.5818199740976031"
      ]
     },
     "execution_count": 130,
     "metadata": {},
     "output_type": "execute_result"
    }
   ],
   "source": [
    "# Use feature 5\n",
    "knn = KNeighborsClassifier(weights='distance')\n",
    "cross_validate(knn, X_5, y, cv=10, scoring='f1')['test_score'].mean()"
   ]
  },
  {
   "cell_type": "code",
   "execution_count": 132,
   "id": "1c6263bc",
   "metadata": {
    "ExecuteTime": {
     "end_time": "2022-08-03T00:12:44.432417Z",
     "start_time": "2022-08-03T00:12:44.326026Z"
    },
    "hidden": true
   },
   "outputs": [
    {
     "data": {
      "text/plain": [
       "0.47731339043446186"
      ]
     },
     "execution_count": 132,
     "metadata": {},
     "output_type": "execute_result"
    }
   ],
   "source": [
    "# Use feature 5, 6, 7\n",
    "X_567 = X.iloc[:, [4, 5, 6]]\n",
    "cross_validate(knn, X_567, y, cv=10, scoring='f1')['test_score'].mean()"
   ]
  },
  {
   "cell_type": "code",
   "execution_count": 133,
   "id": "6a887e0d",
   "metadata": {
    "ExecuteTime": {
     "end_time": "2022-08-03T00:13:09.462074Z",
     "start_time": "2022-08-03T00:13:09.353888Z"
    },
    "hidden": true
   },
   "outputs": [
    {
     "data": {
      "text/plain": [
       "0.4818354341717036"
      ]
     },
     "execution_count": 133,
     "metadata": {},
     "output_type": "execute_result"
    }
   ],
   "source": [
    "# Use all features\n",
    "cross_validate(knn, X, y, cv=10, scoring='f1')['test_score'].mean()"
   ]
  },
  {
   "cell_type": "markdown",
   "id": "3b871476",
   "metadata": {
    "hidden": true
   },
   "source": [
    "### Select from model\n",
    "Impossible for this model"
   ]
  },
  {
   "cell_type": "markdown",
   "id": "d6bd8199",
   "metadata": {},
   "source": [
    "## Neural Network"
   ]
  },
  {
   "cell_type": "code",
   "execution_count": 51,
   "id": "eebfe834",
   "metadata": {
    "ExecuteTime": {
     "end_time": "2022-08-07T21:53:19.841356Z",
     "start_time": "2022-08-07T21:52:29.949770Z"
    }
   },
   "outputs": [
    {
     "name": "stdout",
     "output_type": "stream",
     "text": [
      "0.5844163986144484\n"
     ]
    }
   ],
   "source": [
    "import tensorflow as tf\n",
    "from tensorflow.keras.utils import to_categorical\n",
    "from tensorflow.keras.models import Sequential\n",
    "from tensorflow.keras.layers import Dense, BatchNormalization, Activation, Dropout\n",
    "\n",
    "# Set random seed for reproducibility\n",
    "tf.random.set_seed(50)\n",
    "\n",
    "f1 = []\n",
    "\n",
    "# Cross validation\n",
    "for train_idx, test_idx in StratifiedKFold(n_splits=10).split(X, y):\n",
    "    X_train, X_test = X.iloc[train_idx], X.iloc[test_idx]\n",
    "    y_train, y_test = y.iloc[train_idx], y.iloc[test_idx]\n",
    "    \n",
    "    # Transform data for neural network\n",
    "    # One node predicted all instances to class 1\n",
    "    y_train_nn = to_categorical(y_train, 2)\n",
    "\n",
    "    # Define network\n",
    "    net = Sequential()\n",
    "    net.add(Dense(16, input_shape=(7,)))\n",
    "    net.add(Activation('swish'))\n",
    "    net.add(Dropout(rate=0.5))\n",
    "    \n",
    "    net.add(Dense(16))\n",
    "    net.add(Activation('swish'))\n",
    "    net.add(Dropout(rate=0.5))\n",
    "    \n",
    "    net.add(Dense(8))\n",
    "    net.add(Activation('swish'))\n",
    "    \n",
    "    net.add(Dense(4))\n",
    "    net.add(Activation('swish'))\n",
    "    \n",
    "    net.add(Dense(2, activation='softmax'))\n",
    "\n",
    "    # Compile the network\n",
    "    net.compile(loss='binary_crossentropy', optimizer='adam', metrics=['Precision', 'Recall'])\n",
    "    \n",
    "    # Fit the network with data\n",
    "    net.fit(X_train, y_train_nn, epochs=20, batch_size=32, validation_split=0.25, verbose=0)\n",
    "    outputs = net.predict(X_test)\n",
    "    y_pred = np.argmax(outputs, axis=1)\n",
    "    score = f1_score(y_test, y_pred)\n",
    "    f1.append(score)\n",
    "    \n",
    "print(np.mean(f1))   "
   ]
  }
 ],
 "metadata": {
  "kernelspec": {
   "display_name": "Python3.9.5[NN]",
   "language": "python",
   "name": "nn"
  },
  "language_info": {
   "codemirror_mode": {
    "name": "ipython",
    "version": 3
   },
   "file_extension": ".py",
   "mimetype": "text/x-python",
   "name": "python",
   "nbconvert_exporter": "python",
   "pygments_lexer": "ipython3",
   "version": "3.9.5"
  },
  "toc": {
   "base_numbering": 1,
   "nav_menu": {},
   "number_sections": true,
   "sideBar": true,
   "skip_h1_title": false,
   "title_cell": "Table of Contents",
   "title_sidebar": "Contents",
   "toc_cell": false,
   "toc_position": {},
   "toc_section_display": true,
   "toc_window_display": false
  }
 },
 "nbformat": 4,
 "nbformat_minor": 5
}
