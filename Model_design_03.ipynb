{
 "cells": [
  {
   "cell_type": "markdown",
   "id": "4f87c578",
   "metadata": {
    "ExecuteTime": {
     "end_time": "2022-06-15T16:06:09.387920Z",
     "start_time": "2022-06-15T16:06:06.958787Z"
    }
   },
   "source": [
    "# Model Predicting the Winner after the First Inning without Binning"
   ]
  },
  {
   "cell_type": "code",
   "execution_count": 2,
   "id": "c510322e",
   "metadata": {
    "ExecuteTime": {
     "end_time": "2022-08-08T05:34:25.385301Z",
     "start_time": "2022-08-08T05:34:22.858203Z"
    }
   },
   "outputs": [],
   "source": [
    "import pandas as pd\n",
    "import numpy as np\n",
    "import dataframe_image as dfi\n",
    "import seaborn as sns\n",
    "import matplotlib.pyplot as plt\n",
    "from sklearn.compose import make_column_transformer\n",
    "from sklearn.preprocessing import StandardScaler\n",
    "from sklearn.model_selection import train_test_split, StratifiedKFold, cross_validate\n",
    "from sklearn.pipeline import make_pipeline\n",
    "from sklearn.inspection import permutation_importance\n",
    "from sklearn.feature_selection import SelectKBest, chi2, SelectFromModel, SequentialFeatureSelector\n",
    "from sklearn.linear_model import LogisticRegression\n",
    "from sklearn.svm import SVC\n",
    "from sklearn.tree import DecisionTreeClassifier\n",
    "from sklearn.ensemble import AdaBoostClassifier, RandomForestClassifier\n",
    "from sklearn.naive_bayes import BernoulliNB, CategoricalNB, ComplementNB,GaussianNB\n",
    "from sklearn.neighbors import KNeighborsClassifier\n",
    "import xgboost as xgb\n",
    "from sklearn.metrics import f1_score, confusion_matrix, classification_report\n",
    "pd.set_option('display.max_columns', None)"
   ]
  },
  {
   "cell_type": "code",
   "execution_count": 3,
   "id": "ec627093",
   "metadata": {
    "ExecuteTime": {
     "end_time": "2022-08-08T05:34:25.416315Z",
     "start_time": "2022-08-08T05:34:25.387317Z"
    },
    "scrolled": false
   },
   "outputs": [
    {
     "data": {
      "text/html": [
       "<div>\n",
       "<style scoped>\n",
       "    .dataframe tbody tr th:only-of-type {\n",
       "        vertical-align: middle;\n",
       "    }\n",
       "\n",
       "    .dataframe tbody tr th {\n",
       "        vertical-align: top;\n",
       "    }\n",
       "\n",
       "    .dataframe thead th {\n",
       "        text-align: right;\n",
       "    }\n",
       "</style>\n",
       "<table border=\"1\" class=\"dataframe\">\n",
       "  <thead>\n",
       "    <tr style=\"text-align: right;\">\n",
       "      <th></th>\n",
       "      <th>Unnamed: 0</th>\n",
       "      <th>id</th>\n",
       "      <th>series</th>\n",
       "      <th>start_datetime</th>\n",
       "      <th>timezone</th>\n",
       "      <th>ground</th>\n",
       "      <th>longitude</th>\n",
       "      <th>latitude</th>\n",
       "      <th>altitude</th>\n",
       "      <th>match_length_overs</th>\n",
       "      <th>match_length_balls</th>\n",
       "      <th>max_balls_team1</th>\n",
       "      <th>max_balls_team2</th>\n",
       "      <th>team1</th>\n",
       "      <th>team2</th>\n",
       "      <th>neutral_venue</th>\n",
       "      <th>first_innings</th>\n",
       "      <th>toss_winner</th>\n",
       "      <th>toss_choice</th>\n",
       "      <th>dbMktPriceTeam1</th>\n",
       "      <th>dbMktPriceTeam2</th>\n",
       "      <th>victor</th>\n",
       "      <th>balls_team1</th>\n",
       "      <th>balls_team2</th>\n",
       "      <th>byes_team1</th>\n",
       "      <th>byes_team2</th>\n",
       "      <th>leg_byes_team1</th>\n",
       "      <th>leg_byes_team2</th>\n",
       "      <th>no_balls_team1</th>\n",
       "      <th>no_balls_team2</th>\n",
       "      <th>runs_team1</th>\n",
       "      <th>runs_team2</th>\n",
       "      <th>target_team1</th>\n",
       "      <th>target_team2</th>\n",
       "      <th>wickets_team1</th>\n",
       "      <th>wickets_team2</th>\n",
       "      <th>wides_team1</th>\n",
       "      <th>wides_team2</th>\n",
       "    </tr>\n",
       "  </thead>\n",
       "  <tbody>\n",
       "    <tr>\n",
       "      <th>0</th>\n",
       "      <td>1</td>\n",
       "      <td>6690</td>\n",
       "      <td>Big Bash League 2014/15</td>\n",
       "      <td>2015-01-28 08:40:00</td>\n",
       "      <td>Australia/Sydney</td>\n",
       "      <td>Manuka Oval</td>\n",
       "      <td>149.134592</td>\n",
       "      <td>-35.318131</td>\n",
       "      <td>555</td>\n",
       "      <td>20</td>\n",
       "      <td>120</td>\n",
       "      <td>120</td>\n",
       "      <td>120</td>\n",
       "      <td>Perth Scorchers</td>\n",
       "      <td>Sydney Sixers</td>\n",
       "      <td>1</td>\n",
       "      <td>Sydney Sixers</td>\n",
       "      <td>Sydney Sixers</td>\n",
       "      <td>Bat</td>\n",
       "      <td>1.893</td>\n",
       "      <td>2.02</td>\n",
       "      <td>Perth Scorchers</td>\n",
       "      <td>120</td>\n",
       "      <td>120</td>\n",
       "      <td>0</td>\n",
       "      <td>0</td>\n",
       "      <td>2</td>\n",
       "      <td>3</td>\n",
       "      <td>2</td>\n",
       "      <td>0</td>\n",
       "      <td>148</td>\n",
       "      <td>147</td>\n",
       "      <td>148.0</td>\n",
       "      <td>NaN</td>\n",
       "      <td>6</td>\n",
       "      <td>5</td>\n",
       "      <td>1</td>\n",
       "      <td>5</td>\n",
       "    </tr>\n",
       "    <tr>\n",
       "      <th>1</th>\n",
       "      <td>2</td>\n",
       "      <td>6696</td>\n",
       "      <td>Big Bash League 2014/15</td>\n",
       "      <td>2014-12-18 08:40:00</td>\n",
       "      <td>Australia/Adelaide</td>\n",
       "      <td>Adelaide Oval</td>\n",
       "      <td>138.596111</td>\n",
       "      <td>-34.915556</td>\n",
       "      <td>19</td>\n",
       "      <td>20</td>\n",
       "      <td>120</td>\n",
       "      <td>120</td>\n",
       "      <td>120</td>\n",
       "      <td>Adelaide Strikers</td>\n",
       "      <td>Melbourne Stars</td>\n",
       "      <td>0</td>\n",
       "      <td>Melbourne Stars</td>\n",
       "      <td>Melbourne Stars</td>\n",
       "      <td>Bat</td>\n",
       "      <td>NaN</td>\n",
       "      <td>NaN</td>\n",
       "      <td>Adelaide Strikers</td>\n",
       "      <td>75</td>\n",
       "      <td>120</td>\n",
       "      <td>1</td>\n",
       "      <td>0</td>\n",
       "      <td>2</td>\n",
       "      <td>1</td>\n",
       "      <td>0</td>\n",
       "      <td>0</td>\n",
       "      <td>149</td>\n",
       "      <td>148</td>\n",
       "      <td>149.0</td>\n",
       "      <td>NaN</td>\n",
       "      <td>2</td>\n",
       "      <td>7</td>\n",
       "      <td>1</td>\n",
       "      <td>4</td>\n",
       "    </tr>\n",
       "    <tr>\n",
       "      <th>2</th>\n",
       "      <td>3</td>\n",
       "      <td>6700</td>\n",
       "      <td>Big Bash League 2014/15</td>\n",
       "      <td>2014-12-19 08:40:00</td>\n",
       "      <td>Australia/Sydney</td>\n",
       "      <td>Sydney Cricket Ground</td>\n",
       "      <td>151.224771</td>\n",
       "      <td>-33.891645</td>\n",
       "      <td>30</td>\n",
       "      <td>20</td>\n",
       "      <td>120</td>\n",
       "      <td>120</td>\n",
       "      <td>120</td>\n",
       "      <td>Sydney Sixers</td>\n",
       "      <td>Melbourne Renegades</td>\n",
       "      <td>0</td>\n",
       "      <td>Melbourne Renegades</td>\n",
       "      <td>Sydney Sixers</td>\n",
       "      <td>Bowl</td>\n",
       "      <td>NaN</td>\n",
       "      <td>NaN</td>\n",
       "      <td>Sydney Sixers</td>\n",
       "      <td>113</td>\n",
       "      <td>120</td>\n",
       "      <td>0</td>\n",
       "      <td>0</td>\n",
       "      <td>4</td>\n",
       "      <td>1</td>\n",
       "      <td>0</td>\n",
       "      <td>0</td>\n",
       "      <td>158</td>\n",
       "      <td>154</td>\n",
       "      <td>155.0</td>\n",
       "      <td>NaN</td>\n",
       "      <td>2</td>\n",
       "      <td>7</td>\n",
       "      <td>2</td>\n",
       "      <td>6</td>\n",
       "    </tr>\n",
       "    <tr>\n",
       "      <th>3</th>\n",
       "      <td>4</td>\n",
       "      <td>6702</td>\n",
       "      <td>Big Bash League 2014/15</td>\n",
       "      <td>2014-12-20 08:10:00</td>\n",
       "      <td>Australia/Melbourne</td>\n",
       "      <td>Melbourne Cricket Ground</td>\n",
       "      <td>144.983449</td>\n",
       "      <td>-37.819967</td>\n",
       "      <td>12</td>\n",
       "      <td>20</td>\n",
       "      <td>120</td>\n",
       "      <td>120</td>\n",
       "      <td>120</td>\n",
       "      <td>Melbourne Stars</td>\n",
       "      <td>Hobart Hurricanes</td>\n",
       "      <td>0</td>\n",
       "      <td>Hobart Hurricanes</td>\n",
       "      <td>Melbourne Stars</td>\n",
       "      <td>Bowl</td>\n",
       "      <td>NaN</td>\n",
       "      <td>NaN</td>\n",
       "      <td>Hobart Hurricanes</td>\n",
       "      <td>120</td>\n",
       "      <td>120</td>\n",
       "      <td>0</td>\n",
       "      <td>0</td>\n",
       "      <td>2</td>\n",
       "      <td>1</td>\n",
       "      <td>0</td>\n",
       "      <td>3</td>\n",
       "      <td>138</td>\n",
       "      <td>190</td>\n",
       "      <td>191.0</td>\n",
       "      <td>NaN</td>\n",
       "      <td>9</td>\n",
       "      <td>5</td>\n",
       "      <td>1</td>\n",
       "      <td>2</td>\n",
       "    </tr>\n",
       "    <tr>\n",
       "      <th>4</th>\n",
       "      <td>5</td>\n",
       "      <td>6705</td>\n",
       "      <td>Big Bash League 2014/15</td>\n",
       "      <td>2015-01-25 08:10:00</td>\n",
       "      <td>Australia/Perth</td>\n",
       "      <td>W.A.C.A. Ground</td>\n",
       "      <td>115.879576</td>\n",
       "      <td>-31.959793</td>\n",
       "      <td>7</td>\n",
       "      <td>20</td>\n",
       "      <td>120</td>\n",
       "      <td>120</td>\n",
       "      <td>120</td>\n",
       "      <td>Perth Scorchers</td>\n",
       "      <td>Melbourne Stars</td>\n",
       "      <td>0</td>\n",
       "      <td>Perth Scorchers</td>\n",
       "      <td>Perth Scorchers</td>\n",
       "      <td>Bat</td>\n",
       "      <td>1.775</td>\n",
       "      <td>2.17</td>\n",
       "      <td>Perth Scorchers</td>\n",
       "      <td>120</td>\n",
       "      <td>119</td>\n",
       "      <td>0</td>\n",
       "      <td>0</td>\n",
       "      <td>2</td>\n",
       "      <td>4</td>\n",
       "      <td>0</td>\n",
       "      <td>0</td>\n",
       "      <td>144</td>\n",
       "      <td>126</td>\n",
       "      <td>NaN</td>\n",
       "      <td>145.0</td>\n",
       "      <td>7</td>\n",
       "      <td>10</td>\n",
       "      <td>3</td>\n",
       "      <td>4</td>\n",
       "    </tr>\n",
       "  </tbody>\n",
       "</table>\n",
       "</div>"
      ],
      "text/plain": [
       "   Unnamed: 0    id                   series       start_datetime  \\\n",
       "0           1  6690  Big Bash League 2014/15  2015-01-28 08:40:00   \n",
       "1           2  6696  Big Bash League 2014/15  2014-12-18 08:40:00   \n",
       "2           3  6700  Big Bash League 2014/15  2014-12-19 08:40:00   \n",
       "3           4  6702  Big Bash League 2014/15  2014-12-20 08:10:00   \n",
       "4           5  6705  Big Bash League 2014/15  2015-01-25 08:10:00   \n",
       "\n",
       "              timezone                    ground   longitude   latitude  \\\n",
       "0     Australia/Sydney               Manuka Oval  149.134592 -35.318131   \n",
       "1   Australia/Adelaide             Adelaide Oval  138.596111 -34.915556   \n",
       "2     Australia/Sydney     Sydney Cricket Ground  151.224771 -33.891645   \n",
       "3  Australia/Melbourne  Melbourne Cricket Ground  144.983449 -37.819967   \n",
       "4      Australia/Perth           W.A.C.A. Ground  115.879576 -31.959793   \n",
       "\n",
       "   altitude  match_length_overs  match_length_balls  max_balls_team1  \\\n",
       "0       555                  20                 120              120   \n",
       "1        19                  20                 120              120   \n",
       "2        30                  20                 120              120   \n",
       "3        12                  20                 120              120   \n",
       "4         7                  20                 120              120   \n",
       "\n",
       "   max_balls_team2              team1                team2  neutral_venue  \\\n",
       "0              120    Perth Scorchers        Sydney Sixers              1   \n",
       "1              120  Adelaide Strikers      Melbourne Stars              0   \n",
       "2              120      Sydney Sixers  Melbourne Renegades              0   \n",
       "3              120    Melbourne Stars    Hobart Hurricanes              0   \n",
       "4              120    Perth Scorchers      Melbourne Stars              0   \n",
       "\n",
       "         first_innings      toss_winner toss_choice  dbMktPriceTeam1  \\\n",
       "0        Sydney Sixers    Sydney Sixers         Bat            1.893   \n",
       "1      Melbourne Stars  Melbourne Stars         Bat              NaN   \n",
       "2  Melbourne Renegades    Sydney Sixers        Bowl              NaN   \n",
       "3    Hobart Hurricanes  Melbourne Stars        Bowl              NaN   \n",
       "4      Perth Scorchers  Perth Scorchers         Bat            1.775   \n",
       "\n",
       "   dbMktPriceTeam2             victor  balls_team1  balls_team2  byes_team1  \\\n",
       "0             2.02    Perth Scorchers          120          120           0   \n",
       "1              NaN  Adelaide Strikers           75          120           1   \n",
       "2              NaN      Sydney Sixers          113          120           0   \n",
       "3              NaN  Hobart Hurricanes          120          120           0   \n",
       "4             2.17    Perth Scorchers          120          119           0   \n",
       "\n",
       "   byes_team2  leg_byes_team1  leg_byes_team2  no_balls_team1  no_balls_team2  \\\n",
       "0           0               2               3               2               0   \n",
       "1           0               2               1               0               0   \n",
       "2           0               4               1               0               0   \n",
       "3           0               2               1               0               3   \n",
       "4           0               2               4               0               0   \n",
       "\n",
       "   runs_team1  runs_team2  target_team1  target_team2  wickets_team1  \\\n",
       "0         148         147         148.0           NaN              6   \n",
       "1         149         148         149.0           NaN              2   \n",
       "2         158         154         155.0           NaN              2   \n",
       "3         138         190         191.0           NaN              9   \n",
       "4         144         126           NaN         145.0              7   \n",
       "\n",
       "   wickets_team2  wides_team1  wides_team2  \n",
       "0              5            1            5  \n",
       "1              7            1            4  \n",
       "2              7            2            6  \n",
       "3              5            1            2  \n",
       "4             10            3            4  "
      ]
     },
     "execution_count": 3,
     "metadata": {},
     "output_type": "execute_result"
    }
   ],
   "source": [
    "# Load data\n",
    "rdata = pd.read_csv('./data/data.csv')\n",
    "rdata.head()"
   ]
  },
  {
   "cell_type": "markdown",
   "id": "bb47d06c",
   "metadata": {
    "heading_collapsed": true
   },
   "source": [
    "# Data Exploring\n",
    "**[Consideration]**\n",
    "- Even if max_balls_teamX are the same for both teams, it is possible that the target for the second inning team is not Runs + 1. It could be related to the Wickets lost by the first inning team.\n",
    "- When **Max_balls_teamX > Balls_teamX**: 1) Reached the Target, 2) Lost all Wickets, 3) The game was curtailed."
   ]
  },
  {
   "cell_type": "markdown",
   "id": "df260b46",
   "metadata": {
    "hidden": true
   },
   "source": [
    "**Max_balls_teamX ≠ 120, but Max_balls_team1 = Max_balls_team2**"
   ]
  },
  {
   "cell_type": "code",
   "execution_count": 4,
   "id": "e1b02437",
   "metadata": {
    "ExecuteTime": {
     "end_time": "2022-08-08T05:34:25.432318Z",
     "start_time": "2022-08-08T05:34:25.417316Z"
    },
    "hidden": true
   },
   "outputs": [
    {
     "data": {
      "text/plain": [
       "14"
      ]
     },
     "execution_count": 4,
     "metadata": {},
     "output_type": "execute_result"
    }
   ],
   "source": [
    "df = rdata.loc[rdata['max_balls_team1'] == rdata['max_balls_team2']]\n",
    "len(df.loc[(df['max_balls_team1'] != 120) & (df['max_balls_team2'] != 120)])   # 14 instances"
   ]
  },
  {
   "cell_type": "markdown",
   "id": "7bb4539c",
   "metadata": {
    "heading_collapsed": true,
    "hidden": true
   },
   "source": [
    "## Interrupted matches (less than 120 balls)"
   ]
  },
  {
   "cell_type": "markdown",
   "id": "786254ef",
   "metadata": {
    "hidden": true
   },
   "source": [
    "**(run_team1 + 1) ≠ (target_team2)** \n",
    "\n",
    "When max_ball was adjusted before the inning, target was also adjusted accordingly"
   ]
  },
  {
   "cell_type": "code",
   "execution_count": 5,
   "id": "f1fef2c8",
   "metadata": {
    "ExecuteTime": {
     "end_time": "2022-08-08T05:34:25.448322Z",
     "start_time": "2022-08-08T05:34:25.434319Z"
    },
    "hidden": true
   },
   "outputs": [
    {
     "data": {
      "text/html": [
       "<div>\n",
       "<style scoped>\n",
       "    .dataframe tbody tr th:only-of-type {\n",
       "        vertical-align: middle;\n",
       "    }\n",
       "\n",
       "    .dataframe tbody tr th {\n",
       "        vertical-align: top;\n",
       "    }\n",
       "\n",
       "    .dataframe thead th {\n",
       "        text-align: right;\n",
       "    }\n",
       "</style>\n",
       "<table border=\"1\" class=\"dataframe\">\n",
       "  <thead>\n",
       "    <tr style=\"text-align: right;\">\n",
       "      <th></th>\n",
       "      <th>max_balls_team1</th>\n",
       "      <th>max_balls_team2</th>\n",
       "      <th>balls_team1</th>\n",
       "      <th>balls_team2</th>\n",
       "      <th>runs_team1</th>\n",
       "      <th>runs_team2</th>\n",
       "      <th>target_team1</th>\n",
       "      <th>target_team2</th>\n",
       "      <th>wickets_team1</th>\n",
       "      <th>wickets_team2</th>\n",
       "    </tr>\n",
       "  </thead>\n",
       "  <tbody>\n",
       "    <tr>\n",
       "      <th>16</th>\n",
       "      <td>120</td>\n",
       "      <td>102</td>\n",
       "      <td>102</td>\n",
       "      <td>82</td>\n",
       "      <td>77</td>\n",
       "      <td>84</td>\n",
       "      <td>NaN</td>\n",
       "      <td>82.0</td>\n",
       "      <td>7</td>\n",
       "      <td>5</td>\n",
       "    </tr>\n",
       "    <tr>\n",
       "      <th>52</th>\n",
       "      <td>120</td>\n",
       "      <td>114</td>\n",
       "      <td>120</td>\n",
       "      <td>49</td>\n",
       "      <td>167</td>\n",
       "      <td>58</td>\n",
       "      <td>NaN</td>\n",
       "      <td>162.0</td>\n",
       "      <td>5</td>\n",
       "      <td>3</td>\n",
       "    </tr>\n",
       "    <tr>\n",
       "      <th>73</th>\n",
       "      <td>120</td>\n",
       "      <td>30</td>\n",
       "      <td>79</td>\n",
       "      <td>26</td>\n",
       "      <td>109</td>\n",
       "      <td>51</td>\n",
       "      <td>NaN</td>\n",
       "      <td>51.0</td>\n",
       "      <td>4</td>\n",
       "      <td>1</td>\n",
       "    </tr>\n",
       "    <tr>\n",
       "      <th>321</th>\n",
       "      <td>108</td>\n",
       "      <td>66</td>\n",
       "      <td>66</td>\n",
       "      <td>45</td>\n",
       "      <td>69</td>\n",
       "      <td>55</td>\n",
       "      <td>NaN</td>\n",
       "      <td>80.0</td>\n",
       "      <td>5</td>\n",
       "      <td>3</td>\n",
       "    </tr>\n",
       "    <tr>\n",
       "      <th>349</th>\n",
       "      <td>84</td>\n",
       "      <td>84</td>\n",
       "      <td>84</td>\n",
       "      <td>84</td>\n",
       "      <td>143</td>\n",
       "      <td>125</td>\n",
       "      <td>NaN</td>\n",
       "      <td>147.0</td>\n",
       "      <td>4</td>\n",
       "      <td>5</td>\n",
       "    </tr>\n",
       "    <tr>\n",
       "      <th>363</th>\n",
       "      <td>120</td>\n",
       "      <td>84</td>\n",
       "      <td>120</td>\n",
       "      <td>84</td>\n",
       "      <td>172</td>\n",
       "      <td>122</td>\n",
       "      <td>NaN</td>\n",
       "      <td>135.0</td>\n",
       "      <td>4</td>\n",
       "      <td>7</td>\n",
       "    </tr>\n",
       "    <tr>\n",
       "      <th>390</th>\n",
       "      <td>120</td>\n",
       "      <td>72</td>\n",
       "      <td>102</td>\n",
       "      <td>72</td>\n",
       "      <td>166</td>\n",
       "      <td>117</td>\n",
       "      <td>NaN</td>\n",
       "      <td>111.0</td>\n",
       "      <td>6</td>\n",
       "      <td>2</td>\n",
       "    </tr>\n",
       "    <tr>\n",
       "      <th>399</th>\n",
       "      <td>102</td>\n",
       "      <td>60</td>\n",
       "      <td>60</td>\n",
       "      <td>60</td>\n",
       "      <td>115</td>\n",
       "      <td>111</td>\n",
       "      <td>NaN</td>\n",
       "      <td>129.0</td>\n",
       "      <td>3</td>\n",
       "      <td>5</td>\n",
       "    </tr>\n",
       "    <tr>\n",
       "      <th>464</th>\n",
       "      <td>108</td>\n",
       "      <td>108</td>\n",
       "      <td>108</td>\n",
       "      <td>102</td>\n",
       "      <td>133</td>\n",
       "      <td>137</td>\n",
       "      <td>NaN</td>\n",
       "      <td>135.0</td>\n",
       "      <td>9</td>\n",
       "      <td>4</td>\n",
       "    </tr>\n",
       "  </tbody>\n",
       "</table>\n",
       "</div>"
      ],
      "text/plain": [
       "     max_balls_team1  max_balls_team2  balls_team1  balls_team2  runs_team1  \\\n",
       "16               120              102          102           82          77   \n",
       "52               120              114          120           49         167   \n",
       "73               120               30           79           26         109   \n",
       "321              108               66           66           45          69   \n",
       "349               84               84           84           84         143   \n",
       "363              120               84          120           84         172   \n",
       "390              120               72          102           72         166   \n",
       "399              102               60           60           60         115   \n",
       "464              108              108          108          102         133   \n",
       "\n",
       "     runs_team2  target_team1  target_team2  wickets_team1  wickets_team2  \n",
       "16           84           NaN          82.0              7              5  \n",
       "52           58           NaN         162.0              5              3  \n",
       "73           51           NaN          51.0              4              1  \n",
       "321          55           NaN          80.0              5              3  \n",
       "349         125           NaN         147.0              4              5  \n",
       "363         122           NaN         135.0              4              7  \n",
       "390         117           NaN         111.0              6              2  \n",
       "399         111           NaN         129.0              3              5  \n",
       "464         137           NaN         135.0              9              4  "
      ]
     },
     "execution_count": 5,
     "metadata": {},
     "output_type": "execute_result"
    }
   ],
   "source": [
    "# Team1 batted the first inning, and team2 has a target\n",
    "df = rdata[rdata['target_team1'].isnull()]\n",
    "cols = ['max_balls_team1', 'max_balls_team2', 'balls_team1', 'balls_team2', 'runs_team1', 'runs_team2', 'target_team1', 'target_team2', 'wickets_team1', 'wickets_team2']\n",
    "df.loc[df['runs_team1']+1 != df['target_team2'], cols]"
   ]
  },
  {
   "cell_type": "markdown",
   "id": "75eca8c4",
   "metadata": {
    "hidden": true
   },
   "source": [
    "**(run_team2 + 1) ≠ (target_team1)** "
   ]
  },
  {
   "cell_type": "code",
   "execution_count": 6,
   "id": "63b16f72",
   "metadata": {
    "ExecuteTime": {
     "end_time": "2022-08-08T05:34:25.464325Z",
     "start_time": "2022-08-08T05:34:25.449322Z"
    },
    "hidden": true
   },
   "outputs": [
    {
     "data": {
      "text/html": [
       "<div>\n",
       "<style scoped>\n",
       "    .dataframe tbody tr th:only-of-type {\n",
       "        vertical-align: middle;\n",
       "    }\n",
       "\n",
       "    .dataframe tbody tr th {\n",
       "        vertical-align: top;\n",
       "    }\n",
       "\n",
       "    .dataframe thead th {\n",
       "        text-align: right;\n",
       "    }\n",
       "</style>\n",
       "<table border=\"1\" class=\"dataframe\">\n",
       "  <thead>\n",
       "    <tr style=\"text-align: right;\">\n",
       "      <th></th>\n",
       "      <th>max_balls_team1</th>\n",
       "      <th>max_balls_team2</th>\n",
       "      <th>balls_team1</th>\n",
       "      <th>balls_team2</th>\n",
       "      <th>runs_team1</th>\n",
       "      <th>runs_team2</th>\n",
       "      <th>target_team1</th>\n",
       "      <th>target_team2</th>\n",
       "      <th>wickets_team1</th>\n",
       "      <th>wickets_team2</th>\n",
       "    </tr>\n",
       "  </thead>\n",
       "  <tbody>\n",
       "    <tr>\n",
       "      <th>118</th>\n",
       "      <td>30</td>\n",
       "      <td>120</td>\n",
       "      <td>30</td>\n",
       "      <td>120</td>\n",
       "      <td>48</td>\n",
       "      <td>193</td>\n",
       "      <td>54.0</td>\n",
       "      <td>NaN</td>\n",
       "      <td>6</td>\n",
       "      <td>5</td>\n",
       "    </tr>\n",
       "    <tr>\n",
       "      <th>166</th>\n",
       "      <td>78</td>\n",
       "      <td>120</td>\n",
       "      <td>78</td>\n",
       "      <td>108</td>\n",
       "      <td>142</td>\n",
       "      <td>183</td>\n",
       "      <td>139.0</td>\n",
       "      <td>NaN</td>\n",
       "      <td>2</td>\n",
       "      <td>2</td>\n",
       "    </tr>\n",
       "    <tr>\n",
       "      <th>213</th>\n",
       "      <td>102</td>\n",
       "      <td>102</td>\n",
       "      <td>101</td>\n",
       "      <td>102</td>\n",
       "      <td>153</td>\n",
       "      <td>149</td>\n",
       "      <td>151.0</td>\n",
       "      <td>NaN</td>\n",
       "      <td>4</td>\n",
       "      <td>4</td>\n",
       "    </tr>\n",
       "    <tr>\n",
       "      <th>286</th>\n",
       "      <td>48</td>\n",
       "      <td>120</td>\n",
       "      <td>48</td>\n",
       "      <td>120</td>\n",
       "      <td>74</td>\n",
       "      <td>181</td>\n",
       "      <td>90.0</td>\n",
       "      <td>NaN</td>\n",
       "      <td>6</td>\n",
       "      <td>5</td>\n",
       "    </tr>\n",
       "    <tr>\n",
       "      <th>297</th>\n",
       "      <td>72</td>\n",
       "      <td>120</td>\n",
       "      <td>63</td>\n",
       "      <td>120</td>\n",
       "      <td>85</td>\n",
       "      <td>128</td>\n",
       "      <td>84.0</td>\n",
       "      <td>NaN</td>\n",
       "      <td>1</td>\n",
       "      <td>6</td>\n",
       "    </tr>\n",
       "    <tr>\n",
       "      <th>329</th>\n",
       "      <td>30</td>\n",
       "      <td>48</td>\n",
       "      <td>30</td>\n",
       "      <td>48</td>\n",
       "      <td>60</td>\n",
       "      <td>119</td>\n",
       "      <td>77.0</td>\n",
       "      <td>NaN</td>\n",
       "      <td>4</td>\n",
       "      <td>4</td>\n",
       "    </tr>\n",
       "    <tr>\n",
       "      <th>345</th>\n",
       "      <td>96</td>\n",
       "      <td>96</td>\n",
       "      <td>33</td>\n",
       "      <td>95</td>\n",
       "      <td>28</td>\n",
       "      <td>76</td>\n",
       "      <td>75.0</td>\n",
       "      <td>NaN</td>\n",
       "      <td>2</td>\n",
       "      <td>10</td>\n",
       "    </tr>\n",
       "    <tr>\n",
       "      <th>358</th>\n",
       "      <td>72</td>\n",
       "      <td>120</td>\n",
       "      <td>70</td>\n",
       "      <td>90</td>\n",
       "      <td>97</td>\n",
       "      <td>99</td>\n",
       "      <td>96.0</td>\n",
       "      <td>NaN</td>\n",
       "      <td>3</td>\n",
       "      <td>4</td>\n",
       "    </tr>\n",
       "    <tr>\n",
       "      <th>377</th>\n",
       "      <td>36</td>\n",
       "      <td>120</td>\n",
       "      <td>7</td>\n",
       "      <td>102</td>\n",
       "      <td>10</td>\n",
       "      <td>158</td>\n",
       "      <td>76.0</td>\n",
       "      <td>NaN</td>\n",
       "      <td>1</td>\n",
       "      <td>6</td>\n",
       "    </tr>\n",
       "    <tr>\n",
       "      <th>406</th>\n",
       "      <td>84</td>\n",
       "      <td>120</td>\n",
       "      <td>76</td>\n",
       "      <td>120</td>\n",
       "      <td>132</td>\n",
       "      <td>166</td>\n",
       "      <td>129.0</td>\n",
       "      <td>NaN</td>\n",
       "      <td>5</td>\n",
       "      <td>6</td>\n",
       "    </tr>\n",
       "    <tr>\n",
       "      <th>428</th>\n",
       "      <td>108</td>\n",
       "      <td>120</td>\n",
       "      <td>108</td>\n",
       "      <td>109</td>\n",
       "      <td>150</td>\n",
       "      <td>189</td>\n",
       "      <td>200.0</td>\n",
       "      <td>NaN</td>\n",
       "      <td>9</td>\n",
       "      <td>1</td>\n",
       "    </tr>\n",
       "    <tr>\n",
       "      <th>438</th>\n",
       "      <td>108</td>\n",
       "      <td>120</td>\n",
       "      <td>108</td>\n",
       "      <td>120</td>\n",
       "      <td>151</td>\n",
       "      <td>213</td>\n",
       "      <td>196.0</td>\n",
       "      <td>NaN</td>\n",
       "      <td>4</td>\n",
       "      <td>2</td>\n",
       "    </tr>\n",
       "    <tr>\n",
       "      <th>450</th>\n",
       "      <td>96</td>\n",
       "      <td>96</td>\n",
       "      <td>91</td>\n",
       "      <td>96</td>\n",
       "      <td>142</td>\n",
       "      <td>168</td>\n",
       "      <td>173.0</td>\n",
       "      <td>NaN</td>\n",
       "      <td>10</td>\n",
       "      <td>4</td>\n",
       "    </tr>\n",
       "  </tbody>\n",
       "</table>\n",
       "</div>"
      ],
      "text/plain": [
       "     max_balls_team1  max_balls_team2  balls_team1  balls_team2  runs_team1  \\\n",
       "118               30              120           30          120          48   \n",
       "166               78              120           78          108         142   \n",
       "213              102              102          101          102         153   \n",
       "286               48              120           48          120          74   \n",
       "297               72              120           63          120          85   \n",
       "329               30               48           30           48          60   \n",
       "345               96               96           33           95          28   \n",
       "358               72              120           70           90          97   \n",
       "377               36              120            7          102          10   \n",
       "406               84              120           76          120         132   \n",
       "428              108              120          108          109         150   \n",
       "438              108              120          108          120         151   \n",
       "450               96               96           91           96         142   \n",
       "\n",
       "     runs_team2  target_team1  target_team2  wickets_team1  wickets_team2  \n",
       "118         193          54.0           NaN              6              5  \n",
       "166         183         139.0           NaN              2              2  \n",
       "213         149         151.0           NaN              4              4  \n",
       "286         181          90.0           NaN              6              5  \n",
       "297         128          84.0           NaN              1              6  \n",
       "329         119          77.0           NaN              4              4  \n",
       "345          76          75.0           NaN              2             10  \n",
       "358          99          96.0           NaN              3              4  \n",
       "377         158          76.0           NaN              1              6  \n",
       "406         166         129.0           NaN              5              6  \n",
       "428         189         200.0           NaN              9              1  \n",
       "438         213         196.0           NaN              4              2  \n",
       "450         168         173.0           NaN             10              4  "
      ]
     },
     "execution_count": 6,
     "metadata": {},
     "output_type": "execute_result"
    }
   ],
   "source": [
    "# Team2 batted the first inning, and team1 has a target\n",
    "df = rdata[rdata['target_team2'].isnull()]\n",
    "cols = ['max_balls_team1', 'max_balls_team2', 'balls_team1', 'balls_team2', 'runs_team1', 'runs_team2', 'target_team1', 'target_team2', 'wickets_team1', 'wickets_team2']\n",
    "df.loc[df['runs_team2']+1 != df['target_team1'], cols]"
   ]
  },
  {
   "cell_type": "markdown",
   "id": "0f75f32d",
   "metadata": {
    "hidden": true
   },
   "source": [
    "**runs_team1 < runs_team2, but team1 won the game**"
   ]
  },
  {
   "cell_type": "code",
   "execution_count": 7,
   "id": "d798c4ed",
   "metadata": {
    "ExecuteTime": {
     "end_time": "2022-08-08T05:34:25.496332Z",
     "start_time": "2022-08-08T05:34:25.465326Z"
    },
    "hidden": true
   },
   "outputs": [
    {
     "data": {
      "text/html": [
       "<div>\n",
       "<style scoped>\n",
       "    .dataframe tbody tr th:only-of-type {\n",
       "        vertical-align: middle;\n",
       "    }\n",
       "\n",
       "    .dataframe tbody tr th {\n",
       "        vertical-align: top;\n",
       "    }\n",
       "\n",
       "    .dataframe thead th {\n",
       "        text-align: right;\n",
       "    }\n",
       "</style>\n",
       "<table border=\"1\" class=\"dataframe\">\n",
       "  <thead>\n",
       "    <tr style=\"text-align: right;\">\n",
       "      <th></th>\n",
       "      <th>Unnamed: 0</th>\n",
       "      <th>id</th>\n",
       "      <th>series</th>\n",
       "      <th>start_datetime</th>\n",
       "      <th>timezone</th>\n",
       "      <th>ground</th>\n",
       "      <th>longitude</th>\n",
       "      <th>latitude</th>\n",
       "      <th>altitude</th>\n",
       "      <th>match_length_overs</th>\n",
       "      <th>match_length_balls</th>\n",
       "      <th>max_balls_team1</th>\n",
       "      <th>max_balls_team2</th>\n",
       "      <th>team1</th>\n",
       "      <th>team2</th>\n",
       "      <th>neutral_venue</th>\n",
       "      <th>first_innings</th>\n",
       "      <th>toss_winner</th>\n",
       "      <th>toss_choice</th>\n",
       "      <th>dbMktPriceTeam1</th>\n",
       "      <th>dbMktPriceTeam2</th>\n",
       "      <th>victor</th>\n",
       "      <th>balls_team1</th>\n",
       "      <th>balls_team2</th>\n",
       "      <th>byes_team1</th>\n",
       "      <th>byes_team2</th>\n",
       "      <th>leg_byes_team1</th>\n",
       "      <th>leg_byes_team2</th>\n",
       "      <th>no_balls_team1</th>\n",
       "      <th>no_balls_team2</th>\n",
       "      <th>runs_team1</th>\n",
       "      <th>runs_team2</th>\n",
       "      <th>target_team1</th>\n",
       "      <th>target_team2</th>\n",
       "      <th>wickets_team1</th>\n",
       "      <th>wickets_team2</th>\n",
       "      <th>wides_team1</th>\n",
       "      <th>wides_team2</th>\n",
       "    </tr>\n",
       "  </thead>\n",
       "  <tbody>\n",
       "    <tr>\n",
       "      <th>166</th>\n",
       "      <td>167</td>\n",
       "      <td>10675</td>\n",
       "      <td>Big Bash League 2012/13</td>\n",
       "      <td>2013-01-16 11:00:00</td>\n",
       "      <td>Australia/Perth</td>\n",
       "      <td>W.A.C.A. Ground</td>\n",
       "      <td>115.879576</td>\n",
       "      <td>-31.959793</td>\n",
       "      <td>7</td>\n",
       "      <td>20</td>\n",
       "      <td>120</td>\n",
       "      <td>78</td>\n",
       "      <td>120</td>\n",
       "      <td>Perth Scorchers</td>\n",
       "      <td>Melbourne Stars</td>\n",
       "      <td>0</td>\n",
       "      <td>Melbourne Stars</td>\n",
       "      <td>Perth Scorchers</td>\n",
       "      <td>Bowl</td>\n",
       "      <td>1.637</td>\n",
       "      <td>2.420</td>\n",
       "      <td>Perth Scorchers</td>\n",
       "      <td>78</td>\n",
       "      <td>108</td>\n",
       "      <td>4</td>\n",
       "      <td>0</td>\n",
       "      <td>3</td>\n",
       "      <td>2</td>\n",
       "      <td>2</td>\n",
       "      <td>3</td>\n",
       "      <td>142</td>\n",
       "      <td>183</td>\n",
       "      <td>139.0</td>\n",
       "      <td>NaN</td>\n",
       "      <td>2</td>\n",
       "      <td>2</td>\n",
       "      <td>1</td>\n",
       "      <td>1</td>\n",
       "    </tr>\n",
       "    <tr>\n",
       "      <th>297</th>\n",
       "      <td>298</td>\n",
       "      <td>14378</td>\n",
       "      <td>KFC Big Bash League 2018/19</td>\n",
       "      <td>2019-02-02 08:00:00</td>\n",
       "      <td>Australia/Sydney</td>\n",
       "      <td>Sydney Cricket Ground</td>\n",
       "      <td>151.224771</td>\n",
       "      <td>-33.891645</td>\n",
       "      <td>30</td>\n",
       "      <td>20</td>\n",
       "      <td>120</td>\n",
       "      <td>72</td>\n",
       "      <td>120</td>\n",
       "      <td>Sydney Sixers</td>\n",
       "      <td>Sydney Thunder</td>\n",
       "      <td>0</td>\n",
       "      <td>Sydney Thunder</td>\n",
       "      <td>Sydney Sixers</td>\n",
       "      <td>Bowl</td>\n",
       "      <td>1.680</td>\n",
       "      <td>2.250</td>\n",
       "      <td>Sydney Sixers</td>\n",
       "      <td>63</td>\n",
       "      <td>120</td>\n",
       "      <td>0</td>\n",
       "      <td>1</td>\n",
       "      <td>0</td>\n",
       "      <td>3</td>\n",
       "      <td>0</td>\n",
       "      <td>0</td>\n",
       "      <td>85</td>\n",
       "      <td>128</td>\n",
       "      <td>84.0</td>\n",
       "      <td>NaN</td>\n",
       "      <td>1</td>\n",
       "      <td>6</td>\n",
       "      <td>1</td>\n",
       "      <td>2</td>\n",
       "    </tr>\n",
       "    <tr>\n",
       "      <th>345</th>\n",
       "      <td>346</td>\n",
       "      <td>15797</td>\n",
       "      <td>KFC Big Bash League 2019/20</td>\n",
       "      <td>2020-01-18 08:10:00</td>\n",
       "      <td>Australia/Sydney</td>\n",
       "      <td>Sydney Showground Stadium</td>\n",
       "      <td>151.067879</td>\n",
       "      <td>-33.843277</td>\n",
       "      <td>18</td>\n",
       "      <td>20</td>\n",
       "      <td>120</td>\n",
       "      <td>96</td>\n",
       "      <td>96</td>\n",
       "      <td>Sydney Thunder</td>\n",
       "      <td>Sydney Sixers</td>\n",
       "      <td>0</td>\n",
       "      <td>Sydney Sixers</td>\n",
       "      <td>Sydney Thunder</td>\n",
       "      <td>Bowl</td>\n",
       "      <td>1.833</td>\n",
       "      <td>2.030</td>\n",
       "      <td>Sydney Thunder</td>\n",
       "      <td>33</td>\n",
       "      <td>95</td>\n",
       "      <td>0</td>\n",
       "      <td>0</td>\n",
       "      <td>0</td>\n",
       "      <td>1</td>\n",
       "      <td>1</td>\n",
       "      <td>0</td>\n",
       "      <td>28</td>\n",
       "      <td>76</td>\n",
       "      <td>75.0</td>\n",
       "      <td>NaN</td>\n",
       "      <td>2</td>\n",
       "      <td>10</td>\n",
       "      <td>1</td>\n",
       "      <td>4</td>\n",
       "    </tr>\n",
       "    <tr>\n",
       "      <th>358</th>\n",
       "      <td>359</td>\n",
       "      <td>15810</td>\n",
       "      <td>KFC Big Bash League 2019/20</td>\n",
       "      <td>2020-01-26 03:45:00</td>\n",
       "      <td>Australia/Sydney</td>\n",
       "      <td>Sydney Showground Stadium</td>\n",
       "      <td>151.067879</td>\n",
       "      <td>-33.843277</td>\n",
       "      <td>18</td>\n",
       "      <td>20</td>\n",
       "      <td>120</td>\n",
       "      <td>72</td>\n",
       "      <td>120</td>\n",
       "      <td>Sydney Thunder</td>\n",
       "      <td>Perth Scorchers</td>\n",
       "      <td>0</td>\n",
       "      <td>Perth Scorchers</td>\n",
       "      <td>Perth Scorchers</td>\n",
       "      <td>Bat</td>\n",
       "      <td>2.310</td>\n",
       "      <td>1.654</td>\n",
       "      <td>Sydney Thunder</td>\n",
       "      <td>70</td>\n",
       "      <td>90</td>\n",
       "      <td>0</td>\n",
       "      <td>0</td>\n",
       "      <td>1</td>\n",
       "      <td>1</td>\n",
       "      <td>0</td>\n",
       "      <td>0</td>\n",
       "      <td>97</td>\n",
       "      <td>99</td>\n",
       "      <td>96.0</td>\n",
       "      <td>NaN</td>\n",
       "      <td>3</td>\n",
       "      <td>4</td>\n",
       "      <td>1</td>\n",
       "      <td>0</td>\n",
       "    </tr>\n",
       "    <tr>\n",
       "      <th>406</th>\n",
       "      <td>407</td>\n",
       "      <td>18452</td>\n",
       "      <td>KFC T20 Big Bash League 2020/21</td>\n",
       "      <td>2021-01-13 08:15:00</td>\n",
       "      <td>Australia/Sydney</td>\n",
       "      <td>Manuka Oval</td>\n",
       "      <td>149.134592</td>\n",
       "      <td>-35.318131</td>\n",
       "      <td>555</td>\n",
       "      <td>20</td>\n",
       "      <td>120</td>\n",
       "      <td>84</td>\n",
       "      <td>120</td>\n",
       "      <td>Sydney Sixers</td>\n",
       "      <td>Sydney Thunder</td>\n",
       "      <td>1</td>\n",
       "      <td>Sydney Thunder</td>\n",
       "      <td>Sydney Sixers</td>\n",
       "      <td>Bowl</td>\n",
       "      <td>2.140</td>\n",
       "      <td>1.752</td>\n",
       "      <td>Sydney Sixers</td>\n",
       "      <td>76</td>\n",
       "      <td>120</td>\n",
       "      <td>1</td>\n",
       "      <td>4</td>\n",
       "      <td>2</td>\n",
       "      <td>1</td>\n",
       "      <td>0</td>\n",
       "      <td>0</td>\n",
       "      <td>132</td>\n",
       "      <td>166</td>\n",
       "      <td>129.0</td>\n",
       "      <td>NaN</td>\n",
       "      <td>5</td>\n",
       "      <td>6</td>\n",
       "      <td>2</td>\n",
       "      <td>9</td>\n",
       "    </tr>\n",
       "  </tbody>\n",
       "</table>\n",
       "</div>"
      ],
      "text/plain": [
       "     Unnamed: 0     id                           series       start_datetime  \\\n",
       "166         167  10675          Big Bash League 2012/13  2013-01-16 11:00:00   \n",
       "297         298  14378      KFC Big Bash League 2018/19  2019-02-02 08:00:00   \n",
       "345         346  15797      KFC Big Bash League 2019/20  2020-01-18 08:10:00   \n",
       "358         359  15810      KFC Big Bash League 2019/20  2020-01-26 03:45:00   \n",
       "406         407  18452  KFC T20 Big Bash League 2020/21  2021-01-13 08:15:00   \n",
       "\n",
       "             timezone                     ground   longitude   latitude  \\\n",
       "166   Australia/Perth            W.A.C.A. Ground  115.879576 -31.959793   \n",
       "297  Australia/Sydney      Sydney Cricket Ground  151.224771 -33.891645   \n",
       "345  Australia/Sydney  Sydney Showground Stadium  151.067879 -33.843277   \n",
       "358  Australia/Sydney  Sydney Showground Stadium  151.067879 -33.843277   \n",
       "406  Australia/Sydney                Manuka Oval  149.134592 -35.318131   \n",
       "\n",
       "     altitude  match_length_overs  match_length_balls  max_balls_team1  \\\n",
       "166         7                  20                 120               78   \n",
       "297        30                  20                 120               72   \n",
       "345        18                  20                 120               96   \n",
       "358        18                  20                 120               72   \n",
       "406       555                  20                 120               84   \n",
       "\n",
       "     max_balls_team2            team1            team2  neutral_venue  \\\n",
       "166              120  Perth Scorchers  Melbourne Stars              0   \n",
       "297              120    Sydney Sixers   Sydney Thunder              0   \n",
       "345               96   Sydney Thunder    Sydney Sixers              0   \n",
       "358              120   Sydney Thunder  Perth Scorchers              0   \n",
       "406              120    Sydney Sixers   Sydney Thunder              1   \n",
       "\n",
       "       first_innings      toss_winner toss_choice  dbMktPriceTeam1  \\\n",
       "166  Melbourne Stars  Perth Scorchers        Bowl            1.637   \n",
       "297   Sydney Thunder    Sydney Sixers        Bowl            1.680   \n",
       "345    Sydney Sixers   Sydney Thunder        Bowl            1.833   \n",
       "358  Perth Scorchers  Perth Scorchers         Bat            2.310   \n",
       "406   Sydney Thunder    Sydney Sixers        Bowl            2.140   \n",
       "\n",
       "     dbMktPriceTeam2           victor  balls_team1  balls_team2  byes_team1  \\\n",
       "166            2.420  Perth Scorchers           78          108           4   \n",
       "297            2.250    Sydney Sixers           63          120           0   \n",
       "345            2.030   Sydney Thunder           33           95           0   \n",
       "358            1.654   Sydney Thunder           70           90           0   \n",
       "406            1.752    Sydney Sixers           76          120           1   \n",
       "\n",
       "     byes_team2  leg_byes_team1  leg_byes_team2  no_balls_team1  \\\n",
       "166           0               3               2               2   \n",
       "297           1               0               3               0   \n",
       "345           0               0               1               1   \n",
       "358           0               1               1               0   \n",
       "406           4               2               1               0   \n",
       "\n",
       "     no_balls_team2  runs_team1  runs_team2  target_team1  target_team2  \\\n",
       "166               3         142         183         139.0           NaN   \n",
       "297               0          85         128          84.0           NaN   \n",
       "345               0          28          76          75.0           NaN   \n",
       "358               0          97          99          96.0           NaN   \n",
       "406               0         132         166         129.0           NaN   \n",
       "\n",
       "     wickets_team1  wickets_team2  wides_team1  wides_team2  \n",
       "166              2              2            1            1  \n",
       "297              1              6            1            2  \n",
       "345              2             10            1            4  \n",
       "358              3              4            1            0  \n",
       "406              5              6            2            9  "
      ]
     },
     "execution_count": 7,
     "metadata": {},
     "output_type": "execute_result"
    }
   ],
   "source": [
    "df = rdata.loc[rdata['runs_team1'] < rdata['runs_team2']]\n",
    "df.loc[df['victor'] == df['team1']]   # 5 instances"
   ]
  },
  {
   "cell_type": "markdown",
   "id": "477b6561",
   "metadata": {
    "hidden": true
   },
   "source": [
    "**runs_team1 > runs_team2, but team2 won the game**"
   ]
  },
  {
   "cell_type": "code",
   "execution_count": 8,
   "id": "2c92822b",
   "metadata": {
    "ExecuteTime": {
     "end_time": "2022-08-08T05:34:25.512336Z",
     "start_time": "2022-08-08T05:34:25.497333Z"
    },
    "hidden": true
   },
   "outputs": [
    {
     "data": {
      "text/html": [
       "<div>\n",
       "<style scoped>\n",
       "    .dataframe tbody tr th:only-of-type {\n",
       "        vertical-align: middle;\n",
       "    }\n",
       "\n",
       "    .dataframe tbody tr th {\n",
       "        vertical-align: top;\n",
       "    }\n",
       "\n",
       "    .dataframe thead th {\n",
       "        text-align: right;\n",
       "    }\n",
       "</style>\n",
       "<table border=\"1\" class=\"dataframe\">\n",
       "  <thead>\n",
       "    <tr style=\"text-align: right;\">\n",
       "      <th></th>\n",
       "      <th>team1</th>\n",
       "      <th>team2</th>\n",
       "      <th>victor</th>\n",
       "    </tr>\n",
       "  </thead>\n",
       "  <tbody>\n",
       "    <tr>\n",
       "      <th>73</th>\n",
       "      <td>Brisbane Heat</td>\n",
       "      <td>Perth Scorchers</td>\n",
       "      <td>Perth Scorchers</td>\n",
       "    </tr>\n",
       "    <tr>\n",
       "      <th>92</th>\n",
       "      <td>Perth Scorchers</td>\n",
       "      <td>Melbourne Stars</td>\n",
       "      <td>Melbourne Stars</td>\n",
       "    </tr>\n",
       "    <tr>\n",
       "      <th>321</th>\n",
       "      <td>Hobart Hurricanes</td>\n",
       "      <td>Melbourne Stars</td>\n",
       "      <td>Melbourne Stars</td>\n",
       "    </tr>\n",
       "    <tr>\n",
       "      <th>390</th>\n",
       "      <td>Melbourne Renegades</td>\n",
       "      <td>Sydney Thunder</td>\n",
       "      <td>Sydney Thunder</td>\n",
       "    </tr>\n",
       "  </tbody>\n",
       "</table>\n",
       "</div>"
      ],
      "text/plain": [
       "                   team1            team2           victor\n",
       "73         Brisbane Heat  Perth Scorchers  Perth Scorchers\n",
       "92       Perth Scorchers  Melbourne Stars  Melbourne Stars\n",
       "321    Hobart Hurricanes  Melbourne Stars  Melbourne Stars\n",
       "390  Melbourne Renegades   Sydney Thunder   Sydney Thunder"
      ]
     },
     "execution_count": 8,
     "metadata": {},
     "output_type": "execute_result"
    }
   ],
   "source": [
    "df = rdata.loc[rdata['runs_team1'] > rdata['runs_team2']]\n",
    "df.loc[df['victor'] == df['team2'], ['team1', 'team2', 'victor']]   # 4 instances"
   ]
  },
  {
   "cell_type": "markdown",
   "id": "3cd726dd",
   "metadata": {
    "heading_collapsed": true,
    "hidden": true
   },
   "source": [
    "## Curtailed matches (stopped without finishing the Max_balls_teamX)"
   ]
  },
  {
   "cell_type": "markdown",
   "id": "c0ff11e8",
   "metadata": {
    "hidden": true
   },
   "source": [
    "**Curtailed games**\n",
    "\n",
    "A team didn't lose 10 wickets and the target was not achieved, but the game was stopped (balls < max_balls_teamX)"
   ]
  },
  {
   "cell_type": "code",
   "execution_count": 9,
   "id": "087e99e9",
   "metadata": {
    "ExecuteTime": {
     "end_time": "2022-08-08T05:34:25.544343Z",
     "start_time": "2022-08-08T05:34:25.513337Z"
    },
    "hidden": true
   },
   "outputs": [
    {
     "data": {
      "text/html": [
       "<div>\n",
       "<style scoped>\n",
       "    .dataframe tbody tr th:only-of-type {\n",
       "        vertical-align: middle;\n",
       "    }\n",
       "\n",
       "    .dataframe tbody tr th {\n",
       "        vertical-align: top;\n",
       "    }\n",
       "\n",
       "    .dataframe thead th {\n",
       "        text-align: right;\n",
       "    }\n",
       "</style>\n",
       "<table border=\"1\" class=\"dataframe\">\n",
       "  <thead>\n",
       "    <tr style=\"text-align: right;\">\n",
       "      <th></th>\n",
       "      <th>Unnamed: 0</th>\n",
       "      <th>id</th>\n",
       "      <th>series</th>\n",
       "      <th>start_datetime</th>\n",
       "      <th>timezone</th>\n",
       "      <th>ground</th>\n",
       "      <th>longitude</th>\n",
       "      <th>latitude</th>\n",
       "      <th>altitude</th>\n",
       "      <th>match_length_overs</th>\n",
       "      <th>match_length_balls</th>\n",
       "      <th>max_balls_team1</th>\n",
       "      <th>max_balls_team2</th>\n",
       "      <th>team1</th>\n",
       "      <th>team2</th>\n",
       "      <th>neutral_venue</th>\n",
       "      <th>first_innings</th>\n",
       "      <th>toss_winner</th>\n",
       "      <th>toss_choice</th>\n",
       "      <th>dbMktPriceTeam1</th>\n",
       "      <th>dbMktPriceTeam2</th>\n",
       "      <th>victor</th>\n",
       "      <th>balls_team1</th>\n",
       "      <th>balls_team2</th>\n",
       "      <th>byes_team1</th>\n",
       "      <th>byes_team2</th>\n",
       "      <th>leg_byes_team1</th>\n",
       "      <th>leg_byes_team2</th>\n",
       "      <th>no_balls_team1</th>\n",
       "      <th>no_balls_team2</th>\n",
       "      <th>runs_team1</th>\n",
       "      <th>runs_team2</th>\n",
       "      <th>target_team1</th>\n",
       "      <th>target_team2</th>\n",
       "      <th>wickets_team1</th>\n",
       "      <th>wickets_team2</th>\n",
       "      <th>wides_team1</th>\n",
       "      <th>wides_team2</th>\n",
       "    </tr>\n",
       "  </thead>\n",
       "  <tbody>\n",
       "    <tr>\n",
       "      <th>49</th>\n",
       "      <td>50</td>\n",
       "      <td>8364</td>\n",
       "      <td>Big Bash League 2011/12</td>\n",
       "      <td>2012-01-08 07:00:00</td>\n",
       "      <td>Australia/Sydney</td>\n",
       "      <td>Stadium Australia</td>\n",
       "      <td>151.063413</td>\n",
       "      <td>-33.847116</td>\n",
       "      <td>14</td>\n",
       "      <td>20</td>\n",
       "      <td>120</td>\n",
       "      <td>96</td>\n",
       "      <td>96</td>\n",
       "      <td>Sydney Thunder</td>\n",
       "      <td>Sydney Sixers</td>\n",
       "      <td>0</td>\n",
       "      <td>Sydney Sixers</td>\n",
       "      <td>Sydney Sixers</td>\n",
       "      <td>Bat</td>\n",
       "      <td>2.010</td>\n",
       "      <td>1.952</td>\n",
       "      <td>Sydney Sixers</td>\n",
       "      <td>33</td>\n",
       "      <td>96</td>\n",
       "      <td>0</td>\n",
       "      <td>2</td>\n",
       "      <td>1</td>\n",
       "      <td>1</td>\n",
       "      <td>1</td>\n",
       "      <td>1</td>\n",
       "      <td>29</td>\n",
       "      <td>117</td>\n",
       "      <td>118.0</td>\n",
       "      <td>NaN</td>\n",
       "      <td>4</td>\n",
       "      <td>7</td>\n",
       "      <td>1</td>\n",
       "      <td>3</td>\n",
       "    </tr>\n",
       "    <tr>\n",
       "      <th>116</th>\n",
       "      <td>117</td>\n",
       "      <td>9557</td>\n",
       "      <td>Big Bash League 2013/14</td>\n",
       "      <td>2013-12-22 02:50:00</td>\n",
       "      <td>Australia/Hobart</td>\n",
       "      <td>Bellerive Oval</td>\n",
       "      <td>147.373739</td>\n",
       "      <td>-42.877361</td>\n",
       "      <td>10</td>\n",
       "      <td>20</td>\n",
       "      <td>120</td>\n",
       "      <td>48</td>\n",
       "      <td>48</td>\n",
       "      <td>Hobart Hurricanes</td>\n",
       "      <td>Adelaide Strikers</td>\n",
       "      <td>0</td>\n",
       "      <td>Adelaide Strikers</td>\n",
       "      <td>Hobart Hurricanes</td>\n",
       "      <td>Bowl</td>\n",
       "      <td>1.699</td>\n",
       "      <td>2.290</td>\n",
       "      <td>NaN</td>\n",
       "      <td>0</td>\n",
       "      <td>36</td>\n",
       "      <td>0</td>\n",
       "      <td>0</td>\n",
       "      <td>0</td>\n",
       "      <td>4</td>\n",
       "      <td>0</td>\n",
       "      <td>0</td>\n",
       "      <td>0</td>\n",
       "      <td>87</td>\n",
       "      <td>88.0</td>\n",
       "      <td>NaN</td>\n",
       "      <td>0</td>\n",
       "      <td>1</td>\n",
       "      <td>0</td>\n",
       "      <td>2</td>\n",
       "    </tr>\n",
       "    <tr>\n",
       "      <th>175</th>\n",
       "      <td>176</td>\n",
       "      <td>12157</td>\n",
       "      <td>Big Bash League 2016/17</td>\n",
       "      <td>2017-01-01 07:10:00</td>\n",
       "      <td>Australia/Melbourne</td>\n",
       "      <td>Melbourne Cricket Ground</td>\n",
       "      <td>144.983449</td>\n",
       "      <td>-37.819967</td>\n",
       "      <td>12</td>\n",
       "      <td>20</td>\n",
       "      <td>120</td>\n",
       "      <td>120</td>\n",
       "      <td>120</td>\n",
       "      <td>Melbourne Stars</td>\n",
       "      <td>Melbourne Renegades</td>\n",
       "      <td>0</td>\n",
       "      <td>Melbourne Renegades</td>\n",
       "      <td>Melbourne Stars</td>\n",
       "      <td>Bowl</td>\n",
       "      <td>1.625</td>\n",
       "      <td>2.440</td>\n",
       "      <td>Melbourne Renegades</td>\n",
       "      <td>108</td>\n",
       "      <td>120</td>\n",
       "      <td>0</td>\n",
       "      <td>1</td>\n",
       "      <td>0</td>\n",
       "      <td>3</td>\n",
       "      <td>3</td>\n",
       "      <td>0</td>\n",
       "      <td>151</td>\n",
       "      <td>171</td>\n",
       "      <td>172.0</td>\n",
       "      <td>NaN</td>\n",
       "      <td>9</td>\n",
       "      <td>4</td>\n",
       "      <td>6</td>\n",
       "      <td>3</td>\n",
       "    </tr>\n",
       "    <tr>\n",
       "      <th>270</th>\n",
       "      <td>271</td>\n",
       "      <td>14271</td>\n",
       "      <td>KFC Big Bash League 2018/19</td>\n",
       "      <td>2019-01-08 08:15:00</td>\n",
       "      <td>Australia/Sydney</td>\n",
       "      <td>Sydney Showground Stadium</td>\n",
       "      <td>151.067879</td>\n",
       "      <td>-33.843277</td>\n",
       "      <td>18</td>\n",
       "      <td>20</td>\n",
       "      <td>120</td>\n",
       "      <td>120</td>\n",
       "      <td>120</td>\n",
       "      <td>Sydney Thunder</td>\n",
       "      <td>Brisbane Heat</td>\n",
       "      <td>0</td>\n",
       "      <td>Brisbane Heat</td>\n",
       "      <td>Sydney Thunder</td>\n",
       "      <td>Bowl</td>\n",
       "      <td>1.694</td>\n",
       "      <td>2.230</td>\n",
       "      <td>Brisbane Heat</td>\n",
       "      <td>33</td>\n",
       "      <td>120</td>\n",
       "      <td>0</td>\n",
       "      <td>0</td>\n",
       "      <td>0</td>\n",
       "      <td>1</td>\n",
       "      <td>0</td>\n",
       "      <td>2</td>\n",
       "      <td>34</td>\n",
       "      <td>186</td>\n",
       "      <td>187.0</td>\n",
       "      <td>NaN</td>\n",
       "      <td>2</td>\n",
       "      <td>8</td>\n",
       "      <td>0</td>\n",
       "      <td>5</td>\n",
       "    </tr>\n",
       "    <tr>\n",
       "      <th>278</th>\n",
       "      <td>279</td>\n",
       "      <td>14332</td>\n",
       "      <td>KFC Big Bash League 2018/19</td>\n",
       "      <td>2019-01-17 08:15:00</td>\n",
       "      <td>Australia/Brisbane</td>\n",
       "      <td>Brisbane Cricket Ground</td>\n",
       "      <td>153.038085</td>\n",
       "      <td>-27.485838</td>\n",
       "      <td>11</td>\n",
       "      <td>20</td>\n",
       "      <td>120</td>\n",
       "      <td>120</td>\n",
       "      <td>120</td>\n",
       "      <td>Brisbane Heat</td>\n",
       "      <td>Sydney Thunder</td>\n",
       "      <td>0</td>\n",
       "      <td>Sydney Thunder</td>\n",
       "      <td>Sydney Thunder</td>\n",
       "      <td>Bat</td>\n",
       "      <td>1.602</td>\n",
       "      <td>2.410</td>\n",
       "      <td>NaN</td>\n",
       "      <td>18</td>\n",
       "      <td>120</td>\n",
       "      <td>0</td>\n",
       "      <td>0</td>\n",
       "      <td>1</td>\n",
       "      <td>4</td>\n",
       "      <td>0</td>\n",
       "      <td>3</td>\n",
       "      <td>10</td>\n",
       "      <td>186</td>\n",
       "      <td>187.0</td>\n",
       "      <td>NaN</td>\n",
       "      <td>2</td>\n",
       "      <td>4</td>\n",
       "      <td>1</td>\n",
       "      <td>3</td>\n",
       "    </tr>\n",
       "    <tr>\n",
       "      <th>345</th>\n",
       "      <td>346</td>\n",
       "      <td>15797</td>\n",
       "      <td>KFC Big Bash League 2019/20</td>\n",
       "      <td>2020-01-18 08:10:00</td>\n",
       "      <td>Australia/Sydney</td>\n",
       "      <td>Sydney Showground Stadium</td>\n",
       "      <td>151.067879</td>\n",
       "      <td>-33.843277</td>\n",
       "      <td>18</td>\n",
       "      <td>20</td>\n",
       "      <td>120</td>\n",
       "      <td>96</td>\n",
       "      <td>96</td>\n",
       "      <td>Sydney Thunder</td>\n",
       "      <td>Sydney Sixers</td>\n",
       "      <td>0</td>\n",
       "      <td>Sydney Sixers</td>\n",
       "      <td>Sydney Thunder</td>\n",
       "      <td>Bowl</td>\n",
       "      <td>1.833</td>\n",
       "      <td>2.030</td>\n",
       "      <td>Sydney Thunder</td>\n",
       "      <td>33</td>\n",
       "      <td>95</td>\n",
       "      <td>0</td>\n",
       "      <td>0</td>\n",
       "      <td>0</td>\n",
       "      <td>1</td>\n",
       "      <td>1</td>\n",
       "      <td>0</td>\n",
       "      <td>28</td>\n",
       "      <td>76</td>\n",
       "      <td>75.0</td>\n",
       "      <td>NaN</td>\n",
       "      <td>2</td>\n",
       "      <td>10</td>\n",
       "      <td>1</td>\n",
       "      <td>4</td>\n",
       "    </tr>\n",
       "    <tr>\n",
       "      <th>377</th>\n",
       "      <td>378</td>\n",
       "      <td>18394</td>\n",
       "      <td>KFC T20 Big Bash League 2020/21</td>\n",
       "      <td>2020-12-16 08:15:00</td>\n",
       "      <td>Australia/Hobart</td>\n",
       "      <td>York Park</td>\n",
       "      <td>147.138895</td>\n",
       "      <td>-41.425969</td>\n",
       "      <td>11</td>\n",
       "      <td>20</td>\n",
       "      <td>120</td>\n",
       "      <td>36</td>\n",
       "      <td>120</td>\n",
       "      <td>Melbourne Stars</td>\n",
       "      <td>Perth Scorchers</td>\n",
       "      <td>1</td>\n",
       "      <td>Perth Scorchers</td>\n",
       "      <td>Melbourne Stars</td>\n",
       "      <td>Bowl</td>\n",
       "      <td>1.714</td>\n",
       "      <td>2.190</td>\n",
       "      <td>NaN</td>\n",
       "      <td>7</td>\n",
       "      <td>102</td>\n",
       "      <td>0</td>\n",
       "      <td>0</td>\n",
       "      <td>0</td>\n",
       "      <td>5</td>\n",
       "      <td>0</td>\n",
       "      <td>0</td>\n",
       "      <td>10</td>\n",
       "      <td>158</td>\n",
       "      <td>76.0</td>\n",
       "      <td>NaN</td>\n",
       "      <td>1</td>\n",
       "      <td>6</td>\n",
       "      <td>0</td>\n",
       "      <td>6</td>\n",
       "    </tr>\n",
       "  </tbody>\n",
       "</table>\n",
       "</div>"
      ],
      "text/plain": [
       "     Unnamed: 0     id                           series       start_datetime  \\\n",
       "49           50   8364          Big Bash League 2011/12  2012-01-08 07:00:00   \n",
       "116         117   9557          Big Bash League 2013/14  2013-12-22 02:50:00   \n",
       "175         176  12157          Big Bash League 2016/17  2017-01-01 07:10:00   \n",
       "270         271  14271      KFC Big Bash League 2018/19  2019-01-08 08:15:00   \n",
       "278         279  14332      KFC Big Bash League 2018/19  2019-01-17 08:15:00   \n",
       "345         346  15797      KFC Big Bash League 2019/20  2020-01-18 08:10:00   \n",
       "377         378  18394  KFC T20 Big Bash League 2020/21  2020-12-16 08:15:00   \n",
       "\n",
       "                timezone                     ground   longitude   latitude  \\\n",
       "49      Australia/Sydney          Stadium Australia  151.063413 -33.847116   \n",
       "116     Australia/Hobart             Bellerive Oval  147.373739 -42.877361   \n",
       "175  Australia/Melbourne   Melbourne Cricket Ground  144.983449 -37.819967   \n",
       "270     Australia/Sydney  Sydney Showground Stadium  151.067879 -33.843277   \n",
       "278   Australia/Brisbane    Brisbane Cricket Ground  153.038085 -27.485838   \n",
       "345     Australia/Sydney  Sydney Showground Stadium  151.067879 -33.843277   \n",
       "377     Australia/Hobart                  York Park  147.138895 -41.425969   \n",
       "\n",
       "     altitude  match_length_overs  match_length_balls  max_balls_team1  \\\n",
       "49         14                  20                 120               96   \n",
       "116        10                  20                 120               48   \n",
       "175        12                  20                 120              120   \n",
       "270        18                  20                 120              120   \n",
       "278        11                  20                 120              120   \n",
       "345        18                  20                 120               96   \n",
       "377        11                  20                 120               36   \n",
       "\n",
       "     max_balls_team2              team1                team2  neutral_venue  \\\n",
       "49                96     Sydney Thunder        Sydney Sixers              0   \n",
       "116               48  Hobart Hurricanes    Adelaide Strikers              0   \n",
       "175              120    Melbourne Stars  Melbourne Renegades              0   \n",
       "270              120     Sydney Thunder        Brisbane Heat              0   \n",
       "278              120      Brisbane Heat       Sydney Thunder              0   \n",
       "345               96     Sydney Thunder        Sydney Sixers              0   \n",
       "377              120    Melbourne Stars      Perth Scorchers              1   \n",
       "\n",
       "           first_innings        toss_winner toss_choice  dbMktPriceTeam1  \\\n",
       "49         Sydney Sixers      Sydney Sixers         Bat            2.010   \n",
       "116    Adelaide Strikers  Hobart Hurricanes        Bowl            1.699   \n",
       "175  Melbourne Renegades    Melbourne Stars        Bowl            1.625   \n",
       "270        Brisbane Heat     Sydney Thunder        Bowl            1.694   \n",
       "278       Sydney Thunder     Sydney Thunder         Bat            1.602   \n",
       "345        Sydney Sixers     Sydney Thunder        Bowl            1.833   \n",
       "377      Perth Scorchers    Melbourne Stars        Bowl            1.714   \n",
       "\n",
       "     dbMktPriceTeam2               victor  balls_team1  balls_team2  \\\n",
       "49             1.952        Sydney Sixers           33           96   \n",
       "116            2.290                  NaN            0           36   \n",
       "175            2.440  Melbourne Renegades          108          120   \n",
       "270            2.230        Brisbane Heat           33          120   \n",
       "278            2.410                  NaN           18          120   \n",
       "345            2.030       Sydney Thunder           33           95   \n",
       "377            2.190                  NaN            7          102   \n",
       "\n",
       "     byes_team1  byes_team2  leg_byes_team1  leg_byes_team2  no_balls_team1  \\\n",
       "49            0           2               1               1               1   \n",
       "116           0           0               0               4               0   \n",
       "175           0           1               0               3               3   \n",
       "270           0           0               0               1               0   \n",
       "278           0           0               1               4               0   \n",
       "345           0           0               0               1               1   \n",
       "377           0           0               0               5               0   \n",
       "\n",
       "     no_balls_team2  runs_team1  runs_team2  target_team1  target_team2  \\\n",
       "49                1          29         117         118.0           NaN   \n",
       "116               0           0          87          88.0           NaN   \n",
       "175               0         151         171         172.0           NaN   \n",
       "270               2          34         186         187.0           NaN   \n",
       "278               3          10         186         187.0           NaN   \n",
       "345               0          28          76          75.0           NaN   \n",
       "377               0          10         158          76.0           NaN   \n",
       "\n",
       "     wickets_team1  wickets_team2  wides_team1  wides_team2  \n",
       "49               4              7            1            3  \n",
       "116              0              1            0            2  \n",
       "175              9              4            6            3  \n",
       "270              2              8            0            5  \n",
       "278              2              4            1            3  \n",
       "345              2             10            1            4  \n",
       "377              1              6            0            6  "
      ]
     },
     "execution_count": 9,
     "metadata": {},
     "output_type": "execute_result"
    }
   ],
   "source": [
    "# Team 1\n",
    "df = rdata.loc[rdata['balls_team1'] < rdata['max_balls_team1']]\n",
    "df2 = df.loc[df['wickets_team1'] != 10]\n",
    "df3 = df2.loc[df2['runs_team1'] < df2['target_team1']]\n",
    "df3     # 7 instances"
   ]
  },
  {
   "cell_type": "code",
   "execution_count": 10,
   "id": "6b69dfd4",
   "metadata": {
    "ExecuteTime": {
     "end_time": "2022-08-08T05:34:25.576350Z",
     "start_time": "2022-08-08T05:34:25.545343Z"
    },
    "hidden": true
   },
   "outputs": [
    {
     "data": {
      "text/html": [
       "<div>\n",
       "<style scoped>\n",
       "    .dataframe tbody tr th:only-of-type {\n",
       "        vertical-align: middle;\n",
       "    }\n",
       "\n",
       "    .dataframe tbody tr th {\n",
       "        vertical-align: top;\n",
       "    }\n",
       "\n",
       "    .dataframe thead th {\n",
       "        text-align: right;\n",
       "    }\n",
       "</style>\n",
       "<table border=\"1\" class=\"dataframe\">\n",
       "  <thead>\n",
       "    <tr style=\"text-align: right;\">\n",
       "      <th></th>\n",
       "      <th>Unnamed: 0</th>\n",
       "      <th>id</th>\n",
       "      <th>series</th>\n",
       "      <th>start_datetime</th>\n",
       "      <th>timezone</th>\n",
       "      <th>ground</th>\n",
       "      <th>longitude</th>\n",
       "      <th>latitude</th>\n",
       "      <th>altitude</th>\n",
       "      <th>match_length_overs</th>\n",
       "      <th>match_length_balls</th>\n",
       "      <th>max_balls_team1</th>\n",
       "      <th>max_balls_team2</th>\n",
       "      <th>team1</th>\n",
       "      <th>team2</th>\n",
       "      <th>neutral_venue</th>\n",
       "      <th>first_innings</th>\n",
       "      <th>toss_winner</th>\n",
       "      <th>toss_choice</th>\n",
       "      <th>dbMktPriceTeam1</th>\n",
       "      <th>dbMktPriceTeam2</th>\n",
       "      <th>victor</th>\n",
       "      <th>balls_team1</th>\n",
       "      <th>balls_team2</th>\n",
       "      <th>byes_team1</th>\n",
       "      <th>byes_team2</th>\n",
       "      <th>leg_byes_team1</th>\n",
       "      <th>leg_byes_team2</th>\n",
       "      <th>no_balls_team1</th>\n",
       "      <th>no_balls_team2</th>\n",
       "      <th>runs_team1</th>\n",
       "      <th>runs_team2</th>\n",
       "      <th>target_team1</th>\n",
       "      <th>target_team2</th>\n",
       "      <th>wickets_team1</th>\n",
       "      <th>wickets_team2</th>\n",
       "      <th>wides_team1</th>\n",
       "      <th>wides_team2</th>\n",
       "    </tr>\n",
       "  </thead>\n",
       "  <tbody>\n",
       "    <tr>\n",
       "      <th>31</th>\n",
       "      <td>32</td>\n",
       "      <td>6752</td>\n",
       "      <td>Big Bash League 2014/15</td>\n",
       "      <td>2015-01-12 08:40:00</td>\n",
       "      <td>Australia/Adelaide</td>\n",
       "      <td>Adelaide Oval</td>\n",
       "      <td>138.596111</td>\n",
       "      <td>-34.915556</td>\n",
       "      <td>19</td>\n",
       "      <td>20</td>\n",
       "      <td>120</td>\n",
       "      <td>60</td>\n",
       "      <td>60</td>\n",
       "      <td>Adelaide Strikers</td>\n",
       "      <td>Sydney Thunder</td>\n",
       "      <td>0</td>\n",
       "      <td>Adelaide Strikers</td>\n",
       "      <td>Sydney Thunder</td>\n",
       "      <td>Bowl</td>\n",
       "      <td>1.633</td>\n",
       "      <td>2.430</td>\n",
       "      <td>NaN</td>\n",
       "      <td>60</td>\n",
       "      <td>6</td>\n",
       "      <td>0</td>\n",
       "      <td>4</td>\n",
       "      <td>2</td>\n",
       "      <td>0</td>\n",
       "      <td>0</td>\n",
       "      <td>0</td>\n",
       "      <td>119</td>\n",
       "      <td>18</td>\n",
       "      <td>NaN</td>\n",
       "      <td>120.0</td>\n",
       "      <td>5</td>\n",
       "      <td>0</td>\n",
       "      <td>2</td>\n",
       "      <td>0</td>\n",
       "    </tr>\n",
       "    <tr>\n",
       "      <th>52</th>\n",
       "      <td>53</td>\n",
       "      <td>8367</td>\n",
       "      <td>Big Bash League 2011/12</td>\n",
       "      <td>2012-01-07 08:00:00</td>\n",
       "      <td>Australia/Melbourne</td>\n",
       "      <td>Melbourne Cricket Ground</td>\n",
       "      <td>144.983449</td>\n",
       "      <td>-37.819967</td>\n",
       "      <td>12</td>\n",
       "      <td>20</td>\n",
       "      <td>120</td>\n",
       "      <td>120</td>\n",
       "      <td>114</td>\n",
       "      <td>Melbourne Stars</td>\n",
       "      <td>Melbourne Renegades</td>\n",
       "      <td>0</td>\n",
       "      <td>Melbourne Stars</td>\n",
       "      <td>Melbourne Stars</td>\n",
       "      <td>Bat</td>\n",
       "      <td>2.090</td>\n",
       "      <td>1.885</td>\n",
       "      <td>Melbourne Stars</td>\n",
       "      <td>120</td>\n",
       "      <td>49</td>\n",
       "      <td>1</td>\n",
       "      <td>4</td>\n",
       "      <td>1</td>\n",
       "      <td>6</td>\n",
       "      <td>3</td>\n",
       "      <td>1</td>\n",
       "      <td>167</td>\n",
       "      <td>58</td>\n",
       "      <td>NaN</td>\n",
       "      <td>162.0</td>\n",
       "      <td>5</td>\n",
       "      <td>3</td>\n",
       "      <td>5</td>\n",
       "      <td>1</td>\n",
       "    </tr>\n",
       "    <tr>\n",
       "      <th>92</th>\n",
       "      <td>93</td>\n",
       "      <td>8759</td>\n",
       "      <td>Big Bash League 2012/13</td>\n",
       "      <td>2012-12-12 09:00:00</td>\n",
       "      <td>Australia/Perth</td>\n",
       "      <td>W.A.C.A. Ground</td>\n",
       "      <td>115.879576</td>\n",
       "      <td>-31.959793</td>\n",
       "      <td>7</td>\n",
       "      <td>20</td>\n",
       "      <td>120</td>\n",
       "      <td>120</td>\n",
       "      <td>120</td>\n",
       "      <td>Perth Scorchers</td>\n",
       "      <td>Melbourne Stars</td>\n",
       "      <td>0</td>\n",
       "      <td>Perth Scorchers</td>\n",
       "      <td>Melbourne Stars</td>\n",
       "      <td>Bowl</td>\n",
       "      <td>2.680</td>\n",
       "      <td>1.535</td>\n",
       "      <td>Melbourne Stars</td>\n",
       "      <td>92</td>\n",
       "      <td>12</td>\n",
       "      <td>0</td>\n",
       "      <td>0</td>\n",
       "      <td>2</td>\n",
       "      <td>0</td>\n",
       "      <td>0</td>\n",
       "      <td>0</td>\n",
       "      <td>69</td>\n",
       "      <td>29</td>\n",
       "      <td>NaN</td>\n",
       "      <td>70.0</td>\n",
       "      <td>10</td>\n",
       "      <td>0</td>\n",
       "      <td>9</td>\n",
       "      <td>5</td>\n",
       "    </tr>\n",
       "    <tr>\n",
       "      <th>321</th>\n",
       "      <td>322</td>\n",
       "      <td>15773</td>\n",
       "      <td>KFC Big Bash League 2019/20</td>\n",
       "      <td>2019-12-30 08:10:00</td>\n",
       "      <td>Australia/Hobart</td>\n",
       "      <td>York Park</td>\n",
       "      <td>147.138895</td>\n",
       "      <td>-41.425969</td>\n",
       "      <td>11</td>\n",
       "      <td>20</td>\n",
       "      <td>120</td>\n",
       "      <td>108</td>\n",
       "      <td>66</td>\n",
       "      <td>Hobart Hurricanes</td>\n",
       "      <td>Melbourne Stars</td>\n",
       "      <td>1</td>\n",
       "      <td>Hobart Hurricanes</td>\n",
       "      <td>Melbourne Stars</td>\n",
       "      <td>Bowl</td>\n",
       "      <td>2.410</td>\n",
       "      <td>1.602</td>\n",
       "      <td>Melbourne Stars</td>\n",
       "      <td>66</td>\n",
       "      <td>45</td>\n",
       "      <td>2</td>\n",
       "      <td>0</td>\n",
       "      <td>1</td>\n",
       "      <td>0</td>\n",
       "      <td>0</td>\n",
       "      <td>0</td>\n",
       "      <td>69</td>\n",
       "      <td>55</td>\n",
       "      <td>NaN</td>\n",
       "      <td>80.0</td>\n",
       "      <td>5</td>\n",
       "      <td>3</td>\n",
       "      <td>2</td>\n",
       "      <td>6</td>\n",
       "    </tr>\n",
       "    <tr>\n",
       "      <th>342</th>\n",
       "      <td>343</td>\n",
       "      <td>15794</td>\n",
       "      <td>KFC Big Bash League 2019/20</td>\n",
       "      <td>2020-01-16 08:10:00</td>\n",
       "      <td>Australia/Sydney</td>\n",
       "      <td>Sydney Cricket Ground</td>\n",
       "      <td>151.224771</td>\n",
       "      <td>-33.891645</td>\n",
       "      <td>30</td>\n",
       "      <td>20</td>\n",
       "      <td>120</td>\n",
       "      <td>120</td>\n",
       "      <td>120</td>\n",
       "      <td>Sydney Sixers</td>\n",
       "      <td>Hobart Hurricanes</td>\n",
       "      <td>0</td>\n",
       "      <td>Sydney Sixers</td>\n",
       "      <td>Hobart Hurricanes</td>\n",
       "      <td>Bowl</td>\n",
       "      <td>1.893</td>\n",
       "      <td>1.962</td>\n",
       "      <td>NaN</td>\n",
       "      <td>40</td>\n",
       "      <td>0</td>\n",
       "      <td>0</td>\n",
       "      <td>0</td>\n",
       "      <td>1</td>\n",
       "      <td>0</td>\n",
       "      <td>0</td>\n",
       "      <td>0</td>\n",
       "      <td>45</td>\n",
       "      <td>0</td>\n",
       "      <td>NaN</td>\n",
       "      <td>46.0</td>\n",
       "      <td>2</td>\n",
       "      <td>0</td>\n",
       "      <td>0</td>\n",
       "      <td>0</td>\n",
       "    </tr>\n",
       "    <tr>\n",
       "      <th>362</th>\n",
       "      <td>363</td>\n",
       "      <td>16376</td>\n",
       "      <td>KFC Big Bash League 2019/20</td>\n",
       "      <td>2019-12-21 07:10:00</td>\n",
       "      <td>Australia/Sydney</td>\n",
       "      <td>Manuka Oval</td>\n",
       "      <td>149.134592</td>\n",
       "      <td>-35.318131</td>\n",
       "      <td>555</td>\n",
       "      <td>20</td>\n",
       "      <td>120</td>\n",
       "      <td>120</td>\n",
       "      <td>120</td>\n",
       "      <td>Adelaide Strikers</td>\n",
       "      <td>Sydney Thunder</td>\n",
       "      <td>1</td>\n",
       "      <td>Adelaide Strikers</td>\n",
       "      <td>Sydney Thunder</td>\n",
       "      <td>Bowl</td>\n",
       "      <td>2.050</td>\n",
       "      <td>1.820</td>\n",
       "      <td>NaN</td>\n",
       "      <td>120</td>\n",
       "      <td>26</td>\n",
       "      <td>0</td>\n",
       "      <td>0</td>\n",
       "      <td>0</td>\n",
       "      <td>0</td>\n",
       "      <td>0</td>\n",
       "      <td>0</td>\n",
       "      <td>161</td>\n",
       "      <td>40</td>\n",
       "      <td>NaN</td>\n",
       "      <td>162.0</td>\n",
       "      <td>5</td>\n",
       "      <td>1</td>\n",
       "      <td>3</td>\n",
       "      <td>2</td>\n",
       "    </tr>\n",
       "  </tbody>\n",
       "</table>\n",
       "</div>"
      ],
      "text/plain": [
       "     Unnamed: 0     id                       series       start_datetime  \\\n",
       "31           32   6752      Big Bash League 2014/15  2015-01-12 08:40:00   \n",
       "52           53   8367      Big Bash League 2011/12  2012-01-07 08:00:00   \n",
       "92           93   8759      Big Bash League 2012/13  2012-12-12 09:00:00   \n",
       "321         322  15773  KFC Big Bash League 2019/20  2019-12-30 08:10:00   \n",
       "342         343  15794  KFC Big Bash League 2019/20  2020-01-16 08:10:00   \n",
       "362         363  16376  KFC Big Bash League 2019/20  2019-12-21 07:10:00   \n",
       "\n",
       "                timezone                    ground   longitude   latitude  \\\n",
       "31    Australia/Adelaide             Adelaide Oval  138.596111 -34.915556   \n",
       "52   Australia/Melbourne  Melbourne Cricket Ground  144.983449 -37.819967   \n",
       "92       Australia/Perth           W.A.C.A. Ground  115.879576 -31.959793   \n",
       "321     Australia/Hobart                 York Park  147.138895 -41.425969   \n",
       "342     Australia/Sydney     Sydney Cricket Ground  151.224771 -33.891645   \n",
       "362     Australia/Sydney               Manuka Oval  149.134592 -35.318131   \n",
       "\n",
       "     altitude  match_length_overs  match_length_balls  max_balls_team1  \\\n",
       "31         19                  20                 120               60   \n",
       "52         12                  20                 120              120   \n",
       "92          7                  20                 120              120   \n",
       "321        11                  20                 120              108   \n",
       "342        30                  20                 120              120   \n",
       "362       555                  20                 120              120   \n",
       "\n",
       "     max_balls_team2              team1                team2  neutral_venue  \\\n",
       "31                60  Adelaide Strikers       Sydney Thunder              0   \n",
       "52               114    Melbourne Stars  Melbourne Renegades              0   \n",
       "92               120    Perth Scorchers      Melbourne Stars              0   \n",
       "321               66  Hobart Hurricanes      Melbourne Stars              1   \n",
       "342              120      Sydney Sixers    Hobart Hurricanes              0   \n",
       "362              120  Adelaide Strikers       Sydney Thunder              1   \n",
       "\n",
       "         first_innings        toss_winner toss_choice  dbMktPriceTeam1  \\\n",
       "31   Adelaide Strikers     Sydney Thunder        Bowl            1.633   \n",
       "52     Melbourne Stars    Melbourne Stars         Bat            2.090   \n",
       "92     Perth Scorchers    Melbourne Stars        Bowl            2.680   \n",
       "321  Hobart Hurricanes    Melbourne Stars        Bowl            2.410   \n",
       "342      Sydney Sixers  Hobart Hurricanes        Bowl            1.893   \n",
       "362  Adelaide Strikers     Sydney Thunder        Bowl            2.050   \n",
       "\n",
       "     dbMktPriceTeam2           victor  balls_team1  balls_team2  byes_team1  \\\n",
       "31             2.430              NaN           60            6           0   \n",
       "52             1.885  Melbourne Stars          120           49           1   \n",
       "92             1.535  Melbourne Stars           92           12           0   \n",
       "321            1.602  Melbourne Stars           66           45           2   \n",
       "342            1.962              NaN           40            0           0   \n",
       "362            1.820              NaN          120           26           0   \n",
       "\n",
       "     byes_team2  leg_byes_team1  leg_byes_team2  no_balls_team1  \\\n",
       "31            4               2               0               0   \n",
       "52            4               1               6               3   \n",
       "92            0               2               0               0   \n",
       "321           0               1               0               0   \n",
       "342           0               1               0               0   \n",
       "362           0               0               0               0   \n",
       "\n",
       "     no_balls_team2  runs_team1  runs_team2  target_team1  target_team2  \\\n",
       "31                0         119          18           NaN         120.0   \n",
       "52                1         167          58           NaN         162.0   \n",
       "92                0          69          29           NaN          70.0   \n",
       "321               0          69          55           NaN          80.0   \n",
       "342               0          45           0           NaN          46.0   \n",
       "362               0         161          40           NaN         162.0   \n",
       "\n",
       "     wickets_team1  wickets_team2  wides_team1  wides_team2  \n",
       "31               5              0            2            0  \n",
       "52               5              3            5            1  \n",
       "92              10              0            9            5  \n",
       "321              5              3            2            6  \n",
       "342              2              0            0            0  \n",
       "362              5              1            3            2  "
      ]
     },
     "execution_count": 10,
     "metadata": {},
     "output_type": "execute_result"
    }
   ],
   "source": [
    "# Team 2\n",
    "df = rdata.loc[rdata['balls_team2'] < rdata['max_balls_team2']]\n",
    "df2 = df.loc[df['wickets_team2'] != 10]\n",
    "df3 = df2.loc[df2['runs_team2'] < df2['target_team2']]\n",
    "df3     # 6 instances"
   ]
  },
  {
   "cell_type": "markdown",
   "id": "9486b9af",
   "metadata": {
    "hidden": true
   },
   "source": [
    "**runs_team2 < target_team2, but team2 won the game**\n",
    "- When the ultimate target was newly set as lower than the target_team2, team2 can win the game even though runs do not reach the target\n",
    "- This is the subset of the curtailed games"
   ]
  },
  {
   "cell_type": "code",
   "execution_count": 11,
   "id": "8693af25",
   "metadata": {
    "ExecuteTime": {
     "end_time": "2022-08-08T05:34:25.592354Z",
     "start_time": "2022-08-08T05:34:25.578352Z"
    },
    "hidden": true
   },
   "outputs": [
    {
     "data": {
      "text/html": [
       "<div>\n",
       "<style scoped>\n",
       "    .dataframe tbody tr th:only-of-type {\n",
       "        vertical-align: middle;\n",
       "    }\n",
       "\n",
       "    .dataframe tbody tr th {\n",
       "        vertical-align: top;\n",
       "    }\n",
       "\n",
       "    .dataframe thead th {\n",
       "        text-align: right;\n",
       "    }\n",
       "</style>\n",
       "<table border=\"1\" class=\"dataframe\">\n",
       "  <thead>\n",
       "    <tr style=\"text-align: right;\">\n",
       "      <th></th>\n",
       "      <th>max_balls_team1</th>\n",
       "      <th>max_balls_team2</th>\n",
       "      <th>balls_team1</th>\n",
       "      <th>balls_team2</th>\n",
       "      <th>runs_team1</th>\n",
       "      <th>runs_team2</th>\n",
       "      <th>target_team1</th>\n",
       "      <th>target_team2</th>\n",
       "      <th>wickets_team1</th>\n",
       "      <th>wickets_team2</th>\n",
       "    </tr>\n",
       "  </thead>\n",
       "  <tbody>\n",
       "    <tr>\n",
       "      <th>92</th>\n",
       "      <td>120</td>\n",
       "      <td>120</td>\n",
       "      <td>92</td>\n",
       "      <td>12</td>\n",
       "      <td>69</td>\n",
       "      <td>29</td>\n",
       "      <td>NaN</td>\n",
       "      <td>70.0</td>\n",
       "      <td>10</td>\n",
       "      <td>0</td>\n",
       "    </tr>\n",
       "    <tr>\n",
       "      <th>321</th>\n",
       "      <td>108</td>\n",
       "      <td>66</td>\n",
       "      <td>66</td>\n",
       "      <td>45</td>\n",
       "      <td>69</td>\n",
       "      <td>55</td>\n",
       "      <td>NaN</td>\n",
       "      <td>80.0</td>\n",
       "      <td>5</td>\n",
       "      <td>3</td>\n",
       "    </tr>\n",
       "  </tbody>\n",
       "</table>\n",
       "</div>"
      ],
      "text/plain": [
       "     max_balls_team1  max_balls_team2  balls_team1  balls_team2  runs_team1  \\\n",
       "92               120              120           92           12          69   \n",
       "321              108               66           66           45          69   \n",
       "\n",
       "     runs_team2  target_team1  target_team2  wickets_team1  wickets_team2  \n",
       "92           29           NaN          70.0             10              0  \n",
       "321          55           NaN          80.0              5              3  "
      ]
     },
     "execution_count": 11,
     "metadata": {},
     "output_type": "execute_result"
    }
   ],
   "source": [
    "df = rdata[rdata['runs_team2'] < rdata['target_team2']]\n",
    "df.loc[df['team2'] == df['victor'], cols]"
   ]
  },
  {
   "cell_type": "markdown",
   "id": "a7415abe",
   "metadata": {
    "hidden": true
   },
   "source": [
    "**runs_team1 < target_team1, but team1 won the game**"
   ]
  },
  {
   "cell_type": "code",
   "execution_count": 12,
   "id": "ee6f0467",
   "metadata": {
    "ExecuteTime": {
     "end_time": "2022-08-08T05:34:25.608358Z",
     "start_time": "2022-08-08T05:34:25.593354Z"
    },
    "hidden": true,
    "scrolled": true
   },
   "outputs": [
    {
     "data": {
      "text/html": [
       "<div>\n",
       "<style scoped>\n",
       "    .dataframe tbody tr th:only-of-type {\n",
       "        vertical-align: middle;\n",
       "    }\n",
       "\n",
       "    .dataframe tbody tr th {\n",
       "        vertical-align: top;\n",
       "    }\n",
       "\n",
       "    .dataframe thead th {\n",
       "        text-align: right;\n",
       "    }\n",
       "</style>\n",
       "<table border=\"1\" class=\"dataframe\">\n",
       "  <thead>\n",
       "    <tr style=\"text-align: right;\">\n",
       "      <th></th>\n",
       "      <th>max_balls_team1</th>\n",
       "      <th>max_balls_team2</th>\n",
       "      <th>balls_team1</th>\n",
       "      <th>balls_team2</th>\n",
       "      <th>runs_team1</th>\n",
       "      <th>runs_team2</th>\n",
       "      <th>target_team1</th>\n",
       "      <th>target_team2</th>\n",
       "      <th>wickets_team1</th>\n",
       "      <th>wickets_team2</th>\n",
       "    </tr>\n",
       "  </thead>\n",
       "  <tbody>\n",
       "    <tr>\n",
       "      <th>345</th>\n",
       "      <td>96</td>\n",
       "      <td>96</td>\n",
       "      <td>33</td>\n",
       "      <td>95</td>\n",
       "      <td>28</td>\n",
       "      <td>76</td>\n",
       "      <td>75.0</td>\n",
       "      <td>NaN</td>\n",
       "      <td>2</td>\n",
       "      <td>10</td>\n",
       "    </tr>\n",
       "  </tbody>\n",
       "</table>\n",
       "</div>"
      ],
      "text/plain": [
       "     max_balls_team1  max_balls_team2  balls_team1  balls_team2  runs_team1  \\\n",
       "345               96               96           33           95          28   \n",
       "\n",
       "     runs_team2  target_team1  target_team2  wickets_team1  wickets_team2  \n",
       "345          76          75.0           NaN              2             10  "
      ]
     },
     "execution_count": 12,
     "metadata": {},
     "output_type": "execute_result"
    }
   ],
   "source": [
    "df = rdata[rdata['runs_team1'] < rdata['target_team1']]\n",
    "df.loc[df['team1'] == df['victor'], cols]"
   ]
  },
  {
   "cell_type": "markdown",
   "id": "86e4f06a",
   "metadata": {},
   "source": [
    "# Preprocessing"
   ]
  },
  {
   "cell_type": "markdown",
   "id": "c5a60055",
   "metadata": {},
   "source": [
    "## General preprocessing"
   ]
  },
  {
   "cell_type": "code",
   "execution_count": 13,
   "id": "29c33835",
   "metadata": {
    "ExecuteTime": {
     "end_time": "2022-08-08T05:34:25.624361Z",
     "start_time": "2022-08-08T05:34:25.609358Z"
    }
   },
   "outputs": [
    {
     "data": {
      "text/html": [
       "<div>\n",
       "<style scoped>\n",
       "    .dataframe tbody tr th:only-of-type {\n",
       "        vertical-align: middle;\n",
       "    }\n",
       "\n",
       "    .dataframe tbody tr th {\n",
       "        vertical-align: top;\n",
       "    }\n",
       "\n",
       "    .dataframe thead th {\n",
       "        text-align: right;\n",
       "    }\n",
       "</style>\n",
       "<table border=\"1\" class=\"dataframe\">\n",
       "  <thead>\n",
       "    <tr style=\"text-align: right;\">\n",
       "      <th></th>\n",
       "      <th>start_datetime</th>\n",
       "      <th>max_balls_team1</th>\n",
       "      <th>max_balls_team2</th>\n",
       "      <th>team1</th>\n",
       "      <th>team2</th>\n",
       "      <th>neutral_venue</th>\n",
       "      <th>first_innings</th>\n",
       "      <th>toss_winner</th>\n",
       "      <th>dbMktPriceTeam1</th>\n",
       "      <th>dbMktPriceTeam2</th>\n",
       "      <th>victor</th>\n",
       "      <th>balls_team1</th>\n",
       "      <th>balls_team2</th>\n",
       "      <th>byes_team1</th>\n",
       "      <th>byes_team2</th>\n",
       "      <th>leg_byes_team1</th>\n",
       "      <th>leg_byes_team2</th>\n",
       "      <th>no_balls_team1</th>\n",
       "      <th>no_balls_team2</th>\n",
       "      <th>runs_team1</th>\n",
       "      <th>runs_team2</th>\n",
       "      <th>target_team1</th>\n",
       "      <th>target_team2</th>\n",
       "      <th>wickets_team1</th>\n",
       "      <th>wickets_team2</th>\n",
       "      <th>wides_team1</th>\n",
       "      <th>wides_team2</th>\n",
       "    </tr>\n",
       "  </thead>\n",
       "  <tbody>\n",
       "    <tr>\n",
       "      <th>0</th>\n",
       "      <td>2015-01-28 08:40:00</td>\n",
       "      <td>120</td>\n",
       "      <td>120</td>\n",
       "      <td>Perth Scorchers</td>\n",
       "      <td>Sydney Sixers</td>\n",
       "      <td>1</td>\n",
       "      <td>Sydney Sixers</td>\n",
       "      <td>Sydney Sixers</td>\n",
       "      <td>1.893</td>\n",
       "      <td>2.02</td>\n",
       "      <td>Perth Scorchers</td>\n",
       "      <td>120</td>\n",
       "      <td>120</td>\n",
       "      <td>0</td>\n",
       "      <td>0</td>\n",
       "      <td>2</td>\n",
       "      <td>3</td>\n",
       "      <td>2</td>\n",
       "      <td>0</td>\n",
       "      <td>148</td>\n",
       "      <td>147</td>\n",
       "      <td>148.0</td>\n",
       "      <td>NaN</td>\n",
       "      <td>6</td>\n",
       "      <td>5</td>\n",
       "      <td>1</td>\n",
       "      <td>5</td>\n",
       "    </tr>\n",
       "    <tr>\n",
       "      <th>1</th>\n",
       "      <td>2014-12-18 08:40:00</td>\n",
       "      <td>120</td>\n",
       "      <td>120</td>\n",
       "      <td>Adelaide Strikers</td>\n",
       "      <td>Melbourne Stars</td>\n",
       "      <td>0</td>\n",
       "      <td>Melbourne Stars</td>\n",
       "      <td>Melbourne Stars</td>\n",
       "      <td>NaN</td>\n",
       "      <td>NaN</td>\n",
       "      <td>Adelaide Strikers</td>\n",
       "      <td>75</td>\n",
       "      <td>120</td>\n",
       "      <td>1</td>\n",
       "      <td>0</td>\n",
       "      <td>2</td>\n",
       "      <td>1</td>\n",
       "      <td>0</td>\n",
       "      <td>0</td>\n",
       "      <td>149</td>\n",
       "      <td>148</td>\n",
       "      <td>149.0</td>\n",
       "      <td>NaN</td>\n",
       "      <td>2</td>\n",
       "      <td>7</td>\n",
       "      <td>1</td>\n",
       "      <td>4</td>\n",
       "    </tr>\n",
       "    <tr>\n",
       "      <th>2</th>\n",
       "      <td>2014-12-19 08:40:00</td>\n",
       "      <td>120</td>\n",
       "      <td>120</td>\n",
       "      <td>Sydney Sixers</td>\n",
       "      <td>Melbourne Renegades</td>\n",
       "      <td>0</td>\n",
       "      <td>Melbourne Renegades</td>\n",
       "      <td>Sydney Sixers</td>\n",
       "      <td>NaN</td>\n",
       "      <td>NaN</td>\n",
       "      <td>Sydney Sixers</td>\n",
       "      <td>113</td>\n",
       "      <td>120</td>\n",
       "      <td>0</td>\n",
       "      <td>0</td>\n",
       "      <td>4</td>\n",
       "      <td>1</td>\n",
       "      <td>0</td>\n",
       "      <td>0</td>\n",
       "      <td>158</td>\n",
       "      <td>154</td>\n",
       "      <td>155.0</td>\n",
       "      <td>NaN</td>\n",
       "      <td>2</td>\n",
       "      <td>7</td>\n",
       "      <td>2</td>\n",
       "      <td>6</td>\n",
       "    </tr>\n",
       "    <tr>\n",
       "      <th>3</th>\n",
       "      <td>2014-12-20 08:10:00</td>\n",
       "      <td>120</td>\n",
       "      <td>120</td>\n",
       "      <td>Melbourne Stars</td>\n",
       "      <td>Hobart Hurricanes</td>\n",
       "      <td>0</td>\n",
       "      <td>Hobart Hurricanes</td>\n",
       "      <td>Melbourne Stars</td>\n",
       "      <td>NaN</td>\n",
       "      <td>NaN</td>\n",
       "      <td>Hobart Hurricanes</td>\n",
       "      <td>120</td>\n",
       "      <td>120</td>\n",
       "      <td>0</td>\n",
       "      <td>0</td>\n",
       "      <td>2</td>\n",
       "      <td>1</td>\n",
       "      <td>0</td>\n",
       "      <td>3</td>\n",
       "      <td>138</td>\n",
       "      <td>190</td>\n",
       "      <td>191.0</td>\n",
       "      <td>NaN</td>\n",
       "      <td>9</td>\n",
       "      <td>5</td>\n",
       "      <td>1</td>\n",
       "      <td>2</td>\n",
       "    </tr>\n",
       "    <tr>\n",
       "      <th>4</th>\n",
       "      <td>2015-01-25 08:10:00</td>\n",
       "      <td>120</td>\n",
       "      <td>120</td>\n",
       "      <td>Perth Scorchers</td>\n",
       "      <td>Melbourne Stars</td>\n",
       "      <td>0</td>\n",
       "      <td>Perth Scorchers</td>\n",
       "      <td>Perth Scorchers</td>\n",
       "      <td>1.775</td>\n",
       "      <td>2.17</td>\n",
       "      <td>Perth Scorchers</td>\n",
       "      <td>120</td>\n",
       "      <td>119</td>\n",
       "      <td>0</td>\n",
       "      <td>0</td>\n",
       "      <td>2</td>\n",
       "      <td>4</td>\n",
       "      <td>0</td>\n",
       "      <td>0</td>\n",
       "      <td>144</td>\n",
       "      <td>126</td>\n",
       "      <td>NaN</td>\n",
       "      <td>145.0</td>\n",
       "      <td>7</td>\n",
       "      <td>10</td>\n",
       "      <td>3</td>\n",
       "      <td>4</td>\n",
       "    </tr>\n",
       "  </tbody>\n",
       "</table>\n",
       "</div>"
      ],
      "text/plain": [
       "        start_datetime  max_balls_team1  max_balls_team2              team1  \\\n",
       "0  2015-01-28 08:40:00              120              120    Perth Scorchers   \n",
       "1  2014-12-18 08:40:00              120              120  Adelaide Strikers   \n",
       "2  2014-12-19 08:40:00              120              120      Sydney Sixers   \n",
       "3  2014-12-20 08:10:00              120              120    Melbourne Stars   \n",
       "4  2015-01-25 08:10:00              120              120    Perth Scorchers   \n",
       "\n",
       "                 team2  neutral_venue        first_innings      toss_winner  \\\n",
       "0        Sydney Sixers              1        Sydney Sixers    Sydney Sixers   \n",
       "1      Melbourne Stars              0      Melbourne Stars  Melbourne Stars   \n",
       "2  Melbourne Renegades              0  Melbourne Renegades    Sydney Sixers   \n",
       "3    Hobart Hurricanes              0    Hobart Hurricanes  Melbourne Stars   \n",
       "4      Melbourne Stars              0      Perth Scorchers  Perth Scorchers   \n",
       "\n",
       "   dbMktPriceTeam1  dbMktPriceTeam2             victor  balls_team1  \\\n",
       "0            1.893             2.02    Perth Scorchers          120   \n",
       "1              NaN              NaN  Adelaide Strikers           75   \n",
       "2              NaN              NaN      Sydney Sixers          113   \n",
       "3              NaN              NaN  Hobart Hurricanes          120   \n",
       "4            1.775             2.17    Perth Scorchers          120   \n",
       "\n",
       "   balls_team2  byes_team1  byes_team2  leg_byes_team1  leg_byes_team2  \\\n",
       "0          120           0           0               2               3   \n",
       "1          120           1           0               2               1   \n",
       "2          120           0           0               4               1   \n",
       "3          120           0           0               2               1   \n",
       "4          119           0           0               2               4   \n",
       "\n",
       "   no_balls_team1  no_balls_team2  runs_team1  runs_team2  target_team1  \\\n",
       "0               2               0         148         147         148.0   \n",
       "1               0               0         149         148         149.0   \n",
       "2               0               0         158         154         155.0   \n",
       "3               0               3         138         190         191.0   \n",
       "4               0               0         144         126           NaN   \n",
       "\n",
       "   target_team2  wickets_team1  wickets_team2  wides_team1  wides_team2  \n",
       "0           NaN              6              5            1            5  \n",
       "1           NaN              2              7            1            4  \n",
       "2           NaN              2              7            2            6  \n",
       "3           NaN              9              5            1            2  \n",
       "4         145.0              7             10            3            4  "
      ]
     },
     "execution_count": 13,
     "metadata": {},
     "output_type": "execute_result"
    }
   ],
   "source": [
    "# 1. Drop unnecessary columns\n",
    "rdata = rdata.drop(['Unnamed: 0', 'id', 'series', 'timezone', 'ground', 'longitude', 'latitude', 'altitude', 'match_length_overs', 'match_length_balls', 'toss_choice'], axis=1)\n",
    "rdata.head()"
   ]
  },
  {
   "cell_type": "code",
   "execution_count": 14,
   "id": "b309c58c",
   "metadata": {
    "ExecuteTime": {
     "end_time": "2022-08-08T05:34:25.656391Z",
     "start_time": "2022-08-08T05:34:25.625361Z"
    }
   },
   "outputs": [
    {
     "data": {
      "text/html": [
       "<div>\n",
       "<style scoped>\n",
       "    .dataframe tbody tr th:only-of-type {\n",
       "        vertical-align: middle;\n",
       "    }\n",
       "\n",
       "    .dataframe tbody tr th {\n",
       "        vertical-align: top;\n",
       "    }\n",
       "\n",
       "    .dataframe thead th {\n",
       "        text-align: right;\n",
       "    }\n",
       "</style>\n",
       "<table border=\"1\" class=\"dataframe\">\n",
       "  <thead>\n",
       "    <tr style=\"text-align: right;\">\n",
       "      <th></th>\n",
       "      <th>start_datetime</th>\n",
       "      <th>max_balls_team1</th>\n",
       "      <th>max_balls_team2</th>\n",
       "      <th>team1</th>\n",
       "      <th>team2</th>\n",
       "      <th>neutral_venue</th>\n",
       "      <th>first_innings</th>\n",
       "      <th>toss_winner</th>\n",
       "      <th>dbMktPriceTeam1</th>\n",
       "      <th>dbMktPriceTeam2</th>\n",
       "      <th>victor</th>\n",
       "      <th>balls_team1</th>\n",
       "      <th>balls_team2</th>\n",
       "      <th>byes_team1</th>\n",
       "      <th>byes_team2</th>\n",
       "      <th>leg_byes_team1</th>\n",
       "      <th>leg_byes_team2</th>\n",
       "      <th>no_balls_team1</th>\n",
       "      <th>no_balls_team2</th>\n",
       "      <th>runs_team1</th>\n",
       "      <th>runs_team2</th>\n",
       "      <th>target_team1</th>\n",
       "      <th>target_team2</th>\n",
       "      <th>wickets_team1</th>\n",
       "      <th>wickets_team2</th>\n",
       "      <th>wides_team1</th>\n",
       "      <th>wides_team2</th>\n",
       "      <th>derby</th>\n",
       "    </tr>\n",
       "  </thead>\n",
       "  <tbody>\n",
       "    <tr>\n",
       "      <th>0</th>\n",
       "      <td>2015-01-28 08:40:00</td>\n",
       "      <td>120</td>\n",
       "      <td>120</td>\n",
       "      <td>Perth Scorchers</td>\n",
       "      <td>Sydney Sixers</td>\n",
       "      <td>1</td>\n",
       "      <td>Sydney Sixers</td>\n",
       "      <td>Sydney Sixers</td>\n",
       "      <td>1.893</td>\n",
       "      <td>2.02</td>\n",
       "      <td>Perth Scorchers</td>\n",
       "      <td>120</td>\n",
       "      <td>120</td>\n",
       "      <td>0</td>\n",
       "      <td>0</td>\n",
       "      <td>2</td>\n",
       "      <td>3</td>\n",
       "      <td>2</td>\n",
       "      <td>0</td>\n",
       "      <td>148</td>\n",
       "      <td>147</td>\n",
       "      <td>148.0</td>\n",
       "      <td>NaN</td>\n",
       "      <td>6</td>\n",
       "      <td>5</td>\n",
       "      <td>1</td>\n",
       "      <td>5</td>\n",
       "      <td>0</td>\n",
       "    </tr>\n",
       "    <tr>\n",
       "      <th>1</th>\n",
       "      <td>2014-12-18 08:40:00</td>\n",
       "      <td>120</td>\n",
       "      <td>120</td>\n",
       "      <td>Adelaide Strikers</td>\n",
       "      <td>Melbourne Stars</td>\n",
       "      <td>0</td>\n",
       "      <td>Melbourne Stars</td>\n",
       "      <td>Melbourne Stars</td>\n",
       "      <td>NaN</td>\n",
       "      <td>NaN</td>\n",
       "      <td>Adelaide Strikers</td>\n",
       "      <td>75</td>\n",
       "      <td>120</td>\n",
       "      <td>1</td>\n",
       "      <td>0</td>\n",
       "      <td>2</td>\n",
       "      <td>1</td>\n",
       "      <td>0</td>\n",
       "      <td>0</td>\n",
       "      <td>149</td>\n",
       "      <td>148</td>\n",
       "      <td>149.0</td>\n",
       "      <td>NaN</td>\n",
       "      <td>2</td>\n",
       "      <td>7</td>\n",
       "      <td>1</td>\n",
       "      <td>4</td>\n",
       "      <td>0</td>\n",
       "    </tr>\n",
       "    <tr>\n",
       "      <th>2</th>\n",
       "      <td>2014-12-19 08:40:00</td>\n",
       "      <td>120</td>\n",
       "      <td>120</td>\n",
       "      <td>Sydney Sixers</td>\n",
       "      <td>Melbourne Renegades</td>\n",
       "      <td>0</td>\n",
       "      <td>Melbourne Renegades</td>\n",
       "      <td>Sydney Sixers</td>\n",
       "      <td>NaN</td>\n",
       "      <td>NaN</td>\n",
       "      <td>Sydney Sixers</td>\n",
       "      <td>113</td>\n",
       "      <td>120</td>\n",
       "      <td>0</td>\n",
       "      <td>0</td>\n",
       "      <td>4</td>\n",
       "      <td>1</td>\n",
       "      <td>0</td>\n",
       "      <td>0</td>\n",
       "      <td>158</td>\n",
       "      <td>154</td>\n",
       "      <td>155.0</td>\n",
       "      <td>NaN</td>\n",
       "      <td>2</td>\n",
       "      <td>7</td>\n",
       "      <td>2</td>\n",
       "      <td>6</td>\n",
       "      <td>0</td>\n",
       "    </tr>\n",
       "    <tr>\n",
       "      <th>3</th>\n",
       "      <td>2014-12-20 08:10:00</td>\n",
       "      <td>120</td>\n",
       "      <td>120</td>\n",
       "      <td>Melbourne Stars</td>\n",
       "      <td>Hobart Hurricanes</td>\n",
       "      <td>0</td>\n",
       "      <td>Hobart Hurricanes</td>\n",
       "      <td>Melbourne Stars</td>\n",
       "      <td>NaN</td>\n",
       "      <td>NaN</td>\n",
       "      <td>Hobart Hurricanes</td>\n",
       "      <td>120</td>\n",
       "      <td>120</td>\n",
       "      <td>0</td>\n",
       "      <td>0</td>\n",
       "      <td>2</td>\n",
       "      <td>1</td>\n",
       "      <td>0</td>\n",
       "      <td>3</td>\n",
       "      <td>138</td>\n",
       "      <td>190</td>\n",
       "      <td>191.0</td>\n",
       "      <td>NaN</td>\n",
       "      <td>9</td>\n",
       "      <td>5</td>\n",
       "      <td>1</td>\n",
       "      <td>2</td>\n",
       "      <td>0</td>\n",
       "    </tr>\n",
       "    <tr>\n",
       "      <th>4</th>\n",
       "      <td>2015-01-25 08:10:00</td>\n",
       "      <td>120</td>\n",
       "      <td>120</td>\n",
       "      <td>Perth Scorchers</td>\n",
       "      <td>Melbourne Stars</td>\n",
       "      <td>0</td>\n",
       "      <td>Perth Scorchers</td>\n",
       "      <td>Perth Scorchers</td>\n",
       "      <td>1.775</td>\n",
       "      <td>2.17</td>\n",
       "      <td>Perth Scorchers</td>\n",
       "      <td>120</td>\n",
       "      <td>119</td>\n",
       "      <td>0</td>\n",
       "      <td>0</td>\n",
       "      <td>2</td>\n",
       "      <td>4</td>\n",
       "      <td>0</td>\n",
       "      <td>0</td>\n",
       "      <td>144</td>\n",
       "      <td>126</td>\n",
       "      <td>NaN</td>\n",
       "      <td>145.0</td>\n",
       "      <td>7</td>\n",
       "      <td>10</td>\n",
       "      <td>3</td>\n",
       "      <td>4</td>\n",
       "      <td>0</td>\n",
       "    </tr>\n",
       "  </tbody>\n",
       "</table>\n",
       "</div>"
      ],
      "text/plain": [
       "        start_datetime  max_balls_team1  max_balls_team2              team1  \\\n",
       "0  2015-01-28 08:40:00              120              120    Perth Scorchers   \n",
       "1  2014-12-18 08:40:00              120              120  Adelaide Strikers   \n",
       "2  2014-12-19 08:40:00              120              120      Sydney Sixers   \n",
       "3  2014-12-20 08:10:00              120              120    Melbourne Stars   \n",
       "4  2015-01-25 08:10:00              120              120    Perth Scorchers   \n",
       "\n",
       "                 team2  neutral_venue        first_innings      toss_winner  \\\n",
       "0        Sydney Sixers              1        Sydney Sixers    Sydney Sixers   \n",
       "1      Melbourne Stars              0      Melbourne Stars  Melbourne Stars   \n",
       "2  Melbourne Renegades              0  Melbourne Renegades    Sydney Sixers   \n",
       "3    Hobart Hurricanes              0    Hobart Hurricanes  Melbourne Stars   \n",
       "4      Melbourne Stars              0      Perth Scorchers  Perth Scorchers   \n",
       "\n",
       "   dbMktPriceTeam1  dbMktPriceTeam2             victor  balls_team1  \\\n",
       "0            1.893             2.02    Perth Scorchers          120   \n",
       "1              NaN              NaN  Adelaide Strikers           75   \n",
       "2              NaN              NaN      Sydney Sixers          113   \n",
       "3              NaN              NaN  Hobart Hurricanes          120   \n",
       "4            1.775             2.17    Perth Scorchers          120   \n",
       "\n",
       "   balls_team2  byes_team1  byes_team2  leg_byes_team1  leg_byes_team2  \\\n",
       "0          120           0           0               2               3   \n",
       "1          120           1           0               2               1   \n",
       "2          120           0           0               4               1   \n",
       "3          120           0           0               2               1   \n",
       "4          119           0           0               2               4   \n",
       "\n",
       "   no_balls_team1  no_balls_team2  runs_team1  runs_team2  target_team1  \\\n",
       "0               2               0         148         147         148.0   \n",
       "1               0               0         149         148         149.0   \n",
       "2               0               0         158         154         155.0   \n",
       "3               0               3         138         190         191.0   \n",
       "4               0               0         144         126           NaN   \n",
       "\n",
       "   target_team2  wickets_team1  wickets_team2  wides_team1  wides_team2  derby  \n",
       "0           NaN              6              5            1            5      0  \n",
       "1           NaN              2              7            1            4      0  \n",
       "2           NaN              2              7            2            6      0  \n",
       "3           NaN              9              5            1            2      0  \n",
       "4         145.0              7             10            3            4      0  "
      ]
     },
     "execution_count": 14,
     "metadata": {},
     "output_type": "execute_result"
    }
   ],
   "source": [
    "# 2. Add derby column\n",
    "# The way how to choose the city from dataframe and inside apply function is different!\n",
    "rdata['derby'] = rdata.apply(lambda x: 1 if x['team1'].split()[0] == x['team2'].split()[0] else 0, axis=1)\n",
    "rdata.head()"
   ]
  },
  {
   "cell_type": "code",
   "execution_count": 15,
   "id": "b937715d",
   "metadata": {
    "ExecuteTime": {
     "end_time": "2022-08-08T05:34:25.672396Z",
     "start_time": "2022-08-08T05:34:25.657393Z"
    }
   },
   "outputs": [
    {
     "data": {
      "text/html": [
       "<div>\n",
       "<style scoped>\n",
       "    .dataframe tbody tr th:only-of-type {\n",
       "        vertical-align: middle;\n",
       "    }\n",
       "\n",
       "    .dataframe tbody tr th {\n",
       "        vertical-align: top;\n",
       "    }\n",
       "\n",
       "    .dataframe thead th {\n",
       "        text-align: right;\n",
       "    }\n",
       "</style>\n",
       "<table border=\"1\" class=\"dataframe\">\n",
       "  <thead>\n",
       "    <tr style=\"text-align: right;\">\n",
       "      <th></th>\n",
       "      <th>max_balls_team1</th>\n",
       "      <th>max_balls_team2</th>\n",
       "      <th>team1</th>\n",
       "      <th>team2</th>\n",
       "      <th>neutral_venue</th>\n",
       "      <th>first_innings</th>\n",
       "      <th>toss_winner</th>\n",
       "      <th>dbMktPriceTeam1</th>\n",
       "      <th>dbMktPriceTeam2</th>\n",
       "      <th>victor</th>\n",
       "      <th>balls_team1</th>\n",
       "      <th>balls_team2</th>\n",
       "      <th>byes_team1</th>\n",
       "      <th>byes_team2</th>\n",
       "      <th>leg_byes_team1</th>\n",
       "      <th>leg_byes_team2</th>\n",
       "      <th>no_balls_team1</th>\n",
       "      <th>no_balls_team2</th>\n",
       "      <th>runs_team1</th>\n",
       "      <th>runs_team2</th>\n",
       "      <th>target_team1</th>\n",
       "      <th>target_team2</th>\n",
       "      <th>wickets_team1</th>\n",
       "      <th>wickets_team2</th>\n",
       "      <th>wides_team1</th>\n",
       "      <th>wides_team2</th>\n",
       "      <th>derby</th>\n",
       "      <th>start_month</th>\n",
       "    </tr>\n",
       "  </thead>\n",
       "  <tbody>\n",
       "    <tr>\n",
       "      <th>0</th>\n",
       "      <td>120</td>\n",
       "      <td>120</td>\n",
       "      <td>Perth Scorchers</td>\n",
       "      <td>Sydney Sixers</td>\n",
       "      <td>1</td>\n",
       "      <td>Sydney Sixers</td>\n",
       "      <td>Sydney Sixers</td>\n",
       "      <td>1.893</td>\n",
       "      <td>2.02</td>\n",
       "      <td>Perth Scorchers</td>\n",
       "      <td>120</td>\n",
       "      <td>120</td>\n",
       "      <td>0</td>\n",
       "      <td>0</td>\n",
       "      <td>2</td>\n",
       "      <td>3</td>\n",
       "      <td>2</td>\n",
       "      <td>0</td>\n",
       "      <td>148</td>\n",
       "      <td>147</td>\n",
       "      <td>148.0</td>\n",
       "      <td>NaN</td>\n",
       "      <td>6</td>\n",
       "      <td>5</td>\n",
       "      <td>1</td>\n",
       "      <td>5</td>\n",
       "      <td>0</td>\n",
       "      <td>01</td>\n",
       "    </tr>\n",
       "    <tr>\n",
       "      <th>1</th>\n",
       "      <td>120</td>\n",
       "      <td>120</td>\n",
       "      <td>Adelaide Strikers</td>\n",
       "      <td>Melbourne Stars</td>\n",
       "      <td>0</td>\n",
       "      <td>Melbourne Stars</td>\n",
       "      <td>Melbourne Stars</td>\n",
       "      <td>NaN</td>\n",
       "      <td>NaN</td>\n",
       "      <td>Adelaide Strikers</td>\n",
       "      <td>75</td>\n",
       "      <td>120</td>\n",
       "      <td>1</td>\n",
       "      <td>0</td>\n",
       "      <td>2</td>\n",
       "      <td>1</td>\n",
       "      <td>0</td>\n",
       "      <td>0</td>\n",
       "      <td>149</td>\n",
       "      <td>148</td>\n",
       "      <td>149.0</td>\n",
       "      <td>NaN</td>\n",
       "      <td>2</td>\n",
       "      <td>7</td>\n",
       "      <td>1</td>\n",
       "      <td>4</td>\n",
       "      <td>0</td>\n",
       "      <td>12</td>\n",
       "    </tr>\n",
       "    <tr>\n",
       "      <th>2</th>\n",
       "      <td>120</td>\n",
       "      <td>120</td>\n",
       "      <td>Sydney Sixers</td>\n",
       "      <td>Melbourne Renegades</td>\n",
       "      <td>0</td>\n",
       "      <td>Melbourne Renegades</td>\n",
       "      <td>Sydney Sixers</td>\n",
       "      <td>NaN</td>\n",
       "      <td>NaN</td>\n",
       "      <td>Sydney Sixers</td>\n",
       "      <td>113</td>\n",
       "      <td>120</td>\n",
       "      <td>0</td>\n",
       "      <td>0</td>\n",
       "      <td>4</td>\n",
       "      <td>1</td>\n",
       "      <td>0</td>\n",
       "      <td>0</td>\n",
       "      <td>158</td>\n",
       "      <td>154</td>\n",
       "      <td>155.0</td>\n",
       "      <td>NaN</td>\n",
       "      <td>2</td>\n",
       "      <td>7</td>\n",
       "      <td>2</td>\n",
       "      <td>6</td>\n",
       "      <td>0</td>\n",
       "      <td>12</td>\n",
       "    </tr>\n",
       "    <tr>\n",
       "      <th>3</th>\n",
       "      <td>120</td>\n",
       "      <td>120</td>\n",
       "      <td>Melbourne Stars</td>\n",
       "      <td>Hobart Hurricanes</td>\n",
       "      <td>0</td>\n",
       "      <td>Hobart Hurricanes</td>\n",
       "      <td>Melbourne Stars</td>\n",
       "      <td>NaN</td>\n",
       "      <td>NaN</td>\n",
       "      <td>Hobart Hurricanes</td>\n",
       "      <td>120</td>\n",
       "      <td>120</td>\n",
       "      <td>0</td>\n",
       "      <td>0</td>\n",
       "      <td>2</td>\n",
       "      <td>1</td>\n",
       "      <td>0</td>\n",
       "      <td>3</td>\n",
       "      <td>138</td>\n",
       "      <td>190</td>\n",
       "      <td>191.0</td>\n",
       "      <td>NaN</td>\n",
       "      <td>9</td>\n",
       "      <td>5</td>\n",
       "      <td>1</td>\n",
       "      <td>2</td>\n",
       "      <td>0</td>\n",
       "      <td>12</td>\n",
       "    </tr>\n",
       "    <tr>\n",
       "      <th>4</th>\n",
       "      <td>120</td>\n",
       "      <td>120</td>\n",
       "      <td>Perth Scorchers</td>\n",
       "      <td>Melbourne Stars</td>\n",
       "      <td>0</td>\n",
       "      <td>Perth Scorchers</td>\n",
       "      <td>Perth Scorchers</td>\n",
       "      <td>1.775</td>\n",
       "      <td>2.17</td>\n",
       "      <td>Perth Scorchers</td>\n",
       "      <td>120</td>\n",
       "      <td>119</td>\n",
       "      <td>0</td>\n",
       "      <td>0</td>\n",
       "      <td>2</td>\n",
       "      <td>4</td>\n",
       "      <td>0</td>\n",
       "      <td>0</td>\n",
       "      <td>144</td>\n",
       "      <td>126</td>\n",
       "      <td>NaN</td>\n",
       "      <td>145.0</td>\n",
       "      <td>7</td>\n",
       "      <td>10</td>\n",
       "      <td>3</td>\n",
       "      <td>4</td>\n",
       "      <td>0</td>\n",
       "      <td>01</td>\n",
       "    </tr>\n",
       "  </tbody>\n",
       "</table>\n",
       "</div>"
      ],
      "text/plain": [
       "   max_balls_team1  max_balls_team2              team1                team2  \\\n",
       "0              120              120    Perth Scorchers        Sydney Sixers   \n",
       "1              120              120  Adelaide Strikers      Melbourne Stars   \n",
       "2              120              120      Sydney Sixers  Melbourne Renegades   \n",
       "3              120              120    Melbourne Stars    Hobart Hurricanes   \n",
       "4              120              120    Perth Scorchers      Melbourne Stars   \n",
       "\n",
       "   neutral_venue        first_innings      toss_winner  dbMktPriceTeam1  \\\n",
       "0              1        Sydney Sixers    Sydney Sixers            1.893   \n",
       "1              0      Melbourne Stars  Melbourne Stars              NaN   \n",
       "2              0  Melbourne Renegades    Sydney Sixers              NaN   \n",
       "3              0    Hobart Hurricanes  Melbourne Stars              NaN   \n",
       "4              0      Perth Scorchers  Perth Scorchers            1.775   \n",
       "\n",
       "   dbMktPriceTeam2             victor  balls_team1  balls_team2  byes_team1  \\\n",
       "0             2.02    Perth Scorchers          120          120           0   \n",
       "1              NaN  Adelaide Strikers           75          120           1   \n",
       "2              NaN      Sydney Sixers          113          120           0   \n",
       "3              NaN  Hobart Hurricanes          120          120           0   \n",
       "4             2.17    Perth Scorchers          120          119           0   \n",
       "\n",
       "   byes_team2  leg_byes_team1  leg_byes_team2  no_balls_team1  no_balls_team2  \\\n",
       "0           0               2               3               2               0   \n",
       "1           0               2               1               0               0   \n",
       "2           0               4               1               0               0   \n",
       "3           0               2               1               0               3   \n",
       "4           0               2               4               0               0   \n",
       "\n",
       "   runs_team1  runs_team2  target_team1  target_team2  wickets_team1  \\\n",
       "0         148         147         148.0           NaN              6   \n",
       "1         149         148         149.0           NaN              2   \n",
       "2         158         154         155.0           NaN              2   \n",
       "3         138         190         191.0           NaN              9   \n",
       "4         144         126           NaN         145.0              7   \n",
       "\n",
       "   wickets_team2  wides_team1  wides_team2  derby start_month  \n",
       "0              5            1            5      0          01  \n",
       "1              7            1            4      0          12  \n",
       "2              7            2            6      0          12  \n",
       "3              5            1            2      0          12  \n",
       "4             10            3            4      0          01  "
      ]
     },
     "execution_count": 15,
     "metadata": {},
     "output_type": "execute_result"
    }
   ],
   "source": [
    "# 3. Extract month of start_datetime\n",
    "rdata['start_month'] = rdata['start_datetime'].str.split('-').str[1]\n",
    "rdata = rdata.drop('start_datetime', axis=1)\n",
    "rdata.head()"
   ]
  },
  {
   "cell_type": "code",
   "execution_count": 16,
   "id": "ddc1ad35",
   "metadata": {
    "ExecuteTime": {
     "end_time": "2022-08-08T05:34:25.688400Z",
     "start_time": "2022-08-08T05:34:25.673397Z"
    }
   },
   "outputs": [],
   "source": [
    "# 4. Dummy variables for start_month\n",
    "month = pd.get_dummies(rdata['start_month'], prefix='month', drop_first=True)   # k categories -> k-1 dummies\n",
    "rdata = pd.concat([rdata, month], axis=1)"
   ]
  },
  {
   "cell_type": "code",
   "execution_count": 17,
   "id": "cbe20bd2",
   "metadata": {
    "ExecuteTime": {
     "end_time": "2022-08-08T05:34:25.704403Z",
     "start_time": "2022-08-08T05:34:25.689400Z"
    }
   },
   "outputs": [
    {
     "data": {
      "text/html": [
       "<div>\n",
       "<style scoped>\n",
       "    .dataframe tbody tr th:only-of-type {\n",
       "        vertical-align: middle;\n",
       "    }\n",
       "\n",
       "    .dataframe tbody tr th {\n",
       "        vertical-align: top;\n",
       "    }\n",
       "\n",
       "    .dataframe thead th {\n",
       "        text-align: right;\n",
       "    }\n",
       "</style>\n",
       "<table border=\"1\" class=\"dataframe\">\n",
       "  <thead>\n",
       "    <tr style=\"text-align: right;\">\n",
       "      <th></th>\n",
       "      <th>max_balls_team1</th>\n",
       "      <th>max_balls_team2</th>\n",
       "      <th>team1</th>\n",
       "      <th>team2</th>\n",
       "      <th>neutral_venue</th>\n",
       "      <th>first_innings</th>\n",
       "      <th>home_venue</th>\n",
       "      <th>toss_winner</th>\n",
       "      <th>dbMktPriceTeam1</th>\n",
       "      <th>dbMktPriceTeam2</th>\n",
       "      <th>victor</th>\n",
       "      <th>balls_team1</th>\n",
       "      <th>balls_team2</th>\n",
       "      <th>byes_team1</th>\n",
       "      <th>byes_team2</th>\n",
       "      <th>leg_byes_team1</th>\n",
       "      <th>leg_byes_team2</th>\n",
       "      <th>no_balls_team1</th>\n",
       "      <th>no_balls_team2</th>\n",
       "      <th>runs_team1</th>\n",
       "      <th>runs_team2</th>\n",
       "      <th>target_team1</th>\n",
       "      <th>target_team2</th>\n",
       "      <th>wickets_team1</th>\n",
       "      <th>wickets_team2</th>\n",
       "      <th>wides_team1</th>\n",
       "      <th>wides_team2</th>\n",
       "      <th>derby</th>\n",
       "      <th>start_month</th>\n",
       "      <th>month_02</th>\n",
       "      <th>month_12</th>\n",
       "    </tr>\n",
       "  </thead>\n",
       "  <tbody>\n",
       "    <tr>\n",
       "      <th>0</th>\n",
       "      <td>120</td>\n",
       "      <td>120</td>\n",
       "      <td>Perth Scorchers</td>\n",
       "      <td>Sydney Sixers</td>\n",
       "      <td>1</td>\n",
       "      <td>Sydney Sixers</td>\n",
       "      <td>0</td>\n",
       "      <td>Sydney Sixers</td>\n",
       "      <td>1.893</td>\n",
       "      <td>2.02</td>\n",
       "      <td>Perth Scorchers</td>\n",
       "      <td>120</td>\n",
       "      <td>120</td>\n",
       "      <td>0</td>\n",
       "      <td>0</td>\n",
       "      <td>2</td>\n",
       "      <td>3</td>\n",
       "      <td>2</td>\n",
       "      <td>0</td>\n",
       "      <td>148</td>\n",
       "      <td>147</td>\n",
       "      <td>148.0</td>\n",
       "      <td>NaN</td>\n",
       "      <td>6</td>\n",
       "      <td>5</td>\n",
       "      <td>1</td>\n",
       "      <td>5</td>\n",
       "      <td>0</td>\n",
       "      <td>01</td>\n",
       "      <td>0</td>\n",
       "      <td>0</td>\n",
       "    </tr>\n",
       "    <tr>\n",
       "      <th>1</th>\n",
       "      <td>120</td>\n",
       "      <td>120</td>\n",
       "      <td>Adelaide Strikers</td>\n",
       "      <td>Melbourne Stars</td>\n",
       "      <td>0</td>\n",
       "      <td>Melbourne Stars</td>\n",
       "      <td>1</td>\n",
       "      <td>Melbourne Stars</td>\n",
       "      <td>NaN</td>\n",
       "      <td>NaN</td>\n",
       "      <td>Adelaide Strikers</td>\n",
       "      <td>75</td>\n",
       "      <td>120</td>\n",
       "      <td>1</td>\n",
       "      <td>0</td>\n",
       "      <td>2</td>\n",
       "      <td>1</td>\n",
       "      <td>0</td>\n",
       "      <td>0</td>\n",
       "      <td>149</td>\n",
       "      <td>148</td>\n",
       "      <td>149.0</td>\n",
       "      <td>NaN</td>\n",
       "      <td>2</td>\n",
       "      <td>7</td>\n",
       "      <td>1</td>\n",
       "      <td>4</td>\n",
       "      <td>0</td>\n",
       "      <td>12</td>\n",
       "      <td>0</td>\n",
       "      <td>1</td>\n",
       "    </tr>\n",
       "    <tr>\n",
       "      <th>2</th>\n",
       "      <td>120</td>\n",
       "      <td>120</td>\n",
       "      <td>Sydney Sixers</td>\n",
       "      <td>Melbourne Renegades</td>\n",
       "      <td>0</td>\n",
       "      <td>Melbourne Renegades</td>\n",
       "      <td>1</td>\n",
       "      <td>Sydney Sixers</td>\n",
       "      <td>NaN</td>\n",
       "      <td>NaN</td>\n",
       "      <td>Sydney Sixers</td>\n",
       "      <td>113</td>\n",
       "      <td>120</td>\n",
       "      <td>0</td>\n",
       "      <td>0</td>\n",
       "      <td>4</td>\n",
       "      <td>1</td>\n",
       "      <td>0</td>\n",
       "      <td>0</td>\n",
       "      <td>158</td>\n",
       "      <td>154</td>\n",
       "      <td>155.0</td>\n",
       "      <td>NaN</td>\n",
       "      <td>2</td>\n",
       "      <td>7</td>\n",
       "      <td>2</td>\n",
       "      <td>6</td>\n",
       "      <td>0</td>\n",
       "      <td>12</td>\n",
       "      <td>0</td>\n",
       "      <td>1</td>\n",
       "    </tr>\n",
       "    <tr>\n",
       "      <th>3</th>\n",
       "      <td>120</td>\n",
       "      <td>120</td>\n",
       "      <td>Melbourne Stars</td>\n",
       "      <td>Hobart Hurricanes</td>\n",
       "      <td>0</td>\n",
       "      <td>Hobart Hurricanes</td>\n",
       "      <td>1</td>\n",
       "      <td>Melbourne Stars</td>\n",
       "      <td>NaN</td>\n",
       "      <td>NaN</td>\n",
       "      <td>Hobart Hurricanes</td>\n",
       "      <td>120</td>\n",
       "      <td>120</td>\n",
       "      <td>0</td>\n",
       "      <td>0</td>\n",
       "      <td>2</td>\n",
       "      <td>1</td>\n",
       "      <td>0</td>\n",
       "      <td>3</td>\n",
       "      <td>138</td>\n",
       "      <td>190</td>\n",
       "      <td>191.0</td>\n",
       "      <td>NaN</td>\n",
       "      <td>9</td>\n",
       "      <td>5</td>\n",
       "      <td>1</td>\n",
       "      <td>2</td>\n",
       "      <td>0</td>\n",
       "      <td>12</td>\n",
       "      <td>0</td>\n",
       "      <td>1</td>\n",
       "    </tr>\n",
       "    <tr>\n",
       "      <th>4</th>\n",
       "      <td>120</td>\n",
       "      <td>120</td>\n",
       "      <td>Perth Scorchers</td>\n",
       "      <td>Melbourne Stars</td>\n",
       "      <td>0</td>\n",
       "      <td>Perth Scorchers</td>\n",
       "      <td>1</td>\n",
       "      <td>Perth Scorchers</td>\n",
       "      <td>1.775</td>\n",
       "      <td>2.17</td>\n",
       "      <td>Perth Scorchers</td>\n",
       "      <td>120</td>\n",
       "      <td>119</td>\n",
       "      <td>0</td>\n",
       "      <td>0</td>\n",
       "      <td>2</td>\n",
       "      <td>4</td>\n",
       "      <td>0</td>\n",
       "      <td>0</td>\n",
       "      <td>144</td>\n",
       "      <td>126</td>\n",
       "      <td>NaN</td>\n",
       "      <td>145.0</td>\n",
       "      <td>7</td>\n",
       "      <td>10</td>\n",
       "      <td>3</td>\n",
       "      <td>4</td>\n",
       "      <td>0</td>\n",
       "      <td>01</td>\n",
       "      <td>0</td>\n",
       "      <td>0</td>\n",
       "    </tr>\n",
       "  </tbody>\n",
       "</table>\n",
       "</div>"
      ],
      "text/plain": [
       "   max_balls_team1  max_balls_team2              team1                team2  \\\n",
       "0              120              120    Perth Scorchers        Sydney Sixers   \n",
       "1              120              120  Adelaide Strikers      Melbourne Stars   \n",
       "2              120              120      Sydney Sixers  Melbourne Renegades   \n",
       "3              120              120    Melbourne Stars    Hobart Hurricanes   \n",
       "4              120              120    Perth Scorchers      Melbourne Stars   \n",
       "\n",
       "   neutral_venue        first_innings  home_venue      toss_winner  \\\n",
       "0              1        Sydney Sixers           0    Sydney Sixers   \n",
       "1              0      Melbourne Stars           1  Melbourne Stars   \n",
       "2              0  Melbourne Renegades           1    Sydney Sixers   \n",
       "3              0    Hobart Hurricanes           1  Melbourne Stars   \n",
       "4              0      Perth Scorchers           1  Perth Scorchers   \n",
       "\n",
       "   dbMktPriceTeam1  dbMktPriceTeam2             victor  balls_team1  \\\n",
       "0            1.893             2.02    Perth Scorchers          120   \n",
       "1              NaN              NaN  Adelaide Strikers           75   \n",
       "2              NaN              NaN      Sydney Sixers          113   \n",
       "3              NaN              NaN  Hobart Hurricanes          120   \n",
       "4            1.775             2.17    Perth Scorchers          120   \n",
       "\n",
       "   balls_team2  byes_team1  byes_team2  leg_byes_team1  leg_byes_team2  \\\n",
       "0          120           0           0               2               3   \n",
       "1          120           1           0               2               1   \n",
       "2          120           0           0               4               1   \n",
       "3          120           0           0               2               1   \n",
       "4          119           0           0               2               4   \n",
       "\n",
       "   no_balls_team1  no_balls_team2  runs_team1  runs_team2  target_team1  \\\n",
       "0               2               0         148         147         148.0   \n",
       "1               0               0         149         148         149.0   \n",
       "2               0               0         158         154         155.0   \n",
       "3               0               3         138         190         191.0   \n",
       "4               0               0         144         126           NaN   \n",
       "\n",
       "   target_team2  wickets_team1  wickets_team2  wides_team1  wides_team2  \\\n",
       "0           NaN              6              5            1            5   \n",
       "1           NaN              2              7            1            4   \n",
       "2           NaN              2              7            2            6   \n",
       "3           NaN              9              5            1            2   \n",
       "4         145.0              7             10            3            4   \n",
       "\n",
       "   derby start_month  month_02  month_12  \n",
       "0      0          01         0         0  \n",
       "1      0          12         0         1  \n",
       "2      0          12         0         1  \n",
       "3      0          12         0         1  \n",
       "4      0          01         0         0  "
      ]
     },
     "execution_count": 17,
     "metadata": {},
     "output_type": "execute_result"
    }
   ],
   "source": [
    "# 5. Add home_venue\n",
    "home_venue = rdata['neutral_venue'].map({1:0, 0:1})\n",
    "rdata.insert(6, 'home_venue', home_venue)\n",
    "rdata.head()"
   ]
  },
  {
   "cell_type": "code",
   "execution_count": 18,
   "id": "f3d15bbe",
   "metadata": {
    "ExecuteTime": {
     "end_time": "2022-08-08T05:34:25.720407Z",
     "start_time": "2022-08-08T05:34:25.705404Z"
    }
   },
   "outputs": [
    {
     "data": {
      "text/html": [
       "<div>\n",
       "<style scoped>\n",
       "    .dataframe tbody tr th:only-of-type {\n",
       "        vertical-align: middle;\n",
       "    }\n",
       "\n",
       "    .dataframe tbody tr th {\n",
       "        vertical-align: top;\n",
       "    }\n",
       "\n",
       "    .dataframe thead th {\n",
       "        text-align: right;\n",
       "    }\n",
       "</style>\n",
       "<table border=\"1\" class=\"dataframe\">\n",
       "  <thead>\n",
       "    <tr style=\"text-align: right;\">\n",
       "      <th></th>\n",
       "      <th>max_balls_team1</th>\n",
       "      <th>max_balls_team2</th>\n",
       "      <th>team1</th>\n",
       "      <th>team2</th>\n",
       "      <th>neutral_venue</th>\n",
       "      <th>first_innings</th>\n",
       "      <th>home_venue</th>\n",
       "      <th>toss_winner</th>\n",
       "      <th>dbMktPriceTeam1</th>\n",
       "      <th>dbMktPriceTeam2</th>\n",
       "      <th>victor</th>\n",
       "      <th>balls_team1</th>\n",
       "      <th>balls_team2</th>\n",
       "      <th>byes_team1</th>\n",
       "      <th>byes_team2</th>\n",
       "      <th>leg_byes_team1</th>\n",
       "      <th>leg_byes_team2</th>\n",
       "      <th>no_balls_team1</th>\n",
       "      <th>no_balls_team2</th>\n",
       "      <th>runs_team1</th>\n",
       "      <th>runs_team2</th>\n",
       "      <th>target_team1</th>\n",
       "      <th>target_team2</th>\n",
       "      <th>wickets_team1</th>\n",
       "      <th>wickets_team2</th>\n",
       "      <th>wides_team1</th>\n",
       "      <th>wides_team2</th>\n",
       "      <th>derby</th>\n",
       "      <th>start_month</th>\n",
       "      <th>month_02</th>\n",
       "      <th>month_12</th>\n",
       "    </tr>\n",
       "  </thead>\n",
       "  <tbody>\n",
       "    <tr>\n",
       "      <th>0</th>\n",
       "      <td>120</td>\n",
       "      <td>120</td>\n",
       "      <td>Perth Scorchers</td>\n",
       "      <td>Sydney Sixers</td>\n",
       "      <td>1</td>\n",
       "      <td>Sydney Sixers</td>\n",
       "      <td>0</td>\n",
       "      <td>Sydney Sixers</td>\n",
       "      <td>1.893</td>\n",
       "      <td>2.02</td>\n",
       "      <td>Perth Scorchers</td>\n",
       "      <td>120</td>\n",
       "      <td>120</td>\n",
       "      <td>0</td>\n",
       "      <td>0</td>\n",
       "      <td>2</td>\n",
       "      <td>3</td>\n",
       "      <td>2</td>\n",
       "      <td>0</td>\n",
       "      <td>148</td>\n",
       "      <td>147</td>\n",
       "      <td>148.0</td>\n",
       "      <td>NaN</td>\n",
       "      <td>6</td>\n",
       "      <td>5</td>\n",
       "      <td>1</td>\n",
       "      <td>5</td>\n",
       "      <td>0</td>\n",
       "      <td>01</td>\n",
       "      <td>0</td>\n",
       "      <td>0</td>\n",
       "    </tr>\n",
       "    <tr>\n",
       "      <th>1</th>\n",
       "      <td>120</td>\n",
       "      <td>120</td>\n",
       "      <td>Adelaide Strikers</td>\n",
       "      <td>Melbourne Stars</td>\n",
       "      <td>0</td>\n",
       "      <td>Melbourne Stars</td>\n",
       "      <td>1</td>\n",
       "      <td>Melbourne Stars</td>\n",
       "      <td>NaN</td>\n",
       "      <td>NaN</td>\n",
       "      <td>Adelaide Strikers</td>\n",
       "      <td>75</td>\n",
       "      <td>120</td>\n",
       "      <td>1</td>\n",
       "      <td>0</td>\n",
       "      <td>2</td>\n",
       "      <td>1</td>\n",
       "      <td>0</td>\n",
       "      <td>0</td>\n",
       "      <td>149</td>\n",
       "      <td>148</td>\n",
       "      <td>149.0</td>\n",
       "      <td>NaN</td>\n",
       "      <td>2</td>\n",
       "      <td>7</td>\n",
       "      <td>1</td>\n",
       "      <td>4</td>\n",
       "      <td>0</td>\n",
       "      <td>12</td>\n",
       "      <td>0</td>\n",
       "      <td>1</td>\n",
       "    </tr>\n",
       "    <tr>\n",
       "      <th>2</th>\n",
       "      <td>120</td>\n",
       "      <td>120</td>\n",
       "      <td>Sydney Sixers</td>\n",
       "      <td>Melbourne Renegades</td>\n",
       "      <td>0</td>\n",
       "      <td>Melbourne Renegades</td>\n",
       "      <td>1</td>\n",
       "      <td>Sydney Sixers</td>\n",
       "      <td>NaN</td>\n",
       "      <td>NaN</td>\n",
       "      <td>Sydney Sixers</td>\n",
       "      <td>113</td>\n",
       "      <td>120</td>\n",
       "      <td>0</td>\n",
       "      <td>0</td>\n",
       "      <td>4</td>\n",
       "      <td>1</td>\n",
       "      <td>0</td>\n",
       "      <td>0</td>\n",
       "      <td>158</td>\n",
       "      <td>154</td>\n",
       "      <td>155.0</td>\n",
       "      <td>NaN</td>\n",
       "      <td>2</td>\n",
       "      <td>7</td>\n",
       "      <td>2</td>\n",
       "      <td>6</td>\n",
       "      <td>0</td>\n",
       "      <td>12</td>\n",
       "      <td>0</td>\n",
       "      <td>1</td>\n",
       "    </tr>\n",
       "    <tr>\n",
       "      <th>3</th>\n",
       "      <td>120</td>\n",
       "      <td>120</td>\n",
       "      <td>Melbourne Stars</td>\n",
       "      <td>Hobart Hurricanes</td>\n",
       "      <td>0</td>\n",
       "      <td>Hobart Hurricanes</td>\n",
       "      <td>1</td>\n",
       "      <td>Melbourne Stars</td>\n",
       "      <td>NaN</td>\n",
       "      <td>NaN</td>\n",
       "      <td>Hobart Hurricanes</td>\n",
       "      <td>120</td>\n",
       "      <td>120</td>\n",
       "      <td>0</td>\n",
       "      <td>0</td>\n",
       "      <td>2</td>\n",
       "      <td>1</td>\n",
       "      <td>0</td>\n",
       "      <td>3</td>\n",
       "      <td>138</td>\n",
       "      <td>190</td>\n",
       "      <td>191.0</td>\n",
       "      <td>NaN</td>\n",
       "      <td>9</td>\n",
       "      <td>5</td>\n",
       "      <td>1</td>\n",
       "      <td>2</td>\n",
       "      <td>0</td>\n",
       "      <td>12</td>\n",
       "      <td>0</td>\n",
       "      <td>1</td>\n",
       "    </tr>\n",
       "    <tr>\n",
       "      <th>4</th>\n",
       "      <td>120</td>\n",
       "      <td>120</td>\n",
       "      <td>Perth Scorchers</td>\n",
       "      <td>Melbourne Stars</td>\n",
       "      <td>0</td>\n",
       "      <td>Perth Scorchers</td>\n",
       "      <td>1</td>\n",
       "      <td>Perth Scorchers</td>\n",
       "      <td>1.775</td>\n",
       "      <td>2.17</td>\n",
       "      <td>Perth Scorchers</td>\n",
       "      <td>120</td>\n",
       "      <td>119</td>\n",
       "      <td>0</td>\n",
       "      <td>0</td>\n",
       "      <td>2</td>\n",
       "      <td>4</td>\n",
       "      <td>0</td>\n",
       "      <td>0</td>\n",
       "      <td>144</td>\n",
       "      <td>126</td>\n",
       "      <td>NaN</td>\n",
       "      <td>145.0</td>\n",
       "      <td>7</td>\n",
       "      <td>10</td>\n",
       "      <td>3</td>\n",
       "      <td>4</td>\n",
       "      <td>0</td>\n",
       "      <td>01</td>\n",
       "      <td>0</td>\n",
       "      <td>0</td>\n",
       "    </tr>\n",
       "  </tbody>\n",
       "</table>\n",
       "</div>"
      ],
      "text/plain": [
       "   max_balls_team1  max_balls_team2              team1                team2  \\\n",
       "0              120              120    Perth Scorchers        Sydney Sixers   \n",
       "1              120              120  Adelaide Strikers      Melbourne Stars   \n",
       "2              120              120      Sydney Sixers  Melbourne Renegades   \n",
       "3              120              120    Melbourne Stars    Hobart Hurricanes   \n",
       "4              120              120    Perth Scorchers      Melbourne Stars   \n",
       "\n",
       "   neutral_venue        first_innings  home_venue      toss_winner  \\\n",
       "0              1        Sydney Sixers           0    Sydney Sixers   \n",
       "1              0      Melbourne Stars           1  Melbourne Stars   \n",
       "2              0  Melbourne Renegades           1    Sydney Sixers   \n",
       "3              0    Hobart Hurricanes           1  Melbourne Stars   \n",
       "4              0      Perth Scorchers           1  Perth Scorchers   \n",
       "\n",
       "   dbMktPriceTeam1  dbMktPriceTeam2             victor  balls_team1  \\\n",
       "0            1.893             2.02    Perth Scorchers          120   \n",
       "1              NaN              NaN  Adelaide Strikers           75   \n",
       "2              NaN              NaN      Sydney Sixers          113   \n",
       "3              NaN              NaN  Hobart Hurricanes          120   \n",
       "4            1.775             2.17    Perth Scorchers          120   \n",
       "\n",
       "   balls_team2  byes_team1  byes_team2  leg_byes_team1  leg_byes_team2  \\\n",
       "0          120           0           0               2               3   \n",
       "1          120           1           0               2               1   \n",
       "2          120           0           0               4               1   \n",
       "3          120           0           0               2               1   \n",
       "4          119           0           0               2               4   \n",
       "\n",
       "   no_balls_team1  no_balls_team2  runs_team1  runs_team2  target_team1  \\\n",
       "0               2               0         148         147         148.0   \n",
       "1               0               0         149         148         149.0   \n",
       "2               0               0         158         154         155.0   \n",
       "3               0               3         138         190         191.0   \n",
       "4               0               0         144         126           NaN   \n",
       "\n",
       "   target_team2  wickets_team1  wickets_team2  wides_team1  wides_team2  \\\n",
       "0           NaN              6              5            1            5   \n",
       "1           NaN              2              7            1            4   \n",
       "2           NaN              2              7            2            6   \n",
       "3           NaN              9              5            1            2   \n",
       "4         145.0              7             10            3            4   \n",
       "\n",
       "   derby start_month  month_02  month_12  \n",
       "0      0          01         0         0  \n",
       "1      0          12         0         1  \n",
       "2      0          12         0         1  \n",
       "3      0          12         0         1  \n",
       "4      0          01         0         0  "
      ]
     },
     "execution_count": 18,
     "metadata": {},
     "output_type": "execute_result"
    }
   ],
   "source": [
    "# 6. Drop rows if victor is NA\n",
    "rdata['victor'].isnull().sum()      # 6 instances\n",
    "rdata = rdata.dropna(subset=['victor'], axis=0)\n",
    "rdata.head()"
   ]
  },
  {
   "cell_type": "code",
   "execution_count": 19,
   "id": "901e59f5",
   "metadata": {
    "ExecuteTime": {
     "end_time": "2022-08-08T05:34:25.736411Z",
     "start_time": "2022-08-08T05:34:25.721408Z"
    }
   },
   "outputs": [
    {
     "data": {
      "text/html": [
       "<div>\n",
       "<style scoped>\n",
       "    .dataframe tbody tr th:only-of-type {\n",
       "        vertical-align: middle;\n",
       "    }\n",
       "\n",
       "    .dataframe tbody tr th {\n",
       "        vertical-align: top;\n",
       "    }\n",
       "\n",
       "    .dataframe thead th {\n",
       "        text-align: right;\n",
       "    }\n",
       "</style>\n",
       "<table border=\"1\" class=\"dataframe\">\n",
       "  <thead>\n",
       "    <tr style=\"text-align: right;\">\n",
       "      <th></th>\n",
       "      <th>max_balls_team1</th>\n",
       "      <th>max_balls_team2</th>\n",
       "      <th>team1</th>\n",
       "      <th>team2</th>\n",
       "      <th>neutral_venue</th>\n",
       "      <th>first_innings</th>\n",
       "      <th>home_venue</th>\n",
       "      <th>toss_winner</th>\n",
       "      <th>dbMktPriceTeam1</th>\n",
       "      <th>dbMktPriceTeam2</th>\n",
       "      <th>victor</th>\n",
       "      <th>balls_team1</th>\n",
       "      <th>balls_team2</th>\n",
       "      <th>byes_team1</th>\n",
       "      <th>byes_team2</th>\n",
       "      <th>leg_byes_team1</th>\n",
       "      <th>leg_byes_team2</th>\n",
       "      <th>no_balls_team1</th>\n",
       "      <th>no_balls_team2</th>\n",
       "      <th>runs_team1</th>\n",
       "      <th>runs_team2</th>\n",
       "      <th>target_team1</th>\n",
       "      <th>target_team2</th>\n",
       "      <th>wickets_team1</th>\n",
       "      <th>wickets_team2</th>\n",
       "      <th>wides_team1</th>\n",
       "      <th>wides_team2</th>\n",
       "      <th>derby</th>\n",
       "      <th>start_month</th>\n",
       "      <th>month_02</th>\n",
       "      <th>month_12</th>\n",
       "    </tr>\n",
       "  </thead>\n",
       "  <tbody>\n",
       "    <tr>\n",
       "      <th>0</th>\n",
       "      <td>120</td>\n",
       "      <td>120</td>\n",
       "      <td>Perth Scorchers</td>\n",
       "      <td>Sydney Sixers</td>\n",
       "      <td>1</td>\n",
       "      <td>Sydney Sixers</td>\n",
       "      <td>0</td>\n",
       "      <td>Sydney Sixers</td>\n",
       "      <td>1.893</td>\n",
       "      <td>2.02</td>\n",
       "      <td>Perth Scorchers</td>\n",
       "      <td>120</td>\n",
       "      <td>120</td>\n",
       "      <td>0</td>\n",
       "      <td>0</td>\n",
       "      <td>2</td>\n",
       "      <td>3</td>\n",
       "      <td>2</td>\n",
       "      <td>0</td>\n",
       "      <td>148</td>\n",
       "      <td>147</td>\n",
       "      <td>148.0</td>\n",
       "      <td>NaN</td>\n",
       "      <td>6</td>\n",
       "      <td>5</td>\n",
       "      <td>1</td>\n",
       "      <td>5</td>\n",
       "      <td>0</td>\n",
       "      <td>01</td>\n",
       "      <td>0</td>\n",
       "      <td>0</td>\n",
       "    </tr>\n",
       "    <tr>\n",
       "      <th>1</th>\n",
       "      <td>120</td>\n",
       "      <td>120</td>\n",
       "      <td>Adelaide Strikers</td>\n",
       "      <td>Melbourne Stars</td>\n",
       "      <td>0</td>\n",
       "      <td>Melbourne Stars</td>\n",
       "      <td>1</td>\n",
       "      <td>Melbourne Stars</td>\n",
       "      <td>NaN</td>\n",
       "      <td>NaN</td>\n",
       "      <td>Adelaide Strikers</td>\n",
       "      <td>75</td>\n",
       "      <td>120</td>\n",
       "      <td>1</td>\n",
       "      <td>0</td>\n",
       "      <td>2</td>\n",
       "      <td>1</td>\n",
       "      <td>0</td>\n",
       "      <td>0</td>\n",
       "      <td>149</td>\n",
       "      <td>148</td>\n",
       "      <td>149.0</td>\n",
       "      <td>NaN</td>\n",
       "      <td>2</td>\n",
       "      <td>7</td>\n",
       "      <td>1</td>\n",
       "      <td>4</td>\n",
       "      <td>0</td>\n",
       "      <td>12</td>\n",
       "      <td>0</td>\n",
       "      <td>1</td>\n",
       "    </tr>\n",
       "    <tr>\n",
       "      <th>2</th>\n",
       "      <td>120</td>\n",
       "      <td>120</td>\n",
       "      <td>Sydney Sixers</td>\n",
       "      <td>Melbourne Renegades</td>\n",
       "      <td>0</td>\n",
       "      <td>Melbourne Renegades</td>\n",
       "      <td>1</td>\n",
       "      <td>Sydney Sixers</td>\n",
       "      <td>NaN</td>\n",
       "      <td>NaN</td>\n",
       "      <td>Sydney Sixers</td>\n",
       "      <td>113</td>\n",
       "      <td>120</td>\n",
       "      <td>0</td>\n",
       "      <td>0</td>\n",
       "      <td>4</td>\n",
       "      <td>1</td>\n",
       "      <td>0</td>\n",
       "      <td>0</td>\n",
       "      <td>158</td>\n",
       "      <td>154</td>\n",
       "      <td>155.0</td>\n",
       "      <td>NaN</td>\n",
       "      <td>2</td>\n",
       "      <td>7</td>\n",
       "      <td>2</td>\n",
       "      <td>6</td>\n",
       "      <td>0</td>\n",
       "      <td>12</td>\n",
       "      <td>0</td>\n",
       "      <td>1</td>\n",
       "    </tr>\n",
       "    <tr>\n",
       "      <th>3</th>\n",
       "      <td>120</td>\n",
       "      <td>120</td>\n",
       "      <td>Melbourne Stars</td>\n",
       "      <td>Hobart Hurricanes</td>\n",
       "      <td>0</td>\n",
       "      <td>Hobart Hurricanes</td>\n",
       "      <td>1</td>\n",
       "      <td>Melbourne Stars</td>\n",
       "      <td>NaN</td>\n",
       "      <td>NaN</td>\n",
       "      <td>Hobart Hurricanes</td>\n",
       "      <td>120</td>\n",
       "      <td>120</td>\n",
       "      <td>0</td>\n",
       "      <td>0</td>\n",
       "      <td>2</td>\n",
       "      <td>1</td>\n",
       "      <td>0</td>\n",
       "      <td>3</td>\n",
       "      <td>138</td>\n",
       "      <td>190</td>\n",
       "      <td>191.0</td>\n",
       "      <td>NaN</td>\n",
       "      <td>9</td>\n",
       "      <td>5</td>\n",
       "      <td>1</td>\n",
       "      <td>2</td>\n",
       "      <td>0</td>\n",
       "      <td>12</td>\n",
       "      <td>0</td>\n",
       "      <td>1</td>\n",
       "    </tr>\n",
       "    <tr>\n",
       "      <th>4</th>\n",
       "      <td>120</td>\n",
       "      <td>120</td>\n",
       "      <td>Perth Scorchers</td>\n",
       "      <td>Melbourne Stars</td>\n",
       "      <td>0</td>\n",
       "      <td>Perth Scorchers</td>\n",
       "      <td>1</td>\n",
       "      <td>Perth Scorchers</td>\n",
       "      <td>1.775</td>\n",
       "      <td>2.17</td>\n",
       "      <td>Perth Scorchers</td>\n",
       "      <td>120</td>\n",
       "      <td>119</td>\n",
       "      <td>0</td>\n",
       "      <td>0</td>\n",
       "      <td>2</td>\n",
       "      <td>4</td>\n",
       "      <td>0</td>\n",
       "      <td>0</td>\n",
       "      <td>144</td>\n",
       "      <td>126</td>\n",
       "      <td>NaN</td>\n",
       "      <td>145.0</td>\n",
       "      <td>7</td>\n",
       "      <td>10</td>\n",
       "      <td>3</td>\n",
       "      <td>4</td>\n",
       "      <td>0</td>\n",
       "      <td>01</td>\n",
       "      <td>0</td>\n",
       "      <td>0</td>\n",
       "    </tr>\n",
       "  </tbody>\n",
       "</table>\n",
       "</div>"
      ],
      "text/plain": [
       "   max_balls_team1  max_balls_team2              team1                team2  \\\n",
       "0              120              120    Perth Scorchers        Sydney Sixers   \n",
       "1              120              120  Adelaide Strikers      Melbourne Stars   \n",
       "2              120              120      Sydney Sixers  Melbourne Renegades   \n",
       "3              120              120    Melbourne Stars    Hobart Hurricanes   \n",
       "4              120              120    Perth Scorchers      Melbourne Stars   \n",
       "\n",
       "   neutral_venue        first_innings  home_venue      toss_winner  \\\n",
       "0              1        Sydney Sixers           0    Sydney Sixers   \n",
       "1              0      Melbourne Stars           1  Melbourne Stars   \n",
       "2              0  Melbourne Renegades           1    Sydney Sixers   \n",
       "3              0    Hobart Hurricanes           1  Melbourne Stars   \n",
       "4              0      Perth Scorchers           1  Perth Scorchers   \n",
       "\n",
       "   dbMktPriceTeam1  dbMktPriceTeam2             victor  balls_team1  \\\n",
       "0            1.893             2.02    Perth Scorchers          120   \n",
       "1              NaN              NaN  Adelaide Strikers           75   \n",
       "2              NaN              NaN      Sydney Sixers          113   \n",
       "3              NaN              NaN  Hobart Hurricanes          120   \n",
       "4            1.775             2.17    Perth Scorchers          120   \n",
       "\n",
       "   balls_team2  byes_team1  byes_team2  leg_byes_team1  leg_byes_team2  \\\n",
       "0          120           0           0               2               3   \n",
       "1          120           1           0               2               1   \n",
       "2          120           0           0               4               1   \n",
       "3          120           0           0               2               1   \n",
       "4          119           0           0               2               4   \n",
       "\n",
       "   no_balls_team1  no_balls_team2  runs_team1  runs_team2  target_team1  \\\n",
       "0               2               0         148         147         148.0   \n",
       "1               0               0         149         148         149.0   \n",
       "2               0               0         158         154         155.0   \n",
       "3               0               3         138         190         191.0   \n",
       "4               0               0         144         126           NaN   \n",
       "\n",
       "   target_team2  wickets_team1  wickets_team2  wides_team1  wides_team2  \\\n",
       "0           NaN              6              5            1            5   \n",
       "1           NaN              2              7            1            4   \n",
       "2           NaN              2              7            2            6   \n",
       "3           NaN              9              5            1            2   \n",
       "4         145.0              7             10            3            4   \n",
       "\n",
       "   derby start_month  month_02  month_12  \n",
       "0      0          01         0         0  \n",
       "1      0          12         0         1  \n",
       "2      0          12         0         1  \n",
       "3      0          12         0         1  \n",
       "4      0          01         0         0  "
      ]
     },
     "execution_count": 19,
     "metadata": {},
     "output_type": "execute_result"
    }
   ],
   "source": [
    "# 7. Drop rows if victor is Tie\n",
    "(rdata['victor'] == 'Tie').sum()      # 4 instances\n",
    "rdata = rdata.drop(rdata[rdata['victor'] == 'Tie'].index, axis=0)\n",
    "rdata.head()"
   ]
  },
  {
   "cell_type": "code",
   "execution_count": 20,
   "id": "eee283ea",
   "metadata": {
    "ExecuteTime": {
     "end_time": "2022-08-08T05:34:25.752414Z",
     "start_time": "2022-08-08T05:34:25.737410Z"
    }
   },
   "outputs": [
    {
     "data": {
      "text/html": [
       "<div>\n",
       "<style scoped>\n",
       "    .dataframe tbody tr th:only-of-type {\n",
       "        vertical-align: middle;\n",
       "    }\n",
       "\n",
       "    .dataframe tbody tr th {\n",
       "        vertical-align: top;\n",
       "    }\n",
       "\n",
       "    .dataframe thead th {\n",
       "        text-align: right;\n",
       "    }\n",
       "</style>\n",
       "<table border=\"1\" class=\"dataframe\">\n",
       "  <thead>\n",
       "    <tr style=\"text-align: right;\">\n",
       "      <th></th>\n",
       "      <th>max_balls_team1</th>\n",
       "      <th>max_balls_team2</th>\n",
       "      <th>team1</th>\n",
       "      <th>team2</th>\n",
       "      <th>neutral_venue</th>\n",
       "      <th>first_innings</th>\n",
       "      <th>home_venue</th>\n",
       "      <th>toss_winner</th>\n",
       "      <th>victor</th>\n",
       "      <th>balls_team1</th>\n",
       "      <th>balls_team2</th>\n",
       "      <th>byes_team1</th>\n",
       "      <th>byes_team2</th>\n",
       "      <th>leg_byes_team1</th>\n",
       "      <th>leg_byes_team2</th>\n",
       "      <th>no_balls_team1</th>\n",
       "      <th>no_balls_team2</th>\n",
       "      <th>runs_team1</th>\n",
       "      <th>runs_team2</th>\n",
       "      <th>target_team1</th>\n",
       "      <th>target_team2</th>\n",
       "      <th>wickets_team1</th>\n",
       "      <th>wickets_team2</th>\n",
       "      <th>wides_team1</th>\n",
       "      <th>wides_team2</th>\n",
       "      <th>derby</th>\n",
       "      <th>start_month</th>\n",
       "      <th>month_02</th>\n",
       "      <th>month_12</th>\n",
       "    </tr>\n",
       "  </thead>\n",
       "  <tbody>\n",
       "    <tr>\n",
       "      <th>0</th>\n",
       "      <td>120</td>\n",
       "      <td>120</td>\n",
       "      <td>Perth Scorchers</td>\n",
       "      <td>Sydney Sixers</td>\n",
       "      <td>1</td>\n",
       "      <td>Sydney Sixers</td>\n",
       "      <td>0</td>\n",
       "      <td>Sydney Sixers</td>\n",
       "      <td>Perth Scorchers</td>\n",
       "      <td>120</td>\n",
       "      <td>120</td>\n",
       "      <td>0</td>\n",
       "      <td>0</td>\n",
       "      <td>2</td>\n",
       "      <td>3</td>\n",
       "      <td>2</td>\n",
       "      <td>0</td>\n",
       "      <td>148</td>\n",
       "      <td>147</td>\n",
       "      <td>148.0</td>\n",
       "      <td>NaN</td>\n",
       "      <td>6</td>\n",
       "      <td>5</td>\n",
       "      <td>1</td>\n",
       "      <td>5</td>\n",
       "      <td>0</td>\n",
       "      <td>01</td>\n",
       "      <td>0</td>\n",
       "      <td>0</td>\n",
       "    </tr>\n",
       "    <tr>\n",
       "      <th>4</th>\n",
       "      <td>120</td>\n",
       "      <td>120</td>\n",
       "      <td>Perth Scorchers</td>\n",
       "      <td>Melbourne Stars</td>\n",
       "      <td>0</td>\n",
       "      <td>Perth Scorchers</td>\n",
       "      <td>1</td>\n",
       "      <td>Perth Scorchers</td>\n",
       "      <td>Perth Scorchers</td>\n",
       "      <td>120</td>\n",
       "      <td>119</td>\n",
       "      <td>0</td>\n",
       "      <td>0</td>\n",
       "      <td>2</td>\n",
       "      <td>4</td>\n",
       "      <td>0</td>\n",
       "      <td>0</td>\n",
       "      <td>144</td>\n",
       "      <td>126</td>\n",
       "      <td>NaN</td>\n",
       "      <td>145.0</td>\n",
       "      <td>7</td>\n",
       "      <td>10</td>\n",
       "      <td>3</td>\n",
       "      <td>4</td>\n",
       "      <td>0</td>\n",
       "      <td>01</td>\n",
       "      <td>0</td>\n",
       "      <td>0</td>\n",
       "    </tr>\n",
       "    <tr>\n",
       "      <th>5</th>\n",
       "      <td>120</td>\n",
       "      <td>120</td>\n",
       "      <td>Adelaide Strikers</td>\n",
       "      <td>Hobart Hurricanes</td>\n",
       "      <td>0</td>\n",
       "      <td>Hobart Hurricanes</td>\n",
       "      <td>1</td>\n",
       "      <td>Hobart Hurricanes</td>\n",
       "      <td>Adelaide Strikers</td>\n",
       "      <td>87</td>\n",
       "      <td>120</td>\n",
       "      <td>0</td>\n",
       "      <td>1</td>\n",
       "      <td>3</td>\n",
       "      <td>2</td>\n",
       "      <td>0</td>\n",
       "      <td>0</td>\n",
       "      <td>141</td>\n",
       "      <td>136</td>\n",
       "      <td>137.0</td>\n",
       "      <td>NaN</td>\n",
       "      <td>2</td>\n",
       "      <td>8</td>\n",
       "      <td>1</td>\n",
       "      <td>2</td>\n",
       "      <td>0</td>\n",
       "      <td>12</td>\n",
       "      <td>0</td>\n",
       "      <td>1</td>\n",
       "    </tr>\n",
       "    <tr>\n",
       "      <th>6</th>\n",
       "      <td>120</td>\n",
       "      <td>120</td>\n",
       "      <td>Melbourne Renegades</td>\n",
       "      <td>Sydney Thunder</td>\n",
       "      <td>0</td>\n",
       "      <td>Sydney Thunder</td>\n",
       "      <td>1</td>\n",
       "      <td>Melbourne Renegades</td>\n",
       "      <td>Melbourne Renegades</td>\n",
       "      <td>83</td>\n",
       "      <td>120</td>\n",
       "      <td>0</td>\n",
       "      <td>0</td>\n",
       "      <td>2</td>\n",
       "      <td>0</td>\n",
       "      <td>0</td>\n",
       "      <td>1</td>\n",
       "      <td>118</td>\n",
       "      <td>114</td>\n",
       "      <td>115.0</td>\n",
       "      <td>NaN</td>\n",
       "      <td>2</td>\n",
       "      <td>6</td>\n",
       "      <td>2</td>\n",
       "      <td>4</td>\n",
       "      <td>0</td>\n",
       "      <td>12</td>\n",
       "      <td>0</td>\n",
       "      <td>1</td>\n",
       "    </tr>\n",
       "    <tr>\n",
       "      <th>7</th>\n",
       "      <td>120</td>\n",
       "      <td>120</td>\n",
       "      <td>Sydney Sixers</td>\n",
       "      <td>Perth Scorchers</td>\n",
       "      <td>0</td>\n",
       "      <td>Perth Scorchers</td>\n",
       "      <td>1</td>\n",
       "      <td>Perth Scorchers</td>\n",
       "      <td>Perth Scorchers</td>\n",
       "      <td>105</td>\n",
       "      <td>120</td>\n",
       "      <td>0</td>\n",
       "      <td>0</td>\n",
       "      <td>2</td>\n",
       "      <td>1</td>\n",
       "      <td>0</td>\n",
       "      <td>0</td>\n",
       "      <td>99</td>\n",
       "      <td>135</td>\n",
       "      <td>136.0</td>\n",
       "      <td>NaN</td>\n",
       "      <td>10</td>\n",
       "      <td>7</td>\n",
       "      <td>4</td>\n",
       "      <td>1</td>\n",
       "      <td>0</td>\n",
       "      <td>12</td>\n",
       "      <td>0</td>\n",
       "      <td>1</td>\n",
       "    </tr>\n",
       "  </tbody>\n",
       "</table>\n",
       "</div>"
      ],
      "text/plain": [
       "   max_balls_team1  max_balls_team2                team1              team2  \\\n",
       "0              120              120      Perth Scorchers      Sydney Sixers   \n",
       "4              120              120      Perth Scorchers    Melbourne Stars   \n",
       "5              120              120    Adelaide Strikers  Hobart Hurricanes   \n",
       "6              120              120  Melbourne Renegades     Sydney Thunder   \n",
       "7              120              120        Sydney Sixers    Perth Scorchers   \n",
       "\n",
       "   neutral_venue      first_innings  home_venue          toss_winner  \\\n",
       "0              1      Sydney Sixers           0        Sydney Sixers   \n",
       "4              0    Perth Scorchers           1      Perth Scorchers   \n",
       "5              0  Hobart Hurricanes           1    Hobart Hurricanes   \n",
       "6              0     Sydney Thunder           1  Melbourne Renegades   \n",
       "7              0    Perth Scorchers           1      Perth Scorchers   \n",
       "\n",
       "                victor  balls_team1  balls_team2  byes_team1  byes_team2  \\\n",
       "0      Perth Scorchers          120          120           0           0   \n",
       "4      Perth Scorchers          120          119           0           0   \n",
       "5    Adelaide Strikers           87          120           0           1   \n",
       "6  Melbourne Renegades           83          120           0           0   \n",
       "7      Perth Scorchers          105          120           0           0   \n",
       "\n",
       "   leg_byes_team1  leg_byes_team2  no_balls_team1  no_balls_team2  runs_team1  \\\n",
       "0               2               3               2               0         148   \n",
       "4               2               4               0               0         144   \n",
       "5               3               2               0               0         141   \n",
       "6               2               0               0               1         118   \n",
       "7               2               1               0               0          99   \n",
       "\n",
       "   runs_team2  target_team1  target_team2  wickets_team1  wickets_team2  \\\n",
       "0         147         148.0           NaN              6              5   \n",
       "4         126           NaN         145.0              7             10   \n",
       "5         136         137.0           NaN              2              8   \n",
       "6         114         115.0           NaN              2              6   \n",
       "7         135         136.0           NaN             10              7   \n",
       "\n",
       "   wides_team1  wides_team2  derby start_month  month_02  month_12  \n",
       "0            1            5      0          01         0         0  \n",
       "4            3            4      0          01         0         0  \n",
       "5            1            2      0          12         0         1  \n",
       "6            2            4      0          12         0         1  \n",
       "7            4            1      0          12         0         1  "
      ]
     },
     "execution_count": 20,
     "metadata": {},
     "output_type": "execute_result"
    }
   ],
   "source": [
    "# 8. Drop rows if dbMktPrice is NaN\n",
    "rdata['dbMktPriceTeam1'].isnull().sum()     # 9 instances\n",
    "rdata['dbMktPriceTeam2'].isnull().sum()     # 9 instances\n",
    "rdata = rdata.dropna(subset=['dbMktPriceTeam1', 'dbMktPriceTeam2'], axis=0)\n",
    "\n",
    "# 9. Drop dbMktPrice columns\n",
    "data = rdata.drop(['dbMktPriceTeam1','dbMktPriceTeam2'], axis=1)\n",
    "data.head()"
   ]
  },
  {
   "cell_type": "code",
   "execution_count": 21,
   "id": "6c3c73aa",
   "metadata": {
    "ExecuteTime": {
     "end_time": "2022-08-08T05:34:25.768418Z",
     "start_time": "2022-08-08T05:34:25.753414Z"
    }
   },
   "outputs": [],
   "source": [
    "# Export the processed data\n",
    "data.to_csv('./data/pjt03_data_processed.csv')"
   ]
  },
  {
   "cell_type": "markdown",
   "id": "bca76ec8",
   "metadata": {},
   "source": [
    "## Specific preprocessing\n",
    "- Only need first inning team's records\n",
    "- Change instances in the first inning team's point of view and predict if the team wins or not\n",
    "- Runs_teamX includes extras, so consider redundancy"
   ]
  },
  {
   "cell_type": "markdown",
   "id": "ce39dbc6",
   "metadata": {},
   "source": [
    "**For team1**"
   ]
  },
  {
   "cell_type": "code",
   "execution_count": 22,
   "id": "072f9c87",
   "metadata": {
    "ExecuteTime": {
     "end_time": "2022-08-08T05:34:25.784421Z",
     "start_time": "2022-08-08T05:34:25.769418Z"
    }
   },
   "outputs": [
    {
     "data": {
      "text/html": [
       "<div>\n",
       "<style scoped>\n",
       "    .dataframe tbody tr th:only-of-type {\n",
       "        vertical-align: middle;\n",
       "    }\n",
       "\n",
       "    .dataframe tbody tr th {\n",
       "        vertical-align: top;\n",
       "    }\n",
       "\n",
       "    .dataframe thead th {\n",
       "        text-align: right;\n",
       "    }\n",
       "</style>\n",
       "<table border=\"1\" class=\"dataframe\">\n",
       "  <thead>\n",
       "    <tr style=\"text-align: right;\">\n",
       "      <th></th>\n",
       "      <th>team1</th>\n",
       "      <th>neutral_venue</th>\n",
       "      <th>home_venue</th>\n",
       "      <th>toss_winner</th>\n",
       "      <th>max_balls_team1</th>\n",
       "      <th>balls_team1</th>\n",
       "      <th>byes_team1</th>\n",
       "      <th>leg_byes_team1</th>\n",
       "      <th>no_balls_team1</th>\n",
       "      <th>wides_team1</th>\n",
       "      <th>runs_team1</th>\n",
       "      <th>wickets_team1</th>\n",
       "      <th>max_balls_team2</th>\n",
       "      <th>target_team2</th>\n",
       "      <th>derby</th>\n",
       "      <th>start_month</th>\n",
       "      <th>month_02</th>\n",
       "      <th>month_12</th>\n",
       "      <th>victor</th>\n",
       "    </tr>\n",
       "  </thead>\n",
       "  <tbody>\n",
       "    <tr>\n",
       "      <th>483</th>\n",
       "      <td>Melbourne Stars</td>\n",
       "      <td>0</td>\n",
       "      <td>1</td>\n",
       "      <td>Hobart Hurricanes</td>\n",
       "      <td>120</td>\n",
       "      <td>120</td>\n",
       "      <td>0</td>\n",
       "      <td>1</td>\n",
       "      <td>0</td>\n",
       "      <td>5</td>\n",
       "      <td>273</td>\n",
       "      <td>2</td>\n",
       "      <td>120</td>\n",
       "      <td>274.0</td>\n",
       "      <td>0</td>\n",
       "      <td>01</td>\n",
       "      <td>0</td>\n",
       "      <td>0</td>\n",
       "      <td>Melbourne Stars</td>\n",
       "    </tr>\n",
       "    <tr>\n",
       "      <th>485</th>\n",
       "      <td>Perth Scorchers</td>\n",
       "      <td>1</td>\n",
       "      <td>0</td>\n",
       "      <td>Perth Scorchers</td>\n",
       "      <td>120</td>\n",
       "      <td>120</td>\n",
       "      <td>0</td>\n",
       "      <td>3</td>\n",
       "      <td>0</td>\n",
       "      <td>3</td>\n",
       "      <td>189</td>\n",
       "      <td>3</td>\n",
       "      <td>120</td>\n",
       "      <td>190.0</td>\n",
       "      <td>0</td>\n",
       "      <td>01</td>\n",
       "      <td>0</td>\n",
       "      <td>0</td>\n",
       "      <td>Perth Scorchers</td>\n",
       "    </tr>\n",
       "    <tr>\n",
       "      <th>486</th>\n",
       "      <td>Adelaide Strikers</td>\n",
       "      <td>1</td>\n",
       "      <td>0</td>\n",
       "      <td>Adelaide Strikers</td>\n",
       "      <td>120</td>\n",
       "      <td>120</td>\n",
       "      <td>0</td>\n",
       "      <td>2</td>\n",
       "      <td>0</td>\n",
       "      <td>3</td>\n",
       "      <td>188</td>\n",
       "      <td>6</td>\n",
       "      <td>120</td>\n",
       "      <td>189.0</td>\n",
       "      <td>0</td>\n",
       "      <td>01</td>\n",
       "      <td>0</td>\n",
       "      <td>0</td>\n",
       "      <td>Adelaide Strikers</td>\n",
       "    </tr>\n",
       "    <tr>\n",
       "      <th>487</th>\n",
       "      <td>Adelaide Strikers</td>\n",
       "      <td>1</td>\n",
       "      <td>0</td>\n",
       "      <td>Adelaide Strikers</td>\n",
       "      <td>120</td>\n",
       "      <td>120</td>\n",
       "      <td>1</td>\n",
       "      <td>1</td>\n",
       "      <td>0</td>\n",
       "      <td>3</td>\n",
       "      <td>184</td>\n",
       "      <td>6</td>\n",
       "      <td>120</td>\n",
       "      <td>185.0</td>\n",
       "      <td>0</td>\n",
       "      <td>01</td>\n",
       "      <td>0</td>\n",
       "      <td>0</td>\n",
       "      <td>Adelaide Strikers</td>\n",
       "    </tr>\n",
       "    <tr>\n",
       "      <th>489</th>\n",
       "      <td>Perth Scorchers</td>\n",
       "      <td>1</td>\n",
       "      <td>0</td>\n",
       "      <td>Sydney Sixers</td>\n",
       "      <td>120</td>\n",
       "      <td>120</td>\n",
       "      <td>0</td>\n",
       "      <td>1</td>\n",
       "      <td>0</td>\n",
       "      <td>4</td>\n",
       "      <td>171</td>\n",
       "      <td>6</td>\n",
       "      <td>120</td>\n",
       "      <td>172.0</td>\n",
       "      <td>0</td>\n",
       "      <td>01</td>\n",
       "      <td>0</td>\n",
       "      <td>0</td>\n",
       "      <td>Perth Scorchers</td>\n",
       "    </tr>\n",
       "  </tbody>\n",
       "</table>\n",
       "</div>"
      ],
      "text/plain": [
       "                 team1  neutral_venue  home_venue        toss_winner  \\\n",
       "483    Melbourne Stars              0           1  Hobart Hurricanes   \n",
       "485    Perth Scorchers              1           0    Perth Scorchers   \n",
       "486  Adelaide Strikers              1           0  Adelaide Strikers   \n",
       "487  Adelaide Strikers              1           0  Adelaide Strikers   \n",
       "489    Perth Scorchers              1           0      Sydney Sixers   \n",
       "\n",
       "     max_balls_team1  balls_team1  byes_team1  leg_byes_team1  no_balls_team1  \\\n",
       "483              120          120           0               1               0   \n",
       "485              120          120           0               3               0   \n",
       "486              120          120           0               2               0   \n",
       "487              120          120           1               1               0   \n",
       "489              120          120           0               1               0   \n",
       "\n",
       "     wides_team1  runs_team1  wickets_team1  max_balls_team2  target_team2  \\\n",
       "483            5         273              2              120         274.0   \n",
       "485            3         189              3              120         190.0   \n",
       "486            3         188              6              120         189.0   \n",
       "487            3         184              6              120         185.0   \n",
       "489            4         171              6              120         172.0   \n",
       "\n",
       "     derby start_month  month_02  month_12             victor  \n",
       "483      0          01         0         0    Melbourne Stars  \n",
       "485      0          01         0         0    Perth Scorchers  \n",
       "486      0          01         0         0  Adelaide Strikers  \n",
       "487      0          01         0         0  Adelaide Strikers  \n",
       "489      0          01         0         0    Perth Scorchers  "
      ]
     },
     "execution_count": 22,
     "metadata": {},
     "output_type": "execute_result"
    }
   ],
   "source": [
    "# Instances when the first inning team is team1\n",
    "t1_col = ['team1', 'neutral_venue', 'home_venue', 'toss_winner', 'max_balls_team1', 'balls_team1', 'byes_team1', 'leg_byes_team1', 'no_balls_team1', \n",
    "          'wides_team1', 'runs_team1', 'wickets_team1', 'max_balls_team2', 'target_team2', 'derby', 'start_month', 'month_02', 'month_12', 'victor']\n",
    "t1 = data.loc[data['team1'] == data['first_innings'], t1_col]\n",
    "t1.tail()"
   ]
  },
  {
   "cell_type": "code",
   "execution_count": 23,
   "id": "5b26202f",
   "metadata": {
    "ExecuteTime": {
     "end_time": "2022-08-08T05:34:25.800425Z",
     "start_time": "2022-08-08T05:34:25.785421Z"
    }
   },
   "outputs": [
    {
     "data": {
      "text/html": [
       "<div>\n",
       "<style scoped>\n",
       "    .dataframe tbody tr th:only-of-type {\n",
       "        vertical-align: middle;\n",
       "    }\n",
       "\n",
       "    .dataframe tbody tr th {\n",
       "        vertical-align: top;\n",
       "    }\n",
       "\n",
       "    .dataframe thead th {\n",
       "        text-align: right;\n",
       "    }\n",
       "</style>\n",
       "<table border=\"1\" class=\"dataframe\">\n",
       "  <thead>\n",
       "    <tr style=\"text-align: right;\">\n",
       "      <th></th>\n",
       "      <th>team1</th>\n",
       "      <th>neutral_venue</th>\n",
       "      <th>home_venue</th>\n",
       "      <th>toss_winner</th>\n",
       "      <th>max_balls_team1</th>\n",
       "      <th>balls_team1</th>\n",
       "      <th>byes_team1</th>\n",
       "      <th>leg_byes_team1</th>\n",
       "      <th>no_balls_team1</th>\n",
       "      <th>wides_team1</th>\n",
       "      <th>runs_team1</th>\n",
       "      <th>wickets_team1</th>\n",
       "      <th>max_balls_team2</th>\n",
       "      <th>target_team2</th>\n",
       "      <th>derby</th>\n",
       "      <th>start_month</th>\n",
       "      <th>month_02</th>\n",
       "      <th>month_12</th>\n",
       "      <th>victor</th>\n",
       "    </tr>\n",
       "  </thead>\n",
       "  <tbody>\n",
       "    <tr>\n",
       "      <th>483</th>\n",
       "      <td>Melbourne Stars</td>\n",
       "      <td>0</td>\n",
       "      <td>1</td>\n",
       "      <td>0</td>\n",
       "      <td>120</td>\n",
       "      <td>120</td>\n",
       "      <td>0</td>\n",
       "      <td>1</td>\n",
       "      <td>0</td>\n",
       "      <td>5</td>\n",
       "      <td>273</td>\n",
       "      <td>2</td>\n",
       "      <td>120</td>\n",
       "      <td>274.0</td>\n",
       "      <td>0</td>\n",
       "      <td>01</td>\n",
       "      <td>0</td>\n",
       "      <td>0</td>\n",
       "      <td>1</td>\n",
       "    </tr>\n",
       "    <tr>\n",
       "      <th>485</th>\n",
       "      <td>Perth Scorchers</td>\n",
       "      <td>1</td>\n",
       "      <td>0</td>\n",
       "      <td>1</td>\n",
       "      <td>120</td>\n",
       "      <td>120</td>\n",
       "      <td>0</td>\n",
       "      <td>3</td>\n",
       "      <td>0</td>\n",
       "      <td>3</td>\n",
       "      <td>189</td>\n",
       "      <td>3</td>\n",
       "      <td>120</td>\n",
       "      <td>190.0</td>\n",
       "      <td>0</td>\n",
       "      <td>01</td>\n",
       "      <td>0</td>\n",
       "      <td>0</td>\n",
       "      <td>1</td>\n",
       "    </tr>\n",
       "    <tr>\n",
       "      <th>486</th>\n",
       "      <td>Adelaide Strikers</td>\n",
       "      <td>1</td>\n",
       "      <td>0</td>\n",
       "      <td>1</td>\n",
       "      <td>120</td>\n",
       "      <td>120</td>\n",
       "      <td>0</td>\n",
       "      <td>2</td>\n",
       "      <td>0</td>\n",
       "      <td>3</td>\n",
       "      <td>188</td>\n",
       "      <td>6</td>\n",
       "      <td>120</td>\n",
       "      <td>189.0</td>\n",
       "      <td>0</td>\n",
       "      <td>01</td>\n",
       "      <td>0</td>\n",
       "      <td>0</td>\n",
       "      <td>1</td>\n",
       "    </tr>\n",
       "    <tr>\n",
       "      <th>487</th>\n",
       "      <td>Adelaide Strikers</td>\n",
       "      <td>1</td>\n",
       "      <td>0</td>\n",
       "      <td>1</td>\n",
       "      <td>120</td>\n",
       "      <td>120</td>\n",
       "      <td>1</td>\n",
       "      <td>1</td>\n",
       "      <td>0</td>\n",
       "      <td>3</td>\n",
       "      <td>184</td>\n",
       "      <td>6</td>\n",
       "      <td>120</td>\n",
       "      <td>185.0</td>\n",
       "      <td>0</td>\n",
       "      <td>01</td>\n",
       "      <td>0</td>\n",
       "      <td>0</td>\n",
       "      <td>1</td>\n",
       "    </tr>\n",
       "    <tr>\n",
       "      <th>489</th>\n",
       "      <td>Perth Scorchers</td>\n",
       "      <td>1</td>\n",
       "      <td>0</td>\n",
       "      <td>0</td>\n",
       "      <td>120</td>\n",
       "      <td>120</td>\n",
       "      <td>0</td>\n",
       "      <td>1</td>\n",
       "      <td>0</td>\n",
       "      <td>4</td>\n",
       "      <td>171</td>\n",
       "      <td>6</td>\n",
       "      <td>120</td>\n",
       "      <td>172.0</td>\n",
       "      <td>0</td>\n",
       "      <td>01</td>\n",
       "      <td>0</td>\n",
       "      <td>0</td>\n",
       "      <td>1</td>\n",
       "    </tr>\n",
       "  </tbody>\n",
       "</table>\n",
       "</div>"
      ],
      "text/plain": [
       "                 team1  neutral_venue  home_venue  toss_winner  \\\n",
       "483    Melbourne Stars              0           1            0   \n",
       "485    Perth Scorchers              1           0            1   \n",
       "486  Adelaide Strikers              1           0            1   \n",
       "487  Adelaide Strikers              1           0            1   \n",
       "489    Perth Scorchers              1           0            0   \n",
       "\n",
       "     max_balls_team1  balls_team1  byes_team1  leg_byes_team1  no_balls_team1  \\\n",
       "483              120          120           0               1               0   \n",
       "485              120          120           0               3               0   \n",
       "486              120          120           0               2               0   \n",
       "487              120          120           1               1               0   \n",
       "489              120          120           0               1               0   \n",
       "\n",
       "     wides_team1  runs_team1  wickets_team1  max_balls_team2  target_team2  \\\n",
       "483            5         273              2              120         274.0   \n",
       "485            3         189              3              120         190.0   \n",
       "486            3         188              6              120         189.0   \n",
       "487            3         184              6              120         185.0   \n",
       "489            4         171              6              120         172.0   \n",
       "\n",
       "     derby start_month  month_02  month_12  victor  \n",
       "483      0          01         0         0       1  \n",
       "485      0          01         0         0       1  \n",
       "486      0          01         0         0       1  \n",
       "487      0          01         0         0       1  \n",
       "489      0          01         0         0       1  "
      ]
     },
     "execution_count": 23,
     "metadata": {},
     "output_type": "execute_result"
    }
   ],
   "source": [
    "# Convert to binary for toss_winner and victor\n",
    "t1['toss_winner'] = t1.apply(lambda x: 1 if x['team1'] == x['toss_winner'] else 0, axis=1)\n",
    "t1['victor'] = t1.apply(lambda x: 1 if x['team1'] == x['victor'] else 0, axis=1)\n",
    "t1.tail()"
   ]
  },
  {
   "cell_type": "code",
   "execution_count": 24,
   "id": "247dc51d",
   "metadata": {
    "ExecuteTime": {
     "end_time": "2022-08-08T05:34:25.816428Z",
     "start_time": "2022-08-08T05:34:25.801425Z"
    }
   },
   "outputs": [
    {
     "data": {
      "text/html": [
       "<div>\n",
       "<style scoped>\n",
       "    .dataframe tbody tr th:only-of-type {\n",
       "        vertical-align: middle;\n",
       "    }\n",
       "\n",
       "    .dataframe tbody tr th {\n",
       "        vertical-align: top;\n",
       "    }\n",
       "\n",
       "    .dataframe thead th {\n",
       "        text-align: right;\n",
       "    }\n",
       "</style>\n",
       "<table border=\"1\" class=\"dataframe\">\n",
       "  <thead>\n",
       "    <tr style=\"text-align: right;\">\n",
       "      <th></th>\n",
       "      <th>team</th>\n",
       "      <th>neutral_venue</th>\n",
       "      <th>home_venue</th>\n",
       "      <th>toss_winner</th>\n",
       "      <th>max_balls_first</th>\n",
       "      <th>balls</th>\n",
       "      <th>byes</th>\n",
       "      <th>leg_byes</th>\n",
       "      <th>no_balls</th>\n",
       "      <th>wides</th>\n",
       "      <th>runs</th>\n",
       "      <th>wickets</th>\n",
       "      <th>max_balls_second</th>\n",
       "      <th>target</th>\n",
       "      <th>derby</th>\n",
       "      <th>start_month</th>\n",
       "      <th>month_02</th>\n",
       "      <th>month_12</th>\n",
       "      <th>victor</th>\n",
       "    </tr>\n",
       "  </thead>\n",
       "  <tbody>\n",
       "    <tr>\n",
       "      <th>483</th>\n",
       "      <td>Melbourne Stars</td>\n",
       "      <td>0</td>\n",
       "      <td>1</td>\n",
       "      <td>0</td>\n",
       "      <td>120</td>\n",
       "      <td>120</td>\n",
       "      <td>0</td>\n",
       "      <td>1</td>\n",
       "      <td>0</td>\n",
       "      <td>5</td>\n",
       "      <td>273</td>\n",
       "      <td>2</td>\n",
       "      <td>120</td>\n",
       "      <td>274.0</td>\n",
       "      <td>0</td>\n",
       "      <td>01</td>\n",
       "      <td>0</td>\n",
       "      <td>0</td>\n",
       "      <td>1</td>\n",
       "    </tr>\n",
       "    <tr>\n",
       "      <th>485</th>\n",
       "      <td>Perth Scorchers</td>\n",
       "      <td>1</td>\n",
       "      <td>0</td>\n",
       "      <td>1</td>\n",
       "      <td>120</td>\n",
       "      <td>120</td>\n",
       "      <td>0</td>\n",
       "      <td>3</td>\n",
       "      <td>0</td>\n",
       "      <td>3</td>\n",
       "      <td>189</td>\n",
       "      <td>3</td>\n",
       "      <td>120</td>\n",
       "      <td>190.0</td>\n",
       "      <td>0</td>\n",
       "      <td>01</td>\n",
       "      <td>0</td>\n",
       "      <td>0</td>\n",
       "      <td>1</td>\n",
       "    </tr>\n",
       "    <tr>\n",
       "      <th>486</th>\n",
       "      <td>Adelaide Strikers</td>\n",
       "      <td>1</td>\n",
       "      <td>0</td>\n",
       "      <td>1</td>\n",
       "      <td>120</td>\n",
       "      <td>120</td>\n",
       "      <td>0</td>\n",
       "      <td>2</td>\n",
       "      <td>0</td>\n",
       "      <td>3</td>\n",
       "      <td>188</td>\n",
       "      <td>6</td>\n",
       "      <td>120</td>\n",
       "      <td>189.0</td>\n",
       "      <td>0</td>\n",
       "      <td>01</td>\n",
       "      <td>0</td>\n",
       "      <td>0</td>\n",
       "      <td>1</td>\n",
       "    </tr>\n",
       "    <tr>\n",
       "      <th>487</th>\n",
       "      <td>Adelaide Strikers</td>\n",
       "      <td>1</td>\n",
       "      <td>0</td>\n",
       "      <td>1</td>\n",
       "      <td>120</td>\n",
       "      <td>120</td>\n",
       "      <td>1</td>\n",
       "      <td>1</td>\n",
       "      <td>0</td>\n",
       "      <td>3</td>\n",
       "      <td>184</td>\n",
       "      <td>6</td>\n",
       "      <td>120</td>\n",
       "      <td>185.0</td>\n",
       "      <td>0</td>\n",
       "      <td>01</td>\n",
       "      <td>0</td>\n",
       "      <td>0</td>\n",
       "      <td>1</td>\n",
       "    </tr>\n",
       "    <tr>\n",
       "      <th>489</th>\n",
       "      <td>Perth Scorchers</td>\n",
       "      <td>1</td>\n",
       "      <td>0</td>\n",
       "      <td>0</td>\n",
       "      <td>120</td>\n",
       "      <td>120</td>\n",
       "      <td>0</td>\n",
       "      <td>1</td>\n",
       "      <td>0</td>\n",
       "      <td>4</td>\n",
       "      <td>171</td>\n",
       "      <td>6</td>\n",
       "      <td>120</td>\n",
       "      <td>172.0</td>\n",
       "      <td>0</td>\n",
       "      <td>01</td>\n",
       "      <td>0</td>\n",
       "      <td>0</td>\n",
       "      <td>1</td>\n",
       "    </tr>\n",
       "  </tbody>\n",
       "</table>\n",
       "</div>"
      ],
      "text/plain": [
       "                  team  neutral_venue  home_venue  toss_winner  \\\n",
       "483    Melbourne Stars              0           1            0   \n",
       "485    Perth Scorchers              1           0            1   \n",
       "486  Adelaide Strikers              1           0            1   \n",
       "487  Adelaide Strikers              1           0            1   \n",
       "489    Perth Scorchers              1           0            0   \n",
       "\n",
       "     max_balls_first  balls  byes  leg_byes  no_balls  wides  runs  wickets  \\\n",
       "483              120    120     0         1         0      5   273        2   \n",
       "485              120    120     0         3         0      3   189        3   \n",
       "486              120    120     0         2         0      3   188        6   \n",
       "487              120    120     1         1         0      3   184        6   \n",
       "489              120    120     0         1         0      4   171        6   \n",
       "\n",
       "     max_balls_second  target  derby start_month  month_02  month_12  victor  \n",
       "483               120   274.0      0          01         0         0       1  \n",
       "485               120   190.0      0          01         0         0       1  \n",
       "486               120   189.0      0          01         0         0       1  \n",
       "487               120   185.0      0          01         0         0       1  \n",
       "489               120   172.0      0          01         0         0       1  "
      ]
     },
     "execution_count": 24,
     "metadata": {},
     "output_type": "execute_result"
    }
   ],
   "source": [
    "# Rename columns\n",
    "t1 = t1.rename(columns={'team1':'team', 'max_balls_team1':'max_balls_first', 'balls_team1':'balls', 'byes_team1':'byes', 'leg_byes_team1':'leg_byes', \n",
    "                        'no_balls_team1':'no_balls', 'wides_team1':'wides', 'runs_team1':'runs', 'wickets_team1':'wickets', 'max_balls_team2':'max_balls_second', 'target_team2':'target'})\n",
    "t1.tail()"
   ]
  },
  {
   "cell_type": "markdown",
   "id": "169415ef",
   "metadata": {},
   "source": [
    "**For team2**"
   ]
  },
  {
   "cell_type": "code",
   "execution_count": 25,
   "id": "50cdbb42",
   "metadata": {
    "ExecuteTime": {
     "end_time": "2022-08-08T05:34:25.832432Z",
     "start_time": "2022-08-08T05:34:25.817429Z"
    }
   },
   "outputs": [
    {
     "data": {
      "text/html": [
       "<div>\n",
       "<style scoped>\n",
       "    .dataframe tbody tr th:only-of-type {\n",
       "        vertical-align: middle;\n",
       "    }\n",
       "\n",
       "    .dataframe tbody tr th {\n",
       "        vertical-align: top;\n",
       "    }\n",
       "\n",
       "    .dataframe thead th {\n",
       "        text-align: right;\n",
       "    }\n",
       "</style>\n",
       "<table border=\"1\" class=\"dataframe\">\n",
       "  <thead>\n",
       "    <tr style=\"text-align: right;\">\n",
       "      <th></th>\n",
       "      <th>team2</th>\n",
       "      <th>neutral_venue</th>\n",
       "      <th>home_venue</th>\n",
       "      <th>toss_winner</th>\n",
       "      <th>max_balls_team2</th>\n",
       "      <th>balls_team2</th>\n",
       "      <th>byes_team2</th>\n",
       "      <th>leg_byes_team2</th>\n",
       "      <th>no_balls_team2</th>\n",
       "      <th>wides_team2</th>\n",
       "      <th>runs_team2</th>\n",
       "      <th>wickets_team2</th>\n",
       "      <th>max_balls_team1</th>\n",
       "      <th>target_team1</th>\n",
       "      <th>derby</th>\n",
       "      <th>start_month</th>\n",
       "      <th>month_02</th>\n",
       "      <th>month_12</th>\n",
       "      <th>victor</th>\n",
       "    </tr>\n",
       "  </thead>\n",
       "  <tbody>\n",
       "    <tr>\n",
       "      <th>0</th>\n",
       "      <td>Sydney Sixers</td>\n",
       "      <td>1</td>\n",
       "      <td>0</td>\n",
       "      <td>Sydney Sixers</td>\n",
       "      <td>120</td>\n",
       "      <td>120</td>\n",
       "      <td>0</td>\n",
       "      <td>3</td>\n",
       "      <td>0</td>\n",
       "      <td>5</td>\n",
       "      <td>147</td>\n",
       "      <td>5</td>\n",
       "      <td>120</td>\n",
       "      <td>148.0</td>\n",
       "      <td>0</td>\n",
       "      <td>01</td>\n",
       "      <td>0</td>\n",
       "      <td>0</td>\n",
       "      <td>Perth Scorchers</td>\n",
       "    </tr>\n",
       "    <tr>\n",
       "      <th>5</th>\n",
       "      <td>Hobart Hurricanes</td>\n",
       "      <td>0</td>\n",
       "      <td>0</td>\n",
       "      <td>Hobart Hurricanes</td>\n",
       "      <td>120</td>\n",
       "      <td>120</td>\n",
       "      <td>1</td>\n",
       "      <td>2</td>\n",
       "      <td>0</td>\n",
       "      <td>2</td>\n",
       "      <td>136</td>\n",
       "      <td>8</td>\n",
       "      <td>120</td>\n",
       "      <td>137.0</td>\n",
       "      <td>0</td>\n",
       "      <td>12</td>\n",
       "      <td>0</td>\n",
       "      <td>1</td>\n",
       "      <td>Adelaide Strikers</td>\n",
       "    </tr>\n",
       "    <tr>\n",
       "      <th>6</th>\n",
       "      <td>Sydney Thunder</td>\n",
       "      <td>0</td>\n",
       "      <td>0</td>\n",
       "      <td>Melbourne Renegades</td>\n",
       "      <td>120</td>\n",
       "      <td>120</td>\n",
       "      <td>0</td>\n",
       "      <td>0</td>\n",
       "      <td>1</td>\n",
       "      <td>4</td>\n",
       "      <td>114</td>\n",
       "      <td>6</td>\n",
       "      <td>120</td>\n",
       "      <td>115.0</td>\n",
       "      <td>0</td>\n",
       "      <td>12</td>\n",
       "      <td>0</td>\n",
       "      <td>1</td>\n",
       "      <td>Melbourne Renegades</td>\n",
       "    </tr>\n",
       "    <tr>\n",
       "      <th>7</th>\n",
       "      <td>Perth Scorchers</td>\n",
       "      <td>0</td>\n",
       "      <td>0</td>\n",
       "      <td>Perth Scorchers</td>\n",
       "      <td>120</td>\n",
       "      <td>120</td>\n",
       "      <td>0</td>\n",
       "      <td>1</td>\n",
       "      <td>0</td>\n",
       "      <td>1</td>\n",
       "      <td>135</td>\n",
       "      <td>7</td>\n",
       "      <td>120</td>\n",
       "      <td>136.0</td>\n",
       "      <td>0</td>\n",
       "      <td>12</td>\n",
       "      <td>0</td>\n",
       "      <td>1</td>\n",
       "      <td>Perth Scorchers</td>\n",
       "    </tr>\n",
       "    <tr>\n",
       "      <th>9</th>\n",
       "      <td>Perth Scorchers</td>\n",
       "      <td>0</td>\n",
       "      <td>0</td>\n",
       "      <td>Perth Scorchers</td>\n",
       "      <td>120</td>\n",
       "      <td>120</td>\n",
       "      <td>4</td>\n",
       "      <td>1</td>\n",
       "      <td>0</td>\n",
       "      <td>1</td>\n",
       "      <td>141</td>\n",
       "      <td>8</td>\n",
       "      <td>120</td>\n",
       "      <td>142.0</td>\n",
       "      <td>0</td>\n",
       "      <td>01</td>\n",
       "      <td>0</td>\n",
       "      <td>0</td>\n",
       "      <td>Perth Scorchers</td>\n",
       "    </tr>\n",
       "  </tbody>\n",
       "</table>\n",
       "</div>"
      ],
      "text/plain": [
       "               team2  neutral_venue  home_venue          toss_winner  \\\n",
       "0      Sydney Sixers              1           0        Sydney Sixers   \n",
       "5  Hobart Hurricanes              0           0    Hobart Hurricanes   \n",
       "6     Sydney Thunder              0           0  Melbourne Renegades   \n",
       "7    Perth Scorchers              0           0      Perth Scorchers   \n",
       "9    Perth Scorchers              0           0      Perth Scorchers   \n",
       "\n",
       "   max_balls_team2  balls_team2  byes_team2  leg_byes_team2  no_balls_team2  \\\n",
       "0              120          120           0               3               0   \n",
       "5              120          120           1               2               0   \n",
       "6              120          120           0               0               1   \n",
       "7              120          120           0               1               0   \n",
       "9              120          120           4               1               0   \n",
       "\n",
       "   wides_team2  runs_team2  wickets_team2  max_balls_team1  target_team1  \\\n",
       "0            5         147              5              120         148.0   \n",
       "5            2         136              8              120         137.0   \n",
       "6            4         114              6              120         115.0   \n",
       "7            1         135              7              120         136.0   \n",
       "9            1         141              8              120         142.0   \n",
       "\n",
       "   derby start_month  month_02  month_12               victor  \n",
       "0      0          01         0         0      Perth Scorchers  \n",
       "5      0          12         0         1    Adelaide Strikers  \n",
       "6      0          12         0         1  Melbourne Renegades  \n",
       "7      0          12         0         1      Perth Scorchers  \n",
       "9      0          01         0         0      Perth Scorchers  "
      ]
     },
     "execution_count": 25,
     "metadata": {},
     "output_type": "execute_result"
    }
   ],
   "source": [
    "# Instances when the first inning team is team2\n",
    "t2_col = ['team2', 'neutral_venue', 'home_venue', 'toss_winner', 'max_balls_team2', 'balls_team2', 'byes_team2', 'leg_byes_team2', 'no_balls_team2', \n",
    "          'wides_team2', 'runs_team2', 'wickets_team2', 'max_balls_team1', 'target_team1', 'derby', 'start_month', 'month_02', 'month_12', 'victor']\n",
    "t2 = data.loc[data['team2'] == data['first_innings'], t2_col]\n",
    "\n",
    "# For team2, home_venue is always 0\n",
    "t2['home_venue'] = 0\n",
    "t2.head()"
   ]
  },
  {
   "cell_type": "code",
   "execution_count": 26,
   "id": "5d209dc7",
   "metadata": {
    "ExecuteTime": {
     "end_time": "2022-08-08T05:34:25.848436Z",
     "start_time": "2022-08-08T05:34:25.833433Z"
    },
    "scrolled": false
   },
   "outputs": [
    {
     "data": {
      "text/html": [
       "<div>\n",
       "<style scoped>\n",
       "    .dataframe tbody tr th:only-of-type {\n",
       "        vertical-align: middle;\n",
       "    }\n",
       "\n",
       "    .dataframe tbody tr th {\n",
       "        vertical-align: top;\n",
       "    }\n",
       "\n",
       "    .dataframe thead th {\n",
       "        text-align: right;\n",
       "    }\n",
       "</style>\n",
       "<table border=\"1\" class=\"dataframe\">\n",
       "  <thead>\n",
       "    <tr style=\"text-align: right;\">\n",
       "      <th></th>\n",
       "      <th>team2</th>\n",
       "      <th>neutral_venue</th>\n",
       "      <th>home_venue</th>\n",
       "      <th>toss_winner</th>\n",
       "      <th>max_balls_team2</th>\n",
       "      <th>balls_team2</th>\n",
       "      <th>byes_team2</th>\n",
       "      <th>leg_byes_team2</th>\n",
       "      <th>no_balls_team2</th>\n",
       "      <th>wides_team2</th>\n",
       "      <th>runs_team2</th>\n",
       "      <th>wickets_team2</th>\n",
       "      <th>max_balls_team1</th>\n",
       "      <th>target_team1</th>\n",
       "      <th>derby</th>\n",
       "      <th>start_month</th>\n",
       "      <th>month_02</th>\n",
       "      <th>month_12</th>\n",
       "      <th>victor</th>\n",
       "    </tr>\n",
       "  </thead>\n",
       "  <tbody>\n",
       "    <tr>\n",
       "      <th>0</th>\n",
       "      <td>Sydney Sixers</td>\n",
       "      <td>1</td>\n",
       "      <td>0</td>\n",
       "      <td>1</td>\n",
       "      <td>120</td>\n",
       "      <td>120</td>\n",
       "      <td>0</td>\n",
       "      <td>3</td>\n",
       "      <td>0</td>\n",
       "      <td>5</td>\n",
       "      <td>147</td>\n",
       "      <td>5</td>\n",
       "      <td>120</td>\n",
       "      <td>148.0</td>\n",
       "      <td>0</td>\n",
       "      <td>01</td>\n",
       "      <td>0</td>\n",
       "      <td>0</td>\n",
       "      <td>0</td>\n",
       "    </tr>\n",
       "    <tr>\n",
       "      <th>5</th>\n",
       "      <td>Hobart Hurricanes</td>\n",
       "      <td>0</td>\n",
       "      <td>0</td>\n",
       "      <td>1</td>\n",
       "      <td>120</td>\n",
       "      <td>120</td>\n",
       "      <td>1</td>\n",
       "      <td>2</td>\n",
       "      <td>0</td>\n",
       "      <td>2</td>\n",
       "      <td>136</td>\n",
       "      <td>8</td>\n",
       "      <td>120</td>\n",
       "      <td>137.0</td>\n",
       "      <td>0</td>\n",
       "      <td>12</td>\n",
       "      <td>0</td>\n",
       "      <td>1</td>\n",
       "      <td>0</td>\n",
       "    </tr>\n",
       "    <tr>\n",
       "      <th>6</th>\n",
       "      <td>Sydney Thunder</td>\n",
       "      <td>0</td>\n",
       "      <td>0</td>\n",
       "      <td>0</td>\n",
       "      <td>120</td>\n",
       "      <td>120</td>\n",
       "      <td>0</td>\n",
       "      <td>0</td>\n",
       "      <td>1</td>\n",
       "      <td>4</td>\n",
       "      <td>114</td>\n",
       "      <td>6</td>\n",
       "      <td>120</td>\n",
       "      <td>115.0</td>\n",
       "      <td>0</td>\n",
       "      <td>12</td>\n",
       "      <td>0</td>\n",
       "      <td>1</td>\n",
       "      <td>0</td>\n",
       "    </tr>\n",
       "    <tr>\n",
       "      <th>7</th>\n",
       "      <td>Perth Scorchers</td>\n",
       "      <td>0</td>\n",
       "      <td>0</td>\n",
       "      <td>1</td>\n",
       "      <td>120</td>\n",
       "      <td>120</td>\n",
       "      <td>0</td>\n",
       "      <td>1</td>\n",
       "      <td>0</td>\n",
       "      <td>1</td>\n",
       "      <td>135</td>\n",
       "      <td>7</td>\n",
       "      <td>120</td>\n",
       "      <td>136.0</td>\n",
       "      <td>0</td>\n",
       "      <td>12</td>\n",
       "      <td>0</td>\n",
       "      <td>1</td>\n",
       "      <td>1</td>\n",
       "    </tr>\n",
       "    <tr>\n",
       "      <th>9</th>\n",
       "      <td>Perth Scorchers</td>\n",
       "      <td>0</td>\n",
       "      <td>0</td>\n",
       "      <td>1</td>\n",
       "      <td>120</td>\n",
       "      <td>120</td>\n",
       "      <td>4</td>\n",
       "      <td>1</td>\n",
       "      <td>0</td>\n",
       "      <td>1</td>\n",
       "      <td>141</td>\n",
       "      <td>8</td>\n",
       "      <td>120</td>\n",
       "      <td>142.0</td>\n",
       "      <td>0</td>\n",
       "      <td>01</td>\n",
       "      <td>0</td>\n",
       "      <td>0</td>\n",
       "      <td>1</td>\n",
       "    </tr>\n",
       "  </tbody>\n",
       "</table>\n",
       "</div>"
      ],
      "text/plain": [
       "               team2  neutral_venue  home_venue  toss_winner  max_balls_team2  \\\n",
       "0      Sydney Sixers              1           0            1              120   \n",
       "5  Hobart Hurricanes              0           0            1              120   \n",
       "6     Sydney Thunder              0           0            0              120   \n",
       "7    Perth Scorchers              0           0            1              120   \n",
       "9    Perth Scorchers              0           0            1              120   \n",
       "\n",
       "   balls_team2  byes_team2  leg_byes_team2  no_balls_team2  wides_team2  \\\n",
       "0          120           0               3               0            5   \n",
       "5          120           1               2               0            2   \n",
       "6          120           0               0               1            4   \n",
       "7          120           0               1               0            1   \n",
       "9          120           4               1               0            1   \n",
       "\n",
       "   runs_team2  wickets_team2  max_balls_team1  target_team1  derby  \\\n",
       "0         147              5              120         148.0      0   \n",
       "5         136              8              120         137.0      0   \n",
       "6         114              6              120         115.0      0   \n",
       "7         135              7              120         136.0      0   \n",
       "9         141              8              120         142.0      0   \n",
       "\n",
       "  start_month  month_02  month_12  victor  \n",
       "0          01         0         0       0  \n",
       "5          12         0         1       0  \n",
       "6          12         0         1       0  \n",
       "7          12         0         1       1  \n",
       "9          01         0         0       1  "
      ]
     },
     "execution_count": 26,
     "metadata": {},
     "output_type": "execute_result"
    }
   ],
   "source": [
    "# Convert to binary for toss_winner and victor\n",
    "t2['toss_winner'] = t2.apply(lambda x: 1 if x['team2'] == x['toss_winner'] else 0, axis=1)\n",
    "t2['victor'] = t2.apply(lambda x: 1 if x['team2'] == x['victor'] else 0, axis=1)\n",
    "t2.head()"
   ]
  },
  {
   "cell_type": "code",
   "execution_count": 27,
   "id": "dd535264",
   "metadata": {
    "ExecuteTime": {
     "end_time": "2022-08-08T05:34:25.864439Z",
     "start_time": "2022-08-08T05:34:25.849436Z"
    }
   },
   "outputs": [
    {
     "data": {
      "text/html": [
       "<div>\n",
       "<style scoped>\n",
       "    .dataframe tbody tr th:only-of-type {\n",
       "        vertical-align: middle;\n",
       "    }\n",
       "\n",
       "    .dataframe tbody tr th {\n",
       "        vertical-align: top;\n",
       "    }\n",
       "\n",
       "    .dataframe thead th {\n",
       "        text-align: right;\n",
       "    }\n",
       "</style>\n",
       "<table border=\"1\" class=\"dataframe\">\n",
       "  <thead>\n",
       "    <tr style=\"text-align: right;\">\n",
       "      <th></th>\n",
       "      <th>team</th>\n",
       "      <th>neutral_venue</th>\n",
       "      <th>home_venue</th>\n",
       "      <th>toss_winner</th>\n",
       "      <th>max_balls_first</th>\n",
       "      <th>balls</th>\n",
       "      <th>byes</th>\n",
       "      <th>leg_byes</th>\n",
       "      <th>no_balls</th>\n",
       "      <th>wides</th>\n",
       "      <th>runs</th>\n",
       "      <th>wickets</th>\n",
       "      <th>max_balls_second</th>\n",
       "      <th>target</th>\n",
       "      <th>derby</th>\n",
       "      <th>start_month</th>\n",
       "      <th>month_02</th>\n",
       "      <th>month_12</th>\n",
       "      <th>victor</th>\n",
       "    </tr>\n",
       "  </thead>\n",
       "  <tbody>\n",
       "    <tr>\n",
       "      <th>0</th>\n",
       "      <td>Sydney Sixers</td>\n",
       "      <td>1</td>\n",
       "      <td>0</td>\n",
       "      <td>1</td>\n",
       "      <td>120</td>\n",
       "      <td>120</td>\n",
       "      <td>0</td>\n",
       "      <td>3</td>\n",
       "      <td>0</td>\n",
       "      <td>5</td>\n",
       "      <td>147</td>\n",
       "      <td>5</td>\n",
       "      <td>120</td>\n",
       "      <td>148.0</td>\n",
       "      <td>0</td>\n",
       "      <td>01</td>\n",
       "      <td>0</td>\n",
       "      <td>0</td>\n",
       "      <td>0</td>\n",
       "    </tr>\n",
       "    <tr>\n",
       "      <th>5</th>\n",
       "      <td>Hobart Hurricanes</td>\n",
       "      <td>0</td>\n",
       "      <td>0</td>\n",
       "      <td>1</td>\n",
       "      <td>120</td>\n",
       "      <td>120</td>\n",
       "      <td>1</td>\n",
       "      <td>2</td>\n",
       "      <td>0</td>\n",
       "      <td>2</td>\n",
       "      <td>136</td>\n",
       "      <td>8</td>\n",
       "      <td>120</td>\n",
       "      <td>137.0</td>\n",
       "      <td>0</td>\n",
       "      <td>12</td>\n",
       "      <td>0</td>\n",
       "      <td>1</td>\n",
       "      <td>0</td>\n",
       "    </tr>\n",
       "    <tr>\n",
       "      <th>6</th>\n",
       "      <td>Sydney Thunder</td>\n",
       "      <td>0</td>\n",
       "      <td>0</td>\n",
       "      <td>0</td>\n",
       "      <td>120</td>\n",
       "      <td>120</td>\n",
       "      <td>0</td>\n",
       "      <td>0</td>\n",
       "      <td>1</td>\n",
       "      <td>4</td>\n",
       "      <td>114</td>\n",
       "      <td>6</td>\n",
       "      <td>120</td>\n",
       "      <td>115.0</td>\n",
       "      <td>0</td>\n",
       "      <td>12</td>\n",
       "      <td>0</td>\n",
       "      <td>1</td>\n",
       "      <td>0</td>\n",
       "    </tr>\n",
       "    <tr>\n",
       "      <th>7</th>\n",
       "      <td>Perth Scorchers</td>\n",
       "      <td>0</td>\n",
       "      <td>0</td>\n",
       "      <td>1</td>\n",
       "      <td>120</td>\n",
       "      <td>120</td>\n",
       "      <td>0</td>\n",
       "      <td>1</td>\n",
       "      <td>0</td>\n",
       "      <td>1</td>\n",
       "      <td>135</td>\n",
       "      <td>7</td>\n",
       "      <td>120</td>\n",
       "      <td>136.0</td>\n",
       "      <td>0</td>\n",
       "      <td>12</td>\n",
       "      <td>0</td>\n",
       "      <td>1</td>\n",
       "      <td>1</td>\n",
       "    </tr>\n",
       "    <tr>\n",
       "      <th>9</th>\n",
       "      <td>Perth Scorchers</td>\n",
       "      <td>0</td>\n",
       "      <td>0</td>\n",
       "      <td>1</td>\n",
       "      <td>120</td>\n",
       "      <td>120</td>\n",
       "      <td>4</td>\n",
       "      <td>1</td>\n",
       "      <td>0</td>\n",
       "      <td>1</td>\n",
       "      <td>141</td>\n",
       "      <td>8</td>\n",
       "      <td>120</td>\n",
       "      <td>142.0</td>\n",
       "      <td>0</td>\n",
       "      <td>01</td>\n",
       "      <td>0</td>\n",
       "      <td>0</td>\n",
       "      <td>1</td>\n",
       "    </tr>\n",
       "  </tbody>\n",
       "</table>\n",
       "</div>"
      ],
      "text/plain": [
       "                team  neutral_venue  home_venue  toss_winner  max_balls_first  \\\n",
       "0      Sydney Sixers              1           0            1              120   \n",
       "5  Hobart Hurricanes              0           0            1              120   \n",
       "6     Sydney Thunder              0           0            0              120   \n",
       "7    Perth Scorchers              0           0            1              120   \n",
       "9    Perth Scorchers              0           0            1              120   \n",
       "\n",
       "   balls  byes  leg_byes  no_balls  wides  runs  wickets  max_balls_second  \\\n",
       "0    120     0         3         0      5   147        5               120   \n",
       "5    120     1         2         0      2   136        8               120   \n",
       "6    120     0         0         1      4   114        6               120   \n",
       "7    120     0         1         0      1   135        7               120   \n",
       "9    120     4         1         0      1   141        8               120   \n",
       "\n",
       "   target  derby start_month  month_02  month_12  victor  \n",
       "0   148.0      0          01         0         0       0  \n",
       "5   137.0      0          12         0         1       0  \n",
       "6   115.0      0          12         0         1       0  \n",
       "7   136.0      0          12         0         1       1  \n",
       "9   142.0      0          01         0         0       1  "
      ]
     },
     "execution_count": 27,
     "metadata": {},
     "output_type": "execute_result"
    }
   ],
   "source": [
    "# Rename columns\n",
    "t2 = t2.rename(columns={'team2':'team', 'max_balls_team2': 'max_balls_first', 'balls_team2':'balls', 'byes_team2':'byes', 'leg_byes_team2':'leg_byes', \n",
    "                        'no_balls_team2':'no_balls', 'wides_team2':'wides', 'runs_team2':'runs', 'wickets_team2':'wickets', 'max_balls_team1':'max_balls_second', 'target_team1':'target'})\n",
    "t2.head()"
   ]
  },
  {
   "cell_type": "markdown",
   "id": "adb57995",
   "metadata": {},
   "source": [
    "**Combine team1 and team2**"
   ]
  },
  {
   "cell_type": "code",
   "execution_count": 28,
   "id": "d3278419",
   "metadata": {
    "ExecuteTime": {
     "end_time": "2022-08-08T05:34:25.879443Z",
     "start_time": "2022-08-08T05:34:25.865440Z"
    }
   },
   "outputs": [
    {
     "data": {
      "text/html": [
       "<div>\n",
       "<style scoped>\n",
       "    .dataframe tbody tr th:only-of-type {\n",
       "        vertical-align: middle;\n",
       "    }\n",
       "\n",
       "    .dataframe tbody tr th {\n",
       "        vertical-align: top;\n",
       "    }\n",
       "\n",
       "    .dataframe thead th {\n",
       "        text-align: right;\n",
       "    }\n",
       "</style>\n",
       "<table border=\"1\" class=\"dataframe\">\n",
       "  <thead>\n",
       "    <tr style=\"text-align: right;\">\n",
       "      <th></th>\n",
       "      <th>team</th>\n",
       "      <th>neutral_venue</th>\n",
       "      <th>home_venue</th>\n",
       "      <th>toss_winner</th>\n",
       "      <th>max_balls_first</th>\n",
       "      <th>balls</th>\n",
       "      <th>byes</th>\n",
       "      <th>leg_byes</th>\n",
       "      <th>no_balls</th>\n",
       "      <th>wides</th>\n",
       "      <th>runs</th>\n",
       "      <th>wickets</th>\n",
       "      <th>max_balls_second</th>\n",
       "      <th>target</th>\n",
       "      <th>derby</th>\n",
       "      <th>start_month</th>\n",
       "      <th>month_02</th>\n",
       "      <th>month_12</th>\n",
       "      <th>victor</th>\n",
       "    </tr>\n",
       "  </thead>\n",
       "  <tbody>\n",
       "    <tr>\n",
       "      <th>4</th>\n",
       "      <td>Perth Scorchers</td>\n",
       "      <td>0</td>\n",
       "      <td>1</td>\n",
       "      <td>1</td>\n",
       "      <td>120</td>\n",
       "      <td>120</td>\n",
       "      <td>0</td>\n",
       "      <td>2</td>\n",
       "      <td>0</td>\n",
       "      <td>3</td>\n",
       "      <td>144</td>\n",
       "      <td>7</td>\n",
       "      <td>120</td>\n",
       "      <td>145.0</td>\n",
       "      <td>0</td>\n",
       "      <td>01</td>\n",
       "      <td>0</td>\n",
       "      <td>0</td>\n",
       "      <td>1</td>\n",
       "    </tr>\n",
       "    <tr>\n",
       "      <th>8</th>\n",
       "      <td>Brisbane Heat</td>\n",
       "      <td>0</td>\n",
       "      <td>1</td>\n",
       "      <td>0</td>\n",
       "      <td>120</td>\n",
       "      <td>120</td>\n",
       "      <td>2</td>\n",
       "      <td>0</td>\n",
       "      <td>1</td>\n",
       "      <td>2</td>\n",
       "      <td>164</td>\n",
       "      <td>8</td>\n",
       "      <td>120</td>\n",
       "      <td>165.0</td>\n",
       "      <td>0</td>\n",
       "      <td>12</td>\n",
       "      <td>0</td>\n",
       "      <td>1</td>\n",
       "      <td>1</td>\n",
       "    </tr>\n",
       "    <tr>\n",
       "      <th>12</th>\n",
       "      <td>Sydney Thunder</td>\n",
       "      <td>0</td>\n",
       "      <td>1</td>\n",
       "      <td>0</td>\n",
       "      <td>120</td>\n",
       "      <td>120</td>\n",
       "      <td>2</td>\n",
       "      <td>2</td>\n",
       "      <td>0</td>\n",
       "      <td>1</td>\n",
       "      <td>106</td>\n",
       "      <td>8</td>\n",
       "      <td>120</td>\n",
       "      <td>107.0</td>\n",
       "      <td>0</td>\n",
       "      <td>01</td>\n",
       "      <td>0</td>\n",
       "      <td>0</td>\n",
       "      <td>0</td>\n",
       "    </tr>\n",
       "    <tr>\n",
       "      <th>13</th>\n",
       "      <td>Brisbane Heat</td>\n",
       "      <td>0</td>\n",
       "      <td>1</td>\n",
       "      <td>0</td>\n",
       "      <td>120</td>\n",
       "      <td>120</td>\n",
       "      <td>0</td>\n",
       "      <td>0</td>\n",
       "      <td>0</td>\n",
       "      <td>3</td>\n",
       "      <td>198</td>\n",
       "      <td>6</td>\n",
       "      <td>120</td>\n",
       "      <td>199.0</td>\n",
       "      <td>0</td>\n",
       "      <td>01</td>\n",
       "      <td>0</td>\n",
       "      <td>0</td>\n",
       "      <td>1</td>\n",
       "    </tr>\n",
       "    <tr>\n",
       "      <th>16</th>\n",
       "      <td>Sydney Thunder</td>\n",
       "      <td>0</td>\n",
       "      <td>1</td>\n",
       "      <td>0</td>\n",
       "      <td>120</td>\n",
       "      <td>102</td>\n",
       "      <td>0</td>\n",
       "      <td>0</td>\n",
       "      <td>0</td>\n",
       "      <td>3</td>\n",
       "      <td>77</td>\n",
       "      <td>7</td>\n",
       "      <td>102</td>\n",
       "      <td>82.0</td>\n",
       "      <td>0</td>\n",
       "      <td>01</td>\n",
       "      <td>0</td>\n",
       "      <td>0</td>\n",
       "      <td>0</td>\n",
       "    </tr>\n",
       "  </tbody>\n",
       "</table>\n",
       "</div>"
      ],
      "text/plain": [
       "               team  neutral_venue  home_venue  toss_winner  max_balls_first  \\\n",
       "4   Perth Scorchers              0           1            1              120   \n",
       "8     Brisbane Heat              0           1            0              120   \n",
       "12   Sydney Thunder              0           1            0              120   \n",
       "13    Brisbane Heat              0           1            0              120   \n",
       "16   Sydney Thunder              0           1            0              120   \n",
       "\n",
       "    balls  byes  leg_byes  no_balls  wides  runs  wickets  max_balls_second  \\\n",
       "4     120     0         2         0      3   144        7               120   \n",
       "8     120     2         0         1      2   164        8               120   \n",
       "12    120     2         2         0      1   106        8               120   \n",
       "13    120     0         0         0      3   198        6               120   \n",
       "16    102     0         0         0      3    77        7               102   \n",
       "\n",
       "    target  derby start_month  month_02  month_12  victor  \n",
       "4    145.0      0          01         0         0       1  \n",
       "8    165.0      0          12         0         1       1  \n",
       "12   107.0      0          01         0         0       0  \n",
       "13   199.0      0          01         0         0       1  \n",
       "16    82.0      0          01         0         0       0  "
      ]
     },
     "execution_count": 28,
     "metadata": {},
     "output_type": "execute_result"
    }
   ],
   "source": [
    "data2 = pd.concat([t1, t2], axis=0)\n",
    "data2.head()"
   ]
  },
  {
   "cell_type": "code",
   "execution_count": 29,
   "id": "ed229cc7",
   "metadata": {
    "ExecuteTime": {
     "end_time": "2022-08-08T05:34:25.894446Z",
     "start_time": "2022-08-08T05:34:25.881443Z"
    }
   },
   "outputs": [],
   "source": [
    "# Save it as pickle to save the dtypes\n",
    "# data2.to_pickle('./data/pjt03_specific_data.pkl')"
   ]
  },
  {
   "cell_type": "markdown",
   "id": "3fed84a1",
   "metadata": {},
   "source": [
    "**Train/Test split**"
   ]
  },
  {
   "cell_type": "code",
   "execution_count": 30,
   "id": "b39b045e",
   "metadata": {
    "ExecuteTime": {
     "end_time": "2022-08-08T05:34:25.910450Z",
     "start_time": "2022-08-08T05:34:25.895447Z"
    }
   },
   "outputs": [
    {
     "data": {
      "text/plain": [
       "((376, 16), (95,))"
      ]
     },
     "execution_count": 30,
     "metadata": {},
     "output_type": "execute_result"
    }
   ],
   "source": [
    "X = data2[['neutral_venue', 'home_venue', 'toss_winner', 'max_balls_first', 'balls', 'byes', 'leg_byes', 'no_balls', 'wides', 'runs', 'wickets', 'max_balls_second', 'target', 'derby', 'month_02', 'month_12']]\n",
    "y = data2['victor']\n",
    "\n",
    "X_train, X_test, y_train, y_test = train_test_split(X, y, test_size=0.2, random_state=0)\n",
    "X_train.shape, y_test.shape"
   ]
  },
  {
   "cell_type": "markdown",
   "id": "20b271dd",
   "metadata": {},
   "source": [
    "**Normalization**"
   ]
  },
  {
   "cell_type": "code",
   "execution_count": 31,
   "id": "60529077",
   "metadata": {
    "ExecuteTime": {
     "end_time": "2022-08-08T05:34:25.926453Z",
     "start_time": "2022-08-08T05:34:25.911450Z"
    }
   },
   "outputs": [],
   "source": [
    "ct = make_column_transformer((StandardScaler(), ['max_balls_first', 'balls', 'byes', 'leg_byes', 'no_balls', 'wides', 'runs', 'wickets', 'max_balls_second', 'target']), remainder='passthrough')\n",
    "X_train_sc = ct.fit_transform(X_train)\n",
    "X_test_sc = ct.transform(X_test)"
   ]
  },
  {
   "cell_type": "markdown",
   "id": "d53a788b",
   "metadata": {
    "heading_collapsed": true
   },
   "source": [
    "# Benchmark"
   ]
  },
  {
   "cell_type": "code",
   "execution_count": 32,
   "id": "daffba29",
   "metadata": {
    "ExecuteTime": {
     "end_time": "2022-08-08T05:34:25.942457Z",
     "start_time": "2022-08-08T05:34:25.927454Z"
    },
    "hidden": true
   },
   "outputs": [
    {
     "data": {
      "text/plain": [
       "1    239\n",
       "0    232\n",
       "Name: victor, dtype: int64"
      ]
     },
     "execution_count": 32,
     "metadata": {},
     "output_type": "execute_result"
    }
   ],
   "source": [
    "# Null F1 score: predict the class of majority\n",
    "data2['victor'].value_counts()          # Accuracy: 50.74"
   ]
  },
  {
   "cell_type": "code",
   "execution_count": 33,
   "id": "10600ab7",
   "metadata": {
    "ExecuteTime": {
     "end_time": "2022-08-08T05:34:25.958460Z",
     "start_time": "2022-08-08T05:34:25.943457Z"
    },
    "hidden": true
   },
   "outputs": [
    {
     "data": {
      "text/plain": [
       "0.6732394366197183"
      ]
     },
     "execution_count": 33,
     "metadata": {},
     "output_type": "execute_result"
    }
   ],
   "source": [
    "# F1-score\n",
    "y_pred = np.array([1]*471)\n",
    "f1_score(data2['victor'], y_pred)    # 67.32"
   ]
  },
  {
   "cell_type": "markdown",
   "id": "f95ed0cb",
   "metadata": {
    "heading_collapsed": true
   },
   "source": [
    "# Exploratory Data Analysis\n",
    "One feature is not much predictive -> move on to feature selection"
   ]
  },
  {
   "cell_type": "code",
   "execution_count": 34,
   "id": "3e56e0cc",
   "metadata": {
    "ExecuteTime": {
     "end_time": "2022-08-08T05:34:26.519529Z",
     "start_time": "2022-08-08T05:34:25.959461Z"
    },
    "collapsed": true,
    "hidden": true
   },
   "outputs": [
    {
     "data": {
      "text/html": [
       "<div>\n",
       "<style scoped>\n",
       "    .dataframe tbody tr th:only-of-type {\n",
       "        vertical-align: middle;\n",
       "    }\n",
       "\n",
       "    .dataframe tbody tr th {\n",
       "        vertical-align: top;\n",
       "    }\n",
       "\n",
       "    .dataframe thead th {\n",
       "        text-align: right;\n",
       "    }\n",
       "</style>\n",
       "<table border=\"1\" class=\"dataframe\">\n",
       "  <thead>\n",
       "    <tr style=\"text-align: right;\">\n",
       "      <th>victor</th>\n",
       "      <th>0</th>\n",
       "      <th>1</th>\n",
       "    </tr>\n",
       "    <tr>\n",
       "      <th>neutral_venue</th>\n",
       "      <th></th>\n",
       "      <th></th>\n",
       "    </tr>\n",
       "  </thead>\n",
       "  <tbody>\n",
       "    <tr>\n",
       "      <th>0</th>\n",
       "      <td>200</td>\n",
       "      <td>203</td>\n",
       "    </tr>\n",
       "    <tr>\n",
       "      <th>1</th>\n",
       "      <td>32</td>\n",
       "      <td>36</td>\n",
       "    </tr>\n",
       "  </tbody>\n",
       "</table>\n",
       "</div>"
      ],
      "text/plain": [
       "victor           0    1\n",
       "neutral_venue          \n",
       "0              200  203\n",
       "1               32   36"
      ]
     },
     "execution_count": 34,
     "metadata": {},
     "output_type": "execute_result"
    }
   ],
   "source": [
    "# Neutral venue: no discrimination\n",
    "n_v = pd.crosstab(index=data2['neutral_venue'], columns=data2['victor'])\n",
    "# dfi.export(n_v, './figure/neutral_venue.png')\n",
    "n_v"
   ]
  },
  {
   "cell_type": "code",
   "execution_count": 35,
   "id": "1b5a9728",
   "metadata": {
    "ExecuteTime": {
     "end_time": "2022-08-08T05:35:19.171117Z",
     "start_time": "2022-08-08T05:35:18.686997Z"
    },
    "collapsed": true,
    "hidden": true
   },
   "outputs": [
    {
     "data": {
      "text/html": [
       "<div>\n",
       "<style scoped>\n",
       "    .dataframe tbody tr th:only-of-type {\n",
       "        vertical-align: middle;\n",
       "    }\n",
       "\n",
       "    .dataframe tbody tr th {\n",
       "        vertical-align: top;\n",
       "    }\n",
       "\n",
       "    .dataframe thead th {\n",
       "        text-align: right;\n",
       "    }\n",
       "</style>\n",
       "<table border=\"1\" class=\"dataframe\">\n",
       "  <thead>\n",
       "    <tr style=\"text-align: right;\">\n",
       "      <th>victor</th>\n",
       "      <th>0</th>\n",
       "      <th>1</th>\n",
       "    </tr>\n",
       "    <tr>\n",
       "      <th>home_venue</th>\n",
       "      <th></th>\n",
       "      <th></th>\n",
       "    </tr>\n",
       "  </thead>\n",
       "  <tbody>\n",
       "    <tr>\n",
       "      <th>0</th>\n",
       "      <td>140</td>\n",
       "      <td>142</td>\n",
       "    </tr>\n",
       "    <tr>\n",
       "      <th>1</th>\n",
       "      <td>92</td>\n",
       "      <td>97</td>\n",
       "    </tr>\n",
       "  </tbody>\n",
       "</table>\n",
       "</div>"
      ],
      "text/plain": [
       "victor        0    1\n",
       "home_venue          \n",
       "0           140  142\n",
       "1            92   97"
      ]
     },
     "execution_count": 35,
     "metadata": {},
     "output_type": "execute_result"
    }
   ],
   "source": [
    "# Home venue: no discrimination\n",
    "h_v = pd.crosstab(index=data2['home_venue'], columns=data2['victor'])\n",
    "# dfi.export(h_v, './figure/home_venue.png')\n",
    "h_v"
   ]
  },
  {
   "cell_type": "code",
   "execution_count": 36,
   "id": "c47d1874",
   "metadata": {
    "ExecuteTime": {
     "end_time": "2022-08-08T05:58:25.022393Z",
     "start_time": "2022-08-08T05:58:24.521678Z"
    },
    "collapsed": true,
    "hidden": true
   },
   "outputs": [
    {
     "data": {
      "text/html": [
       "<div>\n",
       "<style scoped>\n",
       "    .dataframe tbody tr th:only-of-type {\n",
       "        vertical-align: middle;\n",
       "    }\n",
       "\n",
       "    .dataframe tbody tr th {\n",
       "        vertical-align: top;\n",
       "    }\n",
       "\n",
       "    .dataframe thead th {\n",
       "        text-align: right;\n",
       "    }\n",
       "</style>\n",
       "<table border=\"1\" class=\"dataframe\">\n",
       "  <thead>\n",
       "    <tr style=\"text-align: right;\">\n",
       "      <th>victor</th>\n",
       "      <th>0</th>\n",
       "      <th>1</th>\n",
       "    </tr>\n",
       "    <tr>\n",
       "      <th>toss_winner</th>\n",
       "      <th></th>\n",
       "      <th></th>\n",
       "    </tr>\n",
       "  </thead>\n",
       "  <tbody>\n",
       "    <tr>\n",
       "      <th>0</th>\n",
       "      <td>135</td>\n",
       "      <td>127</td>\n",
       "    </tr>\n",
       "    <tr>\n",
       "      <th>1</th>\n",
       "      <td>97</td>\n",
       "      <td>112</td>\n",
       "    </tr>\n",
       "  </tbody>\n",
       "</table>\n",
       "</div>"
      ],
      "text/plain": [
       "victor         0    1\n",
       "toss_winner          \n",
       "0            135  127\n",
       "1             97  112"
      ]
     },
     "execution_count": 36,
     "metadata": {},
     "output_type": "execute_result"
    }
   ],
   "source": [
    "# Toss winner: no discrimination\n",
    "t_w = pd.crosstab(index=data2['toss_winner'], columns=data2['victor'])\n",
    "# dfi.export(t_w, './figure/toss_winner.png')\n",
    "t_w"
   ]
  },
  {
   "cell_type": "code",
   "execution_count": 48,
   "id": "6ee78e9c",
   "metadata": {
    "ExecuteTime": {
     "end_time": "2022-08-08T06:24:11.625578Z",
     "start_time": "2022-08-08T06:24:11.415531Z"
    },
    "collapsed": true,
    "hidden": true
   },
   "outputs": [
    {
     "data": {
      "image/png": "[encoded data removed]",
      "text/plain": [
       "<Figure size 432x432 with 3 Axes>"
      ]
     },
     "metadata": {
      "needs_background": "light"
     },
     "output_type": "display_data"
    }
   ],
   "source": [
    "# Max_balls_first: no discrimination\n",
    "plt.rc('font', size=18)\n",
    "sns.jointplot(x=data2['max_balls_first'], y=data2['victor'], kind='hex', color='dodgerblue')\n",
    "plt.show()"
   ]
  },
  {
   "cell_type": "code",
   "execution_count": 38,
   "id": "96f6a4a5",
   "metadata": {
    "ExecuteTime": {
     "end_time": "2022-08-08T00:07:55.177724Z",
     "start_time": "2022-08-08T00:07:55.083703Z"
    },
    "collapsed": true,
    "hidden": true
   },
   "outputs": [
    {
     "data": {
      "text/plain": [
       "<matplotlib.collections.PathCollection at 0x23ba5b59e50>"
      ]
     },
     "execution_count": 38,
     "metadata": {},
     "output_type": "execute_result"
    },
    {
     "data": {
      "image/png": "[encoded data removed]",
      "text/plain": [
       "<Figure size 432x288 with 1 Axes>"
      ]
     },
     "metadata": {
      "needs_background": "light"
     },
     "output_type": "display_data"
    }
   ],
   "source": [
    "# Scatter plot\n",
    "vc = data2['max_balls_first'].value_counts()\n",
    "s = data2.apply(lambda x: vc[x['max_balls_first']], axis=1)\n",
    "plt.scatter(x=data2['max_balls_first'], y=data2['victor'], s=s, c=data2['max_balls_first'], cmap='RdYlBu')"
   ]
  },
  {
   "cell_type": "code",
   "execution_count": 49,
   "id": "b2984a42",
   "metadata": {
    "ExecuteTime": {
     "end_time": "2022-08-08T06:24:26.886760Z",
     "start_time": "2022-08-08T06:24:26.656245Z"
    },
    "collapsed": true,
    "hidden": true
   },
   "outputs": [
    {
     "data": {
      "image/png": "[encoded data removed]",
      "text/plain": [
       "<Figure size 432x432 with 3 Axes>"
      ]
     },
     "metadata": {
      "needs_background": "light"
     },
     "output_type": "display_data"
    }
   ],
   "source": [
    "# Balls: no discrimination\n",
    "plt.rc('font', size=18)\n",
    "sns.jointplot(x=data2['balls'], y=data2['victor'], kind='hex', color='dodgerblue')\n",
    "plt.show()"
   ]
  },
  {
   "cell_type": "code",
   "execution_count": 40,
   "id": "f7c11959",
   "metadata": {
    "ExecuteTime": {
     "end_time": "2022-08-08T00:07:55.577298Z",
     "start_time": "2022-08-08T00:07:55.482625Z"
    },
    "collapsed": true,
    "hidden": true
   },
   "outputs": [
    {
     "data": {
      "text/plain": [
       "<matplotlib.collections.PathCollection at 0x23ba5cc4b20>"
      ]
     },
     "execution_count": 40,
     "metadata": {},
     "output_type": "execute_result"
    },
    {
     "data": {
      "image/png": "[encoded data removed]",
      "text/plain": [
       "<Figure size 432x288 with 1 Axes>"
      ]
     },
     "metadata": {
      "needs_background": "light"
     },
     "output_type": "display_data"
    }
   ],
   "source": [
    "# Scatter plot\n",
    "vc = data2['balls'].value_counts()\n",
    "s = data2.apply(lambda x: vc[x['balls']], axis=1)\n",
    "plt.scatter(x=data2['balls'], y=data2['victor'], s=s, c=data2['balls'], cmap='RdYlBu')"
   ]
  },
  {
   "cell_type": "code",
   "execution_count": 41,
   "id": "b122bbad",
   "metadata": {
    "ExecuteTime": {
     "end_time": "2022-08-08T00:07:55.813352Z",
     "start_time": "2022-08-08T00:07:55.578300Z"
    },
    "collapsed": true,
    "hidden": true
   },
   "outputs": [
    {
     "data": {
      "image/png": "[encoded data removed]",
      "text/plain": [
       "<Figure size 432x432 with 3 Axes>"
      ]
     },
     "metadata": {
      "needs_background": "light"
     },
     "output_type": "display_data"
    }
   ],
   "source": [
    "# Byes\n",
    "plt.rc('font', size=18)\n",
    "sns.jointplot(x=data2['byes'], y=data2['victor'], kind='hex', color='dodgerblue')\n",
    "plt.show()"
   ]
  },
  {
   "cell_type": "code",
   "execution_count": 42,
   "id": "dcf54b11",
   "metadata": {
    "ExecuteTime": {
     "end_time": "2022-08-08T00:07:55.905387Z",
     "start_time": "2022-08-08T00:07:55.814354Z"
    },
    "collapsed": true,
    "hidden": true
   },
   "outputs": [
    {
     "data": {
      "text/plain": [
       "<matplotlib.collections.PathCollection at 0x23ba5ffba30>"
      ]
     },
     "execution_count": 42,
     "metadata": {},
     "output_type": "execute_result"
    },
    {
     "data": {
      "image/png": "[encoded data removed]",
      "text/plain": [
       "<Figure size 432x288 with 1 Axes>"
      ]
     },
     "metadata": {
      "needs_background": "light"
     },
     "output_type": "display_data"
    }
   ],
   "source": [
    "# Scatter plot\n",
    "vc = data2['byes'].value_counts()\n",
    "s = data2.apply(lambda x: vc[x['byes']], axis=1)\n",
    "plt.scatter(x=data2['byes'], y=data2['victor'], s=s, c=data2['byes'], cmap='RdYlBu')"
   ]
  },
  {
   "cell_type": "code",
   "execution_count": 43,
   "id": "06fc7ed1",
   "metadata": {
    "ExecuteTime": {
     "end_time": "2022-08-08T00:07:56.144223Z",
     "start_time": "2022-08-08T00:07:55.906388Z"
    },
    "collapsed": true,
    "hidden": true
   },
   "outputs": [
    {
     "data": {
      "image/png": "[encoded data removed]",
      "text/plain": [
       "<Figure size 432x432 with 3 Axes>"
      ]
     },
     "metadata": {
      "needs_background": "light"
     },
     "output_type": "display_data"
    }
   ],
   "source": [
    "# Leg_byes\n",
    "plt.rc('font', size=18)\n",
    "sns.jointplot(x=data2['leg_byes'], y=data2['victor'], kind='hex', color='dodgerblue')\n",
    "plt.show()"
   ]
  },
  {
   "cell_type": "code",
   "execution_count": 44,
   "id": "9351fb00",
   "metadata": {
    "ExecuteTime": {
     "end_time": "2022-08-08T00:07:56.222250Z",
     "start_time": "2022-08-08T00:07:56.145232Z"
    },
    "collapsed": true,
    "hidden": true
   },
   "outputs": [
    {
     "data": {
      "text/plain": [
       "<matplotlib.collections.PathCollection at 0x23ba61fc6d0>"
      ]
     },
     "execution_count": 44,
     "metadata": {},
     "output_type": "execute_result"
    },
    {
     "data": {
      "image/png": "[encoded data removed]",
      "text/plain": [
       "<Figure size 432x288 with 1 Axes>"
      ]
     },
     "metadata": {
      "needs_background": "light"
     },
     "output_type": "display_data"
    }
   ],
   "source": [
    "# Scatter plot\n",
    "vc = data2['leg_byes'].value_counts()\n",
    "s = data2.apply(lambda x: vc[x['leg_byes']], axis=1)\n",
    "plt.scatter(x=data2['leg_byes'], y=data2['victor'], s=s, c=data2['leg_byes'], cmap='RdYlBu')"
   ]
  },
  {
   "cell_type": "code",
   "execution_count": 45,
   "id": "0f9d4bf2",
   "metadata": {
    "ExecuteTime": {
     "end_time": "2022-08-08T00:07:56.460303Z",
     "start_time": "2022-08-08T00:07:56.223250Z"
    },
    "collapsed": true,
    "hidden": true
   },
   "outputs": [
    {
     "data": {
      "image/png": "[encoded data removed]",
      "text/plain": [
       "<Figure size 432x432 with 3 Axes>"
      ]
     },
     "metadata": {
      "needs_background": "light"
     },
     "output_type": "display_data"
    }
   ],
   "source": [
    "# No_balls\n",
    "plt.rc('font', size=18)\n",
    "sns.jointplot(x=data2['no_balls'], y=data2['victor'], kind='hex', color='dodgerblue')\n",
    "plt.show()"
   ]
  },
  {
   "cell_type": "code",
   "execution_count": 46,
   "id": "bf007d6e",
   "metadata": {
    "ExecuteTime": {
     "end_time": "2022-08-08T00:07:56.697552Z",
     "start_time": "2022-08-08T00:07:56.461304Z"
    },
    "collapsed": true,
    "hidden": true
   },
   "outputs": [
    {
     "data": {
      "image/png": "[encoded data removed]",
      "text/plain": [
       "<Figure size 432x432 with 3 Axes>"
      ]
     },
     "metadata": {
      "needs_background": "light"
     },
     "output_type": "display_data"
    }
   ],
   "source": [
    "# Wides\n",
    "plt.rc('font', size=18)\n",
    "sns.jointplot(x=data2['wides'], y=data2['victor'], kind='hex', color='dodgerblue')\n",
    "plt.show()"
   ]
  },
  {
   "cell_type": "code",
   "execution_count": 47,
   "id": "19414262",
   "metadata": {
    "ExecuteTime": {
     "end_time": "2022-08-08T00:07:57.015628Z",
     "start_time": "2022-08-08T00:07:56.698557Z"
    },
    "collapsed": true,
    "hidden": true
   },
   "outputs": [
    {
     "data": {
      "image/png": "[encoded data removed]",
      "text/plain": [
       "<Figure size 432x432 with 3 Axes>"
      ]
     },
     "metadata": {
      "needs_background": "light"
     },
     "output_type": "display_data"
    }
   ],
   "source": [
    "# Runs: a bit of discrimination\n",
    "sns.jointplot(x=data2['runs'], y=data2['victor'], kind='hex', color='dodgerblue')\n",
    "plt.show()"
   ]
  },
  {
   "cell_type": "code",
   "execution_count": 48,
   "id": "02563c57",
   "metadata": {
    "ExecuteTime": {
     "end_time": "2022-08-08T00:07:57.095649Z",
     "start_time": "2022-08-08T00:07:57.017632Z"
    },
    "collapsed": true,
    "hidden": true
   },
   "outputs": [
    {
     "data": {
      "text/plain": [
       "<matplotlib.collections.PathCollection at 0x23ba63b3760>"
      ]
     },
     "execution_count": 48,
     "metadata": {},
     "output_type": "execute_result"
    },
    {
     "data": {
      "image/png": "[encoded data removed]",
      "text/plain": [
       "<Figure size 432x288 with 1 Axes>"
      ]
     },
     "metadata": {
      "needs_background": "light"
     },
     "output_type": "display_data"
    }
   ],
   "source": [
    "# Scatter plot\n",
    "vc = data2['runs'].value_counts()\n",
    "s = data2.apply(lambda x: vc[x['runs']], axis=1)\n",
    "plt.scatter(x=data2['runs'], y=data2['victor'], s=s, c=data2['runs'], cmap='RdYlBu')"
   ]
  },
  {
   "cell_type": "code",
   "execution_count": 49,
   "id": "bdfdb5a2",
   "metadata": {
    "ExecuteTime": {
     "end_time": "2022-08-08T00:07:57.318717Z",
     "start_time": "2022-08-08T00:07:57.096649Z"
    },
    "collapsed": true,
    "hidden": true
   },
   "outputs": [
    {
     "data": {
      "image/png": "[encoded data removed]",
      "text/plain": [
       "<Figure size 432x432 with 3 Axes>"
      ]
     },
     "metadata": {
      "needs_background": "light"
     },
     "output_type": "display_data"
    }
   ],
   "source": [
    "# Wickets: a bit of discrimination\n",
    "plt.rc('font', size=18)\n",
    "sns.jointplot(x=data2['wickets'], y=data2['victor'], kind='hex', color='dodgerblue')\n",
    "plt.show()"
   ]
  },
  {
   "cell_type": "code",
   "execution_count": 51,
   "id": "e8cb4658",
   "metadata": {
    "ExecuteTime": {
     "end_time": "2022-08-08T06:25:51.008265Z",
     "start_time": "2022-08-08T06:25:50.797218Z"
    },
    "collapsed": true,
    "hidden": true
   },
   "outputs": [
    {
     "data": {
      "image/png": "[encoded data removed]",
      "text/plain": [
       "<Figure size 432x432 with 3 Axes>"
      ]
     },
     "metadata": {
      "needs_background": "light"
     },
     "output_type": "display_data"
    }
   ],
   "source": [
    "# Max_balls_second\n",
    "sns.jointplot(x=data2['max_balls_second'], y=data2['victor'], kind='hex', color='dodgerblue')\n",
    "plt.show()"
   ]
  },
  {
   "cell_type": "code",
   "execution_count": 51,
   "id": "6daf72b8",
   "metadata": {
    "ExecuteTime": {
     "end_time": "2022-08-08T00:07:57.775418Z",
     "start_time": "2022-08-08T00:07:57.541372Z"
    },
    "collapsed": true,
    "hidden": true
   },
   "outputs": [
    {
     "data": {
      "image/png": "[encoded data removed]",
      "text/plain": [
       "<Figure size 432x432 with 3 Axes>"
      ]
     },
     "metadata": {
      "needs_background": "light"
     },
     "output_type": "display_data"
    }
   ],
   "source": [
    "# Targets: a bit of discrimination\n",
    "sns.jointplot(x=data2['target'], y=data2['victor'], kind='hex', color='dodgerblue')\n",
    "plt.show()"
   ]
  },
  {
   "cell_type": "code",
   "execution_count": 52,
   "id": "fd44845b",
   "metadata": {
    "ExecuteTime": {
     "end_time": "2022-08-08T00:07:57.854436Z",
     "start_time": "2022-08-08T00:07:57.776419Z"
    },
    "collapsed": true,
    "hidden": true
   },
   "outputs": [
    {
     "data": {
      "text/plain": [
       "<matplotlib.collections.PathCollection at 0x23ba62d50a0>"
      ]
     },
     "execution_count": 52,
     "metadata": {},
     "output_type": "execute_result"
    },
    {
     "data": {
      "image/png": "[encoded data removed]",
      "text/plain": [
       "<Figure size 432x288 with 1 Axes>"
      ]
     },
     "metadata": {
      "needs_background": "light"
     },
     "output_type": "display_data"
    }
   ],
   "source": [
    "# Scatter plot\n",
    "vc = data2['target'].value_counts()\n",
    "s = data2.apply(lambda x: vc[x['target']], axis=1)\n",
    "plt.scatter(x=data2['target'], y=data2['victor'], s=s, c=data2['target'], cmap='RdYlBu')"
   ]
  },
  {
   "cell_type": "code",
   "execution_count": 37,
   "id": "856e4475",
   "metadata": {
    "ExecuteTime": {
     "end_time": "2022-08-08T06:06:05.700906Z",
     "start_time": "2022-08-08T06:06:05.200595Z"
    },
    "collapsed": true,
    "hidden": true
   },
   "outputs": [
    {
     "data": {
      "text/html": [
       "<div>\n",
       "<style scoped>\n",
       "    .dataframe tbody tr th:only-of-type {\n",
       "        vertical-align: middle;\n",
       "    }\n",
       "\n",
       "    .dataframe tbody tr th {\n",
       "        vertical-align: top;\n",
       "    }\n",
       "\n",
       "    .dataframe thead th {\n",
       "        text-align: right;\n",
       "    }\n",
       "</style>\n",
       "<table border=\"1\" class=\"dataframe\">\n",
       "  <thead>\n",
       "    <tr style=\"text-align: right;\">\n",
       "      <th>victor</th>\n",
       "      <th>0</th>\n",
       "      <th>1</th>\n",
       "    </tr>\n",
       "    <tr>\n",
       "      <th>derby</th>\n",
       "      <th></th>\n",
       "      <th></th>\n",
       "    </tr>\n",
       "  </thead>\n",
       "  <tbody>\n",
       "    <tr>\n",
       "      <th>0</th>\n",
       "      <td>205</td>\n",
       "      <td>224</td>\n",
       "    </tr>\n",
       "    <tr>\n",
       "      <th>1</th>\n",
       "      <td>27</td>\n",
       "      <td>15</td>\n",
       "    </tr>\n",
       "  </tbody>\n",
       "</table>\n",
       "</div>"
      ],
      "text/plain": [
       "victor    0    1\n",
       "derby           \n",
       "0       205  224\n",
       "1        27   15"
      ]
     },
     "execution_count": 37,
     "metadata": {},
     "output_type": "execute_result"
    }
   ],
   "source": [
    "# Derby\n",
    "derby = pd.crosstab(index=data2['derby'], columns=data2['victor'])\n",
    "# dfi.export(derby, './figure/derby.png')\n",
    "derby"
   ]
  },
  {
   "cell_type": "code",
   "execution_count": 38,
   "id": "0680c0c5",
   "metadata": {
    "ExecuteTime": {
     "end_time": "2022-08-08T06:06:47.513665Z",
     "start_time": "2022-08-08T06:06:47.023200Z"
    },
    "collapsed": true,
    "hidden": true
   },
   "outputs": [
    {
     "data": {
      "text/html": [
       "<div>\n",
       "<style scoped>\n",
       "    .dataframe tbody tr th:only-of-type {\n",
       "        vertical-align: middle;\n",
       "    }\n",
       "\n",
       "    .dataframe tbody tr th {\n",
       "        vertical-align: top;\n",
       "    }\n",
       "\n",
       "    .dataframe thead th {\n",
       "        text-align: right;\n",
       "    }\n",
       "</style>\n",
       "<table border=\"1\" class=\"dataframe\">\n",
       "  <thead>\n",
       "    <tr style=\"text-align: right;\">\n",
       "      <th>victor</th>\n",
       "      <th>0</th>\n",
       "      <th>1</th>\n",
       "    </tr>\n",
       "    <tr>\n",
       "      <th>month_02</th>\n",
       "      <th></th>\n",
       "      <th></th>\n",
       "    </tr>\n",
       "  </thead>\n",
       "  <tbody>\n",
       "    <tr>\n",
       "      <th>0</th>\n",
       "      <td>223</td>\n",
       "      <td>225</td>\n",
       "    </tr>\n",
       "    <tr>\n",
       "      <th>1</th>\n",
       "      <td>9</td>\n",
       "      <td>14</td>\n",
       "    </tr>\n",
       "  </tbody>\n",
       "</table>\n",
       "</div>"
      ],
      "text/plain": [
       "victor      0    1\n",
       "month_02          \n",
       "0         223  225\n",
       "1           9   14"
      ]
     },
     "execution_count": 38,
     "metadata": {},
     "output_type": "execute_result"
    }
   ],
   "source": [
    "# Month_02\n",
    "m_02 = pd.crosstab(index=data2['month_02'], columns=data2['victor'])\n",
    "# dfi.export(m_02, './figure/month_02.png')\n",
    "m_02"
   ]
  },
  {
   "cell_type": "code",
   "execution_count": 39,
   "id": "fb3554b8",
   "metadata": {
    "ExecuteTime": {
     "end_time": "2022-08-08T06:07:27.707158Z",
     "start_time": "2022-08-08T06:07:27.218926Z"
    },
    "collapsed": true,
    "hidden": true
   },
   "outputs": [
    {
     "data": {
      "text/html": [
       "<div>\n",
       "<style scoped>\n",
       "    .dataframe tbody tr th:only-of-type {\n",
       "        vertical-align: middle;\n",
       "    }\n",
       "\n",
       "    .dataframe tbody tr th {\n",
       "        vertical-align: top;\n",
       "    }\n",
       "\n",
       "    .dataframe thead th {\n",
       "        text-align: right;\n",
       "    }\n",
       "</style>\n",
       "<table border=\"1\" class=\"dataframe\">\n",
       "  <thead>\n",
       "    <tr style=\"text-align: right;\">\n",
       "      <th>victor</th>\n",
       "      <th>0</th>\n",
       "      <th>1</th>\n",
       "    </tr>\n",
       "    <tr>\n",
       "      <th>month_12</th>\n",
       "      <th></th>\n",
       "      <th></th>\n",
       "    </tr>\n",
       "  </thead>\n",
       "  <tbody>\n",
       "    <tr>\n",
       "      <th>0</th>\n",
       "      <td>156</td>\n",
       "      <td>155</td>\n",
       "    </tr>\n",
       "    <tr>\n",
       "      <th>1</th>\n",
       "      <td>76</td>\n",
       "      <td>84</td>\n",
       "    </tr>\n",
       "  </tbody>\n",
       "</table>\n",
       "</div>"
      ],
      "text/plain": [
       "victor      0    1\n",
       "month_12          \n",
       "0         156  155\n",
       "1          76   84"
      ]
     },
     "execution_count": 39,
     "metadata": {},
     "output_type": "execute_result"
    }
   ],
   "source": [
    "# month_12\n",
    "m_12 = pd.crosstab(index=data2['month_12'], columns=data2['victor'])\n",
    "# dfi.export(m_12, './figure/month_12.png')\n",
    "m_12"
   ]
  },
  {
   "cell_type": "code",
   "execution_count": 43,
   "id": "95f2cf00",
   "metadata": {
    "ExecuteTime": {
     "end_time": "2022-08-03T07:09:49.379089Z",
     "start_time": "2022-08-03T07:09:48.222739Z"
    },
    "collapsed": true,
    "hidden": true
   },
   "outputs": [
    {
     "data": {
      "text/html": [
       "<div>\n",
       "<style scoped>\n",
       "    .dataframe tbody tr th:only-of-type {\n",
       "        vertical-align: middle;\n",
       "    }\n",
       "\n",
       "    .dataframe tbody tr th {\n",
       "        vertical-align: top;\n",
       "    }\n",
       "\n",
       "    .dataframe thead th {\n",
       "        text-align: right;\n",
       "    }\n",
       "</style>\n",
       "<table border=\"1\" class=\"dataframe\">\n",
       "  <thead>\n",
       "    <tr style=\"text-align: right;\">\n",
       "      <th></th>\n",
       "      <th>max_balls_first</th>\n",
       "      <th>balls</th>\n",
       "      <th>byes</th>\n",
       "      <th>leg_byes</th>\n",
       "      <th>no_balls</th>\n",
       "      <th>wides</th>\n",
       "      <th>runs</th>\n",
       "      <th>wickets</th>\n",
       "      <th>max_balls_second</th>\n",
       "      <th>target</th>\n",
       "    </tr>\n",
       "  </thead>\n",
       "  <tbody>\n",
       "    <tr>\n",
       "      <th>max_balls_first</th>\n",
       "      <td>1.0000</td>\n",
       "      <td>0.7664</td>\n",
       "      <td>0.0305</td>\n",
       "      <td>0.0548</td>\n",
       "      <td>-0.0034</td>\n",
       "      <td>0.0484</td>\n",
       "      <td>0.1805</td>\n",
       "      <td>0.0911</td>\n",
       "      <td>0.5689</td>\n",
       "      <td>0.2025</td>\n",
       "    </tr>\n",
       "    <tr>\n",
       "      <th>balls</th>\n",
       "      <td>0.7664</td>\n",
       "      <td>1.0000</td>\n",
       "      <td>0.0545</td>\n",
       "      <td>0.0851</td>\n",
       "      <td>0.0103</td>\n",
       "      <td>0.0748</td>\n",
       "      <td>0.3803</td>\n",
       "      <td>0.0133</td>\n",
       "      <td>0.7027</td>\n",
       "      <td>0.4091</td>\n",
       "    </tr>\n",
       "    <tr>\n",
       "      <th>byes</th>\n",
       "      <td>0.0305</td>\n",
       "      <td>0.0545</td>\n",
       "      <td>1.0000</td>\n",
       "      <td>0.0233</td>\n",
       "      <td>-0.0584</td>\n",
       "      <td>0.0611</td>\n",
       "      <td>0.0144</td>\n",
       "      <td>-0.0270</td>\n",
       "      <td>-0.0006</td>\n",
       "      <td>0.0023</td>\n",
       "    </tr>\n",
       "    <tr>\n",
       "      <th>leg_byes</th>\n",
       "      <td>0.0548</td>\n",
       "      <td>0.0851</td>\n",
       "      <td>0.0233</td>\n",
       "      <td>1.0000</td>\n",
       "      <td>-0.0140</td>\n",
       "      <td>0.0793</td>\n",
       "      <td>0.0656</td>\n",
       "      <td>-0.0742</td>\n",
       "      <td>0.0389</td>\n",
       "      <td>0.0561</td>\n",
       "    </tr>\n",
       "    <tr>\n",
       "      <th>no_balls</th>\n",
       "      <td>-0.0034</td>\n",
       "      <td>0.0103</td>\n",
       "      <td>-0.0584</td>\n",
       "      <td>-0.0140</td>\n",
       "      <td>1.0000</td>\n",
       "      <td>0.0496</td>\n",
       "      <td>0.2115</td>\n",
       "      <td>-0.1249</td>\n",
       "      <td>-0.0076</td>\n",
       "      <td>0.1977</td>\n",
       "    </tr>\n",
       "    <tr>\n",
       "      <th>wides</th>\n",
       "      <td>0.0484</td>\n",
       "      <td>0.0748</td>\n",
       "      <td>0.0611</td>\n",
       "      <td>0.0793</td>\n",
       "      <td>0.0496</td>\n",
       "      <td>1.0000</td>\n",
       "      <td>0.1169</td>\n",
       "      <td>0.0366</td>\n",
       "      <td>0.0558</td>\n",
       "      <td>0.1085</td>\n",
       "    </tr>\n",
       "    <tr>\n",
       "      <th>runs</th>\n",
       "      <td>0.1805</td>\n",
       "      <td>0.3803</td>\n",
       "      <td>0.0144</td>\n",
       "      <td>0.0656</td>\n",
       "      <td>0.2115</td>\n",
       "      <td>0.1169</td>\n",
       "      <td>1.0000</td>\n",
       "      <td>-0.5523</td>\n",
       "      <td>0.1603</td>\n",
       "      <td>0.9445</td>\n",
       "    </tr>\n",
       "    <tr>\n",
       "      <th>wickets</th>\n",
       "      <td>0.0911</td>\n",
       "      <td>0.0133</td>\n",
       "      <td>-0.0270</td>\n",
       "      <td>-0.0742</td>\n",
       "      <td>-0.1249</td>\n",
       "      <td>0.0366</td>\n",
       "      <td>-0.5523</td>\n",
       "      <td>1.0000</td>\n",
       "      <td>0.1569</td>\n",
       "      <td>-0.4993</td>\n",
       "    </tr>\n",
       "    <tr>\n",
       "      <th>max_balls_second</th>\n",
       "      <td>0.5689</td>\n",
       "      <td>0.7027</td>\n",
       "      <td>-0.0006</td>\n",
       "      <td>0.0389</td>\n",
       "      <td>-0.0076</td>\n",
       "      <td>0.0558</td>\n",
       "      <td>0.1603</td>\n",
       "      <td>0.1569</td>\n",
       "      <td>1.0000</td>\n",
       "      <td>0.3953</td>\n",
       "    </tr>\n",
       "    <tr>\n",
       "      <th>target</th>\n",
       "      <td>0.2025</td>\n",
       "      <td>0.4091</td>\n",
       "      <td>0.0023</td>\n",
       "      <td>0.0561</td>\n",
       "      <td>0.1977</td>\n",
       "      <td>0.1085</td>\n",
       "      <td>0.9445</td>\n",
       "      <td>-0.4993</td>\n",
       "      <td>0.3953</td>\n",
       "      <td>1.0000</td>\n",
       "    </tr>\n",
       "  </tbody>\n",
       "</table>\n",
       "</div>"
      ],
      "text/plain": [
       "                  max_balls_first   balls    byes  leg_byes  no_balls   wides  \\\n",
       "max_balls_first            1.0000  0.7664  0.0305    0.0548   -0.0034  0.0484   \n",
       "balls                      0.7664  1.0000  0.0545    0.0851    0.0103  0.0748   \n",
       "byes                       0.0305  0.0545  1.0000    0.0233   -0.0584  0.0611   \n",
       "leg_byes                   0.0548  0.0851  0.0233    1.0000   -0.0140  0.0793   \n",
       "no_balls                  -0.0034  0.0103 -0.0584   -0.0140    1.0000  0.0496   \n",
       "wides                      0.0484  0.0748  0.0611    0.0793    0.0496  1.0000   \n",
       "runs                       0.1805  0.3803  0.0144    0.0656    0.2115  0.1169   \n",
       "wickets                    0.0911  0.0133 -0.0270   -0.0742   -0.1249  0.0366   \n",
       "max_balls_second           0.5689  0.7027 -0.0006    0.0389   -0.0076  0.0558   \n",
       "target                     0.2025  0.4091  0.0023    0.0561    0.1977  0.1085   \n",
       "\n",
       "                    runs  wickets  max_balls_second  target  \n",
       "max_balls_first   0.1805   0.0911            0.5689  0.2025  \n",
       "balls             0.3803   0.0133            0.7027  0.4091  \n",
       "byes              0.0144  -0.0270           -0.0006  0.0023  \n",
       "leg_byes          0.0656  -0.0742            0.0389  0.0561  \n",
       "no_balls          0.2115  -0.1249           -0.0076  0.1977  \n",
       "wides             0.1169   0.0366            0.0558  0.1085  \n",
       "runs              1.0000  -0.5523            0.1603  0.9445  \n",
       "wickets          -0.5523   1.0000            0.1569 -0.4993  \n",
       "max_balls_second  0.1603   0.1569            1.0000  0.3953  \n",
       "target            0.9445  -0.4993            0.3953  1.0000  "
      ]
     },
     "metadata": {},
     "output_type": "display_data"
    }
   ],
   "source": [
    "# Correlation coefficient\n",
    "correlation = data2[['max_balls_first', 'balls', 'byes', 'leg_byes', 'no_balls', 'wides', 'runs', 'wickets', 'max_balls_second', 'target']].corr()\n",
    "correlation = round(correlation, 4)\n",
    "display(correlation)\n",
    "# dfi.export(correlation, './figure/correlation.png', max_cols=-1, max_rows=-1)"
   ]
  },
  {
   "cell_type": "markdown",
   "id": "821eddac",
   "metadata": {},
   "source": [
    "# Classification Analysis"
   ]
  },
  {
   "cell_type": "markdown",
   "id": "464d804e",
   "metadata": {
    "heading_collapsed": true
   },
   "source": [
    "## Logistic Regression\n",
    "Solver='lbfgs' (default) and 'liblinear' produced the same results for feature selection but can produce a tiny bit different result for testing."
   ]
  },
  {
   "cell_type": "markdown",
   "id": "9f5f5d86",
   "metadata": {
    "hidden": true
   },
   "source": [
    "### Permutation importance"
   ]
  },
  {
   "cell_type": "code",
   "execution_count": 73,
   "id": "52a2ec67",
   "metadata": {
    "ExecuteTime": {
     "end_time": "2022-08-03T15:17:45.377006Z",
     "start_time": "2022-08-03T15:17:45.131205Z"
    },
    "hidden": true
   },
   "outputs": [
    {
     "name": "stdout",
     "output_type": "stream",
     "text": [
      "6 leg_byes 0.10786144716714438\n",
      "9 runs 0.08552413312225086\n",
      "8 wides 0.012823381747326845\n",
      "0 neutral_venue 0.010133998621848116\n"
     ]
    }
   ],
   "source": [
    "logr = LogisticRegression(solver='liblinear').fit(X_train_sc, y_train)\n",
    "result = permutation_importance(logr, X_train_sc, y_train, scoring='f1', n_repeats=10, random_state=0)\n",
    "\n",
    "for i in result.importances_mean.argsort()[::-1]:\n",
    "    if result.importances_mean[i] - 2*result.importances_std[i] > 0:\n",
    "        print(i, X_train.columns[i], result.importances_mean[i])   "
   ]
  },
  {
   "cell_type": "code",
   "execution_count": 54,
   "id": "36f0d1dd",
   "metadata": {
    "ExecuteTime": {
     "end_time": "2022-08-03T07:42:57.991703Z",
     "start_time": "2022-08-03T07:42:57.839075Z"
    },
    "hidden": true
   },
   "outputs": [
    {
     "data": {
      "text/plain": [
       "0.7284029527822056"
      ]
     },
     "execution_count": 54,
     "metadata": {},
     "output_type": "execute_result"
    }
   ],
   "source": [
    "# Use feature 1, 7, 9, 10\n",
    "X_17910 = X.iloc[:, [0, 6, 8, 9]]\n",
    "\n",
    "# Cross validation with pipeline\n",
    "ct = make_column_transformer((StandardScaler(), ['leg_byes', 'wides', 'runs']), remainder='passthrough')\n",
    "pl = make_pipeline(ct, LogisticRegression(solver='liblinear'))\n",
    "cross_validate(pl, X_17910, y, cv=10, scoring='f1')['test_score'].mean()"
   ]
  },
  {
   "cell_type": "markdown",
   "id": "77dc39b8",
   "metadata": {
    "hidden": true
   },
   "source": [
    "### Select from model"
   ]
  },
  {
   "cell_type": "code",
   "execution_count": 103,
   "id": "e800ef8c",
   "metadata": {
    "ExecuteTime": {
     "end_time": "2022-08-03T16:25:05.745208Z",
     "start_time": "2022-08-03T16:25:05.722578Z"
    },
    "hidden": true
   },
   "outputs": [
    {
     "name": "stdout",
     "output_type": "stream",
     "text": [
      "0 neutral_venue\n",
      "6 leg_byes\n",
      "8 wides\n",
      "9 runs\n",
      "12 target\n",
      "13 derby\n",
      "15 month_12\n"
     ]
    }
   ],
   "source": [
    "logr = LogisticRegression(solver='liblinear')\n",
    "selector = SelectFromModel(logr).fit(X_train_sc, y_train)\n",
    "\n",
    "for i in range(len(selector.get_support())):\n",
    "    if selector.get_support()[i]:\n",
    "        print(i, X.columns[i])"
   ]
  },
  {
   "cell_type": "code",
   "execution_count": 101,
   "id": "7b786508",
   "metadata": {
    "ExecuteTime": {
     "end_time": "2022-08-03T16:24:44.103578Z",
     "start_time": "2022-08-03T16:24:43.913857Z"
    },
    "hidden": true
   },
   "outputs": [
    {
     "data": {
      "text/plain": [
       "0.7198509173234295"
      ]
     },
     "execution_count": 101,
     "metadata": {},
     "output_type": "execute_result"
    }
   ],
   "source": [
    "# Use feature 1, 7, 9, 10, 13, 14\n",
    "X_179101314 = X.iloc[:, [0, 6, 8, 9, 12, 13]]\n",
    "sc = make_column_transformer((StandardScaler(), ['leg_byes', 'wides', 'runs', 'target']), remainder='passthrough')\n",
    "pl = make_pipeline(sc, logr)\n",
    "cross_validate(pl, X_179101314, y, cv=10, scoring='f1')['test_score'].mean()"
   ]
  },
  {
   "cell_type": "code",
   "execution_count": 102,
   "id": "0f6fc19a",
   "metadata": {
    "ExecuteTime": {
     "end_time": "2022-08-03T16:24:49.099047Z",
     "start_time": "2022-08-03T16:24:48.887485Z"
    },
    "hidden": true
   },
   "outputs": [
    {
     "data": {
      "text/plain": [
       "0.7185631072445842"
      ]
     },
     "execution_count": 102,
     "metadata": {},
     "output_type": "execute_result"
    }
   ],
   "source": [
    "# Use feature 1, 7, 9, 10, 13, 14, 15, 16\n",
    "X_1791013141516 = X.iloc[:, [0, 6, 8, 9, 12, 13, 14, 15]]\n",
    "sc = make_column_transformer((StandardScaler(), ['leg_byes', 'wides', 'runs', 'target']), remainder='passthrough')\n",
    "pl = make_pipeline(sc, logr)\n",
    "cross_validate(pl, X_1791013141516, y, cv=10, scoring='f1')['test_score'].mean()"
   ]
  },
  {
   "cell_type": "code",
   "execution_count": 71,
   "id": "a2273198",
   "metadata": {
    "ExecuteTime": {
     "end_time": "2022-08-03T15:14:07.136378Z",
     "start_time": "2022-08-03T15:14:06.947339Z"
    },
    "hidden": true
   },
   "outputs": [
    {
     "data": {
      "text/plain": [
       "0.7226357804340846"
      ]
     },
     "execution_count": 71,
     "metadata": {},
     "output_type": "execute_result"
    }
   ],
   "source": [
    "# Use all features\n",
    "pl = make_pipeline(ct,  logr)\n",
    "cross_validate(pl, X, y, cv=10, scoring='f1')['test_score'].mean()"
   ]
  },
  {
   "cell_type": "markdown",
   "id": "717243dd",
   "metadata": {
    "ExecuteTime": {
     "end_time": "2022-07-03T03:35:13.416739Z",
     "start_time": "2022-07-03T03:35:13.411749Z"
    },
    "heading_collapsed": true
   },
   "source": [
    "## SVM"
   ]
  },
  {
   "cell_type": "markdown",
   "id": "5bf3fd02",
   "metadata": {
    "hidden": true
   },
   "source": [
    "### Permutation importance"
   ]
  },
  {
   "cell_type": "code",
   "execution_count": 79,
   "id": "acf6a1c4",
   "metadata": {
    "ExecuteTime": {
     "end_time": "2022-08-03T15:33:19.330658Z",
     "start_time": "2022-08-03T15:33:16.598235Z"
    },
    "hidden": true
   },
   "outputs": [
    {
     "name": "stdout",
     "output_type": "stream",
     "text": [
      "6 leg_byes 0.09507143357061518\n",
      "9 runs 0.07708538354005084\n",
      "5 byes 0.026502326304285152\n",
      "4 balls 0.021189766683276212\n",
      "3 max_balls_first 0.020303364019328918\n",
      "7 no_balls 0.012890195597763877\n",
      "0 neutral_venue 0.012230554482185917\n",
      "8 wides 0.010568509793652004\n",
      "11 max_balls_second 0.006069941706812643\n"
     ]
    }
   ],
   "source": [
    "# 1. Default kernel (rbf) \n",
    "svc = SVC().fit(X_train_sc, y_train)\n",
    "result = permutation_importance(svc, X_train_sc, y_train, scoring='f1', n_repeats=10, random_state=0)\n",
    "\n",
    "for i in result.importances_mean.argsort()[::-1]:\n",
    "    if result.importances_mean[i] - 2*result.importances_std[i] > 0:\n",
    "        print(i, X_train.columns[i], result.importances_mean[i])  "
   ]
  },
  {
   "cell_type": "code",
   "execution_count": 78,
   "id": "062f02d2",
   "metadata": {
    "ExecuteTime": {
     "end_time": "2022-08-03T15:32:18.693214Z",
     "start_time": "2022-08-03T15:32:18.423446Z"
    },
    "hidden": true
   },
   "outputs": [
    {
     "data": {
      "text/plain": [
       "0.7036765234160756"
      ]
     },
     "execution_count": 78,
     "metadata": {},
     "output_type": "execute_result"
    }
   ],
   "source": [
    "# Use feature 1, 4, 5, 6, 7, 8, 9, 10, 12\n",
    "X_ex_231113141516= X.iloc[:, [0, 3, 4, 5, 6, 7, 8, 9, 11]]\n",
    "sc = make_column_transformer((StandardScaler(), ['leg_byes', 'runs', 'byes', 'balls', 'max_balls_first', 'no_balls', 'wides', 'max_balls_second'])\n",
    "                            , remainder='passthrough')\n",
    "pl = make_pipeline(sc, SVC())\n",
    "cross_validate(pl, X_ex_231113141516, y, cv=10, scoring='f1')['test_score'].mean()"
   ]
  },
  {
   "cell_type": "code",
   "execution_count": 80,
   "id": "c12d7ed8",
   "metadata": {
    "ExecuteTime": {
     "end_time": "2022-08-03T15:33:57.837210Z",
     "start_time": "2022-08-03T15:33:56.937347Z"
    },
    "hidden": true
   },
   "outputs": [
    {
     "name": "stdout",
     "output_type": "stream",
     "text": [
      "6 leg_byes 0.09970883418513757\n",
      "9 runs 0.09795653413446387\n",
      "8 wides 0.016642309674274814\n",
      "0 neutral_venue 0.009510159157378673\n"
     ]
    }
   ],
   "source": [
    "# 2. Linear kernel\n",
    "svc = SVC(kernel='linear').fit(X_train_sc, y_train)\n",
    "result = permutation_importance(svc, X_train_sc, y_train, scoring='f1', n_repeats=10, random_state=0)\n",
    "\n",
    "for i in result.importances_mean.argsort()[::-1]:\n",
    "    if result.importances_mean[i] - 2*result.importances_std[i] > 0:\n",
    "        print(i, X_train.columns[i], result.importances_mean[i])  "
   ]
  },
  {
   "cell_type": "code",
   "execution_count": 81,
   "id": "a63564c1",
   "metadata": {
    "ExecuteTime": {
     "end_time": "2022-08-03T15:35:26.385413Z",
     "start_time": "2022-08-03T15:35:26.149333Z"
    },
    "hidden": true
   },
   "outputs": [
    {
     "data": {
      "text/plain": [
       "0.7179185746395279"
      ]
     },
     "execution_count": 81,
     "metadata": {},
     "output_type": "execute_result"
    }
   ],
   "source": [
    "# Use feature 1, 7, 9, 10\n",
    "ct = make_column_transformer((StandardScaler(), ['leg_byes', 'wides', 'runs']), remainder='passthrough')\n",
    "pl = make_pipeline(ct, SVC(kernel='linear'))\n",
    "cross_validate(pl, X_17910, y, cv=10, scoring='f1')['test_score'].mean()"
   ]
  },
  {
   "cell_type": "markdown",
   "id": "11f54d42",
   "metadata": {
    "hidden": true
   },
   "source": [
    "### Select from model"
   ]
  },
  {
   "cell_type": "code",
   "execution_count": 90,
   "id": "fc31f49b",
   "metadata": {
    "ExecuteTime": {
     "end_time": "2022-08-03T16:07:43.223573Z",
     "start_time": "2022-08-03T16:07:43.200568Z"
    },
    "hidden": true
   },
   "outputs": [
    {
     "name": "stdout",
     "output_type": "stream",
     "text": [
      "0 neutral_venue\n",
      "6 leg_byes\n",
      "8 wides\n",
      "9 runs\n",
      "12 target\n",
      "13 derby\n"
     ]
    }
   ],
   "source": [
    "svc = SVC(kernel='linear')\n",
    "selector = SelectFromModel(svc).fit(X_train_sc, y_train)\n",
    "\n",
    "for i in range(len(selector.get_support())):\n",
    "    if selector.get_support()[i]:\n",
    "        print(i, X.columns[i])"
   ]
  },
  {
   "cell_type": "code",
   "execution_count": 85,
   "id": "5f6025d8",
   "metadata": {
    "ExecuteTime": {
     "end_time": "2022-08-03T15:40:48.841563Z",
     "start_time": "2022-08-03T15:40:48.595299Z"
    },
    "hidden": true
   },
   "outputs": [
    {
     "data": {
      "text/plain": [
       "0.7047429064350876"
      ]
     },
     "execution_count": 85,
     "metadata": {},
     "output_type": "execute_result"
    }
   ],
   "source": [
    "# Use feature 1, 7, 9, 10, 13, 14\n",
    "sc = make_column_transformer((StandardScaler(), ['leg_byes', 'wides', 'runs', 'target']), remainder='passthrough')\n",
    "pl = make_pipeline(sc, svc)\n",
    "cross_validate(pl, X_179101314, y, cv=10, scoring='f1')['test_score'].mean()"
   ]
  },
  {
   "cell_type": "code",
   "execution_count": 91,
   "id": "67acdd46",
   "metadata": {
    "ExecuteTime": {
     "end_time": "2022-08-03T16:10:33.079803Z",
     "start_time": "2022-08-03T16:10:32.800952Z"
    },
    "hidden": true
   },
   "outputs": [
    {
     "data": {
      "text/plain": [
       "0.732000726340198"
      ]
     },
     "execution_count": 91,
     "metadata": {},
     "output_type": "execute_result"
    }
   ],
   "source": [
    "# Use all feature with rbf kernel\n",
    "pl = make_pipeline(ct, SVC(kernel='rbf'))\n",
    "cross_validate(pl, X, y, cv=10, scoring='f1')['test_score'].mean()"
   ]
  },
  {
   "cell_type": "code",
   "execution_count": 92,
   "id": "a06cf38b",
   "metadata": {
    "ExecuteTime": {
     "end_time": "2022-08-03T16:11:16.031218Z",
     "start_time": "2022-08-03T16:11:14.453674Z"
    },
    "hidden": true
   },
   "outputs": [
    {
     "data": {
      "text/plain": [
       "0.7159041110347091"
      ]
     },
     "execution_count": 92,
     "metadata": {},
     "output_type": "execute_result"
    }
   ],
   "source": [
    "# Use all feature with linear kernel\n",
    "pl = make_pipeline(ct, SVC(kernel='linear'))\n",
    "cross_validate(pl, X, y, cv=10, scoring='f1')['test_score'].mean()"
   ]
  },
  {
   "cell_type": "markdown",
   "id": "4e058f83",
   "metadata": {
    "heading_collapsed": true
   },
   "source": [
    "## Decision Tree"
   ]
  },
  {
   "cell_type": "markdown",
   "id": "0823f495",
   "metadata": {
    "hidden": true
   },
   "source": [
    "### Permutation importance"
   ]
  },
  {
   "cell_type": "code",
   "execution_count": 96,
   "id": "8691c60e",
   "metadata": {
    "ExecuteTime": {
     "end_time": "2022-08-03T16:21:55.973578Z",
     "start_time": "2022-08-03T16:21:55.690507Z"
    },
    "hidden": true
   },
   "outputs": [
    {
     "name": "stdout",
     "output_type": "stream",
     "text": [
      "6 leg_byes 0.2973411364772897\n",
      "9 runs 0.06363947383435309\n",
      "5 byes 0.052864161624936415\n",
      "2 toss_winner 0.025696550625221904\n",
      "1 home_venue 0.01281346430352075\n"
     ]
    }
   ],
   "source": [
    "dt = DecisionTreeClassifier(criterion='entropy', max_depth=5, min_samples_leaf=5, random_state=0).fit(X_train_sc, y_train)\n",
    "result = permutation_importance(dt, X_train_sc, y_train, scoring='f1', n_repeats=10, random_state=0)\n",
    "\n",
    "for i in result.importances_mean.argsort()[::-1]:\n",
    "    if result.importances_mean[i] - 2*result.importances_std[i] > 0:\n",
    "        print(i, X_train.columns[i], result.importances_mean[i])  "
   ]
  },
  {
   "cell_type": "code",
   "execution_count": 114,
   "id": "7b7ae26e",
   "metadata": {
    "ExecuteTime": {
     "end_time": "2022-08-03T16:43:22.543126Z",
     "start_time": "2022-08-03T16:43:22.387725Z"
    },
    "hidden": true
   },
   "outputs": [
    {
     "data": {
      "text/plain": [
       "0.69801000573397"
      ]
     },
     "execution_count": 114,
     "metadata": {},
     "output_type": "execute_result"
    }
   ],
   "source": [
    "# Use feature 2, 3, 6, 7, 10\n",
    "X_236710 = X.iloc[:, [1, 2, 5, 6, 9]]\n",
    "sc = make_column_transformer((StandardScaler(), ['leg_byes', 'runs', 'byes']), remainder='passthrough')\n",
    "dt = DecisionTreeClassifier(criterion='entropy', max_depth=5, min_samples_leaf=5, random_state=0)\n",
    "pl = make_pipeline(sc, dt)\n",
    "cross_validate(pl, X_236710, y, cv=10, scoring='f1')['test_score'].mean()"
   ]
  },
  {
   "cell_type": "markdown",
   "id": "bf38a5ae",
   "metadata": {
    "hidden": true
   },
   "source": [
    "### Select from model"
   ]
  },
  {
   "cell_type": "code",
   "execution_count": 115,
   "id": "55e9a30f",
   "metadata": {
    "ExecuteTime": {
     "end_time": "2022-08-03T16:43:26.300294Z",
     "start_time": "2022-08-03T16:43:26.275657Z"
    },
    "hidden": true
   },
   "outputs": [
    {
     "name": "stdout",
     "output_type": "stream",
     "text": [
      "5 byes\n",
      "6 leg_byes\n",
      "9 runs\n"
     ]
    }
   ],
   "source": [
    "selector = SelectFromModel(dt).fit(X_train_sc, y_train)\n",
    "\n",
    "for i in range(len(selector.get_support())):\n",
    "    if selector.get_support()[i]:\n",
    "        print(i, X.columns[i])"
   ]
  },
  {
   "cell_type": "code",
   "execution_count": 116,
   "id": "55c894cf",
   "metadata": {
    "ExecuteTime": {
     "end_time": "2022-08-03T16:43:30.379692Z",
     "start_time": "2022-08-03T16:43:30.257714Z"
    },
    "hidden": true
   },
   "outputs": [
    {
     "data": {
      "text/plain": [
       "0.6991042855335452"
      ]
     },
     "execution_count": 116,
     "metadata": {},
     "output_type": "execute_result"
    }
   ],
   "source": [
    "# Use feature 6, 7, 10\n",
    "X_6710 = X.iloc[:, [5, 6, 9]]\n",
    "pl = make_pipeline(StandardScaler(), dt)\n",
    "cross_validate(pl, X_6710, y, cv=10, scoring='f1')['test_score'].mean()"
   ]
  },
  {
   "cell_type": "code",
   "execution_count": 117,
   "id": "fccacb75",
   "metadata": {
    "ExecuteTime": {
     "end_time": "2022-08-03T16:43:31.841756Z",
     "start_time": "2022-08-03T16:43:31.666536Z"
    },
    "hidden": true
   },
   "outputs": [
    {
     "data": {
      "text/plain": [
       "0.7061575776845148"
      ]
     },
     "execution_count": 117,
     "metadata": {},
     "output_type": "execute_result"
    }
   ],
   "source": [
    "# Use all features\n",
    "pl = make_pipeline(ct, dt)\n",
    "cross_validate(pl, X, y, cv=10, scoring='f1')['test_score'].mean()"
   ]
  },
  {
   "cell_type": "markdown",
   "id": "c8be17b3",
   "metadata": {
    "heading_collapsed": true
   },
   "source": [
    "## AdaBoost"
   ]
  },
  {
   "cell_type": "markdown",
   "id": "da9a6a95",
   "metadata": {
    "hidden": true
   },
   "source": [
    "### Permutation importance"
   ]
  },
  {
   "cell_type": "code",
   "execution_count": 118,
   "id": "f723a398",
   "metadata": {
    "ExecuteTime": {
     "end_time": "2022-08-03T16:57:10.384577Z",
     "start_time": "2022-08-03T16:57:05.364745Z"
    },
    "hidden": true
   },
   "outputs": [
    {
     "name": "stdout",
     "output_type": "stream",
     "text": [
      "6 leg_byes 0.20366442348313493\n",
      "9 runs 0.1432659327541112\n",
      "8 wides 0.014871711145727495\n"
     ]
    }
   ],
   "source": [
    "ada = AdaBoostClassifier(n_estimators=100, random_state=0).fit(X_train_sc, y_train)\n",
    "result = permutation_importance(ada, X_train_sc, y_train, scoring='f1', n_repeats=10, random_state=0)\n",
    "\n",
    "for i in result.importances_mean.argsort()[::-1]:\n",
    "    if result.importances_mean[i] - 2*result.importances_std[i] > 0:\n",
    "        print(i, X_train.columns[i], result.importances_mean[i])  "
   ]
  },
  {
   "cell_type": "code",
   "execution_count": 121,
   "id": "10660f5f",
   "metadata": {
    "ExecuteTime": {
     "end_time": "2022-08-03T17:00:43.251686Z",
     "start_time": "2022-08-03T17:00:40.917875Z"
    },
    "hidden": true
   },
   "outputs": [
    {
     "data": {
      "text/plain": [
       "0.6794464803202113"
      ]
     },
     "execution_count": 121,
     "metadata": {},
     "output_type": "execute_result"
    }
   ],
   "source": [
    "# Use feature 7, 9, 10\n",
    "X_7910 = X.iloc[:, [6, 8, 9]]\n",
    "ada = AdaBoostClassifier(n_estimators=100, random_state=0)\n",
    "pl = make_pipeline(StandardScaler(), ada)\n",
    "cross_validate(pl, X_7910, y, cv=10, scoring='f1')['test_score'].mean()"
   ]
  },
  {
   "cell_type": "markdown",
   "id": "834cc86d",
   "metadata": {
    "hidden": true
   },
   "source": [
    "### Select from model"
   ]
  },
  {
   "cell_type": "code",
   "execution_count": 122,
   "id": "cd2fe02c",
   "metadata": {
    "ExecuteTime": {
     "end_time": "2022-08-03T17:01:46.772519Z",
     "start_time": "2022-08-03T17:01:46.372124Z"
    },
    "hidden": true
   },
   "outputs": [
    {
     "name": "stdout",
     "output_type": "stream",
     "text": [
      "2 toss_winner\n",
      "5 byes\n",
      "6 leg_byes\n",
      "9 runs\n"
     ]
    }
   ],
   "source": [
    "selector = SelectFromModel(ada).fit(X_train_sc, y_train)\n",
    "\n",
    "for i in range(len(selector.get_support())):\n",
    "    if selector.get_support()[i]:\n",
    "        print(i, X.columns[i])"
   ]
  },
  {
   "cell_type": "code",
   "execution_count": 124,
   "id": "360b9cf8",
   "metadata": {
    "ExecuteTime": {
     "end_time": "2022-08-03T17:06:37.783323Z",
     "start_time": "2022-08-03T17:06:35.322628Z"
    },
    "hidden": true
   },
   "outputs": [
    {
     "data": {
      "text/plain": [
       "0.7076667061560402"
      ]
     },
     "execution_count": 124,
     "metadata": {},
     "output_type": "execute_result"
    }
   ],
   "source": [
    "# Use feature 3, 6, 7, 10\n",
    "X_36710 = X.iloc[:, [2, 5, 6, 9]]\n",
    "sc = make_column_transformer((StandardScaler(), ['byes', 'leg_byes', 'runs']), remainder='passthrough')\n",
    "pl = make_pipeline(sc, ada)\n",
    "cross_validate(pl, X_36710, y, cv=10, scoring='f1')['test_score'].mean()"
   ]
  },
  {
   "cell_type": "code",
   "execution_count": 126,
   "id": "d167889b",
   "metadata": {
    "ExecuteTime": {
     "end_time": "2022-08-03T17:07:51.506261Z",
     "start_time": "2022-08-03T17:07:48.148109Z"
    },
    "hidden": true
   },
   "outputs": [
    {
     "data": {
      "text/plain": [
       "0.682293765991245"
      ]
     },
     "execution_count": 126,
     "metadata": {},
     "output_type": "execute_result"
    }
   ],
   "source": [
    "# Use all features\n",
    "pl = make_pipeline(ct, ada)\n",
    "cross_validate(pl, X, y, cv=10, scoring='f1')['test_score'].mean()"
   ]
  },
  {
   "cell_type": "markdown",
   "id": "bc0f3c58",
   "metadata": {},
   "source": [
    "## Random Forest"
   ]
  },
  {
   "cell_type": "markdown",
   "id": "8da73679",
   "metadata": {},
   "source": [
    "### Permutation importance\n",
    "Gini showed tiny bit better results but basically Entropy and Gini doesn't make big difference in test results."
   ]
  },
  {
   "cell_type": "markdown",
   "id": "077f17d7",
   "metadata": {},
   "source": [
    "**Entropy**"
   ]
  },
  {
   "cell_type": "code",
   "execution_count": 135,
   "id": "69d5cb45",
   "metadata": {
    "ExecuteTime": {
     "end_time": "2022-08-03T18:12:03.513088Z",
     "start_time": "2022-08-03T18:11:59.700246Z"
    }
   },
   "outputs": [
    {
     "name": "stdout",
     "output_type": "stream",
     "text": [
      "6 leg_byes 0.08403322660575681\n",
      "9 runs 0.04118465689212193\n",
      "5 byes 0.013269096181177087\n",
      "2 toss_winner 0.011630991778985767\n",
      "4 balls 0.0055053706116968025\n"
     ]
    }
   ],
   "source": [
    "rf = RandomForestClassifier(criterion='entropy', max_depth=5, min_samples_leaf=5, random_state=0, max_samples=200).fit(X_train_sc, y_train)\n",
    "result = permutation_importance(rf, X_train_sc, y_train, scoring='f1', n_repeats=10, random_state=0)\n",
    "\n",
    "for i in result.importances_mean.argsort()[::-1]:\n",
    "    if result.importances_mean[i] - 2*result.importances_std[i] > 0:\n",
    "        print(i, X_train.columns[i], result.importances_mean[i])     "
   ]
  },
  {
   "cell_type": "code",
   "execution_count": 129,
   "id": "301ee799",
   "metadata": {
    "ExecuteTime": {
     "end_time": "2022-08-03T17:27:18.367554Z",
     "start_time": "2022-08-03T17:27:16.103377Z"
    }
   },
   "outputs": [
    {
     "data": {
      "text/plain": [
       "0.7249091415830546"
      ]
     },
     "execution_count": 129,
     "metadata": {},
     "output_type": "execute_result"
    }
   ],
   "source": [
    "# Use feature 3, 5, 6, 7, 10\n",
    "X_356710 = X.iloc[:, [2, 4, 5, 6, 9]]\n",
    "sc = make_column_transformer((StandardScaler(), ['leg_byes', 'runs', 'byes', 'balls']))\n",
    "rf = RandomForestClassifier(criterion='entropy', max_depth=5, min_samples_leaf=5, random_state=0, max_samples=200)\n",
    "pl = make_pipeline(sc, rf)\n",
    "cross_validate(pl, X_356710, y, cv=10, scoring='f1')['test_score'].mean()"
   ]
  },
  {
   "cell_type": "markdown",
   "id": "4d0fede2",
   "metadata": {},
   "source": [
    "**Gini impurity**"
   ]
  },
  {
   "cell_type": "code",
   "execution_count": 136,
   "id": "53788f36",
   "metadata": {
    "ExecuteTime": {
     "end_time": "2022-08-03T18:26:57.913300Z",
     "start_time": "2022-08-03T18:26:54.201970Z"
    }
   },
   "outputs": [
    {
     "name": "stdout",
     "output_type": "stream",
     "text": [
      "6 leg_byes 0.08869648747464065\n",
      "9 runs 0.05773291564864429\n",
      "5 byes 0.012431008170022096\n",
      "2 toss_winner 0.008023262086234306\n",
      "4 balls 0.006354185574758186\n",
      "7 no_balls 0.0060673914403980515\n",
      "8 wides 0.0037295832417783893\n"
     ]
    }
   ],
   "source": [
    "rf = RandomForestClassifier(criterion='gini', max_depth=5, min_samples_leaf=5, random_state=0, max_samples=200).fit(X_train_sc, y_train)\n",
    "result = permutation_importance(rf, X_train_sc, y_train, scoring='f1', n_repeats=10, random_state=0)\n",
    "\n",
    "for i in result.importances_mean.argsort()[::-1]:\n",
    "    if result.importances_mean[i] - 2*result.importances_std[i] > 0:\n",
    "        print(i, X_train.columns[i], result.importances_mean[i])     "
   ]
  },
  {
   "cell_type": "code",
   "execution_count": 137,
   "id": "179f9463",
   "metadata": {
    "ExecuteTime": {
     "end_time": "2022-08-03T18:29:52.215829Z",
     "start_time": "2022-08-03T18:29:50.031675Z"
    }
   },
   "outputs": [
    {
     "data": {
      "text/plain": [
       "0.7328847082469008"
      ]
     },
     "execution_count": 137,
     "metadata": {},
     "output_type": "execute_result"
    }
   ],
   "source": [
    "# Use feature 3, 5, 6, 7, 8, 9, 10\n",
    "X_35678910 = X.iloc[:, [2, 4, 5, 6, 7, 8, 9]]\n",
    "sc = make_column_transformer((StandardScaler(), ['leg_byes', 'runs', 'byes', 'balls', 'no_balls', 'wides']))\n",
    "rf = RandomForestClassifier(criterion='gini', max_depth=5, min_samples_leaf=5, random_state=0, max_samples=200)\n",
    "pl = make_pipeline(sc, rf)\n",
    "cross_validate(pl, X_35678910, y, cv=10, scoring='f1')['test_score'].mean()"
   ]
  },
  {
   "cell_type": "markdown",
   "id": "4c09b373",
   "metadata": {},
   "source": [
    "### Select from model\n",
    "Entropy and Gini selected the same features, but Gini produced negligibly better results."
   ]
  },
  {
   "cell_type": "code",
   "execution_count": 144,
   "id": "4524591e",
   "metadata": {
    "ExecuteTime": {
     "end_time": "2022-08-03T18:38:14.599169Z",
     "start_time": "2022-08-03T18:38:13.916991Z"
    }
   },
   "outputs": [
    {
     "name": "stdout",
     "output_type": "stream",
     "text": [
      "5 byes\n",
      "6 leg_byes\n",
      "7 no_balls\n",
      "9 runs\n"
     ]
    }
   ],
   "source": [
    "rf = RandomForestClassifier(criterion='gini', max_depth=5, min_samples_leaf=5, random_state=0, max_samples=200)\n",
    "selector = SelectFromModel(rf).fit(X_train_sc, y_train)\n",
    "\n",
    "for i in range(len(selector.get_support())):\n",
    "    if selector.get_support()[i]:\n",
    "        print(i, X.columns[i])"
   ]
  },
  {
   "cell_type": "code",
   "execution_count": 145,
   "id": "a95d8112",
   "metadata": {
    "ExecuteTime": {
     "end_time": "2022-08-03T18:38:19.570456Z",
     "start_time": "2022-08-03T18:38:17.435911Z"
    }
   },
   "outputs": [
    {
     "data": {
      "text/plain": [
       "0.7170665011519229"
      ]
     },
     "execution_count": 145,
     "metadata": {},
     "output_type": "execute_result"
    }
   ],
   "source": [
    "# Use feature 6, 7, 8, 10\n",
    "X_67810 = X.iloc[:, [5, 6, 7, 9]]\n",
    "pl = make_pipeline(StandardScaler(), rf)\n",
    "cross_validate(pl, X_67810, y, cv=10, scoring='f1')['test_score'].mean()"
   ]
  },
  {
   "cell_type": "code",
   "execution_count": 146,
   "id": "fab14621",
   "metadata": {
    "ExecuteTime": {
     "end_time": "2022-08-03T18:38:22.045532Z",
     "start_time": "2022-08-03T18:38:19.783033Z"
    }
   },
   "outputs": [
    {
     "data": {
      "text/plain": [
       "0.7286026315366179"
      ]
     },
     "execution_count": 146,
     "metadata": {},
     "output_type": "execute_result"
    }
   ],
   "source": [
    "# Use all features\n",
    "pl = make_pipeline(ct, rf)\n",
    "cross_validate(pl, X, y, cv=10, scoring='f1')['test_score'].mean()"
   ]
  },
  {
   "cell_type": "markdown",
   "id": "f2c9bccb",
   "metadata": {
    "heading_collapsed": true
   },
   "source": [
    "## XGBoost"
   ]
  },
  {
   "cell_type": "markdown",
   "id": "2b7aeec8",
   "metadata": {
    "hidden": true
   },
   "source": [
    "### Permutation importance"
   ]
  },
  {
   "cell_type": "code",
   "execution_count": 147,
   "id": "e029f02d",
   "metadata": {
    "ExecuteTime": {
     "end_time": "2022-08-03T18:43:42.905706Z",
     "start_time": "2022-08-03T18:43:42.007475Z"
    },
    "hidden": true
   },
   "outputs": [
    {
     "name": "stdout",
     "output_type": "stream",
     "text": [
      "6 leg_byes 0.2778683870536721\n",
      "9 runs 0.0607731477201335\n",
      "5 byes 0.05719267975217479\n",
      "7 no_balls 0.029404876492368524\n",
      "2 toss_winner 0.02098677783059464\n",
      "15 month_12 0.016111723369323084\n",
      "3 max_balls_first 0.014752338674358245\n"
     ]
    }
   ],
   "source": [
    "xgc = xgb.XGBClassifier(booster='gbtree', max_depth=5, min_child_weight=5, subsample=0.5, objective='binary:logistic', \n",
    "                        eval_metric='error', random_state=0, use_label_encoder=False)\n",
    "xgc.fit(X_train_sc, y_train)\n",
    "result = permutation_importance(xgc, X_train_sc, y_train, scoring='f1', n_repeats=10, random_state=0)\n",
    "\n",
    "for i in result.importances_mean.argsort()[::-1]:\n",
    "    if result.importances_mean[i] - 2*result.importances_std[i] > 0:\n",
    "        print(i, X_train.columns[i], result.importances_mean[i])     "
   ]
  },
  {
   "cell_type": "code",
   "execution_count": 150,
   "id": "6b508512",
   "metadata": {
    "ExecuteTime": {
     "end_time": "2022-08-03T18:53:21.640592Z",
     "start_time": "2022-08-03T18:53:20.905926Z"
    },
    "hidden": true
   },
   "outputs": [
    {
     "data": {
      "text/plain": [
       "0.6493669112833669"
      ]
     },
     "execution_count": 150,
     "metadata": {},
     "output_type": "execute_result"
    }
   ],
   "source": [
    "# Use feature 3, 4, 6, 7, 8, 10\n",
    "X_3467810 = X.iloc[:, [2, 3, 5, 6, 7, 9]]\n",
    "sc = make_column_transformer((StandardScaler(), ['leg_byes', 'runs', 'byes', 'no_balls', 'max_balls_first']))\n",
    "xgc = xgb.XGBClassifier(booster='gbtree', max_depth=5, min_child_weight=5, subsample=0.5, objective='binary:logistic', \n",
    "                        eval_metric='error', random_state=0, use_label_encoder=False)\n",
    "pl = make_pipeline(sc, xgc)\n",
    "cross_validate(pl, X_3467810, y, cv=10, scoring='f1')['test_score'].mean()"
   ]
  },
  {
   "cell_type": "code",
   "execution_count": 151,
   "id": "e2df6152",
   "metadata": {
    "ExecuteTime": {
     "end_time": "2022-08-03T18:53:23.907842Z",
     "start_time": "2022-08-03T18:53:23.218689Z"
    },
    "hidden": true
   },
   "outputs": [
    {
     "data": {
      "text/plain": [
       "0.6493669112833669"
      ]
     },
     "execution_count": 151,
     "metadata": {},
     "output_type": "execute_result"
    }
   ],
   "source": [
    "# Use feature 3, 4, 6, 7, 8, 10, 15, 16\n",
    "X_34678101516 = X.iloc[:, [2, 3, 5, 6, 7, 9, 14, 15]]\n",
    "pl = make_pipeline(sc, xgc)\n",
    "cross_validate(pl, X_34678101516, y, cv=10, scoring='f1')['test_score'].mean()"
   ]
  },
  {
   "cell_type": "markdown",
   "id": "81fb3a9b",
   "metadata": {
    "hidden": true
   },
   "source": [
    "### Select from model"
   ]
  },
  {
   "cell_type": "code",
   "execution_count": 152,
   "id": "7b5c076c",
   "metadata": {
    "ExecuteTime": {
     "end_time": "2022-08-03T18:54:23.537758Z",
     "start_time": "2022-08-03T18:54:23.419732Z"
    },
    "hidden": true
   },
   "outputs": [
    {
     "name": "stdout",
     "output_type": "stream",
     "text": [
      "2 toss_winner\n",
      "3 max_balls_first\n",
      "4 balls\n",
      "5 byes\n",
      "6 leg_byes\n",
      "7 no_balls\n",
      "9 runs\n",
      "11 max_balls_second\n",
      "12 target\n",
      "15 month_12\n"
     ]
    }
   ],
   "source": [
    "selector = SelectFromModel(xgc).fit(X_train_sc, y_train)\n",
    "\n",
    "for i in range(len(selector.get_support())):\n",
    "    if selector.get_support()[i]:\n",
    "        print(i, X.columns[i])"
   ]
  },
  {
   "cell_type": "code",
   "execution_count": 153,
   "id": "ab5fb231",
   "metadata": {
    "ExecuteTime": {
     "end_time": "2022-08-03T19:01:43.337197Z",
     "start_time": "2022-08-03T19:01:42.604033Z"
    },
    "hidden": true
   },
   "outputs": [
    {
     "data": {
      "text/plain": [
       "0.6656748304942242"
      ]
     },
     "execution_count": 153,
     "metadata": {},
     "output_type": "execute_result"
    }
   ],
   "source": [
    "# Use all features except 1, 2, 9, 11, 14, 15, 16\n",
    "X_ex_12911141516 = X.iloc[:, [2, 3, 4, 5, 6, 7, 9, 11, 12]]\n",
    "sc = make_column_transformer((StandardScaler(), ['max_balls_first', 'balls', 'byes', 'leg_byes', 'no_balls', 'runs', \n",
    "                                                 'max_balls_second', 'target']), remainder='passthrough')\n",
    "pl = make_pipeline(sc, xgc)\n",
    "cross_validate(pl, X_ex_12911141516, y, cv=10, scoring='f1')['test_score'].mean()"
   ]
  },
  {
   "cell_type": "code",
   "execution_count": 154,
   "id": "0bcc3bd6",
   "metadata": {
    "ExecuteTime": {
     "end_time": "2022-08-03T19:02:30.767726Z",
     "start_time": "2022-08-03T19:02:30.023561Z"
    },
    "hidden": true
   },
   "outputs": [
    {
     "data": {
      "text/plain": [
       "0.6276723154893389"
      ]
     },
     "execution_count": 154,
     "metadata": {},
     "output_type": "execute_result"
    }
   ],
   "source": [
    "# Use all features except 1, 2, 9, 11, 14\n",
    "X_ex_1291114 = X.iloc[:, [2, 3, 4, 5, 6, 7, 9, 11, 12, 14, 15]]\n",
    "sc = make_column_transformer((StandardScaler(), ['max_balls_first', 'balls', 'byes', 'leg_byes', 'no_balls', 'runs', \n",
    "                                                 'max_balls_second', 'target']), remainder='passthrough')\n",
    "pl = make_pipeline(sc, xgc)\n",
    "cross_validate(pl, X_ex_1291114, y, cv=10, scoring='f1')['test_score'].mean()"
   ]
  },
  {
   "cell_type": "code",
   "execution_count": 155,
   "id": "1c6964a6",
   "metadata": {
    "ExecuteTime": {
     "end_time": "2022-08-03T19:03:21.604590Z",
     "start_time": "2022-08-03T19:03:20.858424Z"
    },
    "hidden": true
   },
   "outputs": [
    {
     "data": {
      "text/plain": [
       "0.6404490564764714"
      ]
     },
     "execution_count": 155,
     "metadata": {},
     "output_type": "execute_result"
    }
   ],
   "source": [
    "# Use all features\n",
    "pl = make_pipeline(ct, xgc)\n",
    "cross_validate(pl, X, y, cv=10, scoring='f1')['test_score'].mean()"
   ]
  },
  {
   "cell_type": "markdown",
   "id": "878a192f",
   "metadata": {
    "heading_collapsed": true
   },
   "source": [
    "## KNN\n",
    "SelectFromModel is not suitable as it doesn't have coef_ or feature_importances_ attribute."
   ]
  },
  {
   "cell_type": "markdown",
   "id": "1474f0fb",
   "metadata": {
    "hidden": true
   },
   "source": [
    "### Permutation importance"
   ]
  },
  {
   "cell_type": "markdown",
   "id": "03c4db03",
   "metadata": {
    "hidden": true
   },
   "source": [
    "**Weight = 'distance'**"
   ]
  },
  {
   "cell_type": "code",
   "execution_count": 162,
   "id": "b75a0e5a",
   "metadata": {
    "ExecuteTime": {
     "end_time": "2022-08-03T21:16:52.363540Z",
     "start_time": "2022-08-03T21:16:47.336413Z"
    },
    "collapsed": true,
    "hidden": true
   },
   "outputs": [
    {
     "name": "stdout",
     "output_type": "stream",
     "text": [
      "6 leg_byes 0.19326821264536603\n",
      "5 byes 0.1860243325552268\n",
      "9 runs 0.18016055898429895\n",
      "7 no_balls 0.16856999126389444\n",
      "3 max_balls_first 0.16228445938111682\n",
      "4 balls 0.13815687088431364\n",
      "2 toss_winner 0.129438706106307\n",
      "12 target 0.10612880996889813\n",
      "11 max_balls_second 0.10543290421068141\n",
      "15 month_12 0.09728420438914885\n",
      "10 wickets 0.05379571464128098\n",
      "13 derby 0.03075041082901243\n",
      "1 home_venue 0.026221519906340873\n",
      "8 wides 0.025174582673788738\n",
      "14 month_02 0.024099416110357107\n",
      "0 neutral_venue 0.02240907183739658\n"
     ]
    }
   ],
   "source": [
    "knn = KNeighborsClassifier(weights='distance').fit(X_train_sc, y_train)\n",
    "result = permutation_importance(knn, X_train_sc, y_train, scoring='f1', n_repeats=10, random_state=0)\n",
    "\n",
    "for i in result.importances_mean.argsort()[::-1]:\n",
    "    if result.importances_mean[i] - 2*result.importances_std[i] > 0:\n",
    "        print(i, X_train.columns[i], result.importances_mean[i]) "
   ]
  },
  {
   "cell_type": "code",
   "execution_count": 163,
   "id": "eb58833a",
   "metadata": {
    "ExecuteTime": {
     "end_time": "2022-08-03T21:20:07.538098Z",
     "start_time": "2022-08-03T21:20:06.795725Z"
    },
    "hidden": true
   },
   "outputs": [
    {
     "data": {
      "text/plain": [
       "0.675239431946237"
      ]
     },
     "execution_count": 163,
     "metadata": {},
     "output_type": "execute_result"
    }
   ],
   "source": [
    "# Use all features\n",
    "knn = KNeighborsClassifier(weights='distance')\n",
    "pl = make_pipeline(ct, knn)\n",
    "cross_validate(pl, X, y, cv=10, scoring='f1')['test_score'].mean()"
   ]
  },
  {
   "cell_type": "markdown",
   "id": "fbdd7cae",
   "metadata": {
    "hidden": true
   },
   "source": [
    "**Weight = 'uniform'**"
   ]
  },
  {
   "cell_type": "code",
   "execution_count": 167,
   "id": "891464a1",
   "metadata": {
    "ExecuteTime": {
     "end_time": "2022-08-03T21:22:37.223550Z",
     "start_time": "2022-08-03T21:22:25.691174Z"
    },
    "hidden": true
   },
   "outputs": [
    {
     "name": "stdout",
     "output_type": "stream",
     "text": [
      "6 leg_byes 0.0442653395765442\n",
      "9 runs 0.03750049633554002\n"
     ]
    }
   ],
   "source": [
    "knn = KNeighborsClassifier(weights='uniform').fit(X_train_sc, y_train)\n",
    "result = permutation_importance(knn, X_train_sc, y_train, scoring='f1', n_repeats=10, random_state=0)\n",
    "\n",
    "for i in result.importances_mean.argsort()[::-1]:\n",
    "    if result.importances_mean[i] - 2*result.importances_std[i] > 0:\n",
    "        print(i, X_train.columns[i], result.importances_mean[i]) "
   ]
  },
  {
   "cell_type": "code",
   "execution_count": 173,
   "id": "14356831",
   "metadata": {
    "ExecuteTime": {
     "end_time": "2022-08-03T21:41:10.368153Z",
     "start_time": "2022-08-03T21:41:10.229112Z"
    },
    "hidden": true
   },
   "outputs": [
    {
     "data": {
      "text/plain": [
       "0.6755241798685775"
      ]
     },
     "execution_count": 173,
     "metadata": {},
     "output_type": "execute_result"
    }
   ],
   "source": [
    "# Use features 7, 10\n",
    "X_710 = X.iloc[:, [6, 9]]\n",
    "knn = KNeighborsClassifier(weights='uniform')\n",
    "pl = make_pipeline(StandardScaler(), knn)\n",
    "cross_validate(pl, X_710, y, cv=10, scoring='f1')['test_score'].mean()"
   ]
  },
  {
   "cell_type": "code",
   "execution_count": 174,
   "id": "69223cfb",
   "metadata": {
    "ExecuteTime": {
     "end_time": "2022-08-03T21:41:14.818670Z",
     "start_time": "2022-08-03T21:41:14.104830Z"
    },
    "hidden": true
   },
   "outputs": [
    {
     "data": {
      "text/plain": [
       "0.6723101390169441"
      ]
     },
     "execution_count": 174,
     "metadata": {},
     "output_type": "execute_result"
    }
   ],
   "source": [
    "# Use all features\n",
    "pl = make_pipeline(ct, knn)\n",
    "cross_validate(pl, X, y, cv=10, scoring='f1')['test_score'].mean()"
   ]
  },
  {
   "cell_type": "markdown",
   "id": "09b13a01",
   "metadata": {},
   "source": [
    "## Neural Network"
   ]
  },
  {
   "cell_type": "code",
   "execution_count": 79,
   "id": "1d10dc11",
   "metadata": {
    "ExecuteTime": {
     "end_time": "2022-08-08T05:20:11.655532Z",
     "start_time": "2022-08-08T05:19:23.928790Z"
    }
   },
   "outputs": [
    {
     "name": "stdout",
     "output_type": "stream",
     "text": [
      "0.7471219479006337\n"
     ]
    }
   ],
   "source": [
    "import tensorflow as tf\n",
    "from tensorflow.keras.utils import to_categorical\n",
    "from tensorflow.keras.models import Sequential\n",
    "from tensorflow.keras.layers import Dense, BatchNormalization, Activation, Dropout\n",
    "\n",
    "# Set random seed for reproducibility\n",
    "tf.random.set_seed(42)\n",
    "\n",
    "f1 = []\n",
    "\n",
    "# Cross validation\n",
    "for train_idx, test_idx in StratifiedKFold(n_splits=10).split(X, y):\n",
    "    X_train, X_test = X.iloc[train_idx], X.iloc[test_idx]\n",
    "    y_train, y_test = y.iloc[train_idx], y.iloc[test_idx]\n",
    "    \n",
    "    # X scaling\n",
    "    ct = make_column_transformer((StandardScaler(), ['max_balls_first', 'balls', 'byes', 'leg_byes', 'no_balls', 'wides', 'runs', 'wickets', 'max_balls_second', 'target']), remainder='passthrough')\n",
    "    X_train_sc = ct.fit_transform(X_train)\n",
    "    X_test_sc = ct.transform(X_test)\n",
    "    \n",
    "    # Transform data for neural network\n",
    "    # One node predicted all instances to class 1\n",
    "    y_train_nn = to_categorical(y_train, 2)\n",
    "\n",
    "    # Define network\n",
    "    net = Sequential()\n",
    "    net.add(Dense(32, input_shape=(16,)))\n",
    "    net.add(Activation('swish'))\n",
    "    net.add(Dropout(rate=0.5))\n",
    "    \n",
    "    net.add(Dense(16))\n",
    "    net.add(Activation('swish'))\n",
    "    \n",
    "    net.add(Dense(8))\n",
    "    net.add(Activation('swish'))\n",
    "    \n",
    "    net.add(Dense(4))\n",
    "    net.add(Activation('swish'))\n",
    "    \n",
    "    net.add(Dense(2, activation='softmax'))\n",
    "\n",
    "    # Compile the network\n",
    "    net.compile(loss='binary_crossentropy', optimizer='nadam', metrics=['Precision', 'Recall'])\n",
    "    \n",
    "    # Fit the network with data\n",
    "    history = net.fit(X_train_sc, y_train_nn, epochs=20, batch_size=32, validation_split=0.25, verbose=0)\n",
    "    outputs = net.predict(X_test_sc)\n",
    "    y_pred = np.argmax(outputs, axis=1)\n",
    "    score = f1_score(y_test, y_pred)\n",
    "    f1.append(score)\n",
    "    \n",
    "print(np.mean(f1))   "
   ]
  },
  {
   "cell_type": "code",
   "execution_count": 80,
   "id": "2951b366",
   "metadata": {
    "ExecuteTime": {
     "end_time": "2022-08-08T05:20:12.096632Z",
     "start_time": "2022-08-08T05:20:11.658534Z"
    }
   },
   "outputs": [
    {
     "data": {
      "image/png": "[encoded data removed]",
      "text/plain": [
       "<Figure size 1152x360 with 2 Axes>"
      ]
     },
     "metadata": {
      "needs_background": "light"
     },
     "output_type": "display_data"
    }
   ],
   "source": [
    "# Plot of validation and testing\n",
    "loss = history.history['loss']\n",
    "precision = np.array(history.history['precision'])   # array conversion for multiplication\n",
    "recall = np.array(history.history['recall'])\n",
    "f1 = list(2 * precision * recall / (precision + recall))  # back to list\n",
    "\n",
    "val_loss = history.history['val_loss']\n",
    "val_precision = np.array(history.history['val_precision'])\n",
    "val_recall = np.array(history.history['val_recall'])\n",
    "val_f1 = list(2 * val_precision * val_recall / (val_precision + val_recall))\n",
    "\n",
    "epoch = range(1, len(loss) + 1)    # 1 ~ 20\n",
    "\n",
    "# Training loss\n",
    "plt.figure(figsize=(16, 5))\n",
    "plt.subplot(1, 2, 1)\n",
    "plt.plot(epoch, loss, 'dodgerblue', label='Training loss')\n",
    "plt.title('Training Loss vs. Validation Loss', fontsize=18)\n",
    "plt.xlabel('Epoch', fontsize=14)\n",
    "plt.ylabel('Loss', fontsize=14)\n",
    "\n",
    "# Validation loss\n",
    "plt.plot(epoch, val_loss, 'limegreen', label='Validation loss')\n",
    "plt.legend()\n",
    "\n",
    "# Training f1 score\n",
    "plt.subplot(1, 2, 2)\n",
    "plt.plot(epoch, f1, 'crimson', label='Training F1')\n",
    "plt.title('Training F1 Score vs. Validation F1 Score', fontsize=18)\n",
    "plt.xlabel('Epoch', fontsize=14)\n",
    "plt.ylabel('F1 Score', fontsize=14)\n",
    "\n",
    "# Validation f1 score\n",
    "plt.plot(epoch, val_f1, 'violet', label='Validation F1')\n",
    "plt.legend()\n",
    "\n",
    "plt.show()"
   ]
  }
 ],
 "metadata": {
  "kernelspec": {
   "display_name": "Python 3 (ipykernel)",
   "language": "python",
   "name": "python3"
  },
  "language_info": {
   "codemirror_mode": {
    "name": "ipython",
    "version": 3
   },
   "file_extension": ".py",
   "mimetype": "text/x-python",
   "name": "python",
   "nbconvert_exporter": "python",
   "pygments_lexer": "ipython3",
   "version": "3.9.7"
  },
  "toc": {
   "base_numbering": 1,
   "nav_menu": {},
   "number_sections": true,
   "sideBar": true,
   "skip_h1_title": false,
   "title_cell": "Table of Contents",
   "title_sidebar": "Contents",
   "toc_cell": false,
   "toc_position": {},
   "toc_section_display": true,
   "toc_window_display": false
  }
 },
 "nbformat": 4,
 "nbformat_minor": 5
}
